{
 "cells": [
  {
   "cell_type": "markdown",
   "metadata": {},
   "source": [
    "# Ultrasound Image Augmentations"
   ]
  },
  {
   "cell_type": "markdown",
   "metadata": {},
   "source": [
    "# When running on Binder, install the following and refresh the webpage\n",
    "%pip install usaugment ipympl matplotlib"
   ]
  },
  {
   "cell_type": "code",
   "execution_count": null,
   "metadata": {},
   "outputs": [],
   "source": [
    "%matplotlib widget\n",
    "\n",
    "import random\n",
    "\n",
    "import ipywidgets as widgets\n",
    "import matplotlib.pyplot as plt\n",
    "import numpy as np\n",
    "import skimage\n",
    "\n",
    "from usaugment.albumentations import (\n",
    "    DepthAttenuation,\n",
    "    GaussianShadow,\n",
    "    HazeArtifact,\n",
    "    SpeckleReduction,\n",
    ")\n",
    "\n",
    "IMAGE_PATH = \"byra2018_liver_ultrasound.png\"\n",
    "SCAN_MASK_PATH = \"byra2018_liver_ultrasound_mask.png\""
   ]
  },
  {
   "cell_type": "markdown",
   "metadata": {},
   "source": [
    "## Depth Attenuation"
   ]
  },
  {
   "cell_type": "code",
   "execution_count": null,
   "metadata": {},
   "outputs": [],
   "source": [
    "image = skimage.io.imread(IMAGE_PATH) / 255.0\n",
    "image = np.stack([image, image, image], axis=-1)\n",
    "scan_mask = skimage.io.imread(SCAN_MASK_PATH)\n",
    "\n",
    "fig, axes = plt.subplots(1, 3, sharey=True, figsize=(12, 4))\n",
    "\n",
    "axes[0].set_title(\"Original Image\")\n",
    "axes[1].set_title(\"Attenuation Map\")\n",
    "axes[1].set_ylabel(\"×\", rotation=0, labelpad=20)\n",
    "axes[2].set_title(\"Augmented Image\")\n",
    "axes[2].set_ylabel(\"=\", rotation=0, labelpad=20)\n",
    "\n",
    "for ax in axes:\n",
    "    ax.set_xticks([])\n",
    "    ax.set_yticks([])\n",
    "\n",
    "axes[0].imshow(image, cmap=\"gray\", vmin=0, vmax=1)\n",
    "attenuation_map_ax = axes[1].imshow(np.ones_like(image), vmin=0, vmax=1)\n",
    "augmented_ax = axes[2].imshow(image, cmap=\"gray\", vmin=0, vmax=1)\n",
    "\n",
    "\n",
    "@widgets.interact(attenuation_rate=(0.0, 3.0, 0.1), max_attenuation=(0.0, 1.0, 0.1))\n",
    "def update(attenuation_rate=2.0, max_attenuation=0.0):  # noqa: F811\n",
    "    augmentation = DepthAttenuation(\n",
    "        attenuation_rate=attenuation_rate, max_attenuation=max_attenuation, p=1.0\n",
    "    )\n",
    "    augmented_image = augmentation.apply(img=image, scan_mask=scan_mask)\n",
    "    attenuation_map = augmentation._generate_attenuation_map(\n",
    "        *image.shape[:2], scan_mask=scan_mask\n",
    "    )\n",
    "\n",
    "    attenuation_map_ax.set_data(attenuation_map)\n",
    "    augmented_ax.set_data(augmented_image)"
   ]
  },
  {
   "cell_type": "markdown",
   "metadata": {},
   "source": [
    "### Visualize Exponential Decay"
   ]
  },
  {
   "cell_type": "code",
   "execution_count": null,
   "metadata": {},
   "outputs": [],
   "source": [
    "def bounded_exponential_decay(attenuation_rate, distance, lower_bound=0):\n",
    "    \"\"\"Calculate the intensity of the beam after a given distance using the exponential\n",
    "    decay formula. The intensity is bounded between the lower bound and 1.0\n",
    "    \"\"\"\n",
    "    intensity = (1 - lower_bound) * np.exp(-attenuation_rate * distance) + lower_bound\n",
    "    return intensity\n",
    "\n",
    "\n",
    "attenuation_rates = np.logspace(start=0, stop=1, num=10)\n",
    "\n",
    "fig, ax = plt.subplots(figsize=(8, 6))\n",
    "\n",
    "distance = np.linspace(0, 1, 100)\n",
    "for attenuation_rate in attenuation_rates:\n",
    "    intensity = bounded_exponential_decay(0.5, distance, lower_bound=0.1)\n",
    "    plt.plot(\n",
    "        distance,\n",
    "        bounded_exponential_decay(attenuation_rate, distance, lower_bound=0.1),\n",
    "        label=f\"μ = {attenuation_rate:.2f}\",\n",
    "    )\n",
    "\n",
    "plt.xticks(np.arange(0, 1.05, 0.05), minor=True)\n",
    "plt.yticks(np.arange(0, 1.1, 0.1), minor=True)\n",
    "plt.xlabel(\"Distance\")\n",
    "plt.xlim(0, 1)\n",
    "plt.ylabel(\"Intensity\")\n",
    "plt.grid(which=\"major\", linestyle=\"--\", alpha=0.5)\n",
    "plt.title(\"Bounded Exponential Decay Rates for Different\\nAbsorption Coefficients (μ)\")\n",
    "plt.legend(ncols=2)\n",
    "plt.savefig(\"../figures/depth_attenuation_exponential_decay.svg\")\n",
    "plt.show()"
   ]
  },
  {
   "cell_type": "markdown",
   "metadata": {},
   "source": [
    "## Haze Artifact"
   ]
  },
  {
   "cell_type": "code",
   "execution_count": null,
   "metadata": {},
   "outputs": [],
   "source": [
    "image = skimage.io.imread(IMAGE_PATH) / 255.0\n",
    "image = np.stack([image, image, image], axis=-1)\n",
    "scan_mask = skimage.io.imread(SCAN_MASK_PATH)\n",
    "\n",
    "fig, axes = plt.subplots(1, 3, sharey=True, figsize=(12, 4))\n",
    "\n",
    "axes[0].set_title(\"Original Image\")\n",
    "axes[1].set_title(\"Haze Image\")\n",
    "axes[1].set_ylabel(\"+\", rotation=0, labelpad=20)\n",
    "axes[2].set_title(\"Augmented Image\")\n",
    "axes[2].set_ylabel(\"=\", rotation=0, labelpad=20)\n",
    "\n",
    "axes[0].imshow(image, cmap=\"gray\", vmin=0, vmax=1)\n",
    "haze_image_ax = axes[1].imshow(np.ones_like(image), vmin=0, vmax=1)\n",
    "augmented_ax = axes[2].imshow(image, cmap=\"gray\", vmin=0, vmax=1)\n",
    "\n",
    "\n",
    "@widgets.interact(radius=(0.0, 1.0, 0.05), sigma=(0.001, 0.5, 0.05))\n",
    "def update(radius=0.5, sigma=0.1):  # noqa: F811\n",
    "    augmentation = HazeArtifact(radius=radius, sigma=sigma, p=1.0)\n",
    "    augmented_image = augmentation.apply(img=image, scan_mask=scan_mask)\n",
    "    haze_image = augmentation._generate_haze(*image.shape[:2])\n",
    "    haze_image = haze_image * scan_mask\n",
    "\n",
    "    haze_image_ax.set_data(haze_image)\n",
    "    augmented_ax.set_data(augmented_image)"
   ]
  },
  {
   "cell_type": "markdown",
   "metadata": {},
   "source": [
    "## Gaussian Shadow"
   ]
  },
  {
   "cell_type": "code",
   "execution_count": null,
   "metadata": {},
   "outputs": [],
   "source": [
    "image = skimage.io.imread(IMAGE_PATH) / 255.0\n",
    "image = np.stack([image, image, image], axis=-1)\n",
    "scan_mask = skimage.io.imread(SCAN_MASK_PATH)\n",
    "\n",
    "fig, axes = plt.subplots(1, 3, sharey=True, figsize=(12, 4))\n",
    "\n",
    "axes[0].set_title(\"Original Image\")\n",
    "axes[1].set_title(\"Shadow Image\")\n",
    "axes[1].set_ylabel(\"+\", rotation=0, labelpad=20)\n",
    "axes[2].set_title(\"Augmented Image\")\n",
    "axes[2].set_ylabel(\"=\", rotation=0, labelpad=20)\n",
    "\n",
    "axes[0].imshow(image, cmap=\"gray\", vmin=0, vmax=1)\n",
    "shadow_image_ax = axes[1].imshow(np.ones_like(image), vmin=0, vmax=1)\n",
    "augmented_ax = axes[2].imshow(image, cmap=\"gray\", vmin=0, vmax=1)\n",
    "\n",
    "\n",
    "@widgets.interact(\n",
    "    strength=(0.0, 1.0, 0.05), sigma_x=(0.01, 0.4, 0.05), sigma_y=(0.01, 0.4, 0.05)\n",
    ")\n",
    "def update(strength=0.5, sigma_x=0.1, sigma_y=0.1):  # noqa: F811\n",
    "    augmentation = GaussianShadow(\n",
    "        strength=strength, sigma_x=sigma_x, sigma_y=sigma_y, p=1.0\n",
    "    )\n",
    "\n",
    "    seed = random.randint(0, 100)\n",
    "\n",
    "    np.random.seed(seed)\n",
    "    augmented_image = augmentation.apply(img=image, scan_mask=scan_mask)\n",
    "\n",
    "    np.random.seed(seed)\n",
    "    shadow_image = augmentation._generate_shadow_image(\n",
    "        image.shape[0], image.shape[1], scan_mask=scan_mask\n",
    "    )\n",
    "\n",
    "    shadow_image_ax.set_data(shadow_image)\n",
    "    augmented_ax.set_data(augmented_image)"
   ]
  },
  {
   "cell_type": "markdown",
   "metadata": {},
   "source": [
    "## Speckle Reduction"
   ]
  },
  {
   "cell_type": "code",
   "execution_count": null,
   "metadata": {},
   "outputs": [],
   "source": [
    "image = skimage.io.imread(IMAGE_PATH) / 255.0\n",
    "image = np.stack([image, image, image], axis=-1)\n",
    "scan_mask = skimage.io.imread(SCAN_MASK_PATH)\n",
    "\n",
    "fig, axes = plt.subplots(1, 2, sharey=True, figsize=(8, 4))\n",
    "\n",
    "axes[0].set_title(\"Original Image\")\n",
    "axes[1].set_title(\"Augmented Image\")\n",
    "\n",
    "axes[0].imshow(image, cmap=\"gray\", vmin=0, vmax=1)\n",
    "augmented_ax = axes[1].imshow(image, cmap=\"gray\", vmin=0, vmax=1)\n",
    "\n",
    "\n",
    "@widgets.interact(sigma_spatial=(0.05, 1.0, 0.05), sigma_color=(0.05, 1.0, 0.05))\n",
    "def update(sigma_spatial=0.5, sigma_color=0.5):  # noqa: F811\n",
    "    augmentation = SpeckleReduction(\n",
    "        sigma_spatial=sigma_spatial, sigma_color=sigma_color, window_size=5, p=1.0\n",
    "    )\n",
    "    augmented_image = augmentation.apply(img=image, scan_mask=scan_mask)\n",
    "    augmented_ax.set_data(augmented_image)"
   ]
  },
  {
   "cell_type": "code",
   "execution_count": null,
   "metadata": {},
   "outputs": [],
   "source": []
  }
 ],
 "metadata": {
  "kernelspec": {
   "display_name": "usaugment-dev",
   "language": "python",
   "name": "python3"
  },
  "language_info": {
   "codemirror_mode": {
    "name": "ipython",
    "version": 3
   },
   "file_extension": ".py",
   "mimetype": "text/x-python",
   "name": "python",
   "nbconvert_exporter": "python",
   "pygments_lexer": "ipython3",
   "version": "3.11.2"
  }
 },
 "nbformat": 4,
 "nbformat_minor": 2
}
