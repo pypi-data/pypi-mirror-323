{
 "cells": [
  {
   "cell_type": "markdown",
   "metadata": {},
   "source": [
    "## Documentation Figures\n",
    "\n",
    "This notebook generates the figures that are used in the package documentation."
   ]
  },
  {
   "cell_type": "code",
   "execution_count": null,
   "metadata": {},
   "outputs": [],
   "source": [
    "%matplotlib widget\n",
    "\n",
    "import albumentations as A\n",
    "import matplotlib.pyplot as plt\n",
    "import numpy as np\n",
    "import skimage\n",
    "\n",
    "from usaugment.albumentations import (\n",
    "    DepthAttenuation,\n",
    "    GaussianShadow,\n",
    "    HazeArtifact,\n",
    "    SpeckleReduction,\n",
    ")\n",
    "\n",
    "IMAGE_PATH = \"byra2018_liver_ultrasound.png\"\n",
    "SCAN_MASK_PATH = \"byra2018_liver_ultrasound_mask.png\"\n",
    "\n",
    "image = skimage.io.imread(IMAGE_PATH) / 255.0\n",
    "image = np.stack([image, image, image], axis=-1)\n",
    "scan_mask = skimage.io.imread(SCAN_MASK_PATH)"
   ]
  },
  {
   "cell_type": "markdown",
   "metadata": {},
   "source": [
    "## README Banner"
   ]
  },
  {
   "cell_type": "code",
   "execution_count": null,
   "metadata": {},
   "outputs": [],
   "source": [
    "np.random.seed(3)\n",
    "\n",
    "augmentations = [\n",
    "    (\"Original\", A.NoOp(p=1.0)),\n",
    "    (\"Depth Attenuation\", DepthAttenuation(p=1.0, attenuation_rate=1.0)),\n",
    "    (\"Gaussian Shadow\", GaussianShadow(p=1.0, strength=0.8, sigma_x=0.2, sigma_y=0.1)),\n",
    "    (\"Haze Artifact\", HazeArtifact(p=1.0, radius=0.5, sigma=0.05)),\n",
    "    (\"Speckle Reduction\", SpeckleReduction(p=1.0)),\n",
    "]\n",
    "\n",
    "fig, axes = plt.subplots(1, 5, sharey=True, figsize=(10, 2))\n",
    "for augmentation, ax in zip(augmentations, axes.flat):\n",
    "    augmented_image = augmentation[1].apply(img=image, scan_mask=scan_mask)\n",
    "    ax.set_title(augmentation[0])\n",
    "    ax.imshow(\n",
    "        augmented_image,\n",
    "        cmap=\"gray\",\n",
    "        vmin=0,\n",
    "        vmax=1,\n",
    "    )\n",
    "    ax.axis(\"off\")\n",
    "\n",
    "plt.tight_layout()\n",
    "plt.savefig(\"../figures/readme_banner.png\")\n",
    "plt.show()"
   ]
  },
  {
   "cell_type": "markdown",
   "metadata": {},
   "source": [
    "## Depth Attenuation Example"
   ]
  },
  {
   "cell_type": "code",
   "execution_count": null,
   "metadata": {},
   "outputs": [],
   "source": [
    "attenuation_rate = 2.0\n",
    "max_attenuation = 0.0\n",
    "augmentation = DepthAttenuation(\n",
    "    attenuation_rate=attenuation_rate, max_attenuation=max_attenuation, p=1.0\n",
    ")\n",
    "\n",
    "fig, axes = plt.subplots(1, 3, sharey=True, figsize=(12, 4))\n",
    "\n",
    "axes[0].set_title(\"Original Image\")\n",
    "axes[0].imshow(image, cmap=\"gray\", vmin=0, vmax=1)\n",
    "\n",
    "axes[1].set_title(\"Attenuation Map\")\n",
    "axes[1].set_ylabel(\"✕\", rotation=0, labelpad=0, fontsize=16)\n",
    "axes[1].yaxis.set_label_coords(-0.1, 0.45)\n",
    "axes[1].imshow(\n",
    "    augmentation._generate_attenuation_map(*image.shape[:2], scan_mask=scan_mask)\n",
    ")\n",
    "\n",
    "axes[2].set_title(\"Augmented Image\")\n",
    "axes[2].set_ylabel(\"=\", rotation=0, labelpad=0, fontsize=16)\n",
    "axes[2].yaxis.set_label_coords(-0.1, 0.45)\n",
    "axes[2].imshow(augmentation.apply(img=image, scan_mask=scan_mask))\n",
    "\n",
    "for ax in axes.flat:\n",
    "    ax.set_xticks([])\n",
    "    ax.set_yticks([])\n",
    "\n",
    "plt.savefig(\"../figures/depth_attenuation.png\", bbox_inches=\"tight\")\n",
    "plt.show()"
   ]
  },
  {
   "cell_type": "markdown",
   "metadata": {},
   "source": [
    "## Haze Artifact Example"
   ]
  },
  {
   "cell_type": "code",
   "execution_count": null,
   "metadata": {},
   "outputs": [],
   "source": [
    "radius = 0.5\n",
    "sigma = 0.1\n",
    "augmentation = HazeArtifact(radius=radius, sigma=sigma, p=1.0)\n",
    "\n",
    "fig, axes = plt.subplots(1, 3, sharey=True, figsize=(12, 4))\n",
    "\n",
    "axes[0].set_title(\"Original Image\")\n",
    "axes[0].imshow(image, cmap=\"gray\", vmin=0, vmax=1)\n",
    "\n",
    "axes[1].set_title(\"Haze Image\")\n",
    "axes[1].set_ylabel(\"+\", rotation=0, labelpad=0, fontsize=16)\n",
    "axes[1].yaxis.set_label_coords(-0.1, 0.45)\n",
    "haze_image = augmentation._generate_haze(*image.shape[:2])\n",
    "haze_image = haze_image * scan_mask\n",
    "axes[1].imshow(haze_image)\n",
    "\n",
    "axes[2].set_title(\"Augmented Image\")\n",
    "axes[2].set_ylabel(\"=\", rotation=0, labelpad=0, fontsize=16)\n",
    "axes[2].yaxis.set_label_coords(-0.1, 0.45)\n",
    "axes[2].imshow(augmentation.apply(img=image, scan_mask=scan_mask))\n",
    "\n",
    "for ax in axes.flat:\n",
    "    ax.set_xticks([])\n",
    "    ax.set_yticks([])\n",
    "\n",
    "plt.savefig(\"../figures/haze_artifact.png\", bbox_inches=\"tight\")\n",
    "plt.show()"
   ]
  },
  {
   "cell_type": "markdown",
   "metadata": {},
   "source": [
    "## Gaussian Shadow Example"
   ]
  },
  {
   "cell_type": "code",
   "execution_count": null,
   "metadata": {},
   "outputs": [],
   "source": [
    "seed = 5\n",
    "strength = 0.8\n",
    "sigma_x = 0.1\n",
    "sigma_y = 0.1\n",
    "augmentation = GaussianShadow(\n",
    "    strength=strength, sigma_x=sigma_x, sigma_y=sigma_y, p=1.0\n",
    ")\n",
    "fig, axes = plt.subplots(1, 3, sharey=True, figsize=(12, 4))\n",
    "\n",
    "axes[0].set_title(\"Original Image\")\n",
    "axes[0].imshow(image, cmap=\"gray\", vmin=0, vmax=1)\n",
    "\n",
    "axes[1].set_title(\"Shadow Image\")\n",
    "axes[1].set_ylabel(\"✕\", rotation=0, labelpad=0, fontsize=16)\n",
    "axes[1].yaxis.set_label_coords(-0.1, 0.45)\n",
    "np.random.seed(seed)\n",
    "shadow_image = augmentation._generate_shadow_image(\n",
    "    image.shape[0], image.shape[1], scan_mask=scan_mask\n",
    ")\n",
    "axes[1].imshow(shadow_image)\n",
    "\n",
    "axes[2].set_title(\"Augmented Image\")\n",
    "axes[2].set_ylabel(\"=\", rotation=0, labelpad=0, fontsize=16)\n",
    "axes[2].yaxis.set_label_coords(-0.1, 0.45)\n",
    "np.random.seed(seed)\n",
    "augmented_image = augmentation.apply(img=image, scan_mask=scan_mask)\n",
    "axes[2].imshow(augmented_image)\n",
    "\n",
    "for ax in axes.flat:\n",
    "    ax.set_xticks([])\n",
    "    ax.set_yticks([])\n",
    "\n",
    "plt.savefig(\"../figures/gaussian_shadow.png\", bbox_inches=\"tight\")\n",
    "plt.show()"
   ]
  },
  {
   "cell_type": "markdown",
   "metadata": {},
   "source": [
    "## Speckle Reduction Example"
   ]
  },
  {
   "cell_type": "code",
   "execution_count": null,
   "metadata": {},
   "outputs": [],
   "source": [
    "sigma_spatial = 0.5\n",
    "sigma_color = 0.5\n",
    "augmentation = SpeckleReduction(\n",
    "    sigma_spatial=sigma_spatial, sigma_color=sigma_color, window_size=5, p=1.0\n",
    ")\n",
    "\n",
    "fig, axes = plt.subplots(1, 2, sharey=True, figsize=(8, 4))\n",
    "\n",
    "axes[0].set_title(\"Original Image\")\n",
    "axes[0].imshow(image, cmap=\"gray\", vmin=0, vmax=1)\n",
    "\n",
    "axes[1].set_title(\"Augmented Image\")\n",
    "augmented_image = augmentation.apply(img=image, scan_mask=scan_mask)\n",
    "axes[1].imshow(augmented_image)\n",
    "\n",
    "for ax in axes.flat:\n",
    "    ax.set_xticks([])\n",
    "    ax.set_yticks([])\n",
    "\n",
    "plt.savefig(\"../figures/speckle_reduction.png\", bbox_inches=\"tight\")\n",
    "plt.show()"
   ]
  },
  {
   "cell_type": "code",
   "execution_count": null,
   "metadata": {},
   "outputs": [],
   "source": []
  }
 ],
 "metadata": {
  "kernelspec": {
   "display_name": "usaugment-dev",
   "language": "python",
   "name": "python3"
  },
  "language_info": {
   "codemirror_mode": {
    "name": "ipython",
    "version": 3
   },
   "file_extension": ".py",
   "mimetype": "text/x-python",
   "name": "python",
   "nbconvert_exporter": "python",
   "pygments_lexer": "ipython3",
   "version": "3.11.2"
  }
 },
 "nbformat": 4,
 "nbformat_minor": 2
}
