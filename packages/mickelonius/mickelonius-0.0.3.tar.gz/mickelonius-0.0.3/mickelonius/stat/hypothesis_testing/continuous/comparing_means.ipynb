{
 "cells": [
  {
   "cell_type": "markdown",
   "id": "4b9e3e3c",
   "metadata": {},
   "source": [
    "# Comparing Means\n",
    "Researchers want to determine if a new educational program improves student performance on standardized tests. They randomly assign 30 students to a control group, which follows the standard curriculum, and another 30 students to a treatment group, which participates in the new educational program. After a semester, they compare the test scores of both groups.\n",
    "\n",
    "Because the sample uses continuous data and we'recomparing two means, we use a 2-sample t-test."
   ]
  },
  {
   "cell_type": "code",
   "execution_count": 2,
   "id": "fe53e56c",
   "metadata": {},
   "outputs": [],
   "source": [
    "import os\n",
    "import pandas as pd\n",
    "from statsmodels.stats.weightstats import ttest_ind, CompareMeans, DescrStatsW"
   ]
  },
  {
   "cell_type": "code",
   "execution_count": 3,
   "id": "011af475",
   "metadata": {},
   "outputs": [],
   "source": [
    "practically_significant_mean_diff = 5"
   ]
  },
  {
   "cell_type": "code",
   "execution_count": 4,
   "id": "e740f140",
   "metadata": {},
   "outputs": [],
   "source": [
    "df = pd.read_csv(os.path.join(os.path.abspath(\"\"), \"data/student_tests.csv\"))"
   ]
  },
  {
   "cell_type": "code",
   "execution_count": 5,
   "id": "0f3b0947",
   "metadata": {
    "scrolled": true
   },
   "outputs": [
    {
     "data": {
      "text/html": [
       "<div>\n",
       "<style scoped>\n",
       "    .dataframe tbody tr th:only-of-type {\n",
       "        vertical-align: middle;\n",
       "    }\n",
       "\n",
       "    .dataframe tbody tr th {\n",
       "        vertical-align: top;\n",
       "    }\n",
       "\n",
       "    .dataframe thead th {\n",
       "        text-align: right;\n",
       "    }\n",
       "</style>\n",
       "<table border=\"1\" class=\"dataframe\">\n",
       "  <thead>\n",
       "    <tr style=\"text-align: right;\">\n",
       "      <th></th>\n",
       "      <th>Control Group</th>\n",
       "      <th>Treatment Group</th>\n",
       "    </tr>\n",
       "  </thead>\n",
       "  <tbody>\n",
       "    <tr>\n",
       "      <th>count</th>\n",
       "      <td>30.000000</td>\n",
       "      <td>30.000000</td>\n",
       "    </tr>\n",
       "    <tr>\n",
       "      <th>mean</th>\n",
       "      <td>48.118531</td>\n",
       "      <td>58.788375</td>\n",
       "    </tr>\n",
       "    <tr>\n",
       "      <th>std</th>\n",
       "      <td>9.000064</td>\n",
       "      <td>9.311022</td>\n",
       "    </tr>\n",
       "    <tr>\n",
       "      <th>min</th>\n",
       "      <td>30.867198</td>\n",
       "      <td>40.403299</td>\n",
       "    </tr>\n",
       "    <tr>\n",
       "      <th>25%</th>\n",
       "      <td>44.089491</td>\n",
       "      <td>52.908863</td>\n",
       "    </tr>\n",
       "    <tr>\n",
       "      <th>50%</th>\n",
       "      <td>47.658548</td>\n",
       "      <td>59.354272</td>\n",
       "    </tr>\n",
       "    <tr>\n",
       "      <th>75%</th>\n",
       "      <td>53.603353</td>\n",
       "      <td>65.446618</td>\n",
       "    </tr>\n",
       "    <tr>\n",
       "      <th>max</th>\n",
       "      <td>65.792128</td>\n",
       "      <td>78.522782</td>\n",
       "    </tr>\n",
       "  </tbody>\n",
       "</table>\n",
       "</div>"
      ],
      "text/plain": [
       "       Control Group  Treatment Group\n",
       "count      30.000000        30.000000\n",
       "mean       48.118531        58.788375\n",
       "std         9.000064         9.311022\n",
       "min        30.867198        40.403299\n",
       "25%        44.089491        52.908863\n",
       "50%        47.658548        59.354272\n",
       "75%        53.603353        65.446618\n",
       "max        65.792128        78.522782"
      ]
     },
     "execution_count": 5,
     "metadata": {},
     "output_type": "execute_result"
    }
   ],
   "source": [
    "df.describe()"
   ]
  },
  {
   "cell_type": "markdown",
   "id": "4506335f",
   "metadata": {},
   "source": [
    "In our case, the variances are roughly equal, but if one is much different (like 2x), then we must use Welch's t-test, by specifying `usevar='unequal'`"
   ]
  },
  {
   "cell_type": "code",
   "execution_count": 6,
   "id": "1b786c03",
   "metadata": {},
   "outputs": [
    {
     "name": "stdout",
     "output_type": "stream",
     "text": [
      "t-statistic: 4.512913234547554, p-value: 1.5906674347611568e-05\n"
     ]
    }
   ],
   "source": [
    "t_stat, p_value, def_freedom = ttest_ind(df[\"Treatment Group\"], df[\"Control Group\"], alternative='larger', usevar='unequal')\n",
    "print(f\"t-statistic: {t_stat}, p-value: {p_value}\")"
   ]
  },
  {
   "cell_type": "markdown",
   "id": "e4e15a93-8aa1-4b81-88f9-ef949ad7b8d0",
   "metadata": {},
   "source": [
    "### Comparing CIs\n",
    "Use `DescrStatsW` objects to get CIs of difference in means"
   ]
  },
  {
   "cell_type": "code",
   "execution_count": 7,
   "id": "d820ac8e-ab65-48ae-a5f2-424c8823ad37",
   "metadata": {},
   "outputs": [],
   "source": [
    "# help(DescrStatsW)"
   ]
  },
  {
   "cell_type": "code",
   "execution_count": 8,
   "id": "2110a163-7a6b-443d-adad-b4d53a5b04cc",
   "metadata": {},
   "outputs": [],
   "source": [
    "# help(CompareMeans)"
   ]
  },
  {
   "cell_type": "code",
   "execution_count": 9,
   "id": "20e1a32a",
   "metadata": {},
   "outputs": [],
   "source": [
    "control_stats = DescrStatsW(df[\"Control Group\"])\n",
    "treatment_stats = DescrStatsW(df[\"Treatment Group\"])\n",
    "cm = CompareMeans(treatment_stats, control_stats)"
   ]
  },
  {
   "cell_type": "code",
   "execution_count": 10,
   "id": "426245b5-abb3-4ea9-85cb-af41078742d5",
   "metadata": {},
   "outputs": [],
   "source": [
    "# confidence interval for the difference in means\n",
    "# cm.tconfint_diff?"
   ]
  },
  {
   "cell_type": "code",
   "execution_count": 11,
   "id": "d9a94cef",
   "metadata": {},
   "outputs": [
    {
     "name": "stdout",
     "output_type": "stream",
     "text": [
      "95% confidence interval for the difference in means: (np.float64(5.937199799683505), np.float64(15.402488711538375))\n"
     ]
    }
   ],
   "source": [
    "confidence_interval = cm.tconfint_diff(alpha=0.05, alternative='two-sided')\n",
    "print(f\"95% confidence interval for the difference in means: {confidence_interval}\")"
   ]
  },
  {
   "cell_type": "code",
   "execution_count": null,
   "id": "37a93d0f-15bd-4942-9a13-2513216f125d",
   "metadata": {},
   "outputs": [],
   "source": []
  }
 ],
 "metadata": {
  "kernelspec": {
   "display_name": "stats_39",
   "language": "python",
   "name": "stats_39"
  },
  "language_info": {
   "codemirror_mode": {
    "name": "ipython",
    "version": 3
   },
   "file_extension": ".py",
   "mimetype": "text/x-python",
   "name": "python",
   "nbconvert_exporter": "python",
   "pygments_lexer": "ipython3",
   "version": "3.9.10"
  }
 },
 "nbformat": 4,
 "nbformat_minor": 5
}
