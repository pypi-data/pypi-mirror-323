{
 "cells": [
  {
   "cell_type": "markdown",
   "id": "f10463e9-d771-40db-a8c1-e1aed5b3dd55",
   "metadata": {},
   "source": [
    "# References\n",
    "https://statisticsbyjim.com/\n",
    "https://stats.libretexts.org/Bookshelves"
   ]
  },
  {
   "cell_type": "markdown",
   "id": "9dedcb47-4896-47e2-b3ae-ec2c46654257",
   "metadata": {},
   "source": [
    "# Hypothesis Tests by Data Type\n",
    "\n",
    "## Continuous Data\n",
    "| Test Decription  | Hypothesis Test |  \n",
    "| :----- | -------- |\n",
    "| Sample mean to reference value | 1-sample t-test |\n",
    "| Sample means of two groups | 2-sample t-test<br>Paired t-test<br>Compare CIs |\n",
    "| Sample means of at least three groups | One-way ANOVA<br>Two-way ANOVA |\n",
    "| Compare specific group means form ANOVE | Post hoc tests<br>Tukey's Method<br>Dunnett's Method<br>Hsu's MCB |\n",
    "| One std dev to reference value | one-sample variance test |\n",
    "| Std dev for two different groups | two-sample variance test |\n",
    "| Medians | Non-parametric test<br>Mann-Whitney Test |\n",
    "| Corrrelation betrween two continuous variables | Pearson Correlation Coefficient |\n",
    "| Shape of Distribution | Distribution tests for continuous data |\n",
    "| Presence of Outliers | Outlier test |\n",
    "\n",
    "## Binary Data\n",
    "| Test Decription  | Hypothesis Test |  \n",
    "| :----- | -------- |\n",
    "| One proportion to reference value | 1 Proportion test |\n",
    "| Proportions between two groups | 2 Proportion test |\n",
    "\n",
    "\n",
    "## Count Data\n",
    "| Test Decription  | Hypothesis Test |  \n",
    "| :----- | -------- |\n",
    "| One rate to reference value | one-sample Poisson test |\n",
    "| Rates between two groups | two-sample Poisson test |\n",
    "| Do counts follow Poisson dist? | Poisson goodness-of-fit test |\n",
    "\n",
    "## Categorical Data\n",
    "| Test Decription  | Hypothesis Test |  \n",
    "| :----- | -------- |\n",
    "| Association between two categorical variables | Chi-squared test of indepedence |\n",
    "| Do the proportions of values follow a hypothesized distribution? | Chi-square Goodness-of-Fit test |\n",
    "\n",
    "\n",
    "## Ordinal and Ranked Data\n",
    "| Test Decription  | Hypothesis Test |  \n",
    "| :----- | -------- |\n",
    "| Medians, Ordinal and Ranked data | Non-parametric test<br>Mann-Whitney Test |\n",
    "| Various | Bootstrapping methods |"
   ]
  },
  {
   "cell_type": "code",
   "execution_count": null,
   "id": "8bb16fe4-0828-4c04-a9a6-036dd1681973",
   "metadata": {},
   "outputs": [],
   "source": []
  }
 ],
 "metadata": {
  "kernelspec": {
   "display_name": "stats_39",
   "language": "python",
   "name": "stats_39"
  },
  "language_info": {
   "codemirror_mode": {
    "name": "ipython",
    "version": 3
   },
   "file_extension": ".py",
   "mimetype": "text/x-python",
   "name": "python",
   "nbconvert_exporter": "python",
   "pygments_lexer": "ipython3",
   "version": "3.9.10"
  }
 },
 "nbformat": 4,
 "nbformat_minor": 5
}
