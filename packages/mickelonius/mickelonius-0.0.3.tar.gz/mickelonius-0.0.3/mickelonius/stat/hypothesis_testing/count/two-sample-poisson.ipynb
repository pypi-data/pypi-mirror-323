{
 "cells": [
  {
   "cell_type": "code",
   "execution_count": null,
   "id": "f0287bc6-8c9a-44e4-8647-573289ac3982",
   "metadata": {},
   "outputs": [],
   "source": [
    "import pandas as pd\n",
    "import numpy as np\n",
    "import statsmodels.api as sm\n",
    "from statsmodels.formula.api import glm\n",
    "from scipy.stats import chisquare, poisson\n",
    "import matplotlib.pyplot as plt\n",
    "import scipy.stats as stats\n",
    "\n",
    "from mickelonius_stats.hypothesis_testing.count.data.generate_poisson_data import generate_poisson_data\n",
    "\n",
    "RATE1 = 10\n",
    "RATE2 = 5\n",
    "N_LG = 1000\n",
    "N_SM = 25\n",
    "\n",
    "# Example data\n",
    "sample1_lg = generate_poisson_data(RATE1, N_LG)\n",
    "sample2_lg = generate_poisson_data(RATE2, N_LG)\n",
    "\n",
    "# Combine the samples\n",
    "counts = np.concatenate([sample1_lg, sample2_lg])\n",
    "groups = np.concatenate([np.zeros_like(sample1_lg), np.ones_like(sample2_lg)])\n",
    "\n",
    "# Create a DataFrame\n",
    "data = pd.DataFrame({'counts': counts, 'group': groups})"
   ]
  },
  {
   "cell_type": "markdown",
   "id": "84caf8fb-b0d5-4368-b916-c117b9cd0b82",
   "metadata": {},
   "source": [
    "# Test if data look they are poisson distributed\n",
    "## 1. Is mean ~ variance?"
   ]
  },
  {
   "cell_type": "code",
   "execution_count": null,
   "id": "ada5f80b-3dbf-456d-af08-5d53fe084969",
   "metadata": {},
   "outputs": [],
   "source": [
    "mean1, variance1 = np.mean(sample1_lg), np.var(sample1_lg, ddof=1)\n",
    "mean2, variance2 = np.mean(sample2_lg), np.var(sample2_lg, ddof=1)\n",
    "print('\\nIs mean ~ variance, as is the case for a Poisson Distributed RV?')\n",
    "print('#' * 70)\n",
    "print(f\"# Sample 1: mean={mean1:.2f}, variance={variance1:.2f}\")\n",
    "print(f\"# Sample 2: mean={mean2:.2f}, variance={variance2:.2f}\")\n",
    "print('#' * 70)"
   ]
  },
  {
   "cell_type": "markdown",
   "id": "5b67339f-8fa7-4ca0-852b-8d6125d40f89",
   "metadata": {},
   "source": [
    "## 2. Visual Inspection, Plot histogram of the data and overlay the Poisson distribution"
   ]
  },
  {
   "cell_type": "code",
   "execution_count": null,
   "id": "3a80a388-3ef6-4a03-abb4-4afda2174e07",
   "metadata": {},
   "outputs": [],
   "source": [
    "x1 = np.arange(min(sample1_lg), max(sample1_lg) + 1)\n",
    "x2 = np.arange(min(sample2_lg), max(sample2_lg) + 1)\n",
    "plt.hist(sample1_lg, bins=x1, alpha=0.75, color='blue', density=True, label='Observed, Sample 1')\n",
    "plt.hist(sample2_lg, bins=x2, alpha=0.75, color='green', density=True, label='Observed, Sample 2')\n",
    "\n",
    "# Overlay the Poisson distribution\n",
    "poisson_pmf1 = stats.poisson.pmf(x1, mu=mean1)\n",
    "plt.plot(x1+0.5, poisson_pmf1, 'bo', ms=8, label='Expected Poisson, Sample 1')  #, color='blue')\n",
    "plt.vlines(x1+0.5, 0, poisson_pmf1, color='blue', lw=1)\n",
    "poisson_pmf2 = stats.poisson.pmf(x2, mu=mean2)\n",
    "plt.plot(x2+0.5, poisson_pmf2, 'go', ms=8, label='Expected Poisson, Sample 2')  #, color='green')\n",
    "plt.vlines(x2+0.5, 0, poisson_pmf2, color='green', lw=1)\n",
    "plt.title('Histograms and Poisson PMFs')\n",
    "plt.xlabel('Counts')\n",
    "plt.ylabel('Frequency')\n",
    "plt.legend()\n",
    "plt.show()"
   ]
  },
  {
   "cell_type": "markdown",
   "id": "55ab19c3-d54b-4d48-8813-6150a3319bf6",
   "metadata": {},
   "source": [
    "## 3. QQ Plot"
   ]
  },
  {
   "cell_type": "code",
   "execution_count": null,
   "id": "01fcb3b4-8605-48b4-908e-68654994c39c",
   "metadata": {},
   "outputs": [],
   "source": [
    "fig, axs = plt.subplots(1, 2, figsize=(10, 6))\n",
    "fig.suptitle('Q-Q Plots for Poisson-Distributed Data', fontsize=16)\n",
    "stats.probplot(sample1_lg, dist=\"poisson\", sparams=(mean1,), plot=axs[0])\n",
    "axs[0].set_title(f\"Rate = {RATE1}\")\n",
    "stats.probplot(sample2_lg, dist=\"poisson\", sparams=(mean2,), plot=axs[1])\n",
    "axs[1].set_title(f\"Rate = {RATE2}\")\n",
    "plt.tight_layout()\n",
    "plt.show()"
   ]
  },
  {
   "cell_type": "markdown",
   "id": "4b63e23f-c8f1-4949-aadb-59b60dd66932",
   "metadata": {},
   "source": [
    "## 4. Chi-Square Goodness-of-Fit tests\n",
    "Note that p-values well above (not below) significance level are desired as the null hypothesis is that the data does fit the ditribution, therefore we DON'T want evidence that rejects the null hypothesis."
   ]
  },
  {
   "cell_type": "code",
   "execution_count": null,
   "id": "c6dc734e-5393-4e65-8881-2c537f629791",
   "metadata": {},
   "outputs": [],
   "source": [
    "samples = [sample1_lg, sample2_lg]\n",
    "min_max = [(float(min(s)), float(max(s))) for s in samples]\n",
    "means = [np.mean(s) for s in samples]\n",
    "print('\\nDo samples fit Poisson Distribution?')\n",
    "print('#' * 70)\n",
    "for i, (min_val, max_val) in enumerate(min_max):\n",
    "    values = np.arange(min_val, max_val + 1)\n",
    "    observed_freq = np.array([(samples[i] == value).sum() for value in values])\n",
    "    expected_freq = len(samples[i]) * poisson.pmf(values, mu=means[i])\n",
    "    # expected_freq sums need to almost exactly equal for chi-sq test\n",
    "    expected_freq = expected_freq * (observed_freq.sum() / expected_freq.sum())\n",
    "    chi2_stat, p_value = chisquare(f_obs=observed_freq, f_exp=expected_freq)\n",
    "    print(f\"Chi-Square Statistic for sample {i + 1}: {chi2_stat:.2f}, P-Value: {p_value:.2f}\")\n",
    "print('#' * 70)"
   ]
  },
  {
   "cell_type": "markdown",
   "id": "c0022844-aef9-40de-a658-bd843ba0c95c",
   "metadata": {},
   "source": [
    "# Use Poisson GLM to fit counts to group/sample"
   ]
  },
  {
   "cell_type": "code",
   "execution_count": null,
   "id": "511048a9-bf75-48b1-9b02-9ce4f01a68b0",
   "metadata": {},
   "outputs": [],
   "source": [
    "model = glm('counts ~ group', data, family=sm.families.Poisson()).fit()\n",
    "print(model.summary())"
   ]
  },
  {
   "cell_type": "markdown",
   "id": "e1df1030-3f4a-472a-84bd-40e027e43ebc",
   "metadata": {},
   "source": [
    "### Calculate the rate and CI"
   ]
  },
  {
   "cell_type": "code",
   "execution_count": null,
   "id": "6199b653-9368-43a9-934b-16b42cb6cb2b",
   "metadata": {},
   "outputs": [],
   "source": [
    "intercept_coef = model.params['Intercept']\n",
    "group_coef = model.params['group']\n",
    "\n",
    "conf_int = model.conf_int()\n",
    "conf_int_exp = np.exp(conf_int)\n",
    "conf_int_intercept = conf_int_exp.loc['Intercept']\n",
    "conf_int_group = conf_int_exp.loc['group']\n",
    "\n",
    "rate_est = float(np.exp(intercept_coef))\n",
    "rate_est2 = np.exp(intercept_coef + group_coef)\n",
    "ci1 = [float(c) for c in conf_int_intercept]\n",
    "ci2 = [float(np.exp(intercept_coef + conf_int.loc['group'][i])) for i in [0,1]]\n",
    "\n",
    "print('\\nPossion GLM fit on groups denoting sample set')\n",
    "print('#' * 70)\n",
    "print(f'# Estimated rate for sample 1: {rate_est:.2f} CI=[{ci1[0]:.2f},{ci1[1]:.2f}]')\n",
    "print(f'# Estimated rate for sample 2: {rate_est2:.2f} CI=[{ci2[0]:.2f},{ci2[1]:.2f}]')\n",
    "print('#' * 70)"
   ]
  },
  {
   "cell_type": "code",
   "execution_count": null,
   "id": "1f7fd911-4a37-4108-8d5f-85a85d7a870b",
   "metadata": {},
   "outputs": [],
   "source": []
  },
  {
   "cell_type": "code",
   "execution_count": null,
   "id": "dee96512-2120-4f39-a913-ac537b3995ce",
   "metadata": {},
   "outputs": [],
   "source": []
  }
 ],
 "metadata": {
  "kernelspec": {
   "display_name": "stats_39",
   "language": "python",
   "name": "stats_39"
  },
  "language_info": {
   "codemirror_mode": {
    "name": "ipython",
    "version": 3
   },
   "file_extension": ".py",
   "mimetype": "text/x-python",
   "name": "python",
   "nbconvert_exporter": "python",
   "pygments_lexer": "ipython3",
   "version": "3.9.10"
  }
 },
 "nbformat": 4,
 "nbformat_minor": 5
}
