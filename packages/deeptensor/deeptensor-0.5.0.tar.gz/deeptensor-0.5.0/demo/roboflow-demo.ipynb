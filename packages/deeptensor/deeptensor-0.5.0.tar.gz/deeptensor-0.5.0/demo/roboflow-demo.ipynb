{
    "cells": [
        {
            "cell_type": "markdown",
            "metadata": {
                "vscode": {
                    "languageId": "plaintext"
                }
            },
            "source": [
                "## **DeepTensor 🔥**\n",
                "\n",
                "A minimal PyTorch-like **deep learning library** focused on custom autograd and efficient tensor operations.\n",
                "\n",
                "\n",
                "### **Features at a Glance** 🚀\n",
                "\n",
                "- **Automatic gradient computation** with a custom autograd engine.\n",
                "- **Weight initialization schemes**:\n",
                "  - `Xavier/Glorot` and `He` initialization in both `uniform` and `normal` variants.\n",
                "- **Activation functions**:\n",
                "  - `ReLU`, `GeLU`, `Sigmoid`, `Tanh`, `SoftMax`, `LeakyReLU`, and more.\n",
                "- **Built-in loss functions**:\n",
                "  - `Mean Squared Error (MSE)`, `Cross Entropy`, and `Binary Cross Entropy`.\n",
                "- **Optimizers**:\n",
                "  - `SGD`, `Momentum`, `AdaGrad`, `RMSprop`, and `Adam`.\n",
                "\n",
                "\n",
                "### **Why DeepTensor?**\n",
                "\n",
                "DeepTensor offers a hands-on implementation of deep learning fundamentals with a focus on **customizability** and **learning the internals** of deep learning frameworks like PyTorch.\n",
                "\n",
                "---\n",
                "\n",
                "### Installation\n",
                "\n",
                "```bash\n",
                "pip install deeptensor\n",
                "```\n"
            ]
        },
        {
            "cell_type": "code",
            "execution_count": 1,
            "metadata": {},
            "outputs": [],
            "source": [
                "from __future__ import annotations\n",
                "\n",
                "! pip install -q deeptensor numpy scikit-learn seaborn"
            ]
        },
        {
            "cell_type": "markdown",
            "metadata": {},
            "source": [
                "---\n",
                "\n",
                "### Import modules"
            ]
        },
        {
            "cell_type": "code",
            "execution_count": 1,
            "metadata": {},
            "outputs": [
                {
                    "data": {
                        "text/plain": [
                            "'0.5.0'"
                        ]
                    },
                    "execution_count": 1,
                    "metadata": {},
                    "output_type": "execute_result"
                }
            ],
            "source": [
                "import deeptensor as dt\n",
                "\n",
                "dt.version  # should to be version `0.4.0` or above"
            ]
        },
        {
            "cell_type": "markdown",
            "metadata": {},
            "source": [
                "---\n",
                "\n",
                "### **The `Value` Class** ☸️\n",
                "\n",
                "The `Value` class is the **core building block** of DeepTensor. It represents a unique value with the following attributes:\n",
                "\n",
                "- `data`: The actual value (e.g., a number or tensor element).  \n",
                "- `grad`: The gradient of the value, used for backpropagation.  \n",
                "- **Parents**: A list of values that contributed to its computation.  \n",
                "- **Backward Method**: Builds and traverses a Directed Acyclic Graph (DAG) in reverse order to compute gradients.  \n",
                "\n",
                "This enables **automatic differentiation**, making `Value` the foundation for neural network computations.\n",
                "\n",
                "---\n",
                "\n",
                "#### **Key Features**\n",
                "\n",
                "- Tracks operations to build a computational graph.  \n",
                "- Performs **reverse-mode autodiff** by traversing the graph when `backward()` is called.  \n",
                "- Supports common operations like addition, multiplication, and exponentiation out of the box.\n"
            ]
        },
        {
            "cell_type": "code",
            "execution_count": 2,
            "metadata": {},
            "outputs": [
                {
                    "name": "stdout",
                    "output_type": "stream",
                    "text": [
                        "a=Value(data=5.200000, grad=0.000000); b=Value(data=4.300000, grad=0.000000); c=Value(data=9.500000, grad=0.000000)\n",
                        "a.data=5.2; b.data=4.3; c.data=9.5\n",
                        "a.grad=0.0; b.grad=0.0; c.grad=0.0\n"
                    ]
                }
            ],
            "source": [
                "a = dt.Value(5.2)\n",
                "b = dt.Value(4.3)\n",
                "c = a + b\n",
                "\n",
                "print(f\"{a=}; {b=}; {c=}\")  # noqa: T201 `to remove ruff warnings`\n",
                "print(f\"{a.data=}; {b.data=}; {c.data=}\")  # noqa: T201\n",
                "print(f\"{a.grad=}; {b.grad=}; {c.grad=}\")  # noqa: T201"
            ]
        },
        {
            "cell_type": "code",
            "execution_count": 3,
            "metadata": {},
            "outputs": [
                {
                    "name": "stdout",
                    "output_type": "stream",
                    "text": [
                        "a=Value(data=5.000000, grad=0.000000); b=Value(data=4.000000, grad=0.000000); c=Value(data=44.000000, grad=0.000000)\n",
                        "a.data=5.0; b.data=4.0; c.data=44.0\n",
                        "a.grad=0.0; b.grad=0.0; c.grad=0.0\n",
                        "\n",
                        " -------------------- after backward -------------------- \n",
                        "\n",
                        "a=Value(data=5.000000, grad=10.000000); b=Value(data=4.000000, grad=5.000000); c=Value(data=44.000000, grad=1.000000)\n",
                        "a.data=5.0; b.data=4.0; c.data=44.0\n",
                        "a.grad=10.0; b.grad=5.0; c.grad=1.0\n"
                    ]
                }
            ],
            "source": [
                "a = dt.Value(5.0)\n",
                "b = dt.Value(4.0)\n",
                "\n",
                "c = a**2 + b * 5 - 1\n",
                "\n",
                "print(f\"{a=}; {b=}; {c=}\")  # noqa: T201\n",
                "print(f\"{a.data=}; {b.data=}; {c.data=}\")  # noqa: T201\n",
                "print(f\"{a.grad=}; {b.grad=}; {c.grad=}\")  # noqa: T201\n",
                "\n",
                "print(\"\\n\", \"-\" * 20, \"after backward\", \"-\" * 20, \"\\n\")  # noqa: T201\n",
                "c.backward()\n",
                "\n",
                "print(f\"{a=}; {b=}; {c=}\")  # noqa: T201\n",
                "print(f\"{a.data=}; {b.data=}; {c.data=}\")  # noqa: T201\n",
                "print(f\"{a.grad=}; {b.grad=}; {c.grad=}\")  # noqa: T201"
            ]
        },
        {
            "cell_type": "markdown",
            "metadata": {},
            "source": [
                "---\n",
                "\n",
                "### **The `Tensor` Class** 🧊\n",
                "\n",
                "The `Tensor` class is an abstraction that builds on the **`Value`** class, enabling multi-dimensional arrays (like vectors, matrices, etc.) for your computations. With `Tensor`, you can store and manipulate large datasets seamlessly, supporting a variety of operations such as addition, matrix multiplication, division, and more.\n",
                "\n",
                "#### **Key Features**\n",
                "\n",
                "- Supports multi-dimensional arrays (1D, 2D, etc.)  \n",
                "- Operations like addition, element-wise division, and matrix multiplication can be performed directly on `Tensors`.  \n",
                "- Each element of a tensor is a **`Value`** object, allowing for the efficient computation of gradients during backpropagation."
            ]
        },
        {
            "cell_type": "code",
            "execution_count": 4,
            "metadata": {},
            "outputs": [],
            "source": [
                "## helper functions to print tensor\n",
                "\n",
                "def print_one_d_tensor(t):\n",
                "    print(\"[\")  # noqa: T201\n",
                "    for i in range(t.shape[0]):\n",
                "        print(f\"\\t{t.get(i)},\")  # noqa: T201\n",
                "    print(\"]\")  # noqa: T201\n",
                "\n",
                "\n",
                "def print_two_d_tensor(t):\n",
                "    assert len(t.shape) == 2\n",
                "    print(\"[\")  # noqa: T201\n",
                "    for i in range(t.shape[0]):\n",
                "        print(\"\\t[\")  # noqa: T201\n",
                "        for j in range(t.shape[1]):\n",
                "            print(f\"\\t\\t{t.get([i, j])},\")  # noqa: T201\n",
                "        print(\"\\t]\")  # noqa: T201\n",
                "    print(\"]\")  # noqa: T201"
            ]
        },
        {
            "cell_type": "markdown",
            "metadata": {},
            "source": [
                "#### Tensor `set` and `get`"
            ]
        },
        {
            "cell_type": "code",
            "execution_count": 5,
            "metadata": {},
            "outputs": [
                {
                    "name": "stdout",
                    "output_type": "stream",
                    "text": [
                        "t1=tensor of shape: (4, )\n",
                        "[\n",
                        "\tValue(data=1.000000, grad=0.000000),\n",
                        "\tValue(data=2.000000, grad=0.000000),\n",
                        "\tValue(data=3.000000, grad=0.000000),\n",
                        "\tValue(data=4.000000, grad=0.000000),\n",
                        "]\n",
                        "\n",
                        " -------------------- 2D tensor -------------------- \n",
                        "\n",
                        "t2=tensor of shape: (2, 3, )\n",
                        "[\n",
                        "\t[\n",
                        "\t\tValue(data=1.000000, grad=0.000000),\n",
                        "\t\tValue(data=2.000000, grad=0.000000),\n",
                        "\t\tValue(data=3.000000, grad=0.000000),\n",
                        "\t]\n",
                        "\t[\n",
                        "\t\tValue(data=4.000000, grad=0.000000),\n",
                        "\t\tValue(data=5.000000, grad=0.000000),\n",
                        "\t\tValue(data=6.000000, grad=0.000000),\n",
                        "\t]\n",
                        "]\n"
                    ]
                }
            ],
            "source": [
                "# ------------ 1D tensor ------------\n",
                "t1 = dt.Tensor([4])\n",
                "\n",
                "t1.set(0, dt.Value(1.0))\n",
                "t1.set(1, dt.Value(2.0))\n",
                "t1.set(2, dt.Value(3.0))\n",
                "t1.set(3, dt.Value(4.0))\n",
                "\n",
                "print(f\"{t1=}\")  # noqa: T201\n",
                "\n",
                "\n",
                "print_one_d_tensor(t1)\n",
                "\n",
                "print(\"\\n\", \"-\" * 20, \"2D tensor\", \"-\" * 20, \"\\n\")  # noqa: T201\n",
                "\n",
                "# ------------ 2D tensor ------------\n",
                "t2 = dt.Tensor([2, 3])\n",
                "\n",
                "counter = 1.0\n",
                "for i in range(2):\n",
                "    for j in range(3):\n",
                "        t2.set([i, j], dt.Value(counter))\n",
                "        counter += 1.0\n",
                "\n",
                "print(f\"{t2=}\")  # noqa: T201\n",
                "\n",
                "print_two_d_tensor(t2)"
            ]
        },
        {
            "cell_type": "markdown",
            "metadata": {},
            "source": [
                "---\n",
                "\n",
                "#### Performing Tensor Operations ⚽️"
            ]
        },
        {
            "cell_type": "code",
            "execution_count": 6,
            "metadata": {},
            "outputs": [
                {
                    "name": "stdout",
                    "output_type": "stream",
                    "text": [
                        "[\n",
                        "\tValue(data=11.000000, grad=0.000000),\n",
                        "\tValue(data=22.000000, grad=0.000000),\n",
                        "\tValue(data=33.000000, grad=0.000000),\n",
                        "]\n",
                        "------------------------------\n",
                        "[\n",
                        "\tValue(data=2.000000, grad=0.000000),\n",
                        "\tValue(data=4.000000, grad=0.000000),\n",
                        "\tValue(data=6.000000, grad=0.000000),\n",
                        "]\n"
                    ]
                }
            ],
            "source": [
                "t1 = dt.Tensor([3])\n",
                "t2 = dt.Tensor([3])\n",
                "\n",
                "t1.set(0, dt.Value(1.0))\n",
                "t1.set(1, dt.Value(2.0))\n",
                "t1.set(2, dt.Value(3.0))\n",
                "\n",
                "t2.set(0, dt.Value(10.0))\n",
                "t2.set(1, dt.Value(20.0))\n",
                "t2.set(2, dt.Value(30.0))\n",
                "\n",
                "t3 = t1 + t2\n",
                "\n",
                "t4 = t2 / dt.Value(5)\n",
                "\n",
                "print_one_d_tensor(t3)\n",
                "\n",
                "print(\"-\" * 30)  # noqa: T201\n",
                "\n",
                "print_one_d_tensor(t4)"
            ]
        },
        {
            "cell_type": "markdown",
            "metadata": {},
            "source": [
                "---\n",
                "\n",
                "#### Tensor Matrix-Multiplication 🚀"
            ]
        },
        {
            "cell_type": "code",
            "execution_count": 7,
            "metadata": {},
            "outputs": [
                {
                    "name": "stdout",
                    "output_type": "stream",
                    "text": [
                        "[\n",
                        "\t[\n",
                        "\t\tValue(data=19.000000, grad=0.000000),\n",
                        "\t\tValue(data=22.000000, grad=0.000000),\n",
                        "\t]\n",
                        "\t[\n",
                        "\t\tValue(data=43.000000, grad=0.000000),\n",
                        "\t\tValue(data=50.000000, grad=0.000000),\n",
                        "\t]\n",
                        "]\n"
                    ]
                }
            ],
            "source": [
                "# Create two matrices as Tensors\n",
                "t1 = dt.Tensor([2, 2])\n",
                "t2 = dt.Tensor([2, 2])\n",
                "\n",
                "val1 = [[1.0, 2.0], [3.0, 4.0]]\n",
                "val2 = [[5.0, 6.0], [7.0, 8.0]]\n",
                "\n",
                "# Expected result of t1 @ t2\n",
                "# [1*5 + 2*7, 1*6 + 2*8] = [19, 22]\n",
                "# [3*5 + 4*7, 3*6 + 4*8] = [43, 50]\n",
                "expected_val = [[19.0, 22.0], [43.0, 50.0]]\n",
                "\n",
                "for i in range(2):\n",
                "    for j in range(2):\n",
                "        t1.set([i, j], dt.Value(val1[i][j]))\n",
                "        t2.set([i, j], dt.Value(val2[i][j]))\n",
                "\n",
                "# Perform matrix multiplication\n",
                "t3 = t1.matmul(t2)  # or t3 = t1 * t2 if overloaded\n",
                "\n",
                "print_two_d_tensor(t3)"
            ]
        },
        {
            "cell_type": "markdown",
            "metadata": {},
            "source": [
                "---\n",
                "\n",
                "### Training an MLP model on `Breast-Cancer dataset`"
            ]
        },
        {
            "cell_type": "code",
            "execution_count": 8,
            "metadata": {},
            "outputs": [],
            "source": [
                "from sklearn.datasets import load_breast_cancer\n",
                "\n",
                "data = load_breast_cancer()\n",
                "\n",
                "x_data = data[\"data\"]\n",
                "y_data = data[\"target\"]\n",
                "labels = data[\"target_names\"]"
            ]
        },
        {
            "cell_type": "code",
            "execution_count": 9,
            "metadata": {},
            "outputs": [
                {
                    "data": {
                        "text/plain": [
                            "((569, 30), (569,), array(['malignant', 'benign'], dtype='<U9'))"
                        ]
                    },
                    "execution_count": 9,
                    "metadata": {},
                    "output_type": "execute_result"
                }
            ],
            "source": [
                "x_data.shape, y_data.shape, labels"
            ]
        },
        {
            "cell_type": "code",
            "execution_count": 10,
            "metadata": {},
            "outputs": [
                {
                    "data": {
                        "text/plain": [
                            "(array([1.799e+01, 1.038e+01, 1.228e+02, 1.001e+03, 1.184e-01, 2.776e-01,\n",
                            "        3.001e-01, 1.471e-01, 2.419e-01, 7.871e-02, 1.095e+00, 9.053e-01,\n",
                            "        8.589e+00, 1.534e+02, 6.399e-03, 4.904e-02, 5.373e-02, 1.587e-02,\n",
                            "        3.003e-02, 6.193e-03, 2.538e+01, 1.733e+01, 1.846e+02, 2.019e+03,\n",
                            "        1.622e-01, 6.656e-01, 7.119e-01, 2.654e-01, 4.601e-01, 1.189e-01]),\n",
                            " 0)"
                        ]
                    },
                    "execution_count": 10,
                    "metadata": {},
                    "output_type": "execute_result"
                }
            ],
            "source": [
                "x_data[0], y_data[0]"
            ]
        },
        {
            "cell_type": "code",
            "execution_count": 11,
            "metadata": {},
            "outputs": [
                {
                    "data": {
                        "text/plain": [
                            "(569, 30)"
                        ]
                    },
                    "execution_count": 11,
                    "metadata": {},
                    "output_type": "execute_result"
                }
            ],
            "source": [
                "(\n",
                "    len(x_data),\n",
                "    len(x_data[0]),\n",
                ")"
            ]
        },
        {
            "cell_type": "markdown",
            "metadata": {},
            "source": [
                "---\n",
                "\n",
                "### Initializing a model ❤️\n",
                "\n",
                "- Since we'll be using `sigmoid` activation function, so we're going with `Xavier/Glorat` initialization."
            ]
        },
        {
            "cell_type": "code",
            "execution_count": 12,
            "metadata": {},
            "outputs": [
                {
                    "data": {
                        "text/plain": [
                            "Model(\n",
                            "\tLinearLayer(30,16),\n",
                            "\tSigmoid(),\n",
                            "\tLinearLayer(16,4),\n",
                            "\tSigmoid(),\n",
                            "\tLinearLayer(4,1),\n",
                            "\tSigmoid(),\n",
                            ")"
                        ]
                    },
                    "execution_count": 12,
                    "metadata": {},
                    "output_type": "execute_result"
                }
            ],
            "source": [
                "seed = 42\n",
                "\n",
                "model = dt.Model(\n",
                "    [\n",
                "        dt.LinearLayer(30, 16, seed, \"XAVIER\", \"NORMAL\"),\n",
                "        dt.Sigmoid(),\n",
                "        dt.LinearLayer(16, 4, seed, \"XAVIER\", \"NORMAL\"),\n",
                "        dt.Sigmoid(),\n",
                "        dt.LinearLayer(4, 1, seed, \"XAVIER\", \"NORMAL\"),\n",
                "        dt.Sigmoid(),\n",
                "    ],\n",
                "    False,  # using_cuda\n",
                ")\n",
                "\n",
                "model"
            ]
        },
        {
            "cell_type": "code",
            "execution_count": 13,
            "metadata": {},
            "outputs": [
                {
                    "data": {
                        "text/plain": [
                            "[Value(data=0.107475, grad=0.000000),\n",
                            " Value(data=-0.114732, grad=0.000000),\n",
                            " Value(data=0.285342, grad=0.000000),\n",
                            " Value(data=0.098807, grad=0.000000),\n",
                            " Value(data=-0.025886, grad=0.000000)]"
                        ]
                    },
                    "execution_count": 13,
                    "metadata": {},
                    "output_type": "execute_result"
                }
            ],
            "source": [
                "model.parameters()[:5]"
            ]
        },
        {
            "cell_type": "markdown",
            "metadata": {},
            "source": [
                "---\n",
                "\n",
                "### Optimizers 🤞🏻"
            ]
        },
        {
            "cell_type": "code",
            "execution_count": 14,
            "metadata": {},
            "outputs": [],
            "source": [
                "opt = dt.Adam(model, 0.001)  # learning rate"
            ]
        },
        {
            "cell_type": "markdown",
            "metadata": {},
            "source": [
                "---\n",
                "\n",
                "### Let's train ⚡️"
            ]
        },
        {
            "cell_type": "code",
            "execution_count": 15,
            "metadata": {},
            "outputs": [
                {
                    "name": "stdout",
                    "output_type": "stream",
                    "text": [
                        "Epoch 0 ;\tAvg Loss: 0.661677 ;\t Accuray:  62.741652\n",
                        "Epoch 1 ;\tAvg Loss: 0.663178 ;\t Accuray:  62.741652\n",
                        "Epoch 2 ;\tAvg Loss: 0.663739 ;\t Accuray:  62.741652\n",
                        "Epoch 3 ;\tAvg Loss: 0.663831 ;\t Accuray:  62.741652\n",
                        "Epoch 4 ;\tAvg Loss: 0.663806 ;\t Accuray:  62.741652\n",
                        "Epoch 5 ;\tAvg Loss: 0.66377 ;\t Accuray:  62.741652\n",
                        "Epoch 6 ;\tAvg Loss: 0.661123 ;\t Accuray:  62.741652\n",
                        "Epoch 7 ;\tAvg Loss: 0.665338 ;\t Accuray:  62.741652\n",
                        "Epoch 8 ;\tAvg Loss: 0.663803 ;\t Accuray:  62.741652\n",
                        "Epoch 9 ;\tAvg Loss: 0.663518 ;\t Accuray:  62.741652\n",
                        "Epoch 10 ;\tAvg Loss: 0.663446 ;\t Accuray:  62.741652\n",
                        "Epoch 11 ;\tAvg Loss: 0.663411 ;\t Accuray:  62.741652\n",
                        "Epoch 12 ;\tAvg Loss: 0.663305 ;\t Accuray:  62.741652\n",
                        "Epoch 13 ;\tAvg Loss: 0.640415 ;\t Accuray:  62.741652\n",
                        "Epoch 14 ;\tAvg Loss: 0.59976 ;\t Accuray:  62.741652\n",
                        "Epoch 15 ;\tAvg Loss: 0.558387 ;\t Accuray:  63.44464\n",
                        "Epoch 16 ;\tAvg Loss: 0.532258 ;\t Accuray:  75.571178\n",
                        "Epoch 17 ;\tAvg Loss: 0.487437 ;\t Accuray:  85.413005\n",
                        "Epoch 18 ;\tAvg Loss: 0.459689 ;\t Accuray:  88.927944\n",
                        "Epoch 19 ;\tAvg Loss: 0.431474 ;\t Accuray:  88.400703\n",
                        "Epoch 20 ;\tAvg Loss: 0.404914 ;\t Accuray:  89.279438\n",
                        "Epoch 21 ;\tAvg Loss: 0.392604 ;\t Accuray:  89.103691\n",
                        "Epoch 22 ;\tAvg Loss: 0.382511 ;\t Accuray:  88.927944\n",
                        "Epoch 23 ;\tAvg Loss: 0.372032 ;\t Accuray:  88.049209\n",
                        "Epoch 24 ;\tAvg Loss: 0.377367 ;\t Accuray:  87.873462\n",
                        "Epoch 25 ;\tAvg Loss: 0.345432 ;\t Accuray:  88.927944\n",
                        "Epoch 26 ;\tAvg Loss: 0.333812 ;\t Accuray:  90.333919\n",
                        "Epoch 27 ;\tAvg Loss: 0.33919 ;\t Accuray:  89.630931\n",
                        "Epoch 28 ;\tAvg Loss: 0.36282 ;\t Accuray:  88.400703\n",
                        "Epoch 29 ;\tAvg Loss: 0.324273 ;\t Accuray:  89.982425\n",
                        "Epoch 30 ;\tAvg Loss: 0.364052 ;\t Accuray:  88.049209\n",
                        "Epoch 31 ;\tAvg Loss: 0.353663 ;\t Accuray:  88.57645\n",
                        "Epoch 32 ;\tAvg Loss: 0.385323 ;\t Accuray:  86.643234\n",
                        "Epoch 33 ;\tAvg Loss: 0.422378 ;\t Accuray:  84.358524\n",
                        "Epoch 34 ;\tAvg Loss: 0.321946 ;\t Accuray:  89.455185\n",
                        "Epoch 35 ;\tAvg Loss: 0.387853 ;\t Accuray:  86.29174\n",
                        "Epoch 36 ;\tAvg Loss: 0.314003 ;\t Accuray:  90.333919\n",
                        "Epoch 37 ;\tAvg Loss: 0.357576 ;\t Accuray:  88.224956\n",
                        "Epoch 38 ;\tAvg Loss: 0.326638 ;\t Accuray:  89.455185\n",
                        "Epoch 39 ;\tAvg Loss: 0.318482 ;\t Accuray:  90.333919\n",
                        "Epoch 40 ;\tAvg Loss: 0.405873 ;\t Accuray:  85.588752\n",
                        "Epoch 41 ;\tAvg Loss: 0.327107 ;\t Accuray:  89.455185\n",
                        "Epoch 42 ;\tAvg Loss: 0.353209 ;\t Accuray:  87.873462\n",
                        "Epoch 43 ;\tAvg Loss: 0.281205 ;\t Accuray:  91.739895\n",
                        "Epoch 44 ;\tAvg Loss: 0.317295 ;\t Accuray:  90.158172\n",
                        "Epoch 45 ;\tAvg Loss: 0.312197 ;\t Accuray:  90.509666\n",
                        "Epoch 46 ;\tAvg Loss: 0.343417 ;\t Accuray:  88.57645\n",
                        "Epoch 47 ;\tAvg Loss: 0.296917 ;\t Accuray:  91.212654\n",
                        "Epoch 48 ;\tAvg Loss: 0.358467 ;\t Accuray:  88.049209\n",
                        "Epoch 49 ;\tAvg Loss: 0.397968 ;\t Accuray:  86.29174\n"
                    ]
                }
            ],
            "source": [
                "avg_loss_progression = []\n",
                "for epochs in range(50):\n",
                "    total_loss = 0\n",
                "    accuracy = 0\n",
                "    for i in range(len(x_data)):\n",
                "        curr_input = dt.Tensor([30])\n",
                "        for j in range(len(x_data[0])):\n",
                "            curr_input.set(j, dt.Value(x_data[i][j]))\n",
                "\n",
                "        y_pred = model(curr_input)\n",
                "\n",
                "        predicted = int(y_pred.get(0).data > 0.5)\n",
                "        if predicted == y_data[i]:\n",
                "            accuracy += 1\n",
                "        loss = dt.binary_cross_entropy(y_pred, y_data[i])\n",
                "        total_loss += loss.data\n",
                "\n",
                "        # backprop\n",
                "        opt.zero_grad()\n",
                "        loss.backward()\n",
                "        opt.step()\n",
                "\n",
                "        del curr_input\n",
                "\n",
                "    avg_loss = round(total_loss / len(x_data), 6)\n",
                "    avg_loss_progression.append(avg_loss)\n",
                "    acc_percent = round(((accuracy / len(x_data)) * 100), 6)\n",
                "    print(\"Epoch\", epochs, \";\\tAvg Loss:\", avg_loss, \";\\t Accuray: \", acc_percent)  # noqa: T201\n"
            ]
        },
        {
            "cell_type": "code",
            "execution_count": 16,
            "metadata": {},
            "outputs": [
                {
                    "data": {
                        "image/png": "[encoded data removed]",
                        "text/plain": [
                            "<Figure size 1000x600 with 1 Axes>"
                        ]
                    },
                    "metadata": {},
                    "output_type": "display_data"
                }
            ],
            "source": [
                "import matplotlib.pyplot as plt\n",
                "\n",
                "# Plotting the loss array\n",
                "plt.figure(figsize=(10, 6))\n",
                "plt.plot(avg_loss_progression, label=\"Avg Loss\", color=\"blue\")\n",
                "plt.xlabel(\"Epoch\")\n",
                "plt.ylabel(\"Average Loss\")\n",
                "plt.title(\"Loss Progression over Epochs\")\n",
                "plt.grid(True)\n",
                "plt.legend()\n",
                "plt.show()\n"
            ]
        },
        {
            "cell_type": "code",
            "execution_count": 17,
            "metadata": {},
            "outputs": [],
            "source": [
                "pred_data = []\n",
                "\n",
                "for i in range(len(x_data)):\n",
                "    curr_input = dt.Tensor([30])\n",
                "    for j in range(len(x_data[0])):\n",
                "        curr_input.set(j, dt.Value(x_data[i][j]))\n",
                "\n",
                "    y_pred = model(curr_input)\n",
                "\n",
                "    pred_output = int(y_pred.get(0).data > 0.5)\n",
                "    pred_data.append(pred_output)"
            ]
        },
        {
            "cell_type": "code",
            "execution_count": 18,
            "metadata": {},
            "outputs": [
                {
                    "data": {
                        "text/plain": [
                            "(569, 569)"
                        ]
                    },
                    "execution_count": 18,
                    "metadata": {},
                    "output_type": "execute_result"
                }
            ],
            "source": [
                "len(pred_data), len(y_data)"
            ]
        },
        {
            "cell_type": "code",
            "execution_count": 19,
            "metadata": {},
            "outputs": [
                {
                    "data": {
                        "image/png": "[encoded data removed]",
                        "text/plain": [
                            "<Figure size 640x480 with 2 Axes>"
                        ]
                    },
                    "metadata": {},
                    "output_type": "display_data"
                }
            ],
            "source": [
                "import seaborn as sns\n",
                "from sklearn.metrics import classification_report, confusion_matrix\n",
                "\n",
                "c = confusion_matrix(y_data, pred_data)\n",
                "sns.heatmap(c, annot=True, xticklabels=labels, yticklabels=labels);"
            ]
        },
        {
            "cell_type": "code",
            "execution_count": 20,
            "metadata": {},
            "outputs": [
                {
                    "name": "stdout",
                    "output_type": "stream",
                    "text": [
                        "              precision    recall  f1-score   support\n",
                        "\n",
                        "           0       0.99      0.74      0.84       212\n",
                        "           1       0.86      0.99      0.92       357\n",
                        "\n",
                        "    accuracy                           0.90       569\n",
                        "   macro avg       0.93      0.87      0.88       569\n",
                        "weighted avg       0.91      0.90      0.89       569\n",
                        "\n"
                    ]
                }
            ],
            "source": [
                "print(classification_report(y_data, pred_data))  # noqa: T201"
            ]
        }
    ],
    "metadata": {
        "kernelspec": {
            "display_name": "base",
            "language": "python",
            "name": "python3"
        },
        "language_info": {
            "codemirror_mode": {
                "name": "ipython",
                "version": 3
            },
            "file_extension": ".py",
            "mimetype": "text/x-python",
            "name": "python",
            "nbconvert_exporter": "python",
            "pygments_lexer": "ipython3",
            "version": "3.12.2"
        }
    },
    "nbformat": 4,
    "nbformat_minor": 2
}
