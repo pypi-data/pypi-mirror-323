{
 "cells": [
  {
   "cell_type": "markdown",
   "id": "1cc1f895-dcb4-4155-a672-b6f65ea8fb3b",
   "metadata": {},
   "source": [
    "## Load the package\n",
    "\n",
    "You must run `%load_ext` to load the package."
   ]
  },
  {
   "cell_type": "code",
   "execution_count": null,
   "id": "e2b05db4-01c6-4e6f-96f3-f964d7f05786",
   "metadata": {},
   "outputs": [],
   "source": [
    "%load_ext spanner_graphs"
   ]
  },
  {
   "cell_type": "markdown",
   "id": "fed2a88e-d55f-4c2f-b4db-561c6cab7821",
   "metadata": {},
   "source": [
    "## Query and visualize a local dataset with `--mock` flag\n",
    "\n",
    "Visualize local datasets without connecting to a Spanner database."
   ]
  },
  {
   "cell_type": "code",
   "execution_count": null,
   "id": "43e00d3c-add4-451c-999d-44807a7e80da",
   "metadata": {},
   "outputs": [],
   "source": [
    "%%spanner_graph --mock\n",
    "\n"
   ]
  },
  {
   "cell_type": "markdown",
   "id": "462bb717-b923-4008-aacc-95e30a914dbc",
   "metadata": {},
   "source": [
    "## Query and visualize Spanner Graph data\n"
   ]
  },
  {
   "cell_type": "markdown",
   "id": "e899505c-42ae-4175-8116-c3cc0513fe0e",
   "metadata": {},
   "source": [
    "### Authentication\n",
    "\n",
    "The first step before querying your Spanner Database is to run authentication via `gcloud`."
   ]
  },
  {
   "cell_type": "code",
   "execution_count": null,
   "id": "0b4051f3-d453-4174-8459-d194e49a852b",
   "metadata": {},
   "outputs": [],
   "source": [
    "!gcloud auth application-default login"
   ]
  },
  {
   "cell_type": "markdown",
   "id": "671d1d2e-ec9a-4ead-bb99-2e4cd4d9e099",
   "metadata": {},
   "source": [
    "### Query the database\n",
    "\n",
    "[Set up and query Spanner Graph](https://cloud.google.com/spanner/docs/graph/set-up) page contains a finance graph, used throughout the documentation. If you have set up such a database, you can replace the placeholder values of `{project_name}`, `{instance_name}` and `{database_name}` below to visualize query results."
   ]
  },
  {
   "cell_type": "code",
   "execution_count": null,
   "id": "adf79c35-d3e5-4d6d-89cc-f0a743da2dee",
   "metadata": {},
   "outputs": [],
   "source": [
    "%%spanner_graph --project {project_name} --instance {instance_name} --database {database_name}\n",
    "\n",
    "GRAPH FinGraph\n",
    "MATCH p = (a)-[e]->(b)\n",
    "RETURN TO_JSON(p) AS path"
   ]
  }
 ],
 "metadata": {
  "kernelspec": {
   "display_name": "Python 3 (ipykernel)",
   "language": "python",
   "name": "python3"
  },
  "language_info": {
   "codemirror_mode": {
    "name": "ipython",
    "version": 3
   },
   "file_extension": ".py",
   "mimetype": "text/x-python",
   "name": "python",
   "nbconvert_exporter": "python",
   "pygments_lexer": "ipython3",
   "version": "3.12.3"
  }
 },
 "nbformat": 4,
 "nbformat_minor": 5
}
