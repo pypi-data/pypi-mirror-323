{
 "cells": [
  {
   "cell_type": "markdown",
   "metadata": {},
   "source": [
    "# Read FCS data to AnnData object\n",
    "\n",
    "Github Repo: https://github.com/whitews/FlowIO"
   ]
  },
  {
   "cell_type": "code",
   "execution_count": 1,
   "metadata": {},
   "outputs": [],
   "source": [
    "import os\n",
    "import re\n",
    "from warnings import warn\n",
    "\n",
    "import flowio\n",
    "import numpy as np\n",
    "import pandas as pd\n",
    "from anndata import AnnData\n",
    "\n",
    "BASE_DIR = os.getcwd()"
   ]
  },
  {
   "cell_type": "code",
   "execution_count": 2,
   "metadata": {},
   "outputs": [],
   "source": [
    "fcs_data = flowio.FlowData(os.path.join(BASE_DIR, \"HTS_BD_LSR_II_Mixed_Specimen_001_D6_D06.fcs\"))"
   ]
  },
  {
   "cell_type": "code",
   "execution_count": 3,
   "metadata": {},
   "outputs": [],
   "source": [
    "data_array = np.reshape(fcs_data.events, (-1, fcs_data.channel_count))"
   ]
  },
  {
   "cell_type": "code",
   "execution_count": 4,
   "metadata": {},
   "outputs": [],
   "source": [
    "adata = AnnData(X=data_array, uns=fcs_data.text)\n",
    "\n",
    "# Add channels as varnames\n",
    "adata.var_names = [item[\"PnN\"] for item in fcs_data.channels.values()]\n",
    "\n",
    "# Add time channel to obs\n",
    "adata.obs[\"time\"] = adata[:, \"Time\"].X.toarray()"
   ]
  },
  {
   "cell_type": "code",
   "execution_count": 5,
   "metadata": {},
   "outputs": [
    {
     "data": {
      "text/plain": [
       "11"
      ]
     },
     "execution_count": 5,
     "metadata": {},
     "output_type": "execute_result"
    }
   ],
   "source": [
    "fcs_data.channel_count"
   ]
  },
  {
   "cell_type": "code",
   "execution_count": 6,
   "metadata": {},
   "outputs": [
    {
     "data": {
      "text/html": [
       "<div>\n",
       "<style scoped>\n",
       "    .dataframe tbody tr th:only-of-type {\n",
       "        vertical-align: middle;\n",
       "    }\n",
       "\n",
       "    .dataframe tbody tr th {\n",
       "        vertical-align: top;\n",
       "    }\n",
       "\n",
       "    .dataframe thead th {\n",
       "        text-align: right;\n",
       "    }\n",
       "</style>\n",
       "<table border=\"1\" class=\"dataframe\">\n",
       "  <thead>\n",
       "    <tr style=\"text-align: right;\">\n",
       "      <th></th>\n",
       "      <th>FITC-A</th>\n",
       "      <th>PerCP-Cy5-5-A</th>\n",
       "      <th>AmCyan-A</th>\n",
       "      <th>PE-TxRed YG-A</th>\n",
       "    </tr>\n",
       "  </thead>\n",
       "  <tbody>\n",
       "    <tr>\n",
       "      <th>FITC-A</th>\n",
       "      <td>1.00</td>\n",
       "      <td>0.0</td>\n",
       "      <td>0.022</td>\n",
       "      <td>0.0</td>\n",
       "    </tr>\n",
       "    <tr>\n",
       "      <th>PerCP-Cy5-5-A</th>\n",
       "      <td>0.00</td>\n",
       "      <td>1.0</td>\n",
       "      <td>0.000</td>\n",
       "      <td>0.0</td>\n",
       "    </tr>\n",
       "    <tr>\n",
       "      <th>AmCyan-A</th>\n",
       "      <td>0.16</td>\n",
       "      <td>0.0</td>\n",
       "      <td>1.000</td>\n",
       "      <td>0.0</td>\n",
       "    </tr>\n",
       "    <tr>\n",
       "      <th>PE-TxRed YG-A</th>\n",
       "      <td>0.04</td>\n",
       "      <td>0.0</td>\n",
       "      <td>0.020</td>\n",
       "      <td>1.0</td>\n",
       "    </tr>\n",
       "  </tbody>\n",
       "</table>\n",
       "</div>"
      ],
      "text/plain": [
       "               FITC-A  PerCP-Cy5-5-A  AmCyan-A  PE-TxRed YG-A\n",
       "FITC-A           1.00            0.0     0.022            0.0\n",
       "PerCP-Cy5-5-A    0.00            1.0     0.000            0.0\n",
       "AmCyan-A         0.16            0.0     1.000            0.0\n",
       "PE-TxRed YG-A    0.04            0.0     0.020            1.0"
      ]
     },
     "execution_count": 6,
     "metadata": {},
     "output_type": "execute_result"
    }
   ],
   "source": [
    "def parse_spill_matrix(fdata: flowio.FlowData) -> pd.DataFrame | None:\n",
    "    \"\"\"Parse spill matrix from flow data object.\"\"\"\n",
    "    if \"spill\" not in fdata.text:\n",
    "        return None\n",
    "\n",
    "    split_parts = fdata.text[\"spill\"].split(\",\")\n",
    "    num = int(split_parts[0])\n",
    "\n",
    "    _spill_matrix = pd.DataFrame(\n",
    "        np.reshape(split_parts[num + 1 :], (num, num)).astype(np.float64),\n",
    "        index=split_parts[1 : num + 1],\n",
    "        columns=split_parts[1 : num + 1],\n",
    "    )\n",
    "    return _spill_matrix\n",
    "\n",
    "\n",
    "spill_data = parse_spill_matrix(fcs_data)\n",
    "adata.uns[\"spill_matrix\"] = spill_data\n",
    "spill_data"
   ]
  },
  {
   "cell_type": "code",
   "execution_count": 7,
   "metadata": {},
   "outputs": [
    {
     "name": "stderr",
     "output_type": "stream",
     "text": [
      "/tmp/ipykernel_16329/79349246.py:33: UserWarning: Incomplete channel information.\n",
      "  warn(\"Incomplete channel information.\", UserWarning, stacklevel=1)\n"
     ]
    },
    {
     "data": {
      "text/html": [
       "<div>\n",
       "<style scoped>\n",
       "    .dataframe tbody tr th:only-of-type {\n",
       "        vertical-align: middle;\n",
       "    }\n",
       "\n",
       "    .dataframe tbody tr th {\n",
       "        vertical-align: top;\n",
       "    }\n",
       "\n",
       "    .dataframe thead th {\n",
       "        text-align: right;\n",
       "    }\n",
       "</style>\n",
       "<table border=\"1\" class=\"dataframe\">\n",
       "  <thead>\n",
       "    <tr style=\"text-align: right;\">\n",
       "      <th></th>\n",
       "      <th>$PnN</th>\n",
       "      <th>$PnR</th>\n",
       "      <th>$PnB</th>\n",
       "      <th>$PnE</th>\n",
       "      <th>$PnV</th>\n",
       "      <th>$PnG</th>\n",
       "      <th>display</th>\n",
       "      <th>bs</th>\n",
       "      <th>ms</th>\n",
       "    </tr>\n",
       "  </thead>\n",
       "  <tbody>\n",
       "    <tr>\n",
       "      <th>0</th>\n",
       "      <td>FSC-A</td>\n",
       "      <td>262144</td>\n",
       "      <td>32</td>\n",
       "      <td>0,0</td>\n",
       "      <td>611</td>\n",
       "      <td>1.0</td>\n",
       "      <td>LOG</td>\n",
       "      <td>-1</td>\n",
       "      <td>0</td>\n",
       "    </tr>\n",
       "    <tr>\n",
       "      <th>1</th>\n",
       "      <td>FSC-H</td>\n",
       "      <td>262144</td>\n",
       "      <td>32</td>\n",
       "      <td>0,0</td>\n",
       "      <td>611</td>\n",
       "      <td>1.0</td>\n",
       "      <td>LOG</td>\n",
       "      <td>-1</td>\n",
       "      <td>0</td>\n",
       "    </tr>\n",
       "    <tr>\n",
       "      <th>2</th>\n",
       "      <td>FSC-W</td>\n",
       "      <td>262144</td>\n",
       "      <td>32</td>\n",
       "      <td>0,0</td>\n",
       "      <td>611</td>\n",
       "      <td>1.0</td>\n",
       "      <td>NaN</td>\n",
       "      <td>-1</td>\n",
       "      <td>0</td>\n",
       "    </tr>\n",
       "    <tr>\n",
       "      <th>3</th>\n",
       "      <td>SSC-A</td>\n",
       "      <td>262144</td>\n",
       "      <td>32</td>\n",
       "      <td>0,0</td>\n",
       "      <td>210</td>\n",
       "      <td>1.0</td>\n",
       "      <td>LOG</td>\n",
       "      <td>-1</td>\n",
       "      <td>0</td>\n",
       "    </tr>\n",
       "    <tr>\n",
       "      <th>4</th>\n",
       "      <td>SSC-H</td>\n",
       "      <td>262144</td>\n",
       "      <td>32</td>\n",
       "      <td>0,0</td>\n",
       "      <td>210</td>\n",
       "      <td>1.0</td>\n",
       "      <td>LOG</td>\n",
       "      <td>-1</td>\n",
       "      <td>0</td>\n",
       "    </tr>\n",
       "    <tr>\n",
       "      <th>5</th>\n",
       "      <td>SSC-W</td>\n",
       "      <td>262144</td>\n",
       "      <td>32</td>\n",
       "      <td>0,0</td>\n",
       "      <td>210</td>\n",
       "      <td>1.0</td>\n",
       "      <td>NaN</td>\n",
       "      <td>-1</td>\n",
       "      <td>0</td>\n",
       "    </tr>\n",
       "    <tr>\n",
       "      <th>6</th>\n",
       "      <td>FITC-A</td>\n",
       "      <td>262144</td>\n",
       "      <td>32</td>\n",
       "      <td>0,0</td>\n",
       "      <td>580</td>\n",
       "      <td>1.0</td>\n",
       "      <td>LOG</td>\n",
       "      <td>-1</td>\n",
       "      <td>0</td>\n",
       "    </tr>\n",
       "    <tr>\n",
       "      <th>7</th>\n",
       "      <td>PerCP-Cy5-5-A</td>\n",
       "      <td>262144</td>\n",
       "      <td>32</td>\n",
       "      <td>0,0</td>\n",
       "      <td>580</td>\n",
       "      <td>1.0</td>\n",
       "      <td>LOG</td>\n",
       "      <td>-1</td>\n",
       "      <td>0</td>\n",
       "    </tr>\n",
       "    <tr>\n",
       "      <th>8</th>\n",
       "      <td>AmCyan-A</td>\n",
       "      <td>262144</td>\n",
       "      <td>32</td>\n",
       "      <td>0,0</td>\n",
       "      <td>550</td>\n",
       "      <td>1.0</td>\n",
       "      <td>LOG</td>\n",
       "      <td>-1</td>\n",
       "      <td>0</td>\n",
       "    </tr>\n",
       "    <tr>\n",
       "      <th>9</th>\n",
       "      <td>PE-TxRed YG-A</td>\n",
       "      <td>262144</td>\n",
       "      <td>32</td>\n",
       "      <td>0,0</td>\n",
       "      <td>500</td>\n",
       "      <td>1.0</td>\n",
       "      <td>LOG</td>\n",
       "      <td>-1</td>\n",
       "      <td>0</td>\n",
       "    </tr>\n",
       "    <tr>\n",
       "      <th>10</th>\n",
       "      <td>Time</td>\n",
       "      <td>262144</td>\n",
       "      <td>32</td>\n",
       "      <td>0,0</td>\n",
       "      <td>NaN</td>\n",
       "      <td>0.01</td>\n",
       "      <td>NaN</td>\n",
       "      <td>0</td>\n",
       "      <td>0</td>\n",
       "    </tr>\n",
       "  </tbody>\n",
       "</table>\n",
       "</div>"
      ],
      "text/plain": [
       "             $PnN    $PnR $PnB $PnE $PnV  $PnG display  bs ms\n",
       "0           FSC-A  262144   32  0,0  611   1.0     LOG  -1  0\n",
       "1           FSC-H  262144   32  0,0  611   1.0     LOG  -1  0\n",
       "2           FSC-W  262144   32  0,0  611   1.0     NaN  -1  0\n",
       "3           SSC-A  262144   32  0,0  210   1.0     LOG  -1  0\n",
       "4           SSC-H  262144   32  0,0  210   1.0     LOG  -1  0\n",
       "5           SSC-W  262144   32  0,0  210   1.0     NaN  -1  0\n",
       "6          FITC-A  262144   32  0,0  580   1.0     LOG  -1  0\n",
       "7   PerCP-Cy5-5-A  262144   32  0,0  580   1.0     LOG  -1  0\n",
       "8        AmCyan-A  262144   32  0,0  550   1.0     LOG  -1  0\n",
       "9   PE-TxRed YG-A  262144   32  0,0  500   1.0     LOG  -1  0\n",
       "10           Time  262144   32  0,0  NaN  0.01     NaN   0  0"
      ]
     },
     "execution_count": 7,
     "metadata": {},
     "output_type": "execute_result"
    }
   ],
   "source": [
    "def parse_channel_data(fdata: flowio.FlowData) -> pd.DataFrame | None:\n",
    "    \"\"\"Parse channel data from flow data object.\"\"\"\n",
    "    dict_list = [{}] * fdata.channel_count\n",
    "\n",
    "    convert_channel_name = {\n",
    "        \"n\": \"$PnN\",\n",
    "        \"r\": \"$PnR\",\n",
    "        \"b\": \"$PnB\",\n",
    "        \"e\": \"$PnE\",\n",
    "        \"v\": \"$PnV\",\n",
    "        \"g\": \"$PnG\",\n",
    "        \"display\": \"display\",\n",
    "        \"bs\": \"bs\",\n",
    "        \"ms\": \"ms\",\n",
    "    }\n",
    "\n",
    "    found_items = 0\n",
    "\n",
    "    for key, value in fdata.text.items():\n",
    "        pattern_match = re.match(r\"^p(?P<number>[0-9]{1,2})(?P<key>n|r|b|e|v|g|display|bs|ms)$\", key)\n",
    "        if pattern_match is not None:\n",
    "            found_items += 1\n",
    "            parsed_dict = pattern_match.groupdict()\n",
    "\n",
    "            dict_list[int(parsed_dict[\"number\"]) - 1] = {\n",
    "                **dict_list[int(parsed_dict[\"number\"]) - 1],\n",
    "                convert_channel_name.get(parsed_dict[\"key\"], parsed_dict[\"key\"]): value,\n",
    "            }\n",
    "\n",
    "    if found_items == 0:\n",
    "        return None\n",
    "    elif found_items % fdata.channel_count != 0:\n",
    "        warn(\"Incomplete channel information.\", UserWarning, stacklevel=1)\n",
    "\n",
    "    return pd.DataFrame(dict_list)\n",
    "\n",
    "\n",
    "parse_channel_data(fcs_data)"
   ]
  },
  {
   "cell_type": "code",
   "execution_count": 8,
   "metadata": {},
   "outputs": [
    {
     "name": "stderr",
     "output_type": "stream",
     "text": [
      "/tmp/ipykernel_16329/79349246.py:33: UserWarning: Incomplete channel information.\n",
      "  warn(\"Incomplete channel information.\", UserWarning, stacklevel=1)\n"
     ]
    }
   ],
   "source": [
    "adata.var = adata.var.merge(\n",
    "    right=parse_channel_data(fcs_data),\n",
    "    left_index=True,\n",
    "    right_on=\"$PnN\",\n",
    "    how=\"right\",\n",
    ").set_index(\"$PnN\")"
   ]
  },
  {
   "cell_type": "code",
   "execution_count": 9,
   "metadata": {},
   "outputs": [
    {
     "data": {
      "text/plain": [
       "AnnData object with n_obs × n_vars = 14945 × 11\n",
       "    obs: 'time'\n",
       "    var: '$PnR', '$PnB', '$PnE', '$PnV', '$PnG', 'display', 'bs', 'ms'\n",
       "    uns: 'beginanalysis', 'endanalysis', 'beginstext', 'endstext', 'begindata', 'enddata', 'fil', 'sys', 'tot', 'par', 'mode', 'byteord', 'datatype', 'nextdata', 'creator', 'tube name', 'src', 'experiment name', 'guid', 'date', 'btim', 'etim', 'cyt', 'cytnum', 'window extension', 'export user name', 'export time', 'op', 'fsc asf', 'autobs', 'inst', 'laser1name', 'laser1delay', 'laser1asf', 'laser2name', 'laser2delay', 'laser2asf', 'laser3name', 'laser3delay', 'laser3asf', 'laser4name', 'laser4delay', 'laser4asf', 'plate name', 'well id', 'plate id', 'timestep', 'spill', 'apply compensation', 'threshold', 'p1n', 'p1r', 'p1b', 'p1e', 'p1v', 'p1g', 'p1display', 'p1bs', 'p1ms', 'p2n', 'p2r', 'p2b', 'p2e', 'p2v', 'p2g', 'p2display', 'p2bs', 'p2ms', 'p3n', 'p3r', 'p3b', 'p3e', 'p3v', 'p3g', 'p3bs', 'p3ms', 'p4n', 'p4r', 'p4b', 'p4e', 'p4v', 'p4g', 'p4display', 'p4bs', 'p4ms', 'p5n', 'p5r', 'p5b', 'p5e', 'p5v', 'p5g', 'p5display', 'p5bs', 'p5ms', 'p6n', 'p6r', 'p6b', 'p6e', 'p6v', 'p6g', 'p6bs', 'p6ms', 'p7n', 'p7r', 'p7b', 'p7e', 'p7v', 'p7g', 'p7display', 'p7bs', 'p7ms', 'p8n', 'p8r', 'p8b', 'p8e', 'p8v', 'p8g', 'p8display', 'p8bs', 'p8ms', 'p9n', 'p9r', 'p9b', 'p9e', 'p9v', 'p9g', 'p9display', 'p9bs', 'p9ms', 'p10n', 'p10r', 'p10b', 'p10e', 'p10v', 'p10g', 'p10display', 'p10bs', 'p10ms', 'p11n', 'p11r', 'p11b', 'p11e', 'p11g', 'p11bs', 'p11ms', 'sampleid', 'sample id', 'spill_matrix'"
      ]
     },
     "execution_count": 9,
     "metadata": {},
     "output_type": "execute_result"
    }
   ],
   "source": [
    "adata"
   ]
  },
  {
   "cell_type": "markdown",
   "metadata": {},
   "source": [
    "### FlowUtils\n",
    "\n",
    "Github Repo: https://github.com/whitews/FlowUtils\n",
    "\n",
    "Docs: https://flowutils.readthedocs.io/en/latest/"
   ]
  },
  {
   "cell_type": "code",
   "execution_count": 10,
   "metadata": {},
   "outputs": [],
   "source": [
    "import flowutils"
   ]
  },
  {
   "cell_type": "code",
   "execution_count": 11,
   "metadata": {},
   "outputs": [],
   "source": [
    "compensation_matrix, fluoro_list = flowutils.compensate.get_spill(fcs_data.text[\"spill\"])"
   ]
  },
  {
   "cell_type": "code",
   "execution_count": 12,
   "metadata": {},
   "outputs": [],
   "source": [
    "fluoro_indices = []\n",
    "\n",
    "for index, value in enumerate(fcs_data.channels.values()):\n",
    "    if value[\"PnN\"] in fluoro_list:\n",
    "        # print(value, index)\n",
    "        fluoro_indices.append(index)"
   ]
  },
  {
   "cell_type": "code",
   "execution_count": 13,
   "metadata": {},
   "outputs": [],
   "source": [
    "comp_data_array = flowutils.compensate.compensate(data_array, compensation_matrix, fluoro_indices)"
   ]
  },
  {
   "cell_type": "code",
   "execution_count": 14,
   "metadata": {},
   "outputs": [],
   "source": [
    "channel_names = [item[\"PnN\"] for item in fcs_data.channels.values()]"
   ]
  },
  {
   "cell_type": "code",
   "execution_count": 15,
   "metadata": {},
   "outputs": [],
   "source": [
    "from anndata_fcs import scatter"
   ]
  },
  {
   "cell_type": "code",
   "execution_count": 16,
   "metadata": {},
   "outputs": [],
   "source": [
    "comp_df = pd.DataFrame(comp_data_array, columns=channel_names)"
   ]
  },
  {
   "cell_type": "code",
   "execution_count": 17,
   "metadata": {},
   "outputs": [
    {
     "data": {
      "image/png": "[encoded data removed]",
      "text/plain": [
       "<Figure size 500x500 with 1 Axes>"
      ]
     },
     "metadata": {},
     "output_type": "display_data"
    }
   ],
   "source": [
    "fig, ax = scatter(data=comp_df, x=\"PE-TxRed YG-A\", y=\"FITC-A\")"
   ]
  },
  {
   "cell_type": "code",
   "execution_count": 18,
   "metadata": {},
   "outputs": [
    {
     "data": {
      "text/plain": [
       "True"
      ]
     },
     "execution_count": 18,
     "metadata": {},
     "output_type": "execute_result"
    }
   ],
   "source": [
    "sum(data_array.flatten() == fcs_data.events) == fcs_data.event_count * fcs_data.channel_count"
   ]
  },
  {
   "cell_type": "code",
   "execution_count": 19,
   "metadata": {},
   "outputs": [
    {
     "data": {
      "text/plain": [
       "(14945, 11)"
      ]
     },
     "execution_count": 19,
     "metadata": {},
     "output_type": "execute_result"
    }
   ],
   "source": [
    "data_array.shape"
   ]
  }
 ],
 "metadata": {
  "kernelspec": {
   "display_name": "venv",
   "language": "python",
   "name": "python3"
  },
  "language_info": {
   "codemirror_mode": {
    "name": "ipython",
    "version": 3
   },
   "file_extension": ".py",
   "mimetype": "text/x-python",
   "name": "python",
   "nbconvert_exporter": "python",
   "pygments_lexer": "ipython3",
   "version": "3.10.16"
  }
 },
 "nbformat": 4,
 "nbformat_minor": 2
}
