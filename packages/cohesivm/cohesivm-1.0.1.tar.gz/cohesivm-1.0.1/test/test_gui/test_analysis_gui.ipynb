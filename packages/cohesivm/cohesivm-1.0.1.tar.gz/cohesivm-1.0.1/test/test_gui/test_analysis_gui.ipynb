{
 "cells": [
  {
   "cell_type": "code",
   "execution_count": 25,
   "metadata": {
    "pycharm": {
     "name": "#%%\n"
    }
   },
   "outputs": [],
   "source": [
    "import os\n",
    "import sys\n",
    "module_path = os.path.abspath(os.path.join('../..'))\n",
    "if module_path not in sys.path:\n",
    "    sys.path.insert(1, module_path)\n",
    "import importlib\n",
    "import numpy as np\n",
    "from cohesivm import gui\n",
    "_ = importlib.reload(gui)\n",
    "from cohesivm import plots\n",
    "_ = importlib.reload(plots)\n",
    "import test\n",
    "_ = importlib.reload(test)"
   ]
  },
  {
   "cell_type": "code",
   "execution_count": 26,
   "metadata": {},
   "outputs": [],
   "source": [
    "x_list = np.linspace(-5, 5, 100)\n",
    "dtype = [('a', float), ('b', float)]\n",
    "dataset = {\n",
    "    '1': np.array([(x, x**2) for x in x_list], dtype=dtype),\n",
    "    '2': np.array([(x, np.sin(x)) for x in x_list], dtype=dtype),\n",
    "    '3': np.array([(x, np.cos(x)) for x in x_list], dtype=dtype),\n",
    "    '4': np.array([(x, np.exp(x)) for x in x_list], dtype=dtype),\n",
    "    #'5': np.array([(x+10, np.log(x+10)) for x in x_list], dtype=dtype),\n",
    "    '6': np.array([(x+5, np.sqrt(x+10)) for x in x_list], dtype=dtype)\n",
    "}\n",
    "\n",
    "contact_positions = {\n",
    "    '1': (0., 0.),\n",
    "    '2': (1., 0.),\n",
    "    '3': (0., 1.),\n",
    "    '4': (1., 1.),\n",
    "    '5': (0., 2.),\n",
    "    '6': (1., 2.)\n",
    "}\n",
    "\n",
    "analysis = test.DemoAnalysis(dataset, contact_positions)"
   ]
  },
  {
   "cell_type": "code",
   "execution_count": 28,
   "metadata": {
    "pycharm": {
     "name": "#%%\n"
    }
   },
   "outputs": [
    {
     "data": {
      "application/vnd.jupyter.widget-view+json": {
       "model_id": "352fc162279845e49282cf40b13edb88",
       "version_major": 2,
       "version_minor": 0
      },
      "text/plain": [
       "VBox(children=(HBox(children=(HTML(value='<style>\\n.column-heading {\\n    background-color: #007bff;\\n    padd…"
      ]
     },
     "metadata": {},
     "output_type": "display_data"
    }
   ],
   "source": [
    "analysis_gui = gui.AnalysisGUI(analysis)\n",
    "analysis_gui.display()"
   ]
  },
  {
   "cell_type": "code",
   "execution_count": null,
   "metadata": {},
   "outputs": [],
   "source": []
  }
 ],
 "metadata": {
  "kernelspec": {
   "display_name": "Python 3 (ipykernel)",
   "language": "python",
   "name": "python3"
  },
  "language_info": {
   "codemirror_mode": {
    "name": "ipython",
    "version": 3
   },
   "file_extension": ".py",
   "mimetype": "text/x-python",
   "name": "python",
   "nbconvert_exporter": "python",
   "pygments_lexer": "ipython3",
   "version": "3.12.2"
  }
 },
 "nbformat": 4,
 "nbformat_minor": 4
}
