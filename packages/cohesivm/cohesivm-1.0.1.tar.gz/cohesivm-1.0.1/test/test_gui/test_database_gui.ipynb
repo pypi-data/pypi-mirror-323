{
 "cells": [
  {
   "cell_type": "code",
   "execution_count": 16,
   "metadata": {
    "pycharm": {
     "name": "#%%\n"
    }
   },
   "outputs": [],
   "source": [
    "import os\n",
    "import sys\n",
    "module_path = os.path.abspath(os.path.join('../..'))\n",
    "if module_path not in sys.path:\n",
    "    sys.path.insert(1, module_path)\n",
    "import importlib\n",
    "from cohesivm import gui\n",
    "_ = importlib.reload(gui)\n",
    "from cohesivm import database\n",
    "_ = importlib.reload(database)"
   ]
  },
  {
   "cell_type": "code",
   "execution_count": 17,
   "metadata": {},
   "outputs": [],
   "source": [
    "db = database.Database('test_database_gui.h5')"
   ]
  },
  {
   "cell_type": "code",
   "execution_count": 18,
   "metadata": {},
   "outputs": [],
   "source": [
    "for i in range(5):\n",
    "    metadata_dict1 = {\n",
    "        'measurement': 'TestMeasurement',\n",
    "        'measurement_settings': {'setting_same': 0, 'setting_int': i+1, 'setting_float': i*3.14, 'setting_bool': True, 'setting_tuple': (1, i)},\n",
    "        'sample_id': 'test_sample',\n",
    "        'device': 'TestDevice',\n",
    "        'channels': ['TestChannel1', 'TestChannel2'],\n",
    "        'channels_settings': [{'test': 1, 'test_b': 2}, {'test': 2, 'test_b': (3, 4)}],\n",
    "        'interface': 'TestInterface',\n",
    "        'interface_dimensions': str(database.Dimensions.Point()),\n",
    "        'contact_ids': ['0'],\n",
    "        'contact_positions': [(0, 0)],\n",
    "        'pixel_dimensions': [str(database.Dimensions.Point())]\n",
    "    }\n",
    "    metadata_dict2 = metadata_dict1.copy()\n",
    "    metadata_dict2['measurement_settings'] = {'setting_same': 0, 'setting_int': i+2, 'setting_float': i*2.72, 'setting_bool': True, 'setting_tuple': (3, i)}\n",
    "    metadata_dict3 = metadata_dict1.copy()\n",
    "    metadata_dict3['measurement_settings'] = {'setting_same': 0, 'setting_int': i+3, 'setting_float': i*1.62, 'setting_bool': False, 'setting_tuple': (1, i, 3, 4)}\n",
    "    metadata_dict4 = metadata_dict1.copy()\n",
    "    metadata_dict4['measurement'] = f'Measurement{i}'\n",
    "    metadata_dict5 = metadata_dict1.copy()\n",
    "    metadata_dict5['sample_id'] = f'sample_{i}'\n",
    "    for metadata_dict in [metadata_dict1, metadata_dict2, metadata_dict3, metadata_dict4, metadata_dict5]:\n",
    "        metadata = database.Metadata(**metadata_dict)\n",
    "        db.initialize_dataset(metadata)"
   ]
  },
  {
   "cell_type": "code",
   "execution_count": 19,
   "metadata": {
    "pycharm": {
     "name": "#%%\n"
    }
   },
   "outputs": [
    {
     "data": {
      "application/vnd.jupyter.widget-view+json": {
       "model_id": "e60c3f6ee0314f07889acca4d7b76f01",
       "version_major": 2,
       "version_minor": 0
      },
      "text/plain": [
       "VBox(children=(HTML(value='<style>\\n.column-heading {\\n    background-color: #007bff;\\n    padding: 12px 15px;…"
      ]
     },
     "metadata": {},
     "output_type": "display_data"
    }
   ],
   "source": [
    "database_gui = gui.DatabaseGUI(db)\n",
    "database_gui.display()"
   ]
  },
  {
   "cell_type": "code",
   "execution_count": 15,
   "metadata": {},
   "outputs": [],
   "source": [
    "os.remove(db.path)"
   ]
  },
  {
   "cell_type": "code",
   "execution_count": null,
   "metadata": {},
   "outputs": [],
   "source": []
  }
 ],
 "metadata": {
  "kernelspec": {
   "display_name": "Python 3 (ipykernel)",
   "language": "python",
   "name": "python3"
  },
  "language_info": {
   "codemirror_mode": {
    "name": "ipython",
    "version": 3
   },
   "file_extension": ".py",
   "mimetype": "text/x-python",
   "name": "python",
   "nbconvert_exporter": "python",
   "pygments_lexer": "ipython3",
   "version": "3.12.2"
  }
 },
 "nbformat": 4,
 "nbformat_minor": 4
}
