{
 "cells": [
  {
   "cell_type": "code",
   "execution_count": 1,
   "metadata": {
    "pycharm": {
     "name": "#%%\n"
    }
   },
   "outputs": [],
   "source": [
    "%matplotlib inline\n",
    "import os\n",
    "import sys\n",
    "import importlib\n",
    "module_path = os.path.abspath(os.path.join('../..'))\n",
    "if module_path not in sys.path:\n",
    "    sys.path.insert(1, module_path)\n",
    "import cohesivm\n",
    "from cohesivm import gui\n",
    "_ = importlib.reload(gui)\n",
    "import test\n",
    "_ = importlib.reload(test)\n",
    "from test import test_gui\n",
    "_ = importlib.reload(test_gui)"
   ]
  },
  {
   "cell_type": "code",
   "execution_count": 2,
   "metadata": {
    "pycharm": {
     "name": "#%%\n"
    }
   },
   "outputs": [],
   "source": [
    "db = cohesivm.database.Database('test_experiment_gui.h5')\n",
    "interface = test_gui.DemoInterface()\n",
    "measurement = test_gui.DemoMeasurement()\n",
    "device = test.DemoDevice()\n",
    "\n",
    "experiment = cohesivm.experiment.Experiment(\n",
    "    database=db,\n",
    "    device=device,\n",
    "    measurement=measurement,\n",
    "    interface=interface,\n",
    "    sample_id='test',\n",
    "    selected_contacts=['11', '12', '22']\n",
    ")"
   ]
  },
  {
   "cell_type": "code",
   "execution_count": 3,
   "metadata": {
    "pycharm": {
     "is_executing": true,
     "name": "#%%\n"
    }
   },
   "outputs": [
    {
     "data": {
      "application/vnd.jupyter.widget-view+json": {
       "model_id": "65c6219587fc412090d31596afbc5619",
       "version_major": 2,
       "version_minor": 0
      },
      "text/plain": [
       "HBox(children=(HTML(value='<style>\\n.column-heading {\\n    background-color: #007bff;\\n    padding: 12px 15px;…"
      ]
     },
     "metadata": {},
     "output_type": "display_data"
    }
   ],
   "source": [
    "plot = cohesivm.gui.XYDataStreamPlot('a', 'b')\n",
    "experiment_gui = gui.ExperimentGUI(experiment=experiment, plot=plot)\n",
    "experiment_gui.display()"
   ]
  },
  {
   "cell_type": "code",
   "execution_count": null,
   "metadata": {},
   "outputs": [],
   "source": []
  }
 ],
 "metadata": {
  "kernelspec": {
   "display_name": "Python 3 (ipykernel)",
   "language": "python",
   "name": "python3"
  },
  "language_info": {
   "codemirror_mode": {
    "name": "ipython",
    "version": 3
   },
   "file_extension": ".py",
   "mimetype": "text/x-python",
   "name": "python",
   "nbconvert_exporter": "python",
   "pygments_lexer": "ipython3",
   "version": "3.12.2"
  }
 },
 "nbformat": 4,
 "nbformat_minor": 4
}
