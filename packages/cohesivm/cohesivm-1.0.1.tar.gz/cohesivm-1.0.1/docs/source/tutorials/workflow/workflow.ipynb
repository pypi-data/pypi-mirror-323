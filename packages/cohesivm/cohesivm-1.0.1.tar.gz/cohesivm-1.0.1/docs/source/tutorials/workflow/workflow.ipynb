{
 "cells": [
  {
   "cell_type": "code",
   "execution_count": 1,
   "id": "abac920a-874b-44a0-898f-3d5f3d91621e",
   "metadata": {},
   "outputs": [],
   "source": [
    "import os\n",
    "import sys\n",
    "module_path = os.path.abspath(os.path.join('../../../..'))\n",
    "if module_path not in sys.path:\n",
    "    sys.path.insert(1, module_path)"
   ]
  },
  {
   "cell_type": "code",
   "execution_count": 2,
   "id": "initial_id",
   "metadata": {},
   "outputs": [
    {
     "data": {
      "application/vnd.jupyter.widget-view+json": {
       "model_id": "a9a394c76a2f47cbafe72c6df2223f14",
       "version_major": 2,
       "version_minor": 0
      },
      "text/plain": [
       "HBox(children=(HTML(value='<style>\\n.column-heading {\\n    background-color: #007bff;\\n    padding: 12px 15px;…"
      ]
     },
     "metadata": {},
     "output_type": "display_data"
    }
   ],
   "source": [
    "from cohesivm.database import Database\n",
    "from cohesivm.experiment import Experiment\n",
    "from cohesivm.gui import XYDataStreamPlot, ExperimentGUI\n",
    "from fpp_components import CurrentSourceChannel, VoltmeterChannel, FPPDevice, FPP2X2, FPPMeasurement\n",
    "\n",
    "db = Database('workflow.h5')\n",
    "\n",
    "current_source = CurrentSourceChannel(max_voltage=5.)\n",
    "voltmeter = VoltmeterChannel()\n",
    "device = FPPDevice('4')\n",
    "interface = FPP2X2('5')\n",
    "measurement = FPPMeasurement(\n",
    "    currents=[1e-6, 1e-5, 1e-4, 5e-4, 1e-3, 3.3e-3, 6.7e-3, 1e-2],\n",
    "    temperature=300,\n",
    "    film_thickness=2e-4\n",
    ")\n",
    "\n",
    "experiment = Experiment(\n",
    "    database=db,\n",
    "    device=device,\n",
    "    interface=interface,\n",
    "    measurement=measurement,\n",
    "    sample_id='fpp_test',\n",
    "    selected_contacts=None\n",
    ")\n",
    "\n",
    "plot = XYDataStreamPlot('Current (A)', 'Voltage (V)')\n",
    "\n",
    "ExperimentGUI(experiment, plot).display()"
   ]
  },
  {
   "cell_type": "code",
   "execution_count": 3,
   "id": "a979e7b9-f9b0-4d29-ae0b-15d9a20f1309",
   "metadata": {},
   "outputs": [
    {
     "data": {
      "application/vnd.jupyter.widget-view+json": {
       "model_id": "31de8f1c484f4553a56cf72ba054922f",
       "version_major": 2,
       "version_minor": 0
      },
      "text/plain": [
       "VBox(children=(HTML(value='<style>\\n.column-heading {\\n    background-color: #007bff;\\n    padding: 12px 15px;…"
      ]
     },
     "metadata": {},
     "output_type": "display_data"
    }
   ],
   "source": [
    "from cohesivm.database import Database\n",
    "from cohesivm.gui import DatabaseGUI\n",
    "\n",
    "db = Database('workflow.h5')\n",
    "\n",
    "DatabaseGUI(db).display()"
   ]
  },
  {
   "cell_type": "code",
   "execution_count": 4,
   "id": "b0b377ab-564e-49dc-abfe-bbed1c2ed14f",
   "metadata": {},
   "outputs": [
    {
     "data": {
      "application/vnd.jupyter.widget-view+json": {
       "model_id": "ab0571b2dfe7480eaa1c59c3aa99a25f",
       "version_major": 2,
       "version_minor": 0
      },
      "text/plain": [
       "VBox(children=(HBox(children=(HTML(value='<style>\\n.column-heading {\\n    background-color: #007bff;\\n    padd…"
      ]
     },
     "metadata": {},
     "output_type": "display_data"
    }
   ],
   "source": [
    "from cohesivm.database import Database\n",
    "from cohesivm.gui import AnalysisGUI\n",
    "from fpp_analysis import FPPAnalysis\n",
    "\n",
    "db = Database('workflow.h5')\n",
    "\n",
    "dataset = db.load_dataset(\n",
    "    '/FPPMeasurement/4995ea0b10600040:68acd711bd9efe3b:6e20c0b30261a5b5/2024-08-07T12:20:00.275073-fpp_test'\n",
    ")\n",
    "\n",
    "analysis = FPPAnalysis(dataset)\n",
    "\n",
    "AnalysisGUI(analysis).display()"
   ]
  },
  {
   "cell_type": "code",
   "execution_count": 5,
   "id": "a720af44-e2a7-423c-9f19-361e11ea023b",
   "metadata": {},
   "outputs": [
    {
     "name": "stdout",
     "output_type": "stream",
     "text": [
      "2.0\n"
     ]
    }
   ],
   "source": [
    "cs = CurrentSourceChannel(False, 5.)\n",
    "vm = VoltmeterChannel()\n",
    "device = FPPDevice('4', [cs, vm])\n",
    "with device.connect():\n",
    "    device.channels[0].source_current(0.02)\n",
    "    print(device.channels[1].measure_voltage())"
   ]
  },
  {
   "cell_type": "code",
   "execution_count": 6,
   "id": "cdb38df3-fa3a-4f0f-aa9c-d40b8b47b792",
   "metadata": {},
   "outputs": [
    {
     "name": "stdout",
     "output_type": "stream",
     "text": [
      "0.0\n"
     ]
    }
   ],
   "source": [
    "with device.connect():\n",
    "    device.channels[0].source_current(0.051)\n",
    "    print(device.channels[1].measure_voltage())"
   ]
  },
  {
   "cell_type": "code",
   "execution_count": 7,
   "id": "720fd182-e46a-4b4f-b15c-c2921336db2e",
   "metadata": {},
   "outputs": [
    {
     "data": {
      "text/plain": [
       "100.0"
      ]
     },
     "execution_count": 7,
     "metadata": {},
     "output_type": "execute_result"
    }
   ],
   "source": [
    "import fpp_connect\n",
    "interface = FPP2X2('5')\n",
    "fpp_connect.get_resistance()"
   ]
  },
  {
   "cell_type": "code",
   "execution_count": 8,
   "id": "37a1a8ec-d437-4f16-8207-f245b75f4c68",
   "metadata": {},
   "outputs": [
    {
     "data": {
      "text/plain": [
       "200.0"
      ]
     },
     "execution_count": 8,
     "metadata": {},
     "output_type": "execute_result"
    }
   ],
   "source": [
    "interface.select_contact('BR')\n",
    "fpp_connect.get_resistance()"
   ]
  },
  {
   "cell_type": "code",
   "execution_count": 9,
   "id": "b5c8f6de-f8bc-4465-9dce-b86d4f4aa965",
   "metadata": {},
   "outputs": [
    {
     "data": {
      "text/plain": [
       "array([(1.e-06, 2.e-04), (1.e-05, 2.e-03), (1.e-04, 2.e-02),\n",
       "       (1.e-03, 2.e-01), (1.e-02, 2.e+00), (1.e-01, 0.e+00)],\n",
       "      dtype=[('Current (A)', '<f8'), ('Voltage (V)', '<f8')])"
      ]
     },
     "execution_count": 9,
     "metadata": {},
     "output_type": "execute_result"
    }
   ],
   "source": [
    "cs = CurrentSourceChannel(False, 5.)\n",
    "vm = VoltmeterChannel()\n",
    "device = FPPDevice('123', [cs, vm])\n",
    "currents = [1e-6, 1e-5, 1e-4, 1e-3, 1e-2, 1e-1]\n",
    "measurement = FPPMeasurement(currents, 300)\n",
    "measurement.run(device)"
   ]
  },
  {
   "cell_type": "code",
   "execution_count": 10,
   "id": "a8061356-b98c-4f4f-9919-124f2474de8a",
   "metadata": {},
   "outputs": [],
   "source": [
    "import numpy as np\n",
    "from fpp_analysis import FPPAnalysis\n",
    "from cohesivm.database import Dimensions"
   ]
  },
  {
   "cell_type": "code",
   "execution_count": 11,
   "id": "66f92323-6d8f-4495-a549-cca4a1a8b397",
   "metadata": {},
   "outputs": [],
   "source": [
    "dtype = [('Current (A)', float), ('Voltage (V)', float)]\n",
    "d1 = np.array([(a, 100 * a) for a in range(1, 10)], dtype=dtype)\n",
    "d2 = d1.copy()\n",
    "d3 = np.array([(a, 50 * a + np.random.rand() * 10 - 5) for a in range(1, 10)], dtype=dtype)\n",
    "dataset = {'P1': d1, 'P2': d2, 'P3': d3}"
   ]
  },
  {
   "cell_type": "code",
   "execution_count": 12,
   "id": "427637e2-497a-4253-9cc5-62919451101a",
   "metadata": {},
   "outputs": [],
   "source": [
    "if_dim = Dimensions.Rectangle(20., 20.)\n",
    "con_pos = {'P1': (5., 1.), 'P2': (10., 10.), 'P3': (15., 15.)}\n",
    "pix_dim = {k: Dimensions.Generic([-1.5, -0.5, 0.5, 1.5], [0., 0., 0., 0.]) for k in dataset.keys()}\n",
    "temp = 300.\n",
    "t = 1.\n",
    "analysis = FPPAnalysis(dataset, if_dim, con_pos, pix_dim, temp, t)"
   ]
  },
  {
   "cell_type": "code",
   "execution_count": 13,
   "id": "4e6f14e8-63c9-445e-9e56-4579b47499fd",
   "metadata": {},
   "outputs": [
    {
     "data": {
      "text/plain": [
       "(99.99999999999999, 99.99999999999999, 50.725995774879415)"
      ]
     },
     "execution_count": 13,
     "metadata": {},
     "output_type": "execute_result"
    }
   ],
   "source": [
    "analysis.linear('P1'), analysis.linear('P2'), analysis.linear('P3')"
   ]
  },
  {
   "cell_type": "code",
   "execution_count": 14,
   "id": "3aa294a3-0be9-490c-aacb-1f119b3d3fa7",
   "metadata": {},
   "outputs": [
    {
     "data": {
      "text/plain": [
       "(453.2360141827193, 453.2360141827193, 229.9084814045581)"
      ]
     },
     "execution_count": 14,
     "metadata": {},
     "output_type": "execute_result"
    }
   ],
   "source": [
    "analysis.sheet('P1'), analysis.sheet('P2'), analysis.sheet('P3')"
   ]
  },
  {
   "cell_type": "code",
   "execution_count": 15,
   "id": "0bf718c4-fa75-4fc5-a4fc-0754b5167748",
   "metadata": {},
   "outputs": [
    {
     "data": {
      "text/plain": [
       "(338.47934651602014, 450.8122096478881, 224.91600736623624)"
      ]
     },
     "execution_count": 15,
     "metadata": {},
     "output_type": "execute_result"
    }
   ],
   "source": [
    "analysis.edge_sheet('P1'), analysis.edge_sheet('P2'), analysis.edge_sheet('P3')"
   ]
  },
  {
   "cell_type": "code",
   "execution_count": 16,
   "id": "8f2ed22a-1148-48f4-8c3a-de128cecca52",
   "metadata": {},
   "outputs": [
    {
     "data": {
      "text/plain": [
       "([(3.5, 1.0), (4.5, 1.0), (5.5, 1.0), (6.5, 1.0)], [(3.5, -1.0), (6.5, -1.0)])"
      ]
     },
     "execution_count": 16,
     "metadata": {},
     "output_type": "execute_result"
    }
   ],
   "source": [
    "analysis.probe_coordinates('P1'), analysis.mirrored_coordinates('P1')"
   ]
  },
  {
   "cell_type": "code",
   "execution_count": 22,
   "id": "efdf159e-603f-4020-92e0-a43a82e38bf9",
   "metadata": {},
   "outputs": [
    {
     "data": {
      "text/plain": [
       "array([[338.47934652,          nan,          nan],\n",
       "       [         nan, 450.81220965,          nan],\n",
       "       [         nan,          nan, 224.25210453]])"
      ]
     },
     "execution_count": 22,
     "metadata": {},
     "output_type": "execute_result"
    }
   ],
   "source": [
    "result_map = analysis.generate_result_maps('Edge Sheet Resistance (Ohm)')[0]\n",
    "result_map"
   ]
  },
  {
   "cell_type": "code",
   "execution_count": 24,
   "id": "286cd3b0-cd66-4b06-83cd-ca0cda5188ac",
   "metadata": {},
   "outputs": [
    {
     "data": {
      "image/png": "[encoded data removed]",
      "text/plain": [
       "<Figure size 640x480 with 1 Axes>"
      ]
     },
     "metadata": {},
     "output_type": "display_data"
    }
   ],
   "source": [
    "from cohesivm.analysis import plot_result_map\n",
    "plot_result_map(result_map, 'Edge Sheet Resistance (Ohm)')"
   ]
  },
  {
   "cell_type": "code",
   "execution_count": 18,
   "id": "367347ec-30dd-4059-865f-007055d0497f",
   "metadata": {},
   "outputs": [],
   "source": [
    "import matplotlib.pyplot as plt"
   ]
  },
  {
   "cell_type": "code",
   "execution_count": 19,
   "id": "9753ccf0-6b5c-4238-9089-d02009de13d8",
   "metadata": {},
   "outputs": [
    {
     "data": {
      "image/png": "[encoded data removed]",
      "text/plain": [
       "<Figure size 700x550 with 1 Axes>"
      ]
     },
     "metadata": {},
     "output_type": "display_data"
    }
   ],
   "source": [
    "analysis.measurement('P1')\n",
    "plt.show()"
   ]
  },
  {
   "cell_type": "code",
   "execution_count": 20,
   "id": "dfce5adb-9a87-4789-ae2e-1020e070d022",
   "metadata": {},
   "outputs": [
    {
     "data": {
      "image/png": "[encoded data removed]",
      "text/plain": [
       "<Figure size 700x550 with 1 Axes>"
      ]
     },
     "metadata": {},
     "output_type": "display_data"
    }
   ],
   "source": [
    "analysis.resistance_plot('P3')\n",
    "plt.show()"
   ]
  },
  {
   "cell_type": "code",
   "execution_count": 21,
   "id": "740ec176-5d4c-4c94-9818-07046098426f",
   "metadata": {},
   "outputs": [],
   "source": [
    "import numpy as np\n",
    "from fpp_analysis import FPPAnalysis\n",
    "from cohesivm.database import Dimensions\n",
    "\n",
    "dtype = [('Current (A)', float), ('Voltage (V)', float)]\n",
    "d1 = np.array([(a, 100 * a) for a in range(1, 10)], dtype=dtype)\n",
    "d2 = d1.copy()\n",
    "d3 = np.array([(a, 50 * a + np.random.rand() * 10 - 5) for a in range(1, 10)], dtype=dtype)\n",
    "dataset = {'P1': d1, 'P2': d2, 'P3': d3}\n",
    "\n",
    "if_dim = Dimensions.Rectangle(20., 20.)\n",
    "con_pos = {'P1': (5., 1.), 'P2': (10., 10.), 'P3': (15., 15.)}\n",
    "pix_dim = {k: Dimensions.Generic([-1.5, -0.5, 0.5, 1.5], [0., 0., 0., 0.]) for k in dataset.keys()}\n",
    "temp = 300.\n",
    "t = 1.\n",
    "analysis = FPPAnalysis(dataset, if_dim, con_pos, pix_dim, temp, t)"
   ]
  },
  {
   "cell_type": "code",
   "execution_count": null,
   "id": "eaf36467-a7b4-46d1-beeb-0504c6d2f16d",
   "metadata": {},
   "outputs": [],
   "source": []
  }
 ],
 "metadata": {
  "kernelspec": {
   "display_name": "Python 3 (ipykernel)",
   "language": "python",
   "name": "python3"
  },
  "language_info": {
   "codemirror_mode": {
    "name": "ipython",
    "version": 3
   },
   "file_extension": ".py",
   "mimetype": "text/x-python",
   "name": "python",
   "nbconvert_exporter": "python",
   "pygments_lexer": "ipython3",
   "version": "3.12.2"
  }
 },
 "nbformat": 4,
 "nbformat_minor": 5
}
