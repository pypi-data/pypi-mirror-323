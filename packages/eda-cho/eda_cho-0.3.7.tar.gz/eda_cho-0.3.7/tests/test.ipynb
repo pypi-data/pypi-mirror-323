{
 "cells": [
  {
   "cell_type": "code",
   "execution_count": 1,
   "id": "b698ad5f-56d4-4d55-9fc7-5aab9b2b43c6",
   "metadata": {},
   "outputs": [],
   "source": [
    "from president_speech.db.parquet_interpreter import get_parquet_full_path\n",
    "import pandas as pd"
   ]
  },
  {
   "cell_type": "code",
   "execution_count": 5,
   "id": "bba0d546-beaf-4d40-bfa5-dc5fc98f5455",
   "metadata": {},
   "outputs": [],
   "source": [
    "data_path = get_parquet_full_path()\n",
    "keyword = '자유'"
   ]
  },
  {
   "cell_type": "code",
   "execution_count": 6,
   "id": "e3bdf215-29c6-4201-bd44-4eaada812501",
   "metadata": {},
   "outputs": [],
   "source": [
    "df = pd.read_parquet(data_path)\n",
    "fdf = df[df['speech_text'].str.contains(keyword, case=False)]"
   ]
  },
  {
   "cell_type": "code",
   "execution_count": 7,
   "id": "a7f64ce7-8bea-46cb-836f-f31cd17b2822",
   "metadata": {},
   "outputs": [
    {
     "data": {
      "text/plain": [
       "3064"
      ]
     },
     "execution_count": 7,
     "metadata": {},
     "output_type": "execute_result"
    }
   ],
   "source": [
    "gdf = fdf.groupby('president')"
   ]
  }
 ],
 "metadata": {
  "kernelspec": {
   "display_name": "Python 3 (ipykernel)",
   "language": "python",
   "name": "python3"
  },
  "language_info": {
   "codemirror_mode": {
    "name": "ipython",
    "version": 3
   },
   "file_extension": ".py",
   "mimetype": "text/x-python",
   "name": "python",
   "nbconvert_exporter": "python",
   "pygments_lexer": "ipython3",
   "version": "3.10.12"
  }
 },
 "nbformat": 4,
 "nbformat_minor": 5
}
