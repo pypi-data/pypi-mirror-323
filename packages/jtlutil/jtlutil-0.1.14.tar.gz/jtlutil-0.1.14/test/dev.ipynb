{
 "cells": [
  {
   "cell_type": "code",
   "execution_count": 73,
   "metadata": {},
   "outputs": [
    {
     "name": "stdout",
     "output_type": "stream",
     "text": [
      "The autoreload extension is already loaded. To reload it, use:\n",
      "  %reload_ext autoreload\n"
     ]
    },
    {
     "name": "stderr",
     "output_type": "stream",
     "text": [
      "DEBUG:jtlutil.docker.dctl:Network 'x11' already exists.\n",
      "DEBUG:jtlutil.docker.dctl:Network 'jtlctl' already exists.\n",
      "DEBUG:jtlutil.docker.dctl:Network 'caddy' already exists.\n"
     ]
    },
    {
     "name": "stdout",
     "output_type": "stream",
     "text": [
      "ssh://root@64.23.135.161\n"
     ]
    },
    {
     "data": {
      "text/plain": [
       "'http://cs-spawner:8000/telem'"
      ]
     },
     "execution_count": 73,
     "metadata": {},
     "output_type": "execute_result"
    }
   ],
   "source": [
    "%load_ext autoreload\n",
    "%autoreload 2\n",
    "\n",
    "import docker\n",
    "import logging\n",
    "from jtlutil.docker.dctl import *\n",
    "import hashlib\n",
    "\n",
    "from jtlutil.config import get_config\n",
    "\n",
    "config = get_config('./config.env')\n",
    "\n",
    "logging.basicConfig(level=logging.ERROR)\n",
    "logger.setLevel(logging.DEBUG)\n",
    "\n",
    "client = docker.DockerClient(base_url=config.SSH_URI )\n",
    "\n",
    "print(config.SSH_URI)\n",
    "ensure_network_exists(client, 'x11', is_external=False, network_type=\"bridge\")\n",
    "ensure_network_exists(client, 'jtlctl', is_external=False, network_type=\"bridge\")\n",
    "ensure_network_exists(client, 'caddy', is_external=True, network_type=\"bridge\")\n",
    "\n",
    "config.KST_REPORTING_URL"
   ]
  },
  {
   "cell_type": "code",
   "execution_count": 8,
   "metadata": {},
   "outputs": [
    {
     "name": "stderr",
     "output_type": "stream",
     "text": [
      "INFO:jtlutil.docker.dctl:Creating container from image 'ghcr.io/league-infrastructure/novnc-service:v0.1.3'...\n"
     ]
    },
    {
     "name": "stdout",
     "output_type": "stream",
     "text": [
      "----\n"
     ]
    },
    {
     "name": "stderr",
     "output_type": "stream",
     "text": [
      "INFO:jtlutil.docker.dctl:Connecting container to network 'x11' : 81b081a8f85991990d1603f8af7c48603159f741149d68f5d44df36b8f21fc36\n",
      "INFO:jtlutil.docker.dctl:Connecting container to network 'jtlctl' : fc7f9235fcdc4f062e1429e10918fa9491398caade111e528450db7c06a7c660\n",
      "INFO:jtlutil.docker.dctl:Connecting container to network 'caddy' : 341c37b26522cf9aaf53c4e37df9a6b94fe50cb0cc79e05d7d35d6a3f2327fb5\n",
      "INFO:jtlutil.docker.dctl:Container 'jed-novnc' (b47d643d6ed75d649cfa4dab066cd7a1e24795d97609c9a575b942d884f24aba) created successfully.\n",
      "INFO:jtlutil.docker.dctl:Creating container from image 'ghcr.io/league-infrastructure/league-infrastructure/docker-codeserver-python:v0.1.5'...\n",
      "INFO:jtlutil.docker.dctl:Connecting container to network 'x11' : 81b081a8f85991990d1603f8af7c48603159f741149d68f5d44df36b8f21fc36\n",
      "INFO:jtlutil.docker.dctl:Connecting container to network 'jtlctl' : fc7f9235fcdc4f062e1429e10918fa9491398caade111e528450db7c06a7c660\n",
      "INFO:jtlutil.docker.dctl:Connecting container to network 'caddy' : 341c37b26522cf9aaf53c4e37df9a6b94fe50cb0cc79e05d7d35d6a3f2327fb5\n",
      "INFO:jtlutil.docker.dctl:Container 'jed' (8557dbe87880bad8e3b8df2e0ceaffcbf9967c6421c20c99eadeb8e13848de6f) created successfully.\n",
      "INFO:jtlutil.docker.dctl:Creating container from image 'ghcr.io/league-infrastructure/novnc-service:v0.1.3'...\n"
     ]
    },
    {
     "name": "stdout",
     "output_type": "stream",
     "text": [
      "b47d643d6ed75d649cfa4dab066cd7a1e24795d97609c9a575b942d884f24aba jed.do.jointheleague.org\n"
     ]
    },
    {
     "name": "stderr",
     "output_type": "stream",
     "text": [
      "INFO:jtlutil.docker.dctl:Connecting container to network 'x11' : 81b081a8f85991990d1603f8af7c48603159f741149d68f5d44df36b8f21fc36\n",
      "INFO:jtlutil.docker.dctl:Connecting container to network 'jtlctl' : fc7f9235fcdc4f062e1429e10918fa9491398caade111e528450db7c06a7c660\n",
      "INFO:jtlutil.docker.dctl:Connecting container to network 'caddy' : 341c37b26522cf9aaf53c4e37df9a6b94fe50cb0cc79e05d7d35d6a3f2327fb5\n",
      "INFO:jtlutil.docker.dctl:Container 'osvaldo-novnc' (4413bc4bd0f4c610a987b068fadb49564207a2e6ae9ff69efda744f7b4f7e054) created successfully.\n",
      "INFO:jtlutil.docker.dctl:Creating container from image 'ghcr.io/league-infrastructure/league-infrastructure/docker-codeserver-python:v0.1.5'...\n",
      "INFO:jtlutil.docker.dctl:Connecting container to network 'x11' : 81b081a8f85991990d1603f8af7c48603159f741149d68f5d44df36b8f21fc36\n",
      "INFO:jtlutil.docker.dctl:Connecting container to network 'jtlctl' : fc7f9235fcdc4f062e1429e10918fa9491398caade111e528450db7c06a7c660\n",
      "INFO:jtlutil.docker.dctl:Connecting container to network 'caddy' : 341c37b26522cf9aaf53c4e37df9a6b94fe50cb0cc79e05d7d35d6a3f2327fb5\n",
      "INFO:jtlutil.docker.dctl:Container 'osvaldo' (fb1b4a1ab879d094048619aeed24bf9c75eb2b162869b5bc261c5d61c359c9b8) created successfully.\n",
      "INFO:jtlutil.docker.dctl:Creating container from image 'ghcr.io/league-infrastructure/novnc-service:v0.1.3'...\n"
     ]
    },
    {
     "name": "stdout",
     "output_type": "stream",
     "text": [
      "4413bc4bd0f4c610a987b068fadb49564207a2e6ae9ff69efda744f7b4f7e054 osvaldo.do.jointheleague.org\n"
     ]
    },
    {
     "name": "stderr",
     "output_type": "stream",
     "text": [
      "INFO:jtlutil.docker.dctl:Connecting container to network 'x11' : 81b081a8f85991990d1603f8af7c48603159f741149d68f5d44df36b8f21fc36\n",
      "INFO:jtlutil.docker.dctl:Connecting container to network 'jtlctl' : fc7f9235fcdc4f062e1429e10918fa9491398caade111e528450db7c06a7c660\n",
      "INFO:jtlutil.docker.dctl:Connecting container to network 'caddy' : 341c37b26522cf9aaf53c4e37df9a6b94fe50cb0cc79e05d7d35d6a3f2327fb5\n",
      "INFO:jtlutil.docker.dctl:Container 'eric-novnc' (05528f62ac6f6fc540c46e5a138d4a84dadc183453c245dad11dcbba446ee28f) created successfully.\n",
      "INFO:jtlutil.docker.dctl:Creating container from image 'ghcr.io/league-infrastructure/league-infrastructure/docker-codeserver-python:v0.1.5'...\n",
      "INFO:jtlutil.docker.dctl:Connecting container to network 'x11' : 81b081a8f85991990d1603f8af7c48603159f741149d68f5d44df36b8f21fc36\n",
      "INFO:jtlutil.docker.dctl:Connecting container to network 'jtlctl' : fc7f9235fcdc4f062e1429e10918fa9491398caade111e528450db7c06a7c660\n",
      "INFO:jtlutil.docker.dctl:Connecting container to network 'caddy' : 341c37b26522cf9aaf53c4e37df9a6b94fe50cb0cc79e05d7d35d6a3f2327fb5\n",
      "INFO:jtlutil.docker.dctl:Container 'eric' (9bf9309cfb4f07781f54ff54ac2f413fd7134238e5d8df0b282ba62c470b3f1f) created successfully.\n"
     ]
    },
    {
     "name": "stdout",
     "output_type": "stream",
     "text": [
      "05528f62ac6f6fc540c46e5a138d4a84dadc183453c245dad11dcbba446ee28f eric.do.jointheleague.org\n"
     ]
    }
   ],
   "source": [
    "def make_servers(usernames):\n",
    "    servers = []\n",
    "    for username in usernames:\n",
    "        nvc, pa = create_cs_pair(client, config, config.IMAGES_PYTHONCS, username)\n",
    "        yield (nvc, pa)\n",
    "    return servers\n",
    "\n",
    "print('----')\n",
    "for nvc, pa in make_servers(['jed','osvaldo', 'eric']):\n",
    "    print(nvc.id, pa.labels['caddy'])\n"
   ]
  },
  {
   "cell_type": "code",
   "execution_count": 72,
   "metadata": {},
   "outputs": [
    {
     "name": "stderr",
     "output_type": "stream",
     "text": [
      "INFO:jtlutil.docker.dctl:Creating container from image 'ghcr.io/league-infrastructure/novnc-service:v0.1.3'...\n",
      "DEBUG:jtlutil.docker.dctl:Port bindings: None\n"
     ]
    },
    {
     "name": "stderr",
     "output_type": "stream",
     "text": [
      "DEBUG:jtlutil.docker.dctl:Volumes: None\n",
      "INFO:jtlutil.docker.dctl:Connecting container to network 'x11' : 81b081a8f85991990d1603f8af7c48603159f741149d68f5d44df36b8f21fc36\n",
      "INFO:jtlutil.docker.dctl:Connecting container to network 'jtlctl' : fc7f9235fcdc4f062e1429e10918fa9491398caade111e528450db7c06a7c660\n",
      "INFO:jtlutil.docker.dctl:Connecting container to network 'caddy' : 341c37b26522cf9aaf53c4e37df9a6b94fe50cb0cc79e05d7d35d6a3f2327fb5\n",
      "INFO:jtlutil.docker.dctl:Container 'jed-novnc' (4e2f2ad3ddcc877783dc31194fd637968ce840397434d60a1dc1bc36a6c5b721) created successfully.\n",
      "INFO:jtlutil.docker.dctl:Creating container from image 'ghcr.io/league-infrastructure/league-infrastructure/docker-codeserver-python:v0.1.5'...\n",
      "DEBUG:jtlutil.docker.dctl:Port bindings: {'8080/tcp': None}\n",
      "DEBUG:jtlutil.docker.dctl:Volumes: None\n",
      "INFO:jtlutil.docker.dctl:Connecting container to network 'x11' : 81b081a8f85991990d1603f8af7c48603159f741149d68f5d44df36b8f21fc36\n",
      "INFO:jtlutil.docker.dctl:Connecting container to network 'jtlctl' : fc7f9235fcdc4f062e1429e10918fa9491398caade111e528450db7c06a7c660\n",
      "INFO:jtlutil.docker.dctl:Connecting container to network 'caddy' : 341c37b26522cf9aaf53c4e37df9a6b94fe50cb0cc79e05d7d35d6a3f2327fb5\n",
      "INFO:jtlutil.docker.dctl:Container 'jed' (e905282a502b760a1e66de8d6d73b62b8149a5174372cd83546d925a0d7c56ba) created successfully.\n"
     ]
    },
    {
     "name": "stdout",
     "output_type": "stream",
     "text": [
      "e905282a502b760a1e66de8d6d73b62b8149a5174372cd83546d925a0d7c56ba running jed.do.jointheleague.org\n",
      "4e2f2ad3ddcc877783dc31194fd637968ce840397434d60a1dc1bc36a6c5b721 running jed-novnc.do.jointheleague.org\n"
     ]
    }
   ],
   "source": [
    "list(make_servers(['jed']))\n",
    "\n",
    "containers = client.containers.list(filters={\"label\": f\"jtl\"}, all=True)\n",
    "\n",
    "for c in containers:\n",
    "    print(c.id, c.status, c.labels['caddy'])"
   ]
  },
  {
   "cell_type": "code",
   "execution_count": 71,
   "metadata": {},
   "outputs": [
    {
     "name": "stdout",
     "output_type": "stream",
     "text": [
      "e13fa3116c0a9b60ffadc59d06576f59a5bb58dd5d824123102da5380a4e614f running test-student-students-jointheleague-org.do.jointheleague.org\n",
      "7ee54360bd93ffa3aae294368523c1182e6e45efb25967b538384d58f486a996 running test-student-students-jointheleague-org-novnc.do.jointheleague.org\n",
      "3a28727f74a40825152a4779cd79f2adc9166571e85b445341df5522e8ad4e46 running eric-busboom-org.do.jointheleague.org\n",
      "4f70a82dac81eab248696d433148108509bcc7c2f58da17e7823c04fceb1f572 running eric-busboom-org-novnc.do.jointheleague.org\n",
      "e33ab2fc9279b8c49f47862e7a58e139a1ccfed6373d2851ad81422a9ea889c0 running eric-busboom-jointheleague-org.do.jointheleague.org\n",
      "11064e6d74a252d9c2434e7f1c2b3267da70da56939998c0ae182bbe74483d7c running eric-busboom-jointheleague-org-novnc.do.jointheleague.org\n"
     ]
    }
   ],
   "source": [
    "\n",
    "containers = client.containers.list(filters={\"label\": f\"jtl\"}, all=True)\n",
    "\n",
    "for c in containers:\n",
    "    print(c.id, c.status, c.labels['caddy'])\n",
    "    if c.status == 'running':\n",
    "        try:\n",
    "            c.stop()\n",
    "            c.remove()\n",
    "        except Exception as e:\n",
    "            print(e)\n",
    "    else:\n",
    "        ... #c.start()\n",
    "            "
   ]
  },
  {
   "cell_type": "code",
   "execution_count": null,
   "metadata": {},
   "outputs": [],
   "source": []
  },
  {
   "cell_type": "code",
   "execution_count": 5,
   "metadata": {},
   "outputs": [
    {
     "data": {
      "text/plain": [
       "'non-exist'"
      ]
     },
     "execution_count": 5,
     "metadata": {},
     "output_type": "execute_result"
    }
   ],
   "source": [
    "container_status(client, 'eric-busboom-org')"
   ]
  },
  {
   "cell_type": "code",
   "execution_count": 44,
   "metadata": {},
   "outputs": [],
   "source": [
    "id = '86fdd94433889853efc825ea18276adbd876e0fa420a84a865d2a76c5556999c'\n",
    "c = client.containers.get(id)\n",
    "\n",
    "for e in c.diff():\n",
    "    print(e)\n",
    "    "
   ]
  },
  {
   "cell_type": "code",
   "execution_count": null,
   "metadata": {},
   "outputs": [
    {
     "data": {
      "text/plain": [
       "[{'id': '3a28727f74a40825152a4779cd79f2adc9166571e85b445341df5522e8ad4e46',\n",
       "  'state': 'running',\n",
       "  'name': 'eric-busboom-org',\n",
       "  'memory_usage': 384450560,\n",
       "  'hostname': 'eric-busboom-org.do.jointheleague.org'},\n",
       " {'id': 'e33ab2fc9279b8c49f47862e7a58e139a1ccfed6373d2851ad81422a9ea889c0',\n",
       "  'state': 'running',\n",
       "  'name': 'eric-busboom-jointheleague-org',\n",
       "  'memory_usage': 39571456,\n",
       "  'hostname': 'eric-busboom-jointheleague-org.do.jointheleague.org'},\n",
       " {'id': 'e32d8b70f86591da8ec0c2620af44b9b845f8fd534af9e4a22e6a319c70ae985',\n",
       "  'state': 'running',\n",
       "  'name': 'jed',\n",
       "  'memory_usage': 39477248,\n",
       "  'hostname': 'jed.do.jointheleague.org'}]"
      ]
     },
     "execution_count": 65,
     "metadata": {},
     "output_type": "execute_result"
    }
   ],
   "source": [
    "\n",
    "\n",
    "rows"
   ]
  },
  {
   "cell_type": "code",
   "execution_count": 61,
   "metadata": {},
   "outputs": [
    {
     "data": {
      "text/plain": [
       "{'read': '2025-01-26T20:05:43.156216894Z',\n",
       " 'preread': '0001-01-01T00:00:00Z',\n",
       " 'pids_stats': {'current': 22, 'limit': 18446744073709551615},\n",
       " 'blkio_stats': {'io_service_bytes_recursive': [{'major': 254,\n",
       "    'minor': 16,\n",
       "    'op': 'read',\n",
       "    'value': 20480},\n",
       "   {'major': 254, 'minor': 16, 'op': 'write', 'value': 0}],\n",
       "  'io_serviced_recursive': None,\n",
       "  'io_queue_recursive': None,\n",
       "  'io_service_time_recursive': None,\n",
       "  'io_wait_time_recursive': None,\n",
       "  'io_merged_recursive': None,\n",
       "  'io_time_recursive': None,\n",
       "  'sectors_recursive': None},\n",
       " 'num_procs': 0,\n",
       " 'storage_stats': {},\n",
       " 'cpu_stats': {'cpu_usage': {'total_usage': 1491922000,\n",
       "   'usage_in_kernelmode': 276486000,\n",
       "   'usage_in_usermode': 1215436000},\n",
       "  'system_cpu_usage': 12314215880000000,\n",
       "  'online_cpus': 12,\n",
       "  'throttling_data': {'periods': 0,\n",
       "   'throttled_periods': 0,\n",
       "   'throttled_time': 0}},\n",
       " 'precpu_stats': {'cpu_usage': {'total_usage': 0,\n",
       "   'usage_in_kernelmode': 0,\n",
       "   'usage_in_usermode': 0},\n",
       "  'throttling_data': {'periods': 0,\n",
       "   'throttled_periods': 0,\n",
       "   'throttled_time': 0}},\n",
       " 'memory_stats': {'usage': 39460864,\n",
       "  'stats': {'active_anon': 38989824,\n",
       "   'active_file': 0,\n",
       "   'anon': 38817792,\n",
       "   'anon_thp': 0,\n",
       "   'file': 0,\n",
       "   'file_dirty': 0,\n",
       "   'file_mapped': 0,\n",
       "   'file_writeback': 0,\n",
       "   'inactive_anon': 471040,\n",
       "   'inactive_file': 0,\n",
       "   'kernel_stack': 0,\n",
       "   'pgactivate': 0,\n",
       "   'pgdeactivate': 0,\n",
       "   'pgfault': 9933,\n",
       "   'pglazyfree': 0,\n",
       "   'pglazyfreed': 0,\n",
       "   'pgmajfault': 0,\n",
       "   'pgrefill': 20,\n",
       "   'pgscan': 25,\n",
       "   'pgsteal': 25,\n",
       "   'shmem': 0,\n",
       "   'slab': 0,\n",
       "   'slab_reclaimable': 0,\n",
       "   'slab_unreclaimable': 0,\n",
       "   'sock': 0,\n",
       "   'thp_collapse_alloc': 0,\n",
       "   'thp_fault_alloc': 0,\n",
       "   'unevictable': 0,\n",
       "   'workingset_activate': 0,\n",
       "   'workingset_nodereclaim': 0,\n",
       "   'workingset_refault': 0},\n",
       "  'limit': 16829800448},\n",
       " 'name': '/jed',\n",
       " 'id': 'e32d8b70f86591da8ec0c2620af44b9b845f8fd534af9e4a22e6a319c70ae985',\n",
       " 'networks': {'eth0': {'rx_bytes': 788,\n",
       "   'rx_packets': 8,\n",
       "   'rx_errors': 0,\n",
       "   'rx_dropped': 0,\n",
       "   'tx_bytes': 0,\n",
       "   'tx_packets': 0,\n",
       "   'tx_errors': 0,\n",
       "   'tx_dropped': 0},\n",
       "  'eth1': {'rx_bytes': 1020,\n",
       "   'rx_packets': 12,\n",
       "   'rx_errors': 0,\n",
       "   'rx_dropped': 0,\n",
       "   'tx_bytes': 0,\n",
       "   'tx_packets': 0,\n",
       "   'tx_errors': 0,\n",
       "   'tx_dropped': 0},\n",
       "  'eth2': {'rx_bytes': 746,\n",
       "   'rx_packets': 7,\n",
       "   'rx_errors': 0,\n",
       "   'rx_dropped': 0,\n",
       "   'tx_bytes': 0,\n",
       "   'tx_packets': 0,\n",
       "   'tx_errors': 0,\n",
       "   'tx_dropped': 0},\n",
       "  'eth3': {'rx_bytes': 746,\n",
       "   'rx_packets': 7,\n",
       "   'rx_errors': 0,\n",
       "   'rx_dropped': 0,\n",
       "   'tx_bytes': 0,\n",
       "   'tx_packets': 0,\n",
       "   'tx_errors': 0,\n",
       "   'tx_dropped': 0}}}"
      ]
     },
     "execution_count": 61,
     "metadata": {},
     "output_type": "execute_result"
    }
   ],
   "source": [
    "json.loads(next(c.stats()))"
   ]
  }
 ],
 "metadata": {
  "kernelspec": {
   "display_name": ".venv",
   "language": "python",
   "name": "python3"
  },
  "language_info": {
   "codemirror_mode": {
    "name": "ipython",
    "version": 3
   },
   "file_extension": ".py",
   "mimetype": "text/x-python",
   "name": "python",
   "nbconvert_exporter": "python",
   "pygments_lexer": "ipython3",
   "version": "3.11.11"
  }
 },
 "nbformat": 4,
 "nbformat_minor": 2
}
