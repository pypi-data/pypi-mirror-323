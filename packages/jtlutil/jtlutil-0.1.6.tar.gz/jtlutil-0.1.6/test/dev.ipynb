{
 "cells": [
  {
   "cell_type": "code",
   "execution_count": 15,
   "metadata": {},
   "outputs": [
    {
     "name": "stdout",
     "output_type": "stream",
     "text": [
      "The autoreload extension is already loaded. To reload it, use:\n",
      "  %reload_ext autoreload\n"
     ]
    },
    {
     "data": {
      "text/plain": [
       "'http://cs-spawner:8000/telem'"
      ]
     },
     "execution_count": 15,
     "metadata": {},
     "output_type": "execute_result"
    }
   ],
   "source": [
    "%load_ext autoreload\n",
    "%autoreload 2\n",
    "\n",
    "import docker\n",
    "import logging\n",
    "from jtlutil.docker.dctl import *\n",
    "import hashlib\n",
    "\n",
    "from jtlutil.config import get_config\n",
    "\n",
    "config = get_config('./config.env')\n",
    "\n",
    "logging.basicConfig(level=logging.ERROR)\n",
    "logger.setLevel(logging.ERROR)\n",
    "\n",
    "client = docker.DockerClient(base_url=config.SSH_URI )\n",
    "\n",
    "ensure_network_exists(client, 'x11', is_external=False, network_type=\"bridge\")\n",
    "ensure_network_exists(client, 'jtlctl', is_external=False, network_type=\"bridge\")\n",
    "ensure_network_exists(client, 'caddy', is_external=True, network_type=\"bridge\")\n",
    "\n",
    "config.KST_REPORTING_URL"
   ]
  },
  {
   "cell_type": "code",
   "execution_count": 8,
   "metadata": {},
   "outputs": [
    {
     "name": "stderr",
     "output_type": "stream",
     "text": [
      "INFO:jtlutil.docker.dctl:Creating container from image 'ghcr.io/league-infrastructure/novnc-service:v0.1.3'...\n"
     ]
    },
    {
     "name": "stdout",
     "output_type": "stream",
     "text": [
      "----\n"
     ]
    },
    {
     "name": "stderr",
     "output_type": "stream",
     "text": [
      "INFO:jtlutil.docker.dctl:Connecting container to network 'x11' : 81b081a8f85991990d1603f8af7c48603159f741149d68f5d44df36b8f21fc36\n",
      "INFO:jtlutil.docker.dctl:Connecting container to network 'jtlctl' : fc7f9235fcdc4f062e1429e10918fa9491398caade111e528450db7c06a7c660\n",
      "INFO:jtlutil.docker.dctl:Connecting container to network 'caddy' : 341c37b26522cf9aaf53c4e37df9a6b94fe50cb0cc79e05d7d35d6a3f2327fb5\n",
      "INFO:jtlutil.docker.dctl:Container 'jed-novnc' (b47d643d6ed75d649cfa4dab066cd7a1e24795d97609c9a575b942d884f24aba) created successfully.\n",
      "INFO:jtlutil.docker.dctl:Creating container from image 'ghcr.io/league-infrastructure/league-infrastructure/docker-codeserver-python:v0.1.5'...\n",
      "INFO:jtlutil.docker.dctl:Connecting container to network 'x11' : 81b081a8f85991990d1603f8af7c48603159f741149d68f5d44df36b8f21fc36\n",
      "INFO:jtlutil.docker.dctl:Connecting container to network 'jtlctl' : fc7f9235fcdc4f062e1429e10918fa9491398caade111e528450db7c06a7c660\n",
      "INFO:jtlutil.docker.dctl:Connecting container to network 'caddy' : 341c37b26522cf9aaf53c4e37df9a6b94fe50cb0cc79e05d7d35d6a3f2327fb5\n",
      "INFO:jtlutil.docker.dctl:Container 'jed' (8557dbe87880bad8e3b8df2e0ceaffcbf9967c6421c20c99eadeb8e13848de6f) created successfully.\n",
      "INFO:jtlutil.docker.dctl:Creating container from image 'ghcr.io/league-infrastructure/novnc-service:v0.1.3'...\n"
     ]
    },
    {
     "name": "stdout",
     "output_type": "stream",
     "text": [
      "b47d643d6ed75d649cfa4dab066cd7a1e24795d97609c9a575b942d884f24aba jed.do.jointheleague.org\n"
     ]
    },
    {
     "name": "stderr",
     "output_type": "stream",
     "text": [
      "INFO:jtlutil.docker.dctl:Connecting container to network 'x11' : 81b081a8f85991990d1603f8af7c48603159f741149d68f5d44df36b8f21fc36\n",
      "INFO:jtlutil.docker.dctl:Connecting container to network 'jtlctl' : fc7f9235fcdc4f062e1429e10918fa9491398caade111e528450db7c06a7c660\n",
      "INFO:jtlutil.docker.dctl:Connecting container to network 'caddy' : 341c37b26522cf9aaf53c4e37df9a6b94fe50cb0cc79e05d7d35d6a3f2327fb5\n",
      "INFO:jtlutil.docker.dctl:Container 'osvaldo-novnc' (4413bc4bd0f4c610a987b068fadb49564207a2e6ae9ff69efda744f7b4f7e054) created successfully.\n",
      "INFO:jtlutil.docker.dctl:Creating container from image 'ghcr.io/league-infrastructure/league-infrastructure/docker-codeserver-python:v0.1.5'...\n",
      "INFO:jtlutil.docker.dctl:Connecting container to network 'x11' : 81b081a8f85991990d1603f8af7c48603159f741149d68f5d44df36b8f21fc36\n",
      "INFO:jtlutil.docker.dctl:Connecting container to network 'jtlctl' : fc7f9235fcdc4f062e1429e10918fa9491398caade111e528450db7c06a7c660\n",
      "INFO:jtlutil.docker.dctl:Connecting container to network 'caddy' : 341c37b26522cf9aaf53c4e37df9a6b94fe50cb0cc79e05d7d35d6a3f2327fb5\n",
      "INFO:jtlutil.docker.dctl:Container 'osvaldo' (fb1b4a1ab879d094048619aeed24bf9c75eb2b162869b5bc261c5d61c359c9b8) created successfully.\n",
      "INFO:jtlutil.docker.dctl:Creating container from image 'ghcr.io/league-infrastructure/novnc-service:v0.1.3'...\n"
     ]
    },
    {
     "name": "stdout",
     "output_type": "stream",
     "text": [
      "4413bc4bd0f4c610a987b068fadb49564207a2e6ae9ff69efda744f7b4f7e054 osvaldo.do.jointheleague.org\n"
     ]
    },
    {
     "name": "stderr",
     "output_type": "stream",
     "text": [
      "INFO:jtlutil.docker.dctl:Connecting container to network 'x11' : 81b081a8f85991990d1603f8af7c48603159f741149d68f5d44df36b8f21fc36\n",
      "INFO:jtlutil.docker.dctl:Connecting container to network 'jtlctl' : fc7f9235fcdc4f062e1429e10918fa9491398caade111e528450db7c06a7c660\n",
      "INFO:jtlutil.docker.dctl:Connecting container to network 'caddy' : 341c37b26522cf9aaf53c4e37df9a6b94fe50cb0cc79e05d7d35d6a3f2327fb5\n",
      "INFO:jtlutil.docker.dctl:Container 'eric-novnc' (05528f62ac6f6fc540c46e5a138d4a84dadc183453c245dad11dcbba446ee28f) created successfully.\n",
      "INFO:jtlutil.docker.dctl:Creating container from image 'ghcr.io/league-infrastructure/league-infrastructure/docker-codeserver-python:v0.1.5'...\n",
      "INFO:jtlutil.docker.dctl:Connecting container to network 'x11' : 81b081a8f85991990d1603f8af7c48603159f741149d68f5d44df36b8f21fc36\n",
      "INFO:jtlutil.docker.dctl:Connecting container to network 'jtlctl' : fc7f9235fcdc4f062e1429e10918fa9491398caade111e528450db7c06a7c660\n",
      "INFO:jtlutil.docker.dctl:Connecting container to network 'caddy' : 341c37b26522cf9aaf53c4e37df9a6b94fe50cb0cc79e05d7d35d6a3f2327fb5\n",
      "INFO:jtlutil.docker.dctl:Container 'eric' (9bf9309cfb4f07781f54ff54ac2f413fd7134238e5d8df0b282ba62c470b3f1f) created successfully.\n"
     ]
    },
    {
     "name": "stdout",
     "output_type": "stream",
     "text": [
      "05528f62ac6f6fc540c46e5a138d4a84dadc183453c245dad11dcbba446ee28f eric.do.jointheleague.org\n"
     ]
    }
   ],
   "source": [
    "def make_servers(usernames):\n",
    "    servers = []\n",
    "    for username in usernames:\n",
    "        nvc, pa = create_cs_pair(client, config, config.IMAGES_PYTHONCS, username)\n",
    "        yield (nvc, pa)\n",
    "    return servers\n",
    "\n",
    "print('----')\n",
    "for nvc, pa in make_servers(['jed','osvaldo', 'eric']):\n",
    "    print(nvc.id, pa.labels['caddy'])\n"
   ]
  },
  {
   "cell_type": "code",
   "execution_count": 16,
   "metadata": {},
   "outputs": [
    {
     "name": "stdout",
     "output_type": "stream",
     "text": [
      "e32d8b70f86591da8ec0c2620af44b9b845f8fd534af9e4a22e6a319c70ae985 running jed.do.jointheleague.org\n",
      "2fdbe5a8e1ce3e9fe4284ed2a64e950ec716f566458c38521e65fe10098e4ca4 running jed-novnc.do.jointheleague.org\n"
     ]
    }
   ],
   "source": [
    "list(make_servers(['jed']))\n",
    "\n",
    "containers = client.containers.list(filters={\"label\": f\"jtl\"}, all=True)\n",
    "\n",
    "for c in containers:\n",
    "    print(c.id, c.status, c.labels['caddy'])"
   ]
  },
  {
   "cell_type": "code",
   "execution_count": 13,
   "metadata": {},
   "outputs": [
    {
     "name": "stdout",
     "output_type": "stream",
     "text": [
      "3239d1dc55538064bf62a2dd807da5d253d00960fed01914d2707cee78c953fc running jed.do.jointheleague.org\n",
      "285f03b7f59dbc26a9e64235a3d2306cb42f0db9eac8c5a9452f2575d57227eb running jed-novnc.do.jointheleague.org\n"
     ]
    }
   ],
   "source": [
    "\n",
    "containers = client.containers.list(filters={\"label\": f\"jtl\"}, all=True)\n",
    "\n",
    "for c in containers:\n",
    "    print(c.id, c.status, c.labels['caddy'])\n",
    "    if c.status == 'running':\n",
    "        c.stop()\n",
    "        c.remove()"
   ]
  },
  {
   "cell_type": "code",
   "execution_count": 5,
   "metadata": {},
   "outputs": [
    {
     "data": {
      "text/plain": [
       "'non-exist'"
      ]
     },
     "execution_count": 5,
     "metadata": {},
     "output_type": "execute_result"
    }
   ],
   "source": [
    "container_status(client, 'eric-busboom-org')"
   ]
  },
  {
   "cell_type": "code",
   "execution_count": null,
   "metadata": {},
   "outputs": [],
   "source": []
  }
 ],
 "metadata": {
  "kernelspec": {
   "display_name": ".venv",
   "language": "python",
   "name": "python3"
  },
  "language_info": {
   "codemirror_mode": {
    "name": "ipython",
    "version": 3
   },
   "file_extension": ".py",
   "mimetype": "text/x-python",
   "name": "python",
   "nbconvert_exporter": "python",
   "pygments_lexer": "ipython3",
   "version": "3.11.11"
  }
 },
 "nbformat": 4,
 "nbformat_minor": 2
}
