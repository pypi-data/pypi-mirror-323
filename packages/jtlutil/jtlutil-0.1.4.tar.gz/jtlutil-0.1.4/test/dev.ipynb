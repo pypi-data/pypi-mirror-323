{
 "cells": [
  {
   "cell_type": "code",
   "execution_count": 59,
   "metadata": {},
   "outputs": [
    {
     "name": "stderr",
     "output_type": "stream",
     "text": [
      "DEBUG:jtldockerctl.dctl:Network 'x11' already exists.\n",
      "DEBUG:jtldockerctl.dctl:Network 'jtlctl' already exists.\n",
      "DEBUG:jtldockerctl.dctl:Network 'caddy' already exists.\n"
     ]
    },
    {
     "name": "stdout",
     "output_type": "stream",
     "text": [
      "The autoreload extension is already loaded. To reload it, use:\n",
      "  %reload_ext autoreload\n"
     ]
    },
    {
     "data": {
      "text/plain": [
       "<Network: 341c37b26522>"
      ]
     },
     "execution_count": 59,
     "metadata": {},
     "output_type": "execute_result"
    }
   ],
   "source": [
    "%load_ext autoreload\n",
    "%autoreload 2\n",
    "\n",
    "import docker\n",
    "import logging\n",
    "from jtldockerctl.dctl import *\n",
    "import hashlib\n",
    "from names_generator import generate_name\n",
    "from jtlutil.config import get_config\n",
    "\n",
    "config = get_config('./config.env')\n",
    "\n",
    "logging.basicConfig(level=logging.ERROR)\n",
    "logger.setLevel(logging.DEBUG)\n",
    "\n",
    "client = docker.DockerClient(base_url=config.SSH_URI )\n",
    "\n",
    "ensure_network_exists(client, 'x11', is_external=False, network_type=\"bridge\")\n",
    "ensure_network_exists(client, 'jtlctl', is_external=False, network_type=\"bridge\")\n",
    "ensure_network_exists(client, 'caddy', is_external=True, network_type=\"bridge\")\n"
   ]
  },
  {
   "cell_type": "code",
   "execution_count": null,
   "metadata": {},
   "outputs": [
    {
     "name": "stdout",
     "output_type": "stream",
     "text": [
      "----\n",
      "621e6611a5eb584f6cac387f4ad7021be0d4afca90c15432f34e74fd8177f6b8 jed.do.jointheleague.org\n",
      "af73e62f054b2d8957dddaaf5e7ec6a929469fd8194234bbe04aab26bf9ee731 osvaldo.do.jointheleague.org\n",
      "e646249ba6c6cc72b9a6b2e9fbb6993b0415292fcbf877136a8ef873f511ab5c eric.do.jointheleague.org\n"
     ]
    }
   ],
   "source": [
    "def make_servers(usernames):\n",
    "    servers = []\n",
    "    for username in usernames:\n",
    "        nvc, pa = create_cs_pair(client, config, config.IMAGES_PYTHONCS, username)\n",
    "        yield (nvc, pa)\n",
    "    return servers\n",
    "\n",
    "print('----')\n",
    "for nvc, pa in make_servers(['jed','osvaldo', 'eric']):\n",
    "    print(nvc.id, pa.labels['caddy'])\n"
   ]
  },
  {
   "cell_type": "code",
   "execution_count": 57,
   "metadata": {},
   "outputs": [
    {
     "name": "stderr",
     "output_type": "stream",
     "text": [
      "DEBUG:jtldockerctl.dctl:Found 1 containers\n",
      "DEBUG:jtldockerctl.dctl:Starting container jed-novnc\n",
      "DEBUG:jtldockerctl.dctl:Found 1 containers\n",
      "DEBUG:jtldockerctl.dctl:Starting container jed\n"
     ]
    },
    {
     "name": "stdout",
     "output_type": "stream",
     "text": [
      "9e08d050c03999033981b000a0484000d51c09f1c5d5e5466940ef602e018ea7 running jed.do.jointheleague.org\n",
      "1d2919631353a9f52dd719c52ef4bf1b6b36f64026d38c01302ac19aee3acde5 running jed-novnc.do.jointheleague.org\n"
     ]
    }
   ],
   "source": [
    "list(make_servers(['jed']))\n",
    "\n",
    "containers = client.containers.list(filters={\"label\": f\"jtl\"}, all=True)\n",
    "\n",
    "for c in containers:\n",
    "    print(c.id, c.status, c.labels['caddy'])"
   ]
  },
  {
   "cell_type": "code",
   "execution_count": null,
   "metadata": {},
   "outputs": [],
   "source": [
    "\n",
    "containers = client.containers.list(filters={\"label\": f\"jtl\"}, all=True)\n",
    "\n",
    "for c in containers:\n",
    "    print(c.id, c.status, c.labels['caddy'])\n",
    "    if c.status == 'running':\n",
    "        c.stop()\n",
    "        #c.remove()"
   ]
  },
  {
   "cell_type": "code",
   "execution_count": 19,
   "metadata": {},
   "outputs": [
    {
     "data": {
      "text/plain": [
       "'eric.do.jointheleague.org'"
      ]
     },
     "execution_count": 19,
     "metadata": {},
     "output_type": "execute_result"
    }
   ],
   "source": [
    "pa.labels['caddy']"
   ]
  },
  {
   "cell_type": "code",
   "execution_count": null,
   "metadata": {},
   "outputs": [],
   "source": []
  }
 ],
 "metadata": {
  "kernelspec": {
   "display_name": ".venv",
   "language": "python",
   "name": "python3"
  },
  "language_info": {
   "codemirror_mode": {
    "name": "ipython",
    "version": 3
   },
   "file_extension": ".py",
   "mimetype": "text/x-python",
   "name": "python",
   "nbconvert_exporter": "python",
   "pygments_lexer": "ipython3",
   "version": "3.11.11"
  }
 },
 "nbformat": 4,
 "nbformat_minor": 2
}
