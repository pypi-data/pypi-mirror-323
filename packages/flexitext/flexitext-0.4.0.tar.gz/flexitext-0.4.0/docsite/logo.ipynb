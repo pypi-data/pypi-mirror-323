{
 "cells": [
  {
   "cell_type": "code",
   "execution_count": 1,
   "id": "20bf30b2",
   "metadata": {},
   "outputs": [],
   "source": [
    "import matplotlib.pyplot as plt\n",
    "from flexitext import Style, FlexiText"
   ]
  },
  {
   "cell_type": "code",
   "execution_count": 2,
   "id": "fe22ae40",
   "metadata": {},
   "outputs": [],
   "source": [
    "def adjust_lightness(color, amount=0.88):\n",
    "    import matplotlib.colors as mc\n",
    "    import colorsys\n",
    "    try:\n",
    "        c = mc.cnames[color]\n",
    "    except:\n",
    "        c = color\n",
    "    c = colorsys.rgb_to_hls(*mc.to_rgb(c))\n",
    "    return colorsys.hls_to_rgb(c[0], c[1] * amount, c[2])"
   ]
  },
  {
   "cell_type": "code",
   "execution_count": 3,
   "id": "3460dc2e",
   "metadata": {},
   "outputs": [],
   "source": [
    "CANDY_COLORS = ['#ff8b94', '#ffaaa7', '#ffd3b6', '#dcedc1', '#a8e6cf', \"#a9cdff\"]\n",
    "CANDY_COLORS_DARKER = [adjust_lightness(c) for c in CANDY_COLORS]\n",
    "BLUE = adjust_lightness(CANDY_COLORS_DARKER[-1], 0.95)"
   ]
  },
  {
   "cell_type": "code",
   "execution_count": 8,
   "id": "183d78f2",
   "metadata": {},
   "outputs": [],
   "source": [
    "styles = [Style(size=72, color=color, name=\"Gluten\", weight=600) for color in CANDY_COLORS_DARKER]\n",
    "texts = [s(letter) for s, letter in zip(styles, \"Flexi\")]\n",
    "texts = texts + [Style(size=68, name=\"Nunito\", weight=800, color=BLUE)(\"Text\")]"
   ]
  },
  {
   "cell_type": "code",
   "execution_count": 9,
   "id": "2a0559e9",
   "metadata": {},
   "outputs": [
    {
     "data": {
      "image/png": "[encoded data removed]",
      "text/plain": [
       "<Figure size 345.6x57.6 with 1 Axes>"
      ]
     },
     "metadata": {},
     "output_type": "display_data"
    }
   ],
   "source": [
    "fig, ax = plt.subplots(figsize = (4.8, 0.8))\n",
    "\n",
    "FlexiText(*texts).plot(0.5, 0.4, ha=\"center\", va=\"center\", xycoords=\"figure fraction\");\n",
    "ax.set_frame_on(False)\n",
    "ax.set_xticks([])\n",
    "ax.set_yticks([])\n",
    "ax.tick_params(left=False, bottom=False)\n",
    "fig.savefig(\"logo.png\", dpi=300)"
   ]
  }
 ],
 "metadata": {
  "kernelspec": {
   "display_name": "plots",
   "language": "python",
   "name": "plots"
  },
  "language_info": {
   "codemirror_mode": {
    "name": "ipython",
    "version": 3
   },
   "file_extension": ".py",
   "mimetype": "text/x-python",
   "name": "python",
   "nbconvert_exporter": "python",
   "pygments_lexer": "ipython3",
   "version": "3.9.5"
  }
 },
 "nbformat": 4,
 "nbformat_minor": 5
}
