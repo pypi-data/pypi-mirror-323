{
    "cells": [
        {
            "attachments": {},
            "cell_type": "markdown",
            "metadata": {},
            "source": [
                "## Testing using the web UI\n",
                "\n",
                "When testing it can be helpful to use the API [web UI](https://api.nersc.gov/api/v1.2/). In order to login to the web UI you will need to provide a bearer token which can easily be printed from the `sfapi_client` after authenticating."
            ]
        },
        {
            "cell_type": "code",
            "execution_count": 1,
            "metadata": {},
            "outputs": [
                {
                    "name": "stdout",
                    "output_type": "stream",
                    "text": [
                        "eyJraWQiOiJST3AzIiwidHlwIjoiYXQrand0IiwiYWxnIjoiUlMyNTYifQ.2oEEDDpuySRjIuy4XstdiWt3mnHLtw0cgqUOzm9oAp1Vb3aY2HPRbUj4yIIP9BwHb3r5AxNHTYomFyffyhVLt3pdqymXS4ZzffUJRYF85hByWeJrmt6eZz87C4R0bDppE7sM7MxAepSQt7YxwO4neVkiy7DeitwNh0a7MYISfR9OiTcGfXm681JTi5rnKyzXueSuaPxPiVLswWggGJOGwH0XHQY9KYI33G4LgrBkXuRSZ2htfDbInZo9BVUW8NOd0RfZSPpEpaCGPNP17WY1RdMXw5ahSOMKBZGsjjTjH9oKolxw.bOiTj4tALM9PXOeNuOeunYRaFXrMA7jGi9yNCErB3HdgavgNnFd2qrhJiybgItQTmZwKrLFhau6qgJI6f7hnMkvlzW8u6y3LftUK3b2eLcGoYFh5eZKFz1lmyfRvwqsBGyfGhegMlHQZKhSgopTJZJTxofrA5jAfqmrQ6jCECCoA16bWik0NsGNl1pjitOgVdj9jPdjrWvRofmqQaFfL4KCtqA8vjkgJjppCO7JlAVtGUuSxGJhfFG8R3otJzmT1JmE3RHYOCFk6MgpBPQX9FWz2XFVHnEr3onm571BMKVDZuDPAL9P8PKEkr1IMMrXjOJqC6A3tzcTXo3iB7GnnDl\n"
                    ]
                }
            ],
            "source": [
                "from sfapi_client import AsyncClient\n",
                "from pathlib import Path\n",
                "\n",
                "key = Path(\"/path/to/sfapi_key.pem\")\n",
                "\n",
                "async with AsyncClient(key=key) as client:\n",
                "    token = await client.token\n",
                "\n",
                "print(token)"
            ]
        },
        {
            "attachments": {},
            "cell_type": "markdown",
            "metadata": {},
            "source": [
                "To use the token, click on `Authorize` and paste the token into the box as the value, and click `Authorize`.\n",
                "\n"
            ]
        },
        {
            "attachments": {},
            "cell_type": "markdown",
            "metadata": {},
            "source": []
        }
    ],
    "metadata": {
        "kernelspec": {
            "display_name": "sfapi_client",
            "language": "python",
            "name": "python3"
        },
        "language_info": {
            "codemirror_mode": {
                "name": "ipython",
                "version": 3
            },
            "file_extension": ".py",
            "mimetype": "text/x-python",
            "name": "python",
            "nbconvert_exporter": "python",
            "pygments_lexer": "ipython3",
            "version": "3.10.10"
        },
        "orig_nbformat": 4
    },
    "nbformat": 4,
    "nbformat_minor": 2
}
