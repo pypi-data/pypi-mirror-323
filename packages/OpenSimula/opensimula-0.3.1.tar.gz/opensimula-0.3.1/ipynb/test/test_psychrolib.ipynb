{
 "cells": [
  {
   "cell_type": "markdown",
   "metadata": {},
   "source": [
    "## Psychrolib \n",
    "\n",
    "Pruebas de la librería psicrométrica"
   ]
  },
  {
   "cell_type": "code",
   "execution_count": 20,
   "metadata": {},
   "outputs": [
    {
     "name": "stdout",
     "output_type": "stream",
     "text": [
      "UnitSystem.SI\n"
     ]
    }
   ],
   "source": [
    "import psychrolib as sicro\n",
    "sicro.SetUnitSystem(sicro.SI)\n",
    "print(sicro.GetUnitSystem())"
   ]
  },
  {
   "cell_type": "code",
   "execution_count": 21,
   "metadata": {},
   "outputs": [
    {
     "data": {
      "text/plain": [
       "101325.0"
      ]
     },
     "execution_count": 21,
     "metadata": {},
     "output_type": "execute_result"
    }
   ],
   "source": [
    "atm_p = sicro.GetStandardAtmPressure(0)\n",
    "atm_p"
   ]
  },
  {
   "cell_type": "code",
   "execution_count": 23,
   "metadata": {},
   "outputs": [
    {
     "name": "stdout",
     "output_type": "stream",
     "text": [
      "1.187883813969128 1.193969634271388\n"
     ]
    }
   ],
   "source": [
    "rho_dry = sicro.GetDryAirDensity(22.5,atm_p)\n",
    "rho = sicro.GetMoistAirDensity(22.5,0.0085,atm_p)\n",
    "\n",
    "print(rho,rho_dry)"
   ]
  },
  {
   "cell_type": "code",
   "execution_count": 28,
   "metadata": {},
   "outputs": [
    {
     "data": {
      "text/plain": [
       "1.101651616354701"
      ]
     },
     "execution_count": 28,
     "metadata": {},
     "output_type": "execute_result"
    }
   ],
   "source": [
    "rel_hum = sicro.GetRelHumFromHumRatio(22.5,0.019,atm_p)\n",
    "rel_hum"
   ]
  },
  {
   "cell_type": "code",
   "execution_count": null,
   "metadata": {},
   "outputs": [],
   "source": []
  }
 ],
 "metadata": {
  "kernelspec": {
   "display_name": "venv",
   "language": "python",
   "name": "python3"
  },
  "language_info": {
   "codemirror_mode": {
    "name": "ipython",
    "version": 3
   },
   "file_extension": ".py",
   "mimetype": "text/x-python",
   "name": "python",
   "nbconvert_exporter": "python",
   "pygments_lexer": "ipython3",
   "version": "3.11.4"
  }
 },
 "nbformat": 4,
 "nbformat_minor": 2
}
