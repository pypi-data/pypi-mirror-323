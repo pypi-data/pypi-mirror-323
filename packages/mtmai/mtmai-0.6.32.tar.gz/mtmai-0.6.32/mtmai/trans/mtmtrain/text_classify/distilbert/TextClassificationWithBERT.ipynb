{
 "cells": [
  {
   "cell_type": "markdown",
   "id": "ccbfa5ca",
   "metadata": {},
   "source": [
    "# Text Classification with BERT in TensorFlow and PyTorch"
   ]
  },
  {
   "cell_type": "markdown",
   "id": "098d89d6",
   "metadata": {},
   "source": [
    "The Large Language Models (LLM) like BERT (published in 2018 [1]) have been a huge progress in the development of Natural Language Processing (NLP). LLM help solving many NLP tasks with state-of-the-art performance.\n",
    "In this article we will show with a practical example how text classification can be performed using BERT, in the two main frameworks used for Deep Learning: TensorFlow and PyTorch. For the BERT part we will use the HuggingFace libraries.\n",
    "In the first part of this article, we will remind (briefly) what is a Large Language Model, how we can use it for Transfer Learning, and how it can be fine-tuned for a specific task like Classification. Then we will prepare the dataset, develop the models and train them in both TensorFlow and PyTorch frameworks. Finally we will compare the two frameworks.\n",
    "We have already published an article to show various methods of Text Classification (https://medium.com/@claude.feldges/text-classification-with-tf-idf-lstm-bert-a-quantitative-comparison-b8409b556cb3). In the present article, we re-use a part of what we have written at that time, so there will be some overlapping."
   ]
  },
  {
   "cell_type": "markdown",
   "id": "a18029ac",
   "metadata": {},
   "source": [
    "# Text Classification with BERT"
   ]
  },
  {
   "cell_type": "markdown",
   "id": "0b9e2f7c",
   "metadata": {},
   "source": [
    "The publication of the model BERT in 2018 [1] was a revolution in the NLP world, since Large Language Models like BERT achieve state-of-the-art performance in many NLP tasks. To show how BERT can be used in practice, we develop an example of Text Classification. In these cases, we say that BERT, which contains linguistic capabilities and world knowledge from its numerous sources it was trained with (Wikipedia, books, ...), is used for Transfer Learning, while the Classification exercise we perform is called Fine-Tuning.\n",
    "\n",
    "\"Fine-Tuning\" does not mean that we adjust the BERT model. We use BERT as it is,and add a \"head\" on top of BERT. BERT is used to \"encode\" some properties of a text into a vector (or tensor). The Classification exercise consists then of a Classification of these vectors. The Classification of these encoded values into vectors becomes a classical classification Machine Learning problem, which can be done either with a classical approach (Logistic Regression, Naive Bayes, ...) or with a Neural Network.\n",
    "\n",
    "To be more precise, we will not work with BERT directly, but with DistilBERT, which is a simplified model (having only half of BERT's parameters) which mimicks the behaviour of BERT. DistilBERT's performance is very close to BERT's performance (and sometimes even better), despite having only half of the parameters! For more details about this approach you can read [2]. In the present article, we will use the word BERT most of the time, even if we use DistilBERT.\n",
    "\n",
    "To build a Text Classification model using BERT we can apply two (slightly) different strategies. As mentioned above, BERT is used to encode texts into a vector. The classification model we built on BERT consists of classifying these vectors using ML algorithms. So we can either:\n",
    "- Apply BERT to the texts as a pre-processing steps, then build a ML model that classifies these vectors\n",
    "- Build a model which starts with BERT (where we freeze the parameters when training the model), then build on top of BERT a layer that classifies these vectors\n",
    "\n",
    "The advantage of the first method is that we need to pass the text (training and test data) only once through BERT, and not for each epoch at training, reducing significantly the training time. The advantage of the second method is that we do not need to build an additional step to the pipeline, since the end-to-end (from text to classification) is provided by the tokenizer (see below in the developments what this is) and the model itself.\n",
    "\n",
    "For pedagogical purpose, we will go with the second approach. In a real case, the choice of the approach would depend on the use of the model. If we need to regularly train the model I would favor the first approach. If the model has to be trained only once I would go for the second approach.\n",
    "\n",
    "We will use the DistilBERT model from the Python library transformers, which is provided by the company Hugging Face."
   ]
  },
  {
   "cell_type": "markdown",
   "id": "d95e47d1",
   "metadata": {},
   "source": [
    "# Dataset"
   ]
  },
  {
   "cell_type": "markdown",
   "id": "36981d1c",
   "metadata": {},
   "source": [
    "In this article we will consider a small dataset: BBC news, classified by topic: https://www.kaggle.com/sainijagjit/bbc-dataset. This corpus contains around 2k entries, which is small enough to be run on a standard computer."
   ]
  },
  {
   "cell_type": "code",
   "execution_count": 2,
   "id": "e1eb9b31",
   "metadata": {},
   "outputs": [
    {
     "data": {
      "text/html": [
       "<div>\n",
       "<style scoped>\n",
       "    .dataframe tbody tr th:only-of-type {\n",
       "        vertical-align: middle;\n",
       "    }\n",
       "\n",
       "    .dataframe tbody tr th {\n",
       "        vertical-align: top;\n",
       "    }\n",
       "\n",
       "    .dataframe thead th {\n",
       "        text-align: right;\n",
       "    }\n",
       "</style>\n",
       "<table border=\"1\" class=\"dataframe\">\n",
       "  <thead>\n",
       "    <tr style=\"text-align: right;\">\n",
       "      <th></th>\n",
       "      <th>category</th>\n",
       "      <th>text</th>\n",
       "    </tr>\n",
       "  </thead>\n",
       "  <tbody>\n",
       "    <tr>\n",
       "      <th>0</th>\n",
       "      <td>tech</td>\n",
       "      <td>tv future in the hands of viewers with home th...</td>\n",
       "    </tr>\n",
       "    <tr>\n",
       "      <th>1</th>\n",
       "      <td>business</td>\n",
       "      <td>worldcom boss  left books alone  former worldc...</td>\n",
       "    </tr>\n",
       "    <tr>\n",
       "      <th>2</th>\n",
       "      <td>sport</td>\n",
       "      <td>tigers wary of farrell  gamble  leicester say ...</td>\n",
       "    </tr>\n",
       "    <tr>\n",
       "      <th>3</th>\n",
       "      <td>sport</td>\n",
       "      <td>yeading face newcastle in fa cup premiership s...</td>\n",
       "    </tr>\n",
       "    <tr>\n",
       "      <th>4</th>\n",
       "      <td>entertainment</td>\n",
       "      <td>ocean s twelve raids box office ocean s twelve...</td>\n",
       "    </tr>\n",
       "  </tbody>\n",
       "</table>\n",
       "</div>"
      ],
      "text/plain": [
       "        category                                               text\n",
       "0           tech  tv future in the hands of viewers with home th...\n",
       "1       business  worldcom boss  left books alone  former worldc...\n",
       "2          sport  tigers wary of farrell  gamble  leicester say ...\n",
       "3          sport  yeading face newcastle in fa cup premiership s...\n",
       "4  entertainment  ocean s twelve raids box office ocean s twelve..."
      ]
     },
     "execution_count": 2,
     "metadata": {},
     "output_type": "execute_result"
    }
   ],
   "source": [
    "# Libraries needed for data preparation\n",
    "import pandas as pd\n",
    "import numpy as np\n",
    "\n",
    "# Download the dataset and put it in subfolder called data\n",
    "datapath = \"data/bbc-text.csv\"\n",
    "df = pd.read_csv(datapath)\n",
    "df = df[[\"category\", \"text\"]]\n",
    "\n",
    "# Show the data\n",
    "df.head()"
   ]
  },
  {
   "cell_type": "markdown",
   "id": "84543346",
   "metadata": {},
   "source": [
    "Let's analyse the data before doing any Text Classification:"
   ]
  },
  {
   "cell_type": "code",
   "execution_count": 1,
   "id": "3c5475a8",
   "metadata": {},
   "outputs": [
    {
     "ename": "NameError",
     "evalue": "name 'df' is not defined",
     "output_type": "error",
     "traceback": [
      "\u001b[0;31m---------------------------------------------------------------------------\u001b[0m",
      "\u001b[0;31mNameError\u001b[0m                                 Traceback (most recent call last)",
      "Cell \u001b[0;32mIn[1], line 1\u001b[0m\n\u001b[0;32m----> 1\u001b[0m \u001b[38;5;28mprint\u001b[39m(\u001b[38;5;124m'\u001b[39m\u001b[38;5;124mTotal number of news: \u001b[39m\u001b[38;5;132;01m{}\u001b[39;00m\u001b[38;5;124m'\u001b[39m\u001b[38;5;241m.\u001b[39mformat(\u001b[38;5;28mlen\u001b[39m(\u001b[43mdf\u001b[49m)))\n\u001b[1;32m      2\u001b[0m \u001b[38;5;28mprint\u001b[39m(\u001b[38;5;241m40\u001b[39m\u001b[38;5;241m*\u001b[39m\u001b[38;5;124m'\u001b[39m\u001b[38;5;124m-\u001b[39m\u001b[38;5;124m'\u001b[39m)\n\u001b[1;32m      3\u001b[0m \u001b[38;5;28mprint\u001b[39m(\u001b[38;5;124m'\u001b[39m\u001b[38;5;124mSplit by category:\u001b[39m\u001b[38;5;124m'\u001b[39m)\n",
      "\u001b[0;31mNameError\u001b[0m: name 'df' is not defined"
     ]
    }
   ],
   "source": [
    "print('Total number of news: {}'.format(len(df)))\n",
    "print(40*'-')\n",
    "print('Split by category:')\n",
    "print(df[\"category\"].value_counts())\n",
    "print(40*'-')\n",
    "nr_categories = len(df[\"category\"].unique())\n",
    "print(\"Number of categories: {n}\".format(n=nr_categories))"
   ]
  },
  {
   "cell_type": "markdown",
   "id": "cd54e15e",
   "metadata": {},
   "source": [
    "We get a total number of entries of 2'225, which are relatively evenly split across five categories. This allows us to apply standard methods, as there is no need to over- or under-weight some categories.\n",
    "\n",
    "Finally, let's look at a specific example to get a concrete impression:"
   ]
  },
  {
   "cell_type": "code",
   "execution_count": 4,
   "id": "e4368dcb",
   "metadata": {},
   "outputs": [
    {
     "name": "stdout",
     "output_type": "stream",
     "text": [
      "Category:  entertainment\n",
      "----------------------------------------------------------------------------------------------------\n",
      "Text:\n",
      "housewives lift channel 4 ratings the debut of us television hit desperate housewives has helped lift channel 4 s january audience share by 12% compared to last year.  other successes such as celebrity big brother and the simpsons have enabled the broadcaster to surpass bbc two for the first month since last july. bbc two s share of the audience fell from 11.2% to 9.6% last month in comparison with january 2004. celebrity big brother attracted fewer viewers than its 2002 series.  comedy drama desperate housewives managed to pull in five million viewers at one point during its run to date  attracting a quarter of the television audience. the two main television channels  bbc1 and itv1  have both seen their monthly audience share decline in a year on year comparison for january  while five s proportion remained the same at a slender 6.3%. digital multi-channel tv is continuing to be the strongest area of growth  with the bbc reporting freeview box ownership of five million  including one million sales in the last portion of 2004. its share of the audience soared by 20% in january 2005 compared with last year  and currently stands at an average of 28.6%.\n"
     ]
    }
   ],
   "source": [
    "# You can adjust n:\n",
    "n=100\n",
    "print('Category: ',df['category'][n])\n",
    "print(100*'-')\n",
    "print('Text:')\n",
    "print(df['text'][n])"
   ]
  },
  {
   "cell_type": "markdown",
   "id": "e4126e90",
   "metadata": {},
   "source": [
    "For Large Language Models (LLM), there is no need to further manually process the data, since tokenizers, i.e. the layers that encode text into \"numbers\" comes with the model.\n",
    "\n",
    "The label has to be converted to a number, an \"index\". Let's do that."
   ]
  },
  {
   "cell_type": "code",
   "execution_count": 5,
   "id": "a07d23d9",
   "metadata": {},
   "outputs": [
    {
     "name": "stdout",
     "output_type": "stream",
     "text": [
      "[4 0 3 ... 1 2 3]\n"
     ]
    }
   ],
   "source": [
    "# Renaming, Input -> X, Output -> y\n",
    "X = df['text']\n",
    "y=np.unique(df['category'], return_inverse=True)[1]\n",
    "print(y)"
   ]
  },
  {
   "cell_type": "markdown",
   "id": "8fd0bf3c",
   "metadata": {},
   "source": [
    "Let's also instantiate the BERT tokenizer that will be used later. The same tokenizer can be used for both frameworks TensorFlow and PyTorch."
   ]
  },
  {
   "cell_type": "code",
   "execution_count": 6,
   "id": "878bc628",
   "metadata": {
    "scrolled": true
   },
   "outputs": [
    {
     "name": "stderr",
     "output_type": "stream",
     "text": [
      "/workspace/gomtm/mtmai/.venv/lib/python3.11/site-packages/tqdm/auto.py:21: TqdmWarning: IProgress not found. Please update jupyter and ipywidgets. See https://ipywidgets.readthedocs.io/en/stable/user_install.html\n",
      "  from .autonotebook import tqdm as notebook_tqdm\n"
     ]
    }
   ],
   "source": [
    "# distilBERT tokenizer\n",
    "import transformers\n",
    "tokenizer = transformers.DistilBertTokenizer.from_pretrained('distilbert-base-uncased')"
   ]
  },
  {
   "cell_type": "markdown",
   "id": "c79fd6f5",
   "metadata": {},
   "source": [
    "From now we will distinguish between  TensorFlow and PyTorch. The principles are still the same, however the nature of the objects will change. TensorFlow and PyTorch both have their own tensor objects."
   ]
  },
  {
   "cell_type": "markdown",
   "id": "260e794d",
   "metadata": {},
   "source": [
    "# Building a Text Classification in TensorFlow"
   ]
  },
  {
   "cell_type": "markdown",
   "id": "29ce4542",
   "metadata": {},
   "source": [
    "## Prepare the Dataset"
   ]
  },
  {
   "cell_type": "markdown",
   "id": "32ff753e",
   "metadata": {},
   "source": [
    "Let's note that TensorFlow has its own Tensors (TensorFlow tensors), and its own dataset types. But the TensorFlow framework can also be used with NumPy arrays, which is in my view simpler to use. This is what we are going to use in the present example. It is a significant difference with PyTorch, where we are almost forced to use PyTorch tensors, PyTorch datasets, and PyTorch dataloader.\n",
    "\n",
    "We will first convert the input data (the text) into NumPy arrays, using DistilBERT's tokenizer.\n",
    "\n",
    "We will also split the dataset into a train and a test dataset. When doing this we take care of keeping the same proportions by category between the training and the test datasets."
   ]
  },
  {
   "cell_type": "code",
   "execution_count": 6,
   "id": "665f1aec",
   "metadata": {},
   "outputs": [],
   "source": [
    "import tensorflow as tf\n",
    "X_tf = [tokenizer(text, padding='max_length', max_length = 512, truncation=True)['input_ids'] for text in X]\n",
    "X_tf = np.array(X_tf, dtype='int32')"
   ]
  },
  {
   "cell_type": "code",
   "execution_count": 7,
   "id": "b342fe2a",
   "metadata": {},
   "outputs": [
    {
     "name": "stdout",
     "output_type": "stream",
     "text": [
      "Shape of training data:  (1557, 512)\n",
      "Shape of test data:  (668, 512)\n"
     ]
    }
   ],
   "source": [
    "# Train/test split\n",
    "from sklearn.model_selection import train_test_split\n",
    "X_tf_train, X_tf_test, y_tf_train, y_tf_test = train_test_split(X_tf, y, test_size=0.3, random_state=42, stratify=y)\n",
    "print('Shape of training data: ',X_tf_train.shape)\n",
    "print('Shape of test data: ',X_tf_test.shape)"
   ]
  },
  {
   "cell_type": "markdown",
   "id": "122c0a93",
   "metadata": {},
   "source": [
    "## Build the Model"
   ]
  },
  {
   "cell_type": "markdown",
   "id": "2bcd2f70",
   "metadata": {},
   "source": [
    "Let's build the model. For this we first need to get the BERT layer from the transformer library. We configure it such that its parameters will not be trained during training."
   ]
  },
  {
   "cell_type": "code",
   "execution_count": 8,
   "id": "709fa7c8",
   "metadata": {},
   "outputs": [
    {
     "name": "stderr",
     "output_type": "stream",
     "text": [
      "Some layers from the model checkpoint at distilbert-base-uncased were not used when initializing TFDistilBertModel: ['vocab_layer_norm', 'vocab_transform', 'vocab_projector', 'activation_13']\n",
      "- This IS expected if you are initializing TFDistilBertModel from the checkpoint of a model trained on another task or with another architecture (e.g. initializing a BertForSequenceClassification model from a BertForPreTraining model).\n",
      "- This IS NOT expected if you are initializing TFDistilBertModel from the checkpoint of a model that you expect to be exactly identical (initializing a BertForSequenceClassification model from a BertForSequenceClassification model).\n",
      "All the layers of TFDistilBertModel were initialized from the model checkpoint at distilbert-base-uncased.\n",
      "If your task is similar to the task the model of the checkpoint was trained on, you can already use TFDistilBertModel for predictions without further training.\n"
     ]
    }
   ],
   "source": [
    "# Get BERT layer\n",
    "config = transformers.DistilBertConfig(dropout=0.2, attention_dropout=0.2)\n",
    "dbert_tf = transformers.TFDistilBertModel.from_pretrained('distilbert-base-uncased', config=config, trainable=False)"
   ]
  },
  {
   "cell_type": "markdown",
   "id": "0cd40bfb",
   "metadata": {},
   "source": [
    "You might get a warning message. Don't worry about it. In the context where we apply the model, this message can be ignored.\n",
    "\n",
    "Let's try to better understand this model by having a closer look at its output. For this, let's take a sample from our training dataset (we take a sample of size five) and look at the output through the model."
   ]
  },
  {
   "cell_type": "code",
   "execution_count": 9,
   "id": "d207faad",
   "metadata": {},
   "outputs": [
    {
     "name": "stdout",
     "output_type": "stream",
     "text": [
      "Object type:  <class 'transformers.modeling_tf_outputs.TFBaseModelOutput'>\n",
      "Output format (shape):  (5, 512, 768)\n",
      "Output used as input for the classifier (shape):  (5, 768)\n"
     ]
    }
   ],
   "source": [
    "# Let's create a sample of size 5 from the training data\n",
    "sample = X_tf_train[0:5]\n",
    "print('Object type: ', type(dbert_tf(sample)))\n",
    "print('Output format (shape): ',dbert_tf(sample)[0].shape)\n",
    "print('Output used as input for the classifier (shape): ', dbert_tf(sample)[0][:,0,:].shape)"
   ]
  },
  {
   "cell_type": "markdown",
   "id": "619d47ca",
   "metadata": {},
   "source": [
    "The output is a specific Python object. Among other information, we get a Tensor of size (N, M, S), where N is the size of the dataset (in our case five examples), M is the length of the sample (number of words in the text), and S is the size of the output vector (the output of the model). Typically, as mentioned by Devlin et al. [1] for a classification task, we use the first output vector of a sentence as input for the rest of the classification model, since this first vector \"encodes\" information about the overall text. Alternatively a pooling average of all output vectors could also be used as input for the classifier."
   ]
  },
  {
   "cell_type": "markdown",
   "id": "eeb83f78",
   "metadata": {},
   "source": [
    "It is now time to build the classification model! It will consist of:\n",
    "- Input layer: to tell the model which input format to expect, so that the model knows what to expect. This is specific to TensorFlow\n",
    "- Distil Bert model: to encode the input data into a new sequence of vectors (that is the output of BERT). Only the first vector of this sequence will be used as an input for the rest of the classifier\n",
    "- Dropout layer: for regularization\n",
    "- Dense layer (with relu activation function, with 64 neurons): to solve the specific problem of classification\n",
    "- Dense layer (with softmax activation function): for a probability distribution for each label\n",
    "\n",
    "The Dropout layer is used only during training. Some links between the layers are set to zero on purpose, so that its \"neighbours\" take over its role. This makes the overall prediction more robust. When using the model for inference (prediction), the dropout layers are ignored and the output is re-scaled accordingly. Note that this is one of the reasons why we have to tell the model whether it is in training or in evaluation mode.\n",
    "\n",
    "In TensorFlow we also need to \"compile\" the model, providing it with the optimizer, the loss, and the metrics to be used for training. There are standards for these three objects, which can be entered in the form of text ('adam', 'sparse_categorical_crossentropy', 'accuracy'). But all these three object types can also be instantiated as objects, and then customized.\n",
    "\n",
    "After creating the model we will look at it via the summary function of TensorFlow."
   ]
  },
  {
   "cell_type": "code",
   "execution_count": 10,
   "id": "8ee42891",
   "metadata": {},
   "outputs": [],
   "source": [
    "from tensorflow.keras import models, layers, metrics\n",
    "\n",
    "input_ids_in = layers.Input(shape=(512,), name='input_token', dtype='int32')\n",
    "\n",
    "x = dbert_tf(input_ids=input_ids_in)[0][:,0,:]\n",
    "x = layers.Dropout(0.2, name='dropout')(x)\n",
    "x = layers.Dense(64, activation='relu', name='dense')(x)\n",
    "x = layers.Dense(5, activation='softmax', name='classification')(x)\n",
    "\n",
    "model_tf = models.Model(inputs=input_ids_in, outputs = x, name='ClassificationModelTF')\n",
    "\n",
    "model_tf.compile(optimizer='adam',loss='sparse_categorical_crossentropy', metrics=[metrics.SparseCategoricalAccuracy()])"
   ]
  },
  {
   "cell_type": "code",
   "execution_count": 11,
   "id": "1dffcb5e",
   "metadata": {},
   "outputs": [
    {
     "name": "stdout",
     "output_type": "stream",
     "text": [
      "Model: \"ClassificationModelTF\"\n",
      "_________________________________________________________________\n",
      " Layer (type)                Output Shape              Param #   \n",
      "=================================================================\n",
      " input_token (InputLayer)    [(None, 512)]             0         \n",
      "                                                                 \n",
      " tf_distil_bert_model (TFDis  TFBaseModelOutput(last_h  66362880 \n",
      " tilBertModel)               idden_state=(None, 512,             \n",
      "                             768),                               \n",
      "                              hidden_states=None, att            \n",
      "                             entions=None)                       \n",
      "                                                                 \n",
      " tf.__operators__.getitem (S  (None, 768)              0         \n",
      " licingOpLambda)                                                 \n",
      "                                                                 \n",
      " dropout (Dropout)           (None, 768)               0         \n",
      "                                                                 \n",
      " dense (Dense)               (None, 64)                49216     \n",
      "                                                                 \n",
      " classification (Dense)      (None, 5)                 325       \n",
      "                                                                 \n",
      "=================================================================\n",
      "Total params: 66,412,421\n",
      "Trainable params: 49,541\n",
      "Non-trainable params: 66,362,880\n",
      "_________________________________________________________________\n"
     ]
    }
   ],
   "source": [
    "model_tf.summary()"
   ]
  },
  {
   "cell_type": "markdown",
   "id": "9ae6abb0",
   "metadata": {},
   "source": [
    "Let's quickly check if the number of trainable parameters (which are only in the dense layers, BERT being \"frozen\") makes sense.\n",
    "The vector that comes out of BERT is one vector of size 768 (by definition of the BERT model). Each of these elements are linked to each of the 64 neurons of the dense layer, leading to 768x64=49'152 parameters. Each neuron has an additional parameter, the bias, i.e. 64 parameters. The output of the dense layer consists of 64 elements, that connect to all the five elements of the classification layer, i.e. 64x5. The classification layer also has 5 bias. \n",
    "\n",
    "In total, the number of trainable parameters is: 768x64+64+64*5+5 = 49'541! We are there :-)"
   ]
  },
  {
   "cell_type": "markdown",
   "id": "36fa6de9",
   "metadata": {},
   "source": [
    "## Train the Model"
   ]
  },
  {
   "cell_type": "markdown",
   "id": "7f8e1368",
   "metadata": {},
   "source": [
    "It is now time to train the model! Let's do it by keeping in mind that we want to measure the performance (both in terms of accuracy as well as training time), so let's put the measurement in place.\n",
    "\n",
    "TensorFlow has a very practical way of training its models, in a few lines of code. The model \"fits\" the training data, similar as the scikit learn library does. The training process also keeps track of some intermediate data, which allows us to monitor the progress of the training. This comfort comes however at the cost of less transparency about the training itself. We will see later that PyTorch is different in this regard."
   ]
  },
  {
   "cell_type": "code",
   "execution_count": 12,
   "id": "2ded9318",
   "metadata": {},
   "outputs": [
    {
     "name": "stdout",
     "output_type": "stream",
     "text": [
      "Epoch 1/5\n",
      "49/49 [==============================] - 769s 16s/step - loss: 0.9628 - sparse_categorical_accuracy: 0.6930 - val_loss: 0.4008 - val_sparse_categorical_accuracy: 0.9207\n",
      "Epoch 2/5\n",
      "49/49 [==============================] - 773s 16s/step - loss: 0.3232 - sparse_categorical_accuracy: 0.9287 - val_loss: 0.1771 - val_sparse_categorical_accuracy: 0.9536\n",
      "Epoch 3/5\n",
      "49/49 [==============================] - 790s 16s/step - loss: 0.1987 - sparse_categorical_accuracy: 0.9538 - val_loss: 0.1264 - val_sparse_categorical_accuracy: 0.9611\n",
      "Epoch 4/5\n",
      "49/49 [==============================] - 839s 17s/step - loss: 0.1492 - sparse_categorical_accuracy: 0.9615 - val_loss: 0.1089 - val_sparse_categorical_accuracy: 0.9656\n",
      "Epoch 5/5\n",
      "49/49 [==============================] - 844s 17s/step - loss: 0.1549 - sparse_categorical_accuracy: 0.9538 - val_loss: 0.0996 - val_sparse_categorical_accuracy: 0.9701\n"
     ]
    }
   ],
   "source": [
    "from datetime import datetime\n",
    "# Train the model\n",
    "start_time = datetime.now()\n",
    "history = model_tf.fit(X_tf_train, y_tf_train, batch_size=32, shuffle=True, epochs=5, validation_data=(X_tf_test, y_tf_test))\n",
    "end_time = datetime.now()\n",
    "\n",
    "training_time_tf = (end_time - start_time).total_seconds()"
   ]
  },
  {
   "cell_type": "code",
   "execution_count": 14,
   "id": "f014771a",
   "metadata": {},
   "outputs": [
    {
     "data": {
      "text/plain": [
       "<matplotlib.legend.Legend at 0x7fd70820fed0>"
      ]
     },
     "execution_count": 14,
     "metadata": {},
     "output_type": "execute_result"
    },
    {
     "data": {
      "image/png": "[encoded data removed]",
      "text/plain": [
       "<Figure size 1080x360 with 2 Axes>"
      ]
     },
     "metadata": {
      "needs_background": "light"
     },
     "output_type": "display_data"
    }
   ],
   "source": [
    "from matplotlib import pyplot as plt\n",
    "\n",
    "fig, ax = plt.subplots(nrows=1, ncols=2, figsize=(15, 5))\n",
    "ax[0].set(title='Loss')\n",
    "ax[0].plot(history.history['loss'], label='Training')\n",
    "ax[0].plot(history.history['val_loss'], label='Validation')\n",
    "ax[0].legend(loc=\"upper right\")\n",
    "\n",
    "ax[1].set(title='Accuracy')\n",
    "ax[1].plot(history.history['sparse_categorical_accuracy'], label='Training')\n",
    "ax[1].plot(history.history['val_sparse_categorical_accuracy'], label='Validation')\n",
    "ax[1].legend(loc=\"lower right\")"
   ]
  },
  {
   "cell_type": "code",
   "execution_count": 16,
   "id": "8a69efc1",
   "metadata": {},
   "outputs": [
    {
     "name": "stdout",
     "output_type": "stream",
     "text": [
      "Accuracy Training data: 95.4%\n",
      "Accuracy Test data: 97.0%\n",
      "Training time: 4015.3s (or 66.9 minutes)\n"
     ]
    }
   ],
   "source": [
    "accuracy_tf = history.history['val_sparse_categorical_accuracy'][-1]\n",
    "print('Accuracy Training data: {:.1%}'.format(history.history['sparse_categorical_accuracy'][-1]))\n",
    "print('Accuracy Test data: {:.1%}'.format(history.history['val_sparse_categorical_accuracy'][-1]))\n",
    "print('Training time: {:.1f}s (or {:.1f} minutes)'.format(training_time_tf, training_time_tf/60))"
   ]
  },
  {
   "cell_type": "markdown",
   "id": "3793215e",
   "metadata": {},
   "source": [
    "The training time is above one hour (on a CPU) and the accuracy looks good (>95%)! We also observe that the accuracy increases with the epochs, and the trianing and validation accuracies are close to each other, meaning there seems to be no overfitting. We will not look further into the entries that produced the wrong prediction, since this is not the goal of this article."
   ]
  },
  {
   "cell_type": "markdown",
   "id": "2c4fc0e0",
   "metadata": {},
   "source": [
    "The model has been trained. Now it is time to save the model! If we do not perform this step, all our training effort will be lost..."
   ]
  },
  {
   "cell_type": "markdown",
   "id": "04723982",
   "metadata": {},
   "source": [
    "## Save the model"
   ]
  },
  {
   "cell_type": "markdown",
   "id": "5e652900",
   "metadata": {},
   "source": [
    "We can save the model in the format proposed by TensofFlow (extension: h5). We need an additional step, since we are using a custom object (the BERT layer, which comes from the library Hugging Face). See how we can save the model, and load it in a new model. Note that when doing this we lose some properties (like having non-trainable parameters). Be careful when doing this."
   ]
  },
  {
   "cell_type": "code",
   "execution_count": 146,
   "id": "d357b369",
   "metadata": {},
   "outputs": [],
   "source": [
    "model_tf.save('model_tf.h5', save_format='h5')"
   ]
  },
  {
   "cell_type": "code",
   "execution_count": 147,
   "id": "061e8b51",
   "metadata": {},
   "outputs": [
    {
     "name": "stdout",
     "output_type": "stream",
     "text": [
      "WARNING:tensorflow:Error in loading the saved optimizer state. As a result, your model is starting with a freshly initialized optimizer.\n"
     ]
    },
    {
     "name": "stderr",
     "output_type": "stream",
     "text": [
      "WARNING:tensorflow:Error in loading the saved optimizer state. As a result, your model is starting with a freshly initialized optimizer.\n"
     ]
    },
    {
     "name": "stdout",
     "output_type": "stream",
     "text": [
      "Model: \"ClassificationModelTF\"\n",
      "_________________________________________________________________\n",
      " Layer (type)                Output Shape              Param #   \n",
      "=================================================================\n",
      " input_token (InputLayer)    [(None, 512)]             0         \n",
      "                                                                 \n",
      " tf_distil_bert_model_3 (TFD  TFBaseModelOutput(last_h  66362880 \n",
      " istilBertModel)             idden_state=(None, 512,             \n",
      "                             768),                               \n",
      "                              hidden_states=None, att            \n",
      "                             entions=None)                       \n",
      "                                                                 \n",
      " tf.__operators__.getitem (S  (None, 768)              0         \n",
      " licingOpLambda)                                                 \n",
      "                                                                 \n",
      " dropout (Dropout)           (None, 768)               0         \n",
      "                                                                 \n",
      " dense (Dense)               (None, 64)                49216     \n",
      "                                                                 \n",
      " classification (Dense)      (None, 5)                 325       \n",
      "                                                                 \n",
      "=================================================================\n",
      "Total params: 66,412,421\n",
      "Trainable params: 66,412,421\n",
      "Non-trainable params: 0\n",
      "_________________________________________________________________\n"
     ]
    }
   ],
   "source": [
    "model_tf2 = models.load_model('model_tf.h5', custom_objects={'TFDistilBertModel': dbert_tf})\n",
    "model_tf2.summary()"
   ]
  },
  {
   "cell_type": "markdown",
   "id": "34fe7fcf",
   "metadata": {},
   "source": [
    "# Building a Text Classification in PyTorch"
   ]
  },
  {
   "cell_type": "markdown",
   "id": "1a5b4a37",
   "metadata": {},
   "source": [
    "## Prepare the Dataset"
   ]
  },
  {
   "cell_type": "markdown",
   "id": "39657180",
   "metadata": {},
   "source": [
    "Let's remember that we have already prepared the dataset (see above, under Dataset). We have also already instantiated a Tokenizer (that is universal across TensorFlow and PyTorch). What we still need to do is customize the dataset to PyTorch. PyTorch has a class for this purpose (classes Dataset and DataLoader). To my knowledge it is mandatory to use Datasets and Dataloaders to train a model. We cannot train a model using NumPy arrays.\n",
    "\n",
    "In a first step we will convert the dataset into torch tensors, then pack them into a Dataset class, and finally embed the Dataset into a Dataloader."
   ]
  },
  {
   "cell_type": "code",
   "execution_count": 38,
   "id": "86bb87ec",
   "metadata": {},
   "outputs": [],
   "source": [
    "import torch\n",
    "\n",
    "X_list=X.to_list()\n",
    "X_pt = tokenizer(X_list, padding='max_length', max_length = 512, truncation=True, return_tensors='pt')[\"input_ids\"]\n",
    "\n",
    "y_list=y.tolist()\n",
    "y_pt = torch.Tensor(y_list).long()"
   ]
  },
  {
   "cell_type": "markdown",
   "id": "b4938377",
   "metadata": {},
   "source": [
    "Let's split the dataset into training and test data."
   ]
  },
  {
   "cell_type": "code",
   "execution_count": 148,
   "id": "0f442ca8",
   "metadata": {},
   "outputs": [],
   "source": [
    "X_pt_train, X_pt_test, y_pt_train, y_pt_test = train_test_split(X_pt, y_pt, test_size=0.3, random_state=42, stratify=y_pt)"
   ]
  },
  {
   "cell_type": "markdown",
   "id": "19c239ba",
   "metadata": {},
   "source": [
    "We create a Dataset class and will instantiate for both the training and test datasets."
   ]
  },
  {
   "cell_type": "code",
   "execution_count": 149,
   "id": "13c0cff3",
   "metadata": {},
   "outputs": [],
   "source": [
    "# Convert data to torch dataset\n",
    "from torch.utils.data import Dataset, DataLoader\n",
    "class BBCNewsDataset(Dataset):\n",
    "    \"\"\"Custom-built BBC News dataset\"\"\"\n",
    "\n",
    "    def __init__(self, X, y):\n",
    "        \"\"\"\n",
    "        Args:\n",
    "            X, y as Torch tensors\n",
    "        \"\"\"\n",
    "        self.X_train = X\n",
    "        self.y_train = y\n",
    "        \n",
    "\n",
    "    def __len__(self):\n",
    "        return len(self.y_train)\n",
    "\n",
    "    def __getitem__(self, idx):\n",
    "        return self.X_train[idx], self.y_train[idx]"
   ]
  },
  {
   "cell_type": "code",
   "execution_count": 150,
   "id": "836f27b9",
   "metadata": {},
   "outputs": [],
   "source": [
    "# Get train and test data in form of Dataset class\n",
    "train_data_pt = BBCNewsDataset(X=X_pt_train, y=y_pt_train)\n",
    "test_data_pt = BBCNewsDataset(X=X_pt_test, y=y_pt_test)"
   ]
  },
  {
   "cell_type": "markdown",
   "id": "e21adeaf",
   "metadata": {},
   "source": [
    "We embed the datasets into a dataloader, to prepare the dataset to be used for training."
   ]
  },
  {
   "cell_type": "code",
   "execution_count": 151,
   "id": "aed97211",
   "metadata": {},
   "outputs": [],
   "source": [
    "# Get train and test data in form of Dataloader class\n",
    "train_loader_pt = DataLoader(train_data_pt, batch_size=32)\n",
    "test_loader_pt = DataLoader(test_data_pt, batch_size=32)"
   ]
  },
  {
   "cell_type": "markdown",
   "id": "4bcb1f28",
   "metadata": {},
   "source": [
    "We are now done with the preparation of the dataset! It was a bit more effort than for TensorFlow, but it is worth using the framework PyTorch offers for datasets!"
   ]
  },
  {
   "cell_type": "markdown",
   "id": "1806a758",
   "metadata": {},
   "source": [
    "## Build the Model"
   ]
  },
  {
   "cell_type": "markdown",
   "id": "da30b5b4",
   "metadata": {},
   "source": [
    "From now we will follow very closely the approach we have used for TensorFlow and try to stick to the same parameters wherever it is possible.\n",
    "\n",
    "Let's build the model. For this we first need to get the BERT layer from the transformer library. We configure it such that its parameters will not be trained during training.\n",
    "\n",
    "Note that we have already defined a config object while building the TensorFlow model. The first line below is therefore not needed. We have added just to allow you to run both models (TensorFlow and PyTorch) independently."
   ]
  },
  {
   "cell_type": "code",
   "execution_count": 152,
   "id": "1eed45bc",
   "metadata": {},
   "outputs": [
    {
     "name": "stderr",
     "output_type": "stream",
     "text": [
      "Some weights of the model checkpoint at distilbert-base-uncased were not used when initializing DistilBertModel: ['vocab_layer_norm.bias', 'vocab_transform.bias', 'vocab_projector.bias', 'vocab_layer_norm.weight', 'vocab_transform.weight', 'vocab_projector.weight']\n",
      "- This IS expected if you are initializing DistilBertModel from the checkpoint of a model trained on another task or with another architecture (e.g. initializing a BertForSequenceClassification model from a BertForPreTraining model).\n",
      "- This IS NOT expected if you are initializing DistilBertModel from the checkpoint of a model that you expect to be exactly identical (initializing a BertForSequenceClassification model from a BertForSequenceClassification model).\n"
     ]
    }
   ],
   "source": [
    "config = transformers.DistilBertConfig(dropout=0.2, attention_dropout=0.2)\n",
    "dbert_pt = transformers.DistilBertModel.from_pretrained('distilbert-base-uncased', config=config)"
   ]
  },
  {
   "cell_type": "markdown",
   "id": "138e7a0d",
   "metadata": {},
   "source": [
    "You might get a warning message. Don't worry about it. In the context where we apply the model, this message can be ignored.\n",
    "\n",
    "Let's try to better understand this model by having a closer look at its output. For this, let's take a sample from our training dataset (we take a sample of size five) and look at the output through the model."
   ]
  },
  {
   "cell_type": "code",
   "execution_count": 153,
   "id": "69f0737a",
   "metadata": {},
   "outputs": [
    {
     "name": "stdout",
     "output_type": "stream",
     "text": [
      "Object type:  <class 'transformers.modeling_outputs.BaseModelOutput'>\n",
      "Output format (shape):  torch.Size([5, 512, 768])\n",
      "Output used as input for the classifier (shape):  torch.Size([5, 768])\n"
     ]
    }
   ],
   "source": [
    "# Let's create a sample of size 5 from the training data\n",
    "sample = X_pt_train[0:5]\n",
    "print('Object type: ', type(dbert_pt(sample)))\n",
    "print('Output format (shape): ',dbert_pt(sample)[0].shape)\n",
    "print('Output used as input for the classifier (shape): ', dbert_pt(sample)[0][:,0,:].shape)"
   ]
  },
  {
   "cell_type": "markdown",
   "id": "eb27fcea",
   "metadata": {},
   "source": [
    "Great news! We get the same format as with TensorFlow. But you can see that this time, the tensor is a torch tensor.\n",
    "\n",
    "The output is a specific Python object. Among other information, we get a Tensor of size (N, M, S), where N is the size of the dataset (in our case five examples), M is the length of the sample (number of words in the text), and S is the size of the output vector (the output of the model). Typically, as mentioned by Devlin et al. [1], for a classification task, we use the first output vector of a sentence as input for the rest of the classification model, since this first vector \"encodes\" information about the overall sentence. Alternatively a pooling average of all output vectors could also be used as input for the classifier."
   ]
  },
  {
   "cell_type": "markdown",
   "id": "44ad8615",
   "metadata": {},
   "source": [
    "It is now time to build the classification model! It will consist of:\n",
    "\n",
    "- Distil Bert model: to encode the input data into a new sequence of vectors (that is the output of BERT). Only the first vector of this sequence will be used as an input for the rest of the classifier\n",
    "- Dropout layer: for regularization\n",
    "- Dense layer (with relu activation function, with 64 neurons): to solve the specific problem of classification\n",
    "- Dense layer (with softmax activation function): for a probability distribution for each label\n",
    "\n",
    "The Dropout layer is used only during training. Some links between the layers are set to zero on purpose, so that its \"neighbours\" take over its role. This makes the overall prediction more robust. When using the model for inference (prediction), the dropout layers are ignored and the output is re-scaled accordingly. Note that this is one of the reasons why we have to tell the model whether it is in training or in evaluation mode.\n",
    "\n",
    "In PyTorch we need to define the layers, and then define a forward function that makes use of the layers. Unlike TensorFlow, we do not add an Input Layer. Remember, TensorFlow needed an Input layer to know what will be the size of the various tensors. In the case of PyTorch, each layer gets the Input size and the Output size as confugration parameters, so the information about the dimensions of the tensors is already contained in the model itself. For example, the layer \"linear1\" gets a vector of size 768 as input, and returns a vector of size 64 as output. These two numbers are part of its definition.\n",
    "\n",
    "Note as well that in PyTorch we do not define a softmax layer (which would be used to normalize the output, so that the total output sums to 1). Instead the nature of the output (which is a probability and therefore needs to sum to 1) will be included in the definition of the criterion (see below under training).\n",
    "\n",
    "After creating the model we will look at it via the print function of TensorFlow."
   ]
  },
  {
   "cell_type": "code",
   "execution_count": 154,
   "id": "98d6f2d9",
   "metadata": {},
   "outputs": [
    {
     "name": "stdout",
     "output_type": "stream",
     "text": [
      "Using cpu device\n"
     ]
    }
   ],
   "source": [
    "from torch import nn\n",
    "# Get cpu or gpu device for training.\n",
    "device = \"cuda\" if torch.cuda.is_available() else \"cpu\"\n",
    "print(f\"Using {device} device\")\n",
    "\n",
    "class DistilBertClassification(nn.Module):\n",
    "    def __init__(self):\n",
    "        super(DistilBertClassification, self).__init__()\n",
    "        self.dbert = dbert_pt\n",
    "        self.dropout = nn.Dropout(p=0.2)\n",
    "        self.linear1 = nn.Linear(768,64)\n",
    "        self.ReLu = nn.ReLU()\n",
    "        self.linear2 = nn.Linear(64,5)\n",
    "\n",
    "    def forward(self, x):\n",
    "        x = self.dbert(input_ids=x)\n",
    "        x = x[\"last_hidden_state\"][:,0,:]\n",
    "        x = self.dropout(x)\n",
    "        x = self.linear1(x)\n",
    "        x = self.ReLu(x)\n",
    "        logits = self.linear2(x)\n",
    "        # No need for a softmax, because it is already included in the CrossEntropyLoss\n",
    "        return logits\n",
    "\n",
    "model_pt = DistilBertClassification().to(device)"
   ]
  },
  {
   "cell_type": "code",
   "execution_count": 155,
   "id": "4301017d",
   "metadata": {},
   "outputs": [
    {
     "name": "stdout",
     "output_type": "stream",
     "text": [
      "DistilBertClassification(\n",
      "  (dbert): DistilBertModel(\n",
      "    (embeddings): Embeddings(\n",
      "      (word_embeddings): Embedding(30522, 768, padding_idx=0)\n",
      "      (position_embeddings): Embedding(512, 768)\n",
      "      (LayerNorm): LayerNorm((768,), eps=1e-12, elementwise_affine=True)\n",
      "      (dropout): Dropout(p=0.2, inplace=False)\n",
      "    )\n",
      "    (transformer): Transformer(\n",
      "      (layer): ModuleList(\n",
      "        (0): TransformerBlock(\n",
      "          (attention): MultiHeadSelfAttention(\n",
      "            (dropout): Dropout(p=0.2, inplace=False)\n",
      "            (q_lin): Linear(in_features=768, out_features=768, bias=True)\n",
      "            (k_lin): Linear(in_features=768, out_features=768, bias=True)\n",
      "            (v_lin): Linear(in_features=768, out_features=768, bias=True)\n",
      "            (out_lin): Linear(in_features=768, out_features=768, bias=True)\n",
      "          )\n",
      "          (sa_layer_norm): LayerNorm((768,), eps=1e-12, elementwise_affine=True)\n",
      "          (ffn): FFN(\n",
      "            (dropout): Dropout(p=0.2, inplace=False)\n",
      "            (lin1): Linear(in_features=768, out_features=3072, bias=True)\n",
      "            (lin2): Linear(in_features=3072, out_features=768, bias=True)\n",
      "            (activation): GELUActivation()\n",
      "          )\n",
      "          (output_layer_norm): LayerNorm((768,), eps=1e-12, elementwise_affine=True)\n",
      "        )\n",
      "        (1): TransformerBlock(\n",
      "          (attention): MultiHeadSelfAttention(\n",
      "            (dropout): Dropout(p=0.2, inplace=False)\n",
      "            (q_lin): Linear(in_features=768, out_features=768, bias=True)\n",
      "            (k_lin): Linear(in_features=768, out_features=768, bias=True)\n",
      "            (v_lin): Linear(in_features=768, out_features=768, bias=True)\n",
      "            (out_lin): Linear(in_features=768, out_features=768, bias=True)\n",
      "          )\n",
      "          (sa_layer_norm): LayerNorm((768,), eps=1e-12, elementwise_affine=True)\n",
      "          (ffn): FFN(\n",
      "            (dropout): Dropout(p=0.2, inplace=False)\n",
      "            (lin1): Linear(in_features=768, out_features=3072, bias=True)\n",
      "            (lin2): Linear(in_features=3072, out_features=768, bias=True)\n",
      "            (activation): GELUActivation()\n",
      "          )\n",
      "          (output_layer_norm): LayerNorm((768,), eps=1e-12, elementwise_affine=True)\n",
      "        )\n",
      "        (2): TransformerBlock(\n",
      "          (attention): MultiHeadSelfAttention(\n",
      "            (dropout): Dropout(p=0.2, inplace=False)\n",
      "            (q_lin): Linear(in_features=768, out_features=768, bias=True)\n",
      "            (k_lin): Linear(in_features=768, out_features=768, bias=True)\n",
      "            (v_lin): Linear(in_features=768, out_features=768, bias=True)\n",
      "            (out_lin): Linear(in_features=768, out_features=768, bias=True)\n",
      "          )\n",
      "          (sa_layer_norm): LayerNorm((768,), eps=1e-12, elementwise_affine=True)\n",
      "          (ffn): FFN(\n",
      "            (dropout): Dropout(p=0.2, inplace=False)\n",
      "            (lin1): Linear(in_features=768, out_features=3072, bias=True)\n",
      "            (lin2): Linear(in_features=3072, out_features=768, bias=True)\n",
      "            (activation): GELUActivation()\n",
      "          )\n",
      "          (output_layer_norm): LayerNorm((768,), eps=1e-12, elementwise_affine=True)\n",
      "        )\n",
      "        (3): TransformerBlock(\n",
      "          (attention): MultiHeadSelfAttention(\n",
      "            (dropout): Dropout(p=0.2, inplace=False)\n",
      "            (q_lin): Linear(in_features=768, out_features=768, bias=True)\n",
      "            (k_lin): Linear(in_features=768, out_features=768, bias=True)\n",
      "            (v_lin): Linear(in_features=768, out_features=768, bias=True)\n",
      "            (out_lin): Linear(in_features=768, out_features=768, bias=True)\n",
      "          )\n",
      "          (sa_layer_norm): LayerNorm((768,), eps=1e-12, elementwise_affine=True)\n",
      "          (ffn): FFN(\n",
      "            (dropout): Dropout(p=0.2, inplace=False)\n",
      "            (lin1): Linear(in_features=768, out_features=3072, bias=True)\n",
      "            (lin2): Linear(in_features=3072, out_features=768, bias=True)\n",
      "            (activation): GELUActivation()\n",
      "          )\n",
      "          (output_layer_norm): LayerNorm((768,), eps=1e-12, elementwise_affine=True)\n",
      "        )\n",
      "        (4): TransformerBlock(\n",
      "          (attention): MultiHeadSelfAttention(\n",
      "            (dropout): Dropout(p=0.2, inplace=False)\n",
      "            (q_lin): Linear(in_features=768, out_features=768, bias=True)\n",
      "            (k_lin): Linear(in_features=768, out_features=768, bias=True)\n",
      "            (v_lin): Linear(in_features=768, out_features=768, bias=True)\n",
      "            (out_lin): Linear(in_features=768, out_features=768, bias=True)\n",
      "          )\n",
      "          (sa_layer_norm): LayerNorm((768,), eps=1e-12, elementwise_affine=True)\n",
      "          (ffn): FFN(\n",
      "            (dropout): Dropout(p=0.2, inplace=False)\n",
      "            (lin1): Linear(in_features=768, out_features=3072, bias=True)\n",
      "            (lin2): Linear(in_features=3072, out_features=768, bias=True)\n",
      "            (activation): GELUActivation()\n",
      "          )\n",
      "          (output_layer_norm): LayerNorm((768,), eps=1e-12, elementwise_affine=True)\n",
      "        )\n",
      "        (5): TransformerBlock(\n",
      "          (attention): MultiHeadSelfAttention(\n",
      "            (dropout): Dropout(p=0.2, inplace=False)\n",
      "            (q_lin): Linear(in_features=768, out_features=768, bias=True)\n",
      "            (k_lin): Linear(in_features=768, out_features=768, bias=True)\n",
      "            (v_lin): Linear(in_features=768, out_features=768, bias=True)\n",
      "            (out_lin): Linear(in_features=768, out_features=768, bias=True)\n",
      "          )\n",
      "          (sa_layer_norm): LayerNorm((768,), eps=1e-12, elementwise_affine=True)\n",
      "          (ffn): FFN(\n",
      "            (dropout): Dropout(p=0.2, inplace=False)\n",
      "            (lin1): Linear(in_features=768, out_features=3072, bias=True)\n",
      "            (lin2): Linear(in_features=3072, out_features=768, bias=True)\n",
      "            (activation): GELUActivation()\n",
      "          )\n",
      "          (output_layer_norm): LayerNorm((768,), eps=1e-12, elementwise_affine=True)\n",
      "        )\n",
      "      )\n",
      "    )\n",
      "  )\n",
      "  (dropout): Dropout(p=0.2, inplace=False)\n",
      "  (linear1): Linear(in_features=768, out_features=64, bias=True)\n",
      "  (ReLu): ReLU()\n",
      "  (linear2): Linear(in_features=64, out_features=5, bias=True)\n",
      ")\n"
     ]
    }
   ],
   "source": [
    "print(model_pt)"
   ]
  },
  {
   "cell_type": "markdown",
   "id": "0548a96a",
   "metadata": {},
   "source": [
    "We still need to define the parameters of the BERT part of the model to \"not trainable\"."
   ]
  },
  {
   "cell_type": "code",
   "execution_count": 156,
   "id": "146a2818",
   "metadata": {},
   "outputs": [],
   "source": [
    "for param in model_pt.dbert.parameters():\n",
    "    param.requires_grad = False"
   ]
  },
  {
   "cell_type": "markdown",
   "id": "ee478b99",
   "metadata": {},
   "source": [
    "Let's look at the number of parameters (trainable and non-trainable):"
   ]
  },
  {
   "cell_type": "code",
   "execution_count": 157,
   "id": "626ee886",
   "metadata": {},
   "outputs": [
    {
     "name": "stdout",
     "output_type": "stream",
     "text": [
      "Number of parameters:  66412421\n",
      "Number of trainable parameters:  49541\n"
     ]
    }
   ],
   "source": [
    "total_params = sum(p.numel() for p in model_pt.parameters())\n",
    "total_params_trainable = sum(p.numel() for p in model_pt.parameters() if p.requires_grad)\n",
    "print(\"Number of parameters: \", total_params)\n",
    "print(\"Number of trainable parameters: \", total_params_trainable)"
   ]
  },
  {
   "cell_type": "markdown",
   "id": "360e6cf1",
   "metadata": {},
   "source": [
    "Awesome! We get the same total number of parameters and number of trainable parameters than for the TensorFlow model. So we are probably not totally wrong! For the reader who skipped the TensorFlow section, we reproduce the analysis on the number of parameters:\n",
    "\n",
    "Let's quickly check if the number of trainable parameters (which are only in the dense layers, BERT being \"frozen\") makes sense. The vector that comes out of BERT is one vector of size 768 (by definition of the BERT model). Each of these elements are linked to each of the 64 neurons of the dense layer, leading to 768x64=49'152 parameters. Each neuron has an additional parameter, the bias, i.e. 64 parameters. The output of the dense layer consists of 64 elements, that connect to all the five elements of the classification layer, i.e. 64x5. The classification layer also has 5 bias.\n",
    "\n",
    "In total, the number of trainable parameters is: 768x64+64+64*5+5 = 49'541! We are there :-)"
   ]
  },
  {
   "cell_type": "markdown",
   "id": "9c50f9ed",
   "metadata": {},
   "source": [
    "## Train the Model"
   ]
  },
  {
   "cell_type": "markdown",
   "id": "54b423f5",
   "metadata": {},
   "source": [
    "It is now time to train the model! Let's do it by keeping in mind that we want to measure the performance (both in terms of accuracy as well as training time), so let's put the measurement in place.\n",
    "\n",
    "At this stage we will notice a fundamental difference between PyTorch and TensorFlow. While TensorFlow has a \"fit\" method that allows training within a couple of lines of code, PyTorch requires more effort: we need to define ourselves a training loop, that will loop over epochs (high level) and batches (low level). But by coding the training loops ourselves, this provides us fully transparency on what is being done!\n",
    "\n",
    "We want to track the progress of the training, similar to what is readily available in TensorFlow. This is why we introduce the dictionary \"history\", that collects various key performance indicators during the training.\n",
    "\n",
    "Before we start training we need to configure the number of epochs, the criterion (what is the function to minimize), and the optimizer.\n",
    "\n",
    "Please go through the code below, which should be self-explanatory."
   ]
  },
  {
   "cell_type": "code",
   "execution_count": 158,
   "id": "9077062c",
   "metadata": {},
   "outputs": [],
   "source": [
    "epochs = 5\n",
    "criterion = torch.nn.CrossEntropyLoss()\n",
    "optimizer = torch.optim.Adam(model_pt.parameters())"
   ]
  },
  {
   "cell_type": "code",
   "execution_count": 159,
   "id": "3cdac1ef",
   "metadata": {},
   "outputs": [
    {
     "name": "stderr",
     "output_type": "stream",
     "text": [
      "100%|██████████| 49/49 [08:46<00:00, 10.74s/it]\n"
     ]
    },
    {
     "name": "stdout",
     "output_type": "stream",
     "text": [
      "Epoch 1 \t\t Training Loss:      1.099 \t\t Validation Loss:      0.537\n",
      "\t\t Training Accuracy:    67.373% \t\t Validation Accuracy:    90.419%\n"
     ]
    },
    {
     "name": "stderr",
     "output_type": "stream",
     "text": [
      "100%|██████████| 49/49 [08:31<00:00, 10.43s/it]\n"
     ]
    },
    {
     "name": "stdout",
     "output_type": "stream",
     "text": [
      "Epoch 2 \t\t Training Loss:      0.414 \t\t Validation Loss:      0.224\n",
      "\t\t Training Accuracy:    91.908% \t\t Validation Accuracy:    94.910%\n"
     ]
    },
    {
     "name": "stderr",
     "output_type": "stream",
     "text": [
      "100%|██████████| 49/49 [09:38<00:00, 11.81s/it]\n"
     ]
    },
    {
     "name": "stdout",
     "output_type": "stream",
     "text": [
      "Epoch 3 \t\t Training Loss:      0.220 \t\t Validation Loss:      0.155\n",
      "\t\t Training Accuracy:    95.440% \t\t Validation Accuracy:    94.760%\n"
     ]
    },
    {
     "name": "stderr",
     "output_type": "stream",
     "text": [
      "100%|██████████| 49/49 [09:16<00:00, 11.35s/it]\n"
     ]
    },
    {
     "name": "stdout",
     "output_type": "stream",
     "text": [
      "Epoch 4 \t\t Training Loss:      0.174 \t\t Validation Loss:      0.130\n",
      "\t\t Training Accuracy:    95.633% \t\t Validation Accuracy:    95.210%\n"
     ]
    },
    {
     "name": "stderr",
     "output_type": "stream",
     "text": [
      "100%|██████████| 49/49 [09:18<00:00, 11.40s/it]\n"
     ]
    },
    {
     "name": "stdout",
     "output_type": "stream",
     "text": [
      "Epoch 5 \t\t Training Loss:      0.143 \t\t Validation Loss:      0.109\n",
      "\t\t Training Accuracy:    96.596% \t\t Validation Accuracy:    96.407%\n"
     ]
    }
   ],
   "source": [
    "from tqdm import tqdm\n",
    "# Define the dictionary \"history\" that will collect key performance indicators during training\n",
    "history = {}\n",
    "history[\"epoch\"]=[]\n",
    "history[\"train_loss\"]=[]\n",
    "history[\"valid_loss\"]=[]\n",
    "history[\"train_accuracy\"]=[]\n",
    "history[\"valid_accuracy\"]=[]\n",
    "\n",
    "# Measure time for training\n",
    "start_time = datetime.now()\n",
    "\n",
    "# Loop on epochs\n",
    "for e in range(epochs):\n",
    "    \n",
    "    # Set mode in train mode\n",
    "    model_pt.train()\n",
    "    \n",
    "    train_loss = 0.0\n",
    "    train_accuracy = []\n",
    "    \n",
    "    # Loop on batches\n",
    "    for X, y in tqdm(train_loader_pt):\n",
    "        \n",
    "        # Get prediction & loss\n",
    "        prediction = model_pt(X)\n",
    "        loss = criterion(prediction, y)\n",
    "        \n",
    "        # Adjust the parameters of the model\n",
    "        optimizer.zero_grad()\n",
    "        loss.backward()\n",
    "        optimizer.step()\n",
    "        \n",
    "        train_loss += loss.item()\n",
    "        \n",
    "        prediction_index = prediction.argmax(axis=1)\n",
    "        accuracy = (prediction_index==y)\n",
    "        train_accuracy += accuracy\n",
    "    \n",
    "    train_accuracy = (sum(train_accuracy) / len(train_accuracy)).item()\n",
    "    \n",
    "    # Calculate the loss on the test data after each epoch\n",
    "    # Set mode to evaluation (by opposition to training)\n",
    "    model_pt.eval()\n",
    "    valid_loss = 0.0\n",
    "    valid_accuracy = []\n",
    "    for X, y in test_loader_pt:\n",
    "         \n",
    "        prediction = model_pt(X)\n",
    "        loss = criterion(prediction, y)\n",
    "\n",
    "        valid_loss += loss.item()\n",
    "        \n",
    "        prediction_index = prediction.argmax(axis=1)\n",
    "        accuracy = (prediction_index==y)\n",
    "        valid_accuracy += accuracy\n",
    "    valid_accuracy = (sum(valid_accuracy) / len(valid_accuracy)).item()\n",
    "    \n",
    "    # Populate history\n",
    "    history[\"epoch\"].append(e+1)\n",
    "    history[\"train_loss\"].append(train_loss / len(train_loader_pt))\n",
    "    history[\"valid_loss\"].append(valid_loss / len(test_loader_pt))\n",
    "    history[\"train_accuracy\"].append(train_accuracy)\n",
    "    history[\"valid_accuracy\"].append(valid_accuracy)    \n",
    "        \n",
    "    print(f'Epoch {e+1} \\t\\t Training Loss: {train_loss / len(train_loader_pt) :10.3f} \\t\\t Validation Loss: {valid_loss / len(test_loader_pt) :10.3f}')\n",
    "    print(f'\\t\\t Training Accuracy: {train_accuracy :10.3%} \\t\\t Validation Accuracy: {valid_accuracy :10.3%}')\n",
    "    \n",
    "# Measure time for training\n",
    "end_time = datetime.now()\n",
    "training_time_pt = (end_time - start_time).total_seconds()"
   ]
  },
  {
   "cell_type": "code",
   "execution_count": 160,
   "id": "69e224a4",
   "metadata": {},
   "outputs": [
    {
     "data": {
      "text/plain": [
       "<matplotlib.legend.Legend at 0x7fd708b60610>"
      ]
     },
     "execution_count": 160,
     "metadata": {},
     "output_type": "execute_result"
    },
    {
     "data": {
      "image/png": "[encoded data removed]",
      "text/plain": [
       "<Figure size 1080x360 with 2 Axes>"
      ]
     },
     "metadata": {
      "needs_background": "light"
     },
     "output_type": "display_data"
    }
   ],
   "source": [
    "from matplotlib import pyplot as plt\n",
    "\n",
    "fig, ax = plt.subplots(nrows=1, ncols=2, figsize=(15, 5))\n",
    "ax[0].set(title='Loss')\n",
    "ax[0].plot(history['train_loss'], label='Training')\n",
    "ax[0].plot(history['valid_loss'], label='Validation')\n",
    "ax[0].legend(loc=\"upper right\")\n",
    "\n",
    "ax[1].set(title='Accuracy')\n",
    "ax[1].plot(history['train_accuracy'], label='Training')\n",
    "ax[1].plot(history['valid_accuracy'], label='Validation')\n",
    "ax[1].legend(loc=\"lower right\")"
   ]
  },
  {
   "cell_type": "code",
   "execution_count": 161,
   "id": "ebc41a37",
   "metadata": {},
   "outputs": [
    {
     "name": "stdout",
     "output_type": "stream",
     "text": [
      "Accuracy Training data: 96.6%\n",
      "Accuracy Test data: 96.4%\n",
      "Training time: 3604.6s (or 60.1 minutes)\n"
     ]
    }
   ],
   "source": [
    "accuracy_pt = history['valid_accuracy'][-1]\n",
    "print('Accuracy Training data: {:.1%}'.format(history['train_accuracy'][-1]))\n",
    "print('Accuracy Test data: {:.1%}'.format(history['valid_accuracy'][-1]))\n",
    "print('Training time: {:.1f}s (or {:.1f} minutes)'.format(training_time_pt, training_time_pt/60))"
   ]
  },
  {
   "cell_type": "markdown",
   "id": "145e99c1",
   "metadata": {},
   "source": [
    "The training time lasts one hour (on a CPU), making it faster than TensorFlow. It is to note that we ran the training several times and observed fluctuations in the duration of the order of 10%. The accuracy looks good (>95%)! We also observe that the accuracy increases with the epochs, and the trianing and validation accuracies are close to each other, meaning there seems to be no overfitting. We will not look further into the entries that produced the wrong prediction, since this is not the goal of this article."
   ]
  },
  {
   "cell_type": "markdown",
   "id": "6964c53c",
   "metadata": {},
   "source": [
    "Our model is trained! To keep this model, let's save it."
   ]
  },
  {
   "cell_type": "markdown",
   "id": "8d6dce05",
   "metadata": {},
   "source": [
    "## Save the Model"
   ]
  },
  {
   "cell_type": "markdown",
   "id": "76f24561",
   "metadata": {},
   "source": [
    "There are two approaches to save a model and we will cover both in this section.\n",
    "\n",
    "It is possible to save only the parameters of the model. Then, to load the model, we will first have to instantiate the model (the model DistilBertClassification), then load all its (trained) parameters into this model. This is a convenient way of storing a model, however it is only possible if you have full details about the architecture of the original model.\n",
    "\n",
    "An alternative is to save the entire model. By doing so it is easier to load the model from its saved location. Let's look at the two approaches."
   ]
  },
  {
   "cell_type": "code",
   "execution_count": 162,
   "id": "bec5232c",
   "metadata": {},
   "outputs": [
    {
     "data": {
      "text/plain": [
       "DistilBertClassification(\n",
       "  (dbert): DistilBertModel(\n",
       "    (embeddings): Embeddings(\n",
       "      (word_embeddings): Embedding(30522, 768, padding_idx=0)\n",
       "      (position_embeddings): Embedding(512, 768)\n",
       "      (LayerNorm): LayerNorm((768,), eps=1e-12, elementwise_affine=True)\n",
       "      (dropout): Dropout(p=0.2, inplace=False)\n",
       "    )\n",
       "    (transformer): Transformer(\n",
       "      (layer): ModuleList(\n",
       "        (0): TransformerBlock(\n",
       "          (attention): MultiHeadSelfAttention(\n",
       "            (dropout): Dropout(p=0.2, inplace=False)\n",
       "            (q_lin): Linear(in_features=768, out_features=768, bias=True)\n",
       "            (k_lin): Linear(in_features=768, out_features=768, bias=True)\n",
       "            (v_lin): Linear(in_features=768, out_features=768, bias=True)\n",
       "            (out_lin): Linear(in_features=768, out_features=768, bias=True)\n",
       "          )\n",
       "          (sa_layer_norm): LayerNorm((768,), eps=1e-12, elementwise_affine=True)\n",
       "          (ffn): FFN(\n",
       "            (dropout): Dropout(p=0.2, inplace=False)\n",
       "            (lin1): Linear(in_features=768, out_features=3072, bias=True)\n",
       "            (lin2): Linear(in_features=3072, out_features=768, bias=True)\n",
       "            (activation): GELUActivation()\n",
       "          )\n",
       "          (output_layer_norm): LayerNorm((768,), eps=1e-12, elementwise_affine=True)\n",
       "        )\n",
       "        (1): TransformerBlock(\n",
       "          (attention): MultiHeadSelfAttention(\n",
       "            (dropout): Dropout(p=0.2, inplace=False)\n",
       "            (q_lin): Linear(in_features=768, out_features=768, bias=True)\n",
       "            (k_lin): Linear(in_features=768, out_features=768, bias=True)\n",
       "            (v_lin): Linear(in_features=768, out_features=768, bias=True)\n",
       "            (out_lin): Linear(in_features=768, out_features=768, bias=True)\n",
       "          )\n",
       "          (sa_layer_norm): LayerNorm((768,), eps=1e-12, elementwise_affine=True)\n",
       "          (ffn): FFN(\n",
       "            (dropout): Dropout(p=0.2, inplace=False)\n",
       "            (lin1): Linear(in_features=768, out_features=3072, bias=True)\n",
       "            (lin2): Linear(in_features=3072, out_features=768, bias=True)\n",
       "            (activation): GELUActivation()\n",
       "          )\n",
       "          (output_layer_norm): LayerNorm((768,), eps=1e-12, elementwise_affine=True)\n",
       "        )\n",
       "        (2): TransformerBlock(\n",
       "          (attention): MultiHeadSelfAttention(\n",
       "            (dropout): Dropout(p=0.2, inplace=False)\n",
       "            (q_lin): Linear(in_features=768, out_features=768, bias=True)\n",
       "            (k_lin): Linear(in_features=768, out_features=768, bias=True)\n",
       "            (v_lin): Linear(in_features=768, out_features=768, bias=True)\n",
       "            (out_lin): Linear(in_features=768, out_features=768, bias=True)\n",
       "          )\n",
       "          (sa_layer_norm): LayerNorm((768,), eps=1e-12, elementwise_affine=True)\n",
       "          (ffn): FFN(\n",
       "            (dropout): Dropout(p=0.2, inplace=False)\n",
       "            (lin1): Linear(in_features=768, out_features=3072, bias=True)\n",
       "            (lin2): Linear(in_features=3072, out_features=768, bias=True)\n",
       "            (activation): GELUActivation()\n",
       "          )\n",
       "          (output_layer_norm): LayerNorm((768,), eps=1e-12, elementwise_affine=True)\n",
       "        )\n",
       "        (3): TransformerBlock(\n",
       "          (attention): MultiHeadSelfAttention(\n",
       "            (dropout): Dropout(p=0.2, inplace=False)\n",
       "            (q_lin): Linear(in_features=768, out_features=768, bias=True)\n",
       "            (k_lin): Linear(in_features=768, out_features=768, bias=True)\n",
       "            (v_lin): Linear(in_features=768, out_features=768, bias=True)\n",
       "            (out_lin): Linear(in_features=768, out_features=768, bias=True)\n",
       "          )\n",
       "          (sa_layer_norm): LayerNorm((768,), eps=1e-12, elementwise_affine=True)\n",
       "          (ffn): FFN(\n",
       "            (dropout): Dropout(p=0.2, inplace=False)\n",
       "            (lin1): Linear(in_features=768, out_features=3072, bias=True)\n",
       "            (lin2): Linear(in_features=3072, out_features=768, bias=True)\n",
       "            (activation): GELUActivation()\n",
       "          )\n",
       "          (output_layer_norm): LayerNorm((768,), eps=1e-12, elementwise_affine=True)\n",
       "        )\n",
       "        (4): TransformerBlock(\n",
       "          (attention): MultiHeadSelfAttention(\n",
       "            (dropout): Dropout(p=0.2, inplace=False)\n",
       "            (q_lin): Linear(in_features=768, out_features=768, bias=True)\n",
       "            (k_lin): Linear(in_features=768, out_features=768, bias=True)\n",
       "            (v_lin): Linear(in_features=768, out_features=768, bias=True)\n",
       "            (out_lin): Linear(in_features=768, out_features=768, bias=True)\n",
       "          )\n",
       "          (sa_layer_norm): LayerNorm((768,), eps=1e-12, elementwise_affine=True)\n",
       "          (ffn): FFN(\n",
       "            (dropout): Dropout(p=0.2, inplace=False)\n",
       "            (lin1): Linear(in_features=768, out_features=3072, bias=True)\n",
       "            (lin2): Linear(in_features=3072, out_features=768, bias=True)\n",
       "            (activation): GELUActivation()\n",
       "          )\n",
       "          (output_layer_norm): LayerNorm((768,), eps=1e-12, elementwise_affine=True)\n",
       "        )\n",
       "        (5): TransformerBlock(\n",
       "          (attention): MultiHeadSelfAttention(\n",
       "            (dropout): Dropout(p=0.2, inplace=False)\n",
       "            (q_lin): Linear(in_features=768, out_features=768, bias=True)\n",
       "            (k_lin): Linear(in_features=768, out_features=768, bias=True)\n",
       "            (v_lin): Linear(in_features=768, out_features=768, bias=True)\n",
       "            (out_lin): Linear(in_features=768, out_features=768, bias=True)\n",
       "          )\n",
       "          (sa_layer_norm): LayerNorm((768,), eps=1e-12, elementwise_affine=True)\n",
       "          (ffn): FFN(\n",
       "            (dropout): Dropout(p=0.2, inplace=False)\n",
       "            (lin1): Linear(in_features=768, out_features=3072, bias=True)\n",
       "            (lin2): Linear(in_features=3072, out_features=768, bias=True)\n",
       "            (activation): GELUActivation()\n",
       "          )\n",
       "          (output_layer_norm): LayerNorm((768,), eps=1e-12, elementwise_affine=True)\n",
       "        )\n",
       "      )\n",
       "    )\n",
       "  )\n",
       "  (dropout): Dropout(p=0.2, inplace=False)\n",
       "  (linear1): Linear(in_features=768, out_features=64, bias=True)\n",
       "  (ReLu): ReLU()\n",
       "  (linear2): Linear(in_features=64, out_features=5, bias=True)\n",
       ")"
      ]
     },
     "execution_count": 162,
     "metadata": {},
     "output_type": "execute_result"
    }
   ],
   "source": [
    "# Save only the parameters of the model but not the model itself, and get it back\n",
    "torch.save(model_pt.state_dict(), 'PyModel.sd')\n",
    "model_reloaded = DistilBertClassification()\n",
    "model_reloaded.load_state_dict(torch.load('PyModel.sd'))\n",
    "model_reloaded.eval()"
   ]
  },
  {
   "cell_type": "code",
   "execution_count": 163,
   "id": "f5c07c93",
   "metadata": {},
   "outputs": [
    {
     "data": {
      "text/plain": [
       "DistilBertClassification(\n",
       "  (dbert): DistilBertModel(\n",
       "    (embeddings): Embeddings(\n",
       "      (word_embeddings): Embedding(30522, 768, padding_idx=0)\n",
       "      (position_embeddings): Embedding(512, 768)\n",
       "      (LayerNorm): LayerNorm((768,), eps=1e-12, elementwise_affine=True)\n",
       "      (dropout): Dropout(p=0.2, inplace=False)\n",
       "    )\n",
       "    (transformer): Transformer(\n",
       "      (layer): ModuleList(\n",
       "        (0): TransformerBlock(\n",
       "          (attention): MultiHeadSelfAttention(\n",
       "            (dropout): Dropout(p=0.2, inplace=False)\n",
       "            (q_lin): Linear(in_features=768, out_features=768, bias=True)\n",
       "            (k_lin): Linear(in_features=768, out_features=768, bias=True)\n",
       "            (v_lin): Linear(in_features=768, out_features=768, bias=True)\n",
       "            (out_lin): Linear(in_features=768, out_features=768, bias=True)\n",
       "          )\n",
       "          (sa_layer_norm): LayerNorm((768,), eps=1e-12, elementwise_affine=True)\n",
       "          (ffn): FFN(\n",
       "            (dropout): Dropout(p=0.2, inplace=False)\n",
       "            (lin1): Linear(in_features=768, out_features=3072, bias=True)\n",
       "            (lin2): Linear(in_features=3072, out_features=768, bias=True)\n",
       "            (activation): GELUActivation()\n",
       "          )\n",
       "          (output_layer_norm): LayerNorm((768,), eps=1e-12, elementwise_affine=True)\n",
       "        )\n",
       "        (1): TransformerBlock(\n",
       "          (attention): MultiHeadSelfAttention(\n",
       "            (dropout): Dropout(p=0.2, inplace=False)\n",
       "            (q_lin): Linear(in_features=768, out_features=768, bias=True)\n",
       "            (k_lin): Linear(in_features=768, out_features=768, bias=True)\n",
       "            (v_lin): Linear(in_features=768, out_features=768, bias=True)\n",
       "            (out_lin): Linear(in_features=768, out_features=768, bias=True)\n",
       "          )\n",
       "          (sa_layer_norm): LayerNorm((768,), eps=1e-12, elementwise_affine=True)\n",
       "          (ffn): FFN(\n",
       "            (dropout): Dropout(p=0.2, inplace=False)\n",
       "            (lin1): Linear(in_features=768, out_features=3072, bias=True)\n",
       "            (lin2): Linear(in_features=3072, out_features=768, bias=True)\n",
       "            (activation): GELUActivation()\n",
       "          )\n",
       "          (output_layer_norm): LayerNorm((768,), eps=1e-12, elementwise_affine=True)\n",
       "        )\n",
       "        (2): TransformerBlock(\n",
       "          (attention): MultiHeadSelfAttention(\n",
       "            (dropout): Dropout(p=0.2, inplace=False)\n",
       "            (q_lin): Linear(in_features=768, out_features=768, bias=True)\n",
       "            (k_lin): Linear(in_features=768, out_features=768, bias=True)\n",
       "            (v_lin): Linear(in_features=768, out_features=768, bias=True)\n",
       "            (out_lin): Linear(in_features=768, out_features=768, bias=True)\n",
       "          )\n",
       "          (sa_layer_norm): LayerNorm((768,), eps=1e-12, elementwise_affine=True)\n",
       "          (ffn): FFN(\n",
       "            (dropout): Dropout(p=0.2, inplace=False)\n",
       "            (lin1): Linear(in_features=768, out_features=3072, bias=True)\n",
       "            (lin2): Linear(in_features=3072, out_features=768, bias=True)\n",
       "            (activation): GELUActivation()\n",
       "          )\n",
       "          (output_layer_norm): LayerNorm((768,), eps=1e-12, elementwise_affine=True)\n",
       "        )\n",
       "        (3): TransformerBlock(\n",
       "          (attention): MultiHeadSelfAttention(\n",
       "            (dropout): Dropout(p=0.2, inplace=False)\n",
       "            (q_lin): Linear(in_features=768, out_features=768, bias=True)\n",
       "            (k_lin): Linear(in_features=768, out_features=768, bias=True)\n",
       "            (v_lin): Linear(in_features=768, out_features=768, bias=True)\n",
       "            (out_lin): Linear(in_features=768, out_features=768, bias=True)\n",
       "          )\n",
       "          (sa_layer_norm): LayerNorm((768,), eps=1e-12, elementwise_affine=True)\n",
       "          (ffn): FFN(\n",
       "            (dropout): Dropout(p=0.2, inplace=False)\n",
       "            (lin1): Linear(in_features=768, out_features=3072, bias=True)\n",
       "            (lin2): Linear(in_features=3072, out_features=768, bias=True)\n",
       "            (activation): GELUActivation()\n",
       "          )\n",
       "          (output_layer_norm): LayerNorm((768,), eps=1e-12, elementwise_affine=True)\n",
       "        )\n",
       "        (4): TransformerBlock(\n",
       "          (attention): MultiHeadSelfAttention(\n",
       "            (dropout): Dropout(p=0.2, inplace=False)\n",
       "            (q_lin): Linear(in_features=768, out_features=768, bias=True)\n",
       "            (k_lin): Linear(in_features=768, out_features=768, bias=True)\n",
       "            (v_lin): Linear(in_features=768, out_features=768, bias=True)\n",
       "            (out_lin): Linear(in_features=768, out_features=768, bias=True)\n",
       "          )\n",
       "          (sa_layer_norm): LayerNorm((768,), eps=1e-12, elementwise_affine=True)\n",
       "          (ffn): FFN(\n",
       "            (dropout): Dropout(p=0.2, inplace=False)\n",
       "            (lin1): Linear(in_features=768, out_features=3072, bias=True)\n",
       "            (lin2): Linear(in_features=3072, out_features=768, bias=True)\n",
       "            (activation): GELUActivation()\n",
       "          )\n",
       "          (output_layer_norm): LayerNorm((768,), eps=1e-12, elementwise_affine=True)\n",
       "        )\n",
       "        (5): TransformerBlock(\n",
       "          (attention): MultiHeadSelfAttention(\n",
       "            (dropout): Dropout(p=0.2, inplace=False)\n",
       "            (q_lin): Linear(in_features=768, out_features=768, bias=True)\n",
       "            (k_lin): Linear(in_features=768, out_features=768, bias=True)\n",
       "            (v_lin): Linear(in_features=768, out_features=768, bias=True)\n",
       "            (out_lin): Linear(in_features=768, out_features=768, bias=True)\n",
       "          )\n",
       "          (sa_layer_norm): LayerNorm((768,), eps=1e-12, elementwise_affine=True)\n",
       "          (ffn): FFN(\n",
       "            (dropout): Dropout(p=0.2, inplace=False)\n",
       "            (lin1): Linear(in_features=768, out_features=3072, bias=True)\n",
       "            (lin2): Linear(in_features=3072, out_features=768, bias=True)\n",
       "            (activation): GELUActivation()\n",
       "          )\n",
       "          (output_layer_norm): LayerNorm((768,), eps=1e-12, elementwise_affine=True)\n",
       "        )\n",
       "      )\n",
       "    )\n",
       "  )\n",
       "  (dropout): Dropout(p=0.2, inplace=False)\n",
       "  (linear1): Linear(in_features=768, out_features=64, bias=True)\n",
       "  (ReLu): ReLU()\n",
       "  (linear2): Linear(in_features=64, out_features=5, bias=True)\n",
       ")"
      ]
     },
     "execution_count": 163,
     "metadata": {},
     "output_type": "execute_result"
    }
   ],
   "source": [
    "# Save the entire model, and get it back\n",
    "torch.save(model_pt, 'PyModelComplete.pt')\n",
    "model_reloaded2 = torch.load('PyModelComplete.pt')\n",
    "model_reloaded2.eval()"
   ]
  },
  {
   "cell_type": "markdown",
   "id": "2429e9c9",
   "metadata": {},
   "source": [
    "# Comparison TensorFlow vs. PyTorch"
   ]
  },
  {
   "cell_type": "markdown",
   "id": "78db5dd5",
   "metadata": {},
   "source": [
    "We have gone through a classification model using the pre-trained model BERT, and fine-tuning it for the Classificaiton exercise. We have done this in both frameworks TensorFlow and PyTorch. In the present section we highlight the main differences between the two frameworks. A comparison will always contain some subjectivity, therefore please be aware that what follows represent mainly my opinion."
   ]
  },
  {
   "cell_type": "markdown",
   "id": "7a337860",
   "metadata": {},
   "source": [
    "## Programming"
   ]
  },
  {
   "cell_type": "markdown",
   "id": "d8bafbc2",
   "metadata": {},
   "source": [
    "When preparing the data, TensorFlow has proven to be very versatile, as it is possible to use NumPy arrays, which is a format in which many datasets are available, and is very easy to manipulate. TensorFlow also has its own tensors (TensorFlow tensors), and its own datasets formats (which we have not covered in this article, you can find details in [ref], chapter [ref]). PyTorch, to the best of our knowledge, requires the use of its own PyTorch tensors, datasets, and dataloaders. This makes the preparation of datasets more rigorous, but this definitely comes at the costs of less flexibility.\n",
    "\n",
    "For training, TensorFlow offers a high level framework (Keras), which makes training especially easy, using a \"fit\" function similar to what all Machine Learning engineers know from the scikit learn framework. With TensorFlow it is possible to go to a lower level when training, however not at a level PyTorch offers. In PyTorch, training has to be prepared yourself, at a low level where even the loops over epochs and batches need be defined. The various steps of training (forward, backward, adjustment of parameters) is done in a very granular manner. When training in PyTorch, we get the feeling that \"we know what is happening\", which is very positive. But unfortunately, there is no high level framework available in PyTorch (as far as we know), which would allow to quickly experiment new models."
   ]
  },
  {
   "cell_type": "markdown",
   "id": "9baf526a",
   "metadata": {},
   "source": [
    "## Training & Model"
   ]
  },
  {
   "cell_type": "markdown",
   "id": "eb125749",
   "metadata": {},
   "source": [
    "In addition to assessing the difference in programming in both frameworks, let's analyze the training time and the models themselves, especially the accuracy of the models."
   ]
  },
  {
   "cell_type": "code",
   "execution_count": 166,
   "id": "22f567ca",
   "metadata": {},
   "outputs": [
    {
     "data": {
      "text/html": [
       "<style  type=\"text/css\" >\n",
       "</style><table id=\"T_89e11_\" ><thead>    <tr>        <th class=\"col_heading level0 col0\" >Framework</th>        <th class=\"col_heading level0 col1\" >Accuracy</th>        <th class=\"col_heading level0 col2\" >Training Time [s]</th>        <th class=\"col_heading level0 col3\" >Training Time [% from best]</th>    </tr></thead><tbody>\n",
       "                <tr>\n",
       "                                <td id=\"T_89e11_row0_col0\" class=\"data row0 col0\" >TensorFlow</td>\n",
       "                        <td id=\"T_89e11_row0_col1\" class=\"data row0 col1\" >97.0%</td>\n",
       "                        <td id=\"T_89e11_row0_col2\" class=\"data row0 col2\" >4015.3</td>\n",
       "                        <td id=\"T_89e11_row0_col3\" class=\"data row0 col3\" >11.4%</td>\n",
       "            </tr>\n",
       "            <tr>\n",
       "                                <td id=\"T_89e11_row1_col0\" class=\"data row1 col0\" >PyTorch</td>\n",
       "                        <td id=\"T_89e11_row1_col1\" class=\"data row1 col1\" >96.4%</td>\n",
       "                        <td id=\"T_89e11_row1_col2\" class=\"data row1 col2\" >3604.6</td>\n",
       "                        <td id=\"T_89e11_row1_col3\" class=\"data row1 col3\" >0.0%</td>\n",
       "            </tr>\n",
       "    </tbody></table>"
      ],
      "text/plain": [
       "<pandas.io.formats.style.Styler at 0x7fd70bfb22d0>"
      ]
     },
     "metadata": {},
     "output_type": "display_data"
    }
   ],
   "source": [
    "framework = ['TensorFlow', 'PyTorch']\n",
    "accuracy = [accuracy_tf, accuracy_pt]\n",
    "accuracy = [str(round(acc*100, 1))+'%' for acc in accuracy]\n",
    "training_time = [round(training_time_tf,1), round(training_time_pt,1)]\n",
    "training_time_rounded = [str(round(tt,1)) for tt in training_time]\n",
    "training_time = np.array(training_time)\n",
    "training_time_x = list((training_time/min(training_time)-1)*100)\n",
    "training_time_x = [str(round(ttx,1))+'%' for ttx in training_time_x]\n",
    "\n",
    "dict = {'Framework' : framework,\n",
    "        'Accuracy' : accuracy,\n",
    "        'Training Time [s]' : training_time_rounded,\n",
    "        'Training Time [% from best]' : training_time_x}\n",
    "df = pd.DataFrame(dict)\n",
    "display(df.style.hide_index())"
   ]
  },
  {
   "cell_type": "markdown",
   "id": "7503d593",
   "metadata": {},
   "source": [
    "The training time is for both frameworks at around one hour, slightly faster for PyTorch than for TensorFlow. The accuracy is slightly better for TensorFlow than for PyTorch. Overall, we can consider that both frameworks have a similar performance, in both training time and accuracy. There is no meaningful difference."
   ]
  },
  {
   "cell_type": "markdown",
   "id": "b0854467",
   "metadata": {},
   "source": [
    "# References"
   ]
  },
  {
   "cell_type": "markdown",
   "id": "96519d7b",
   "metadata": {},
   "source": [
    "[1]: Devlin et al. (2018). “BERT: Pre-training of Deep Bidirectional Transformers for Language Understanding” (https://arxiv.org/abs/1810.04805)\n",
    "\n",
    "[2]: V. Sanh et al (2019), \"DistilBERT, a Distilled Version of BERT: Smaller, Faster, Cheaper and Lighter\" (https://arxiv.org/abs/1910.01108)"
   ]
  }
 ],
 "metadata": {
  "kernelspec": {
   "display_name": "Python 3",
   "language": "python",
   "name": "python3"
  },
  "language_info": {
   "codemirror_mode": {
    "name": "ipython",
    "version": 3
   },
   "file_extension": ".py",
   "mimetype": "text/x-python",
   "name": "python",
   "nbconvert_exporter": "python",
   "pygments_lexer": "ipython3",
   "version": "3.10.12"
  }
 },
 "nbformat": 4,
 "nbformat_minor": 5
}
