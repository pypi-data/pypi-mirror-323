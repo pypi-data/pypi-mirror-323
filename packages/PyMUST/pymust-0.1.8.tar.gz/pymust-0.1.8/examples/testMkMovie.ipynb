{
 "cells": [
  {
   "cell_type": "code",
   "execution_count": 1,
   "metadata": {},
   "outputs": [],
   "source": [
    "import pymust, pymust.mkmovie\n",
    "import importlib\n",
    "import numpy as np\n",
    "import matplotlib.pyplot as plt"
   ]
  },
  {
   "cell_type": "code",
   "execution_count": 2,
   "metadata": {},
   "outputs": [],
   "source": [
    "param = pymust.getparam('P4-2v');"
   ]
  },
  {
   "cell_type": "code",
   "execution_count": 3,
   "metadata": {},
   "outputs": [],
   "source": [
    "xf = 0e-2\n",
    "zf = 2e-2 # focus position (in m)\n",
    "txdel = pymust.txdelay(xf,zf,param);"
   ]
  },
  {
   "cell_type": "code",
   "execution_count": 4,
   "metadata": {},
   "outputs": [],
   "source": [
    "param.movie = np.array([3, 6, 100])"
   ]
  },
  {
   "cell_type": "code",
   "execution_count": 6,
   "metadata": {},
   "outputs": [],
   "source": [
    "param.attenuation = 0.0\n",
    "F,info, param = pymust.mkmovie(txdel,param, 'noAttenuation.gif');"
   ]
  },
  {
   "cell_type": "code",
   "execution_count": null,
   "metadata": {},
   "outputs": [],
   "source": [
    "param.attenuation = 0.5\n",
    "F,info, param = pymust.mkmovie(txdel,param, 'meow.gif');"
   ]
  }
 ],
 "metadata": {
  "kernelspec": {
   "display_name": "pymust",
   "language": "python",
   "name": "python3"
  },
  "language_info": {
   "codemirror_mode": {
    "name": "ipython",
    "version": 3
   },
   "file_extension": ".py",
   "mimetype": "text/x-python",
   "name": "python",
   "nbconvert_exporter": "python",
   "pygments_lexer": "ipython3",
   "version": "3.11.4"
  },
  "orig_nbformat": 4
 },
 "nbformat": 4,
 "nbformat_minor": 2
}
