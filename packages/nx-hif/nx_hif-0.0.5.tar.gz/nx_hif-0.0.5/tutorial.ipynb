{
 "cells": [
  {
   "cell_type": "code",
   "execution_count": 13,
   "metadata": {},
   "outputs": [],
   "source": [
    "from src import nx_hif\n",
    "\n",
    "import networkx as nx\n",
    "import matplotlib.pyplot as plt\n",
    "\n",
    "# G_hif = nx_hif.read_hif(\"data/email-enron.json\")\n",
    "G_hif = nx_hif.read_hif(\"/home/colltoaction/GitHub/HIF-standard/tutorials/data/contacts_high_school.hif.json\")\n",
    "nodes_0 = {n for n, d in G_hif.nodes(data=True) if d[\"bipartite\"] == 0}\n",
    "nodes_1 = {n for n, d in G_hif.nodes(data=True) if d[\"bipartite\"] == 1}"
   ]
  },
  {
   "cell_type": "code",
   "execution_count": 10,
   "metadata": {},
   "outputs": [],
   "source": [
    "# pos = nx.bipartite_layout(G_hif, nodes_0)\n",
    "# nx.draw_networkx(G_hif, pos=pos)"
   ]
  },
  {
   "cell_type": "code",
   "execution_count": 11,
   "metadata": {},
   "outputs": [],
   "source": [
    "# pos = nx.bipartite_layout(G_hif, nodes_1)\n",
    "# nx.draw_networkx(G_hif, pos=pos)"
   ]
  },
  {
   "cell_type": "code",
   "execution_count": 14,
   "metadata": {},
   "outputs": [
    {
     "name": "stdout",
     "output_type": "stream",
     "text": [
      "454 134\n"
     ]
    },
    {
     "data": {
      "text/plain": [
       "False"
      ]
     },
     "execution_count": 14,
     "metadata": {},
     "output_type": "execute_result"
    }
   ],
   "source": [
    "def _is_bipartite(G_hif, nodes_0, nodes_1):\n",
    "    for i, j in G_hif.edges:\n",
    "        cond0 = i in nodes_0\n",
    "        cond1 = j in nodes_1\n",
    "        if not cond0 == cond1:  \n",
    "            print(i, j)\n",
    "            return False\n",
    "    return True\n",
    "_is_bipartite(G_hif, nodes_0, nodes_1)\n",
    "# nx.is_bipartite(G_hif)\n",
    "# [G_hif[n] for n in G_hif.nodes]"
   ]
  }
 ],
 "metadata": {
  "kernelspec": {
   "display_name": "rapids-24.12",
   "language": "python",
   "name": "python3"
  },
  "language_info": {
   "codemirror_mode": {
    "name": "ipython",
    "version": 3
   },
   "file_extension": ".py",
   "mimetype": "text/x-python",
   "name": "python",
   "nbconvert_exporter": "python",
   "pygments_lexer": "ipython3",
   "version": "3.12.8"
  }
 },
 "nbformat": 4,
 "nbformat_minor": 2
}
