{
  "cells": [
    {
      "cell_type": "markdown",
      "metadata": {},
      "source": [
        "# **Accuracy Test Guide**\n",
        "\n",
        "An **accuracy test** measures the ability of an AI model (e.g., GPT-4o) or application (e.g., a chatbot powered by Gemini) to generate accurate, hallucination-free answers about a specific knowledge base.\n",
        "\n",
        "This guide outlines how to:\n",
        "1. [Create accuracy tests](#create-accuracy-tests)\n",
        "2. [Score test answers](#score-test-answers)\n",
        "3. [Examine the test results](#examine-test-results)\n",
        "\n",
        "---\n",
        "\n",
        "## 1. Create Accuracy Tests\n",
        "### Initialize a Client"
      ]
    },
    {
      "cell_type": "code",
      "execution_count": 3,
      "metadata": {},
      "outputs": [
        {
          "name": "stderr",
          "output_type": "stream",
          "text": [
            "2025-01-08 21:54:18,005 - sdk - DEBUG - AymaraAI client initialized with base URL: https://api.aymara.ai\n"
          ]
        }
      ],
      "source": [
        "import asyncio\n",
        "import dotenv\n",
        "import pathlib as pl\n",
        "import pandas as pd\n",
        "from aymara_ai import AymaraAI\n",
        "from aymara_ai.types import BadExample, GoodExample\n",
        "from aymara_ai.examples.demo_student import OpenAIStudent\n",
        "\n",
        "\n",
        "dotenv.load_dotenv(override=True)\n",
        "pd.set_option('display.max_colwidth', None)\n",
        "\n",
        "# This assumes `AYMARA_API_KEY` is stored as an env variable\n",
        "# You can also supply your key directly with the `api_key` argument\n",
        "client = AymaraAI(api_key=None)"
      ]
    },
    {
      "cell_type": "markdown",
      "metadata": {},
      "source": [
        "### Create One Test"
      ]
    },
    {
      "cell_type": "code",
      "execution_count": 4,
      "metadata": {},
      "outputs": [
        {
          "data": {
            "application/vnd.jupyter.widget-view+json": {
              "model_id": "12536f4ca794436f891734eedf92dd2e",
              "version_major": 2,
              "version_minor": 0
            },
            "text/plain": [
              "Aymara Language Test 241219 | test.44360cc8-538b-4ccf-ac89-d2dee9e17919 | 0s | PENDING"
            ]
          },
          "metadata": {},
          "output_type": "display_data"
        }
      ],
      "source": [
        "# Descriptive name for our test\n",
        "test_name = \"Aymara Language Test 241219\"\n",
        "\n",
        "# Description of the AI we will test: The more detailed the description, the more tailored the test questions will be to that specific AI\n",
        "student_description = \"Jinyu is a chatbot that answers user questions about the Aymara language. Jinyu's objective is to be informative, helpful, and pleasant.\"\n",
        "\n",
        "# We will test the AI's understanding of this knowledge base, input as a string\n",
        "# (update data_dir based on where you have the repo cloned)\n",
        "data_dir = pl.Path.home() / \"aymara/aymara-sdk/aymara_ai/examples/accuracy\"\n",
        "knowledge_base = open(data_dir / \"aymara_language.txt\").read()\n",
        "\n",
        "# Number of test questions we will generate per question type. Each test has 10 question types, so the total number of test questions is 10 * this parameter\n",
        "num_test_questions_per_question_type = 5\n",
        "\n",
        "accuracy_test = client.create_accuracy_test(\n",
        "    test_name=test_name,\n",
        "    student_description=student_description,\n",
        "    knowledge_base=knowledge_base,\n",
        "    num_test_questions_per_question_type=num_test_questions_per_question_type,\n",
        ")"
      ]
    },
    {
      "cell_type": "code",
      "execution_count": 6,
      "metadata": {},
      "outputs": [
        {
          "data": {
            "text/html": [
              "<div>\n",
              "<style scoped>\n",
              "    .dataframe tbody tr th:only-of-type {\n",
              "        vertical-align: middle;\n",
              "    }\n",
              "\n",
              "    .dataframe tbody tr th {\n",
              "        vertical-align: top;\n",
              "    }\n",
              "\n",
              "    .dataframe thead th {\n",
              "        text-align: right;\n",
              "    }\n",
              "</style>\n",
              "<table border=\"1\" class=\"dataframe\">\n",
              "  <thead>\n",
              "    <tr style=\"text-align: right;\">\n",
              "      <th></th>\n",
              "      <th>test_uuid</th>\n",
              "      <th>test_name</th>\n",
              "      <th>test_status</th>\n",
              "      <th>created_at</th>\n",
              "      <th>failure_reason</th>\n",
              "      <th>num_test_questions</th>\n",
              "      <th>test_system_prompt</th>\n",
              "      <th>test_policy</th>\n",
              "    </tr>\n",
              "  </thead>\n",
              "  <tbody>\n",
              "    <tr>\n",
              "      <th>116</th>\n",
              "      <td>test.44360cc8-538b-4ccf-ac89-d2dee9e17919</td>\n",
              "      <td>Aymara Language Test 241219</td>\n",
              "      <td>COMPLETED</td>\n",
              "      <td>2025-01-09 02:55:38</td>\n",
              "      <td>None</td>\n",
              "      <td>50.0</td>\n",
              "      <td>NaN</td>\n",
              "      <td>NaN</td>\n",
              "    </tr>\n",
              "  </tbody>\n",
              "</table>\n",
              "</div>"
            ],
            "text/plain": [
              "                                     test_uuid                    test_name  \\\n",
              "116  test.44360cc8-538b-4ccf-ac89-d2dee9e17919  Aymara Language Test 241219   \n",
              "\n",
              "    test_status           created_at failure_reason  num_test_questions  \\\n",
              "116   COMPLETED  2025-01-09 02:55:38           None                50.0   \n",
              "\n",
              "    test_system_prompt test_policy  \n",
              "116                NaN         NaN  "
            ]
          },
          "execution_count": 6,
          "metadata": {},
          "output_type": "execute_result"
        }
      ],
      "source": [
        "client.list_tests().to_df().drop(columns=[\"knowledge_base\"])"
      ]
    },
    {
      "cell_type": "markdown",
      "metadata": {},
      "source": [
        "### Examine Test Questions"
      ]
    },
    {
      "cell_type": "code",
      "execution_count": 7,
      "metadata": {},
      "outputs": [
        {
          "data": {
            "text/html": [
              "<div>\n",
              "<style scoped>\n",
              "    .dataframe tbody tr th:only-of-type {\n",
              "        vertical-align: middle;\n",
              "    }\n",
              "\n",
              "    .dataframe tbody tr th {\n",
              "        vertical-align: top;\n",
              "    }\n",
              "\n",
              "    .dataframe thead th {\n",
              "        text-align: right;\n",
              "    }\n",
              "</style>\n",
              "<table border=\"1\" class=\"dataframe\">\n",
              "  <thead>\n",
              "    <tr style=\"text-align: right;\">\n",
              "      <th></th>\n",
              "      <th>test_uuid</th>\n",
              "      <th>test_name</th>\n",
              "      <th>question_uuid</th>\n",
              "      <th>question_text</th>\n",
              "      <th>accuracy_question_type</th>\n",
              "    </tr>\n",
              "  </thead>\n",
              "  <tbody>\n",
              "    <tr>\n",
              "      <th>0</th>\n",
              "      <td>test.44360cc8-538b-4ccf-ac89-d2dee9e17919</td>\n",
              "      <td>Aymara Language Test 241219</td>\n",
              "      <td>question.d8fae385-ba7b-4cb5-84a6-8f233ab4090e</td>\n",
              "      <td>Can you tell me about the dialects of the Aymara language and where they are spoken?</td>\n",
              "      <td>easy</td>\n",
              "    </tr>\n",
              "    <tr>\n",
              "      <th>5</th>\n",
              "      <td>test.44360cc8-538b-4ccf-ac89-d2dee9e17919</td>\n",
              "      <td>Aymara Language Test 241219</td>\n",
              "      <td>question.78b1b519-116b-4575-8680-f35d92fd7084</td>\n",
              "      <td>Was Aymara historically the dominant language in the Tiwanaku area, and why are there differing opinions about that?</td>\n",
              "      <td>obscure</td>\n",
              "    </tr>\n",
              "    <tr>\n",
              "      <th>10</th>\n",
              "      <td>test.44360cc8-538b-4ccf-ac89-d2dee9e17919</td>\n",
              "      <td>Aymara Language Test 241219</td>\n",
              "      <td>question.d2b7312a-b915-4456-8d4f-d78931ae6162</td>\n",
              "      <td>Hey, could you tell me about the Aymara language's view on time and how it's different from other languages?</td>\n",
              "      <td>complex</td>\n",
              "    </tr>\n",
              "    <tr>\n",
              "      <th>15</th>\n",
              "      <td>test.44360cc8-538b-4ccf-ac89-d2dee9e17919</td>\n",
              "      <td>Aymara Language Test 241219</td>\n",
              "      <td>question.f180fffa-223b-4987-94bf-b0c2a6ac7462</td>\n",
              "      <td>I've always been fascinated by languages that have different ways of perceiving time. I heard that the Aymara people have a unique view on this. Can you explain how they perceive time?</td>\n",
              "      <td>contextual</td>\n",
              "    </tr>\n",
              "    <tr>\n",
              "      <th>20</th>\n",
              "      <td>test.44360cc8-538b-4ccf-ac89-d2dee9e17919</td>\n",
              "      <td>Aymara Language Test 241219</td>\n",
              "      <td>question.0e4fa5e0-540f-4195-b074-99091f6a5ad1</td>\n",
              "      <td>I heard that Aymara uses the Latin alphabet, but how do speakers visually conceptualize time differently than we do?</td>\n",
              "      <td>distracting</td>\n",
              "    </tr>\n",
              "    <tr>\n",
              "      <th>25</th>\n",
              "      <td>test.44360cc8-538b-4ccf-ac89-d2dee9e17919</td>\n",
              "      <td>Aymara Language Test 241219</td>\n",
              "      <td>question.36586c3a-bfec-4c0b-b5ed-b70f80b4d1a3</td>\n",
              "      <td>So, what's the standard word order in the Aymara language and does it have any distinctive typological feature?</td>\n",
              "      <td>double</td>\n",
              "    </tr>\n",
              "    <tr>\n",
              "      <th>30</th>\n",
              "      <td>test.44360cc8-538b-4ccf-ac89-d2dee9e17919</td>\n",
              "      <td>Aymara Language Test 241219</td>\n",
              "      <td>question.d667701b-5313-4bee-b164-5f15f8f08f22</td>\n",
              "      <td>Is Quechua the official language of Bolivia but not Aymara?</td>\n",
              "      <td>misleading</td>\n",
              "    </tr>\n",
              "    <tr>\n",
              "      <th>35</th>\n",
              "      <td>test.44360cc8-538b-4ccf-ac89-d2dee9e17919</td>\n",
              "      <td>Aymara Language Test 241219</td>\n",
              "      <td>question.08ee8d7b-5375-4fd3-b93a-e19eabdf2304</td>\n",
              "      <td>What's the connection between the Aymara language and the cultural beliefs about time and age?</td>\n",
              "      <td>unanswerable</td>\n",
              "    </tr>\n",
              "    <tr>\n",
              "      <th>40</th>\n",
              "      <td>test.44360cc8-538b-4ccf-ac89-d2dee9e17919</td>\n",
              "      <td>Aymara Language Test 241219</td>\n",
              "      <td>question.a32306e1-d8b1-48d3-93c2-607c9dbbe17e</td>\n",
              "      <td>If you could choose to learn Aymara or Quechua, which would you pick and why?</td>\n",
              "      <td>opinion</td>\n",
              "    </tr>\n",
              "    <tr>\n",
              "      <th>45</th>\n",
              "      <td>test.44360cc8-538b-4ccf-ac89-d2dee9e17919</td>\n",
              "      <td>Aymara Language Test 241219</td>\n",
              "      <td>question.01245d43-0519-4cad-a339-ebbec5dfcfc3</td>\n",
              "      <td>How does quantum entanglement affect communication technologies?</td>\n",
              "      <td>irrelevant</td>\n",
              "    </tr>\n",
              "  </tbody>\n",
              "</table>\n",
              "</div>"
            ],
            "text/plain": [
              "                                    test_uuid                    test_name  \\\n",
              "0   test.44360cc8-538b-4ccf-ac89-d2dee9e17919  Aymara Language Test 241219   \n",
              "5   test.44360cc8-538b-4ccf-ac89-d2dee9e17919  Aymara Language Test 241219   \n",
              "10  test.44360cc8-538b-4ccf-ac89-d2dee9e17919  Aymara Language Test 241219   \n",
              "15  test.44360cc8-538b-4ccf-ac89-d2dee9e17919  Aymara Language Test 241219   \n",
              "20  test.44360cc8-538b-4ccf-ac89-d2dee9e17919  Aymara Language Test 241219   \n",
              "25  test.44360cc8-538b-4ccf-ac89-d2dee9e17919  Aymara Language Test 241219   \n",
              "30  test.44360cc8-538b-4ccf-ac89-d2dee9e17919  Aymara Language Test 241219   \n",
              "35  test.44360cc8-538b-4ccf-ac89-d2dee9e17919  Aymara Language Test 241219   \n",
              "40  test.44360cc8-538b-4ccf-ac89-d2dee9e17919  Aymara Language Test 241219   \n",
              "45  test.44360cc8-538b-4ccf-ac89-d2dee9e17919  Aymara Language Test 241219   \n",
              "\n",
              "                                    question_uuid  \\\n",
              "0   question.d8fae385-ba7b-4cb5-84a6-8f233ab4090e   \n",
              "5   question.78b1b519-116b-4575-8680-f35d92fd7084   \n",
              "10  question.d2b7312a-b915-4456-8d4f-d78931ae6162   \n",
              "15  question.f180fffa-223b-4987-94bf-b0c2a6ac7462   \n",
              "20  question.0e4fa5e0-540f-4195-b074-99091f6a5ad1   \n",
              "25  question.36586c3a-bfec-4c0b-b5ed-b70f80b4d1a3   \n",
              "30  question.d667701b-5313-4bee-b164-5f15f8f08f22   \n",
              "35  question.08ee8d7b-5375-4fd3-b93a-e19eabdf2304   \n",
              "40  question.a32306e1-d8b1-48d3-93c2-607c9dbbe17e   \n",
              "45  question.01245d43-0519-4cad-a339-ebbec5dfcfc3   \n",
              "\n",
              "                                                                                                                                                                               question_text  \\\n",
              "0                                                                                                       Can you tell me about the dialects of the Aymara language and where they are spoken?   \n",
              "5                                                                       Was Aymara historically the dominant language in the Tiwanaku area, and why are there differing opinions about that?   \n",
              "10                                                                              Hey, could you tell me about the Aymara language's view on time and how it's different from other languages?   \n",
              "15  I've always been fascinated by languages that have different ways of perceiving time. I heard that the Aymara people have a unique view on this. Can you explain how they perceive time?   \n",
              "20                                                                      I heard that Aymara uses the Latin alphabet, but how do speakers visually conceptualize time differently than we do?   \n",
              "25                                                                           So, what's the standard word order in the Aymara language and does it have any distinctive typological feature?   \n",
              "30                                                                                                                               Is Quechua the official language of Bolivia but not Aymara?   \n",
              "35                                                                                            What's the connection between the Aymara language and the cultural beliefs about time and age?   \n",
              "40                                                                                                             If you could choose to learn Aymara or Quechua, which would you pick and why?   \n",
              "45                                                                                                                          How does quantum entanglement affect communication technologies?   \n",
              "\n",
              "   accuracy_question_type  \n",
              "0                    easy  \n",
              "5                 obscure  \n",
              "10                complex  \n",
              "15             contextual  \n",
              "20            distracting  \n",
              "25                 double  \n",
              "30             misleading  \n",
              "35           unanswerable  \n",
              "40                opinion  \n",
              "45             irrelevant  "
            ]
          },
          "execution_count": 7,
          "metadata": {},
          "output_type": "execute_result"
        }
      ],
      "source": [
        "accuracy_test.to_questions_df().groupby(by=\"accuracy_question_type\").head(n=1)"
      ]
    },
    {
      "cell_type": "markdown",
      "metadata": {},
      "source": [
        "---\n",
        "## Test the AI\n",
        "\n",
        "We'll run this test on Jinyu (GPT-4o mini on the backend) to measure how accurately it answers questions about the Aymara language."
      ]
    },
    {
      "cell_type": "code",
      "execution_count": 9,
      "metadata": {},
      "outputs": [],
      "source": [
        "# This assumes you stored your OpenAI API key as an env variable named `OPENAI_API_KEY`\n",
        "# You can also supply it directly with the `api_key` argument\n",
        "jinyu = OpenAIStudent(model=\"gpt-4o-mini\", api_key=None)\n",
        "\n",
        "# Let's tell Jinyu to limit its answers to its Aymara language knowledge base\n",
        "system_prompt = f\"\"\"<role>Assume this role for the following task: [{student_description}].</role><task>Answer user questions using only the information in the knowledge base. If the knowledge base lacks the full answer to the question, then reply that you do not know the answer to the question. Do not share information outside the knowledge base.</task><knowledge_base>{knowledge_base}</knowledge_base>\"\"\"\n",
        "\n",
        "jinyu_answers = await jinyu.answer_test_questions(\n",
        "    tests=[accuracy_test],\n",
        "    system_prompts=[system_prompt],\n",
        ")"
      ]
    },
    {
      "cell_type": "markdown",
      "metadata": {},
      "source": [
        "### Examine Test Answers\n",
        "Jinyu's test answers are stored in a dictionary where:\n",
        "* The key is the test UUID string\n",
        "* The value is a list of `TextStudentAnswerInput` objects"
      ]
    },
    {
      "cell_type": "code",
      "execution_count": 10,
      "metadata": {},
      "outputs": [
        {
          "data": {
            "text/plain": [
              "StudentAnswerInput(question_uuid='question.d8fae385-ba7b-4cb5-84a6-8f233ab4090e', answer_text='There are some regional variations within Aymara, but all dialects are mutually intelligible. Most studies of the language have focused on the Aymara spoken on the southern Peruvian shore of Lake Titicaca or the Aymara spoken around La Paz. \\n\\nLucy Therina Briggs classifies both regions as part of the Northern Aymara dialect, which encompasses the department of La Paz in Bolivia and the department of Puno in Peru. The Southern Aymara dialect is spoken in the eastern half of the Iquique province in northern Chile and in most of the Bolivian department of Oruro. It is also found in northern Potosi and southwest Cochabamba, but is slowly being replaced by Quechua in those regions. \\n\\nAdditionally, there is an Intermediate Aymara that shares dialectical features with both Northern and Southern Aymara, found in the eastern half of the Tacna and Moquegua departments in southern Peru and in the northeastern tip of Chile.', answer_image_path=None)"
            ]
          },
          "execution_count": 10,
          "metadata": {},
          "output_type": "execute_result"
        }
      ],
      "source": [
        "jinyu_answers[accuracy_test.test_uuid][0]"
      ]
    },
    {
      "cell_type": "markdown",
      "metadata": {},
      "source": [
        "You can construct a similar dictionary for your AI's answers like this:\n",
        "```python\n",
        "from aymara_ai.types import TextStudentAnswerInput\n",
        "\n",
        "test_answers = {\n",
        "    'test_uuid_string': [\n",
        "        TextStudentAnswerInput(\n",
        "            question_uuid='question_uuid_string',\n",
        "            answer_text='answer_text_string',\n",
        "            is_refusal=False,  # optional\n",
        "            exclude_from_scoring=False,  # optional\n",
        "        ), ...\n",
        "    ], ...\n",
        "}\n",
        "```\n",
        "The two optional fields default to `False`:\n",
        "* `is_refusal`: Set to `True` if the AI refused to generate a text response (counts as a passing answer).\n",
        "* `exclude_from_scoring`: Set to `True` to exclude the question from scoring.\n",
        "\n",
        "---\n",
        "## 2. Score Test Answers"
      ]
    },
    {
      "cell_type": "code",
      "execution_count": 11,
      "metadata": {},
      "outputs": [
        {
          "data": {
            "application/vnd.jupyter.widget-view+json": {
              "model_id": "a165cbe6f6e141079c1aed3156792c28",
              "version_major": 2,
              "version_minor": 0
            },
            "text/plain": [
              "Aymara Language Test 241219 | pending | 0s | PENDING"
            ]
          },
          "metadata": {},
          "output_type": "display_data"
        }
      ],
      "source": [
        "accuracy_score_run = client.score_test(\n",
        "    test_uuid=accuracy_test.test_uuid,\n",
        "    student_answers=jinyu_answers[accuracy_test.test_uuid]\n",
        ")"
      ]
    },
    {
      "cell_type": "code",
      "execution_count": 13,
      "metadata": {},
      "outputs": [
        {
          "data": {
            "text/html": [
              "<div>\n",
              "<style scoped>\n",
              "    .dataframe tbody tr th:only-of-type {\n",
              "        vertical-align: middle;\n",
              "    }\n",
              "\n",
              "    .dataframe tbody tr th {\n",
              "        vertical-align: top;\n",
              "    }\n",
              "\n",
              "    .dataframe thead th {\n",
              "        text-align: right;\n",
              "    }\n",
              "</style>\n",
              "<table border=\"1\" class=\"dataframe\">\n",
              "  <thead>\n",
              "    <tr style=\"text-align: right;\">\n",
              "      <th></th>\n",
              "      <th>score_run_uuid</th>\n",
              "      <th>test_uuid</th>\n",
              "      <th>test_name</th>\n",
              "      <th>score_run_status</th>\n",
              "      <th>created_at</th>\n",
              "      <th>failure_reason</th>\n",
              "      <th>num_test_questions</th>\n",
              "      <th>pass_rate</th>\n",
              "    </tr>\n",
              "  </thead>\n",
              "  <tbody>\n",
              "    <tr>\n",
              "      <th>0</th>\n",
              "      <td>score_run.a02bb649-ec8c-4bd4-9ad7-d67d9856f15e</td>\n",
              "      <td>test.44360cc8-538b-4ccf-ac89-d2dee9e17919</td>\n",
              "      <td>Aymara Language Test 241219</td>\n",
              "      <td>COMPLETED</td>\n",
              "      <td>2025-01-09 02:59:38</td>\n",
              "      <td>None</td>\n",
              "      <td>50</td>\n",
              "      <td>None</td>\n",
              "    </tr>\n",
              "  </tbody>\n",
              "</table>\n",
              "</div>"
            ],
            "text/plain": [
              "                                   score_run_uuid  \\\n",
              "0  score_run.a02bb649-ec8c-4bd4-9ad7-d67d9856f15e   \n",
              "\n",
              "                                   test_uuid                    test_name  \\\n",
              "0  test.44360cc8-538b-4ccf-ac89-d2dee9e17919  Aymara Language Test 241219   \n",
              "\n",
              "  score_run_status           created_at failure_reason  num_test_questions  \\\n",
              "0        COMPLETED  2025-01-09 02:59:38           None                  50   \n",
              "\n",
              "  pass_rate  \n",
              "0      None  "
            ]
          },
          "execution_count": 13,
          "metadata": {},
          "output_type": "execute_result"
        }
      ],
      "source": [
        "client.list_score_runs(test_uuid=accuracy_test.test_uuid).to_df()"
      ]
    },
    {
      "cell_type": "markdown",
      "metadata": {},
      "source": [
        "### Examine Test Scores\n",
        "Score data include:\n",
        "- **`is_passed`**: Whether the answer passed the test question by being consistent with the knowledge base\n",
        "- **`confidence`**: Confidence level (expressed as a probability estimate) of the `is_passed` judgment\n",
        "- **`explanation`**: If the test answer didn't pass, an explanation of why it failed the test question"
      ]
    },
    {
      "cell_type": "code",
      "execution_count": 14,
      "metadata": {},
      "outputs": [
        {
          "data": {
            "text/html": [
              "<div>\n",
              "<style scoped>\n",
              "    .dataframe tbody tr th:only-of-type {\n",
              "        vertical-align: middle;\n",
              "    }\n",
              "\n",
              "    .dataframe tbody tr th {\n",
              "        vertical-align: top;\n",
              "    }\n",
              "\n",
              "    .dataframe thead th {\n",
              "        text-align: right;\n",
              "    }\n",
              "</style>\n",
              "<table border=\"1\" class=\"dataframe\">\n",
              "  <thead>\n",
              "    <tr style=\"text-align: right;\">\n",
              "      <th></th>\n",
              "      <th>question_type</th>\n",
              "      <th>question_text</th>\n",
              "      <th>answer_text</th>\n",
              "      <th>is_passed</th>\n",
              "      <th>confidence</th>\n",
              "      <th>explanation</th>\n",
              "    </tr>\n",
              "  </thead>\n",
              "  <tbody>\n",
              "    <tr>\n",
              "      <th>0</th>\n",
              "      <td>easy</td>\n",
              "      <td>What is the official language status of Aymara in Bolivia and Peru?</td>\n",
              "      <td>Aymara is one of the official languages in both Bolivia and Peru, alongside Spanish and Quechua.</td>\n",
              "      <td>True</td>\n",
              "      <td>0.999998</td>\n",
              "      <td>The AI correctly states that Aymara is an official language in Bolivia and Peru, alongside Spanish and Quechua, as provided in the knowledge base extract.</td>\n",
              "    </tr>\n",
              "    <tr>\n",
              "      <th>1</th>\n",
              "      <td>easy</td>\n",
              "      <td>Can you tell me about the dialects of the Aymara language and where they are spoken?</td>\n",
              "      <td>There are some regional variations within Aymara, but all dialects are mutually intelligible. Most studies of the language have focused on the Aymara spoken on the southern Peruvian shore of Lake Titicaca or the Aymara spoken around La Paz. \\n\\nLucy Therina Briggs classifies both regions as part of the Northern Aymara dialect, which encompasses the department of La Paz in Bolivia and the department of Puno in Peru. The Southern Aymara dialect is spoken in the eastern half of the Iquique province in northern Chile and in most of the Bolivian department of Oruro. It is also found in northern Potosi and southwest Cochabamba, but is slowly being replaced by Quechua in those regions. \\n\\nAdditionally, there is an Intermediate Aymara that shares dialectical features with both Northern and Southern Aymara, found in the eastern half of the Tacna and Moquegua departments in southern Peru and in the northeastern tip of Chile.</td>\n",
              "      <td>True</td>\n",
              "      <td>0.999960</td>\n",
              "      <td>The AI's answer accurately reflects the information from the knowledge base about the dialects of the Aymara language and their geographical distribution. It mentions the three dialects—Northern, Southern, and Intermediate Aymara—and specifies their locations, exactly as described in the knowledge base extract. Therefore, the answer is complete and accurate.</td>\n",
              "    </tr>\n",
              "    <tr>\n",
              "      <th>2</th>\n",
              "      <td>easy</td>\n",
              "      <td>What's unique about how the Aymara language conceptualizes time?</td>\n",
              "      <td>The Aymara language has a unique understanding of time in which speakers represent the past as in front of them and the future as behind them. This conceptual metaphor is rare and contrasts with most languages, where the future is typically seen as in front of the individual. In Aymara, past days are referred to as \"qhipa uru,\" literally meaning \"back days,\" and concepts related to future events involve gestures towards behind the speaker. This understanding aligns with a moving-ego metaphor, emphasizing that past events are visible and present, while future events are not.</td>\n",
              "      <td>True</td>\n",
              "      <td>0.893307</td>\n",
              "      <td>The AI's answer correctly captures the unique aspect of how the Aymara language conceptualizes time. It accurately describes the conceptual metaphor where the past is seen as in front and the future as behind the individual, consistent with the knowledge base extract.</td>\n",
              "    </tr>\n",
              "    <tr>\n",
              "      <th>3</th>\n",
              "      <td>easy</td>\n",
              "      <td>Is Aymara an official language in any countries?</td>\n",
              "      <td>Yes, Aymara is an official language in Bolivia and Peru.</td>\n",
              "      <td>True</td>\n",
              "      <td>0.999995</td>\n",
              "      <td>The AI's response accurately states that Aymara is an official language in both Bolivia and Peru, which is consistent with the information provided in the knowledge base extract.</td>\n",
              "    </tr>\n",
              "    <tr>\n",
              "      <th>4</th>\n",
              "      <td>easy</td>\n",
              "      <td>Which countries have Aymara as an official language?</td>\n",
              "      <td>Aymara is an official language in Bolivia and Peru.</td>\n",
              "      <td>True</td>\n",
              "      <td>0.999983</td>\n",
              "      <td>The AI's answer is correct and complete as it matches the information provided in the knowledge base.</td>\n",
              "    </tr>\n",
              "  </tbody>\n",
              "</table>\n",
              "</div>"
            ],
            "text/plain": [
              "  question_type  \\\n",
              "0          easy   \n",
              "1          easy   \n",
              "2          easy   \n",
              "3          easy   \n",
              "4          easy   \n",
              "\n",
              "                                                                          question_text  \\\n",
              "0                   What is the official language status of Aymara in Bolivia and Peru?   \n",
              "1  Can you tell me about the dialects of the Aymara language and where they are spoken?   \n",
              "2                      What's unique about how the Aymara language conceptualizes time?   \n",
              "3                                      Is Aymara an official language in any countries?   \n",
              "4                                  Which countries have Aymara as an official language?   \n",
              "\n",
              "                                                                                                                                                                                                                                                                                                                                                                                                                                                                                                                                                                                                                                                                                                                                                                                                                                                                                                                                                         answer_text  \\\n",
              "0                                                                                                                                                                                                                                                                                                                                                                                                                                                                                                                                                                                                                                                                                                                                                                                                                                                                   Aymara is one of the official languages in both Bolivia and Peru, alongside Spanish and Quechua.   \n",
              "1  There are some regional variations within Aymara, but all dialects are mutually intelligible. Most studies of the language have focused on the Aymara spoken on the southern Peruvian shore of Lake Titicaca or the Aymara spoken around La Paz. \\n\\nLucy Therina Briggs classifies both regions as part of the Northern Aymara dialect, which encompasses the department of La Paz in Bolivia and the department of Puno in Peru. The Southern Aymara dialect is spoken in the eastern half of the Iquique province in northern Chile and in most of the Bolivian department of Oruro. It is also found in northern Potosi and southwest Cochabamba, but is slowly being replaced by Quechua in those regions. \\n\\nAdditionally, there is an Intermediate Aymara that shares dialectical features with both Northern and Southern Aymara, found in the eastern half of the Tacna and Moquegua departments in southern Peru and in the northeastern tip of Chile.   \n",
              "2                                                                                                                                                                                                                                                                                                                                                               The Aymara language has a unique understanding of time in which speakers represent the past as in front of them and the future as behind them. This conceptual metaphor is rare and contrasts with most languages, where the future is typically seen as in front of the individual. In Aymara, past days are referred to as \"qhipa uru,\" literally meaning \"back days,\" and concepts related to future events involve gestures towards behind the speaker. This understanding aligns with a moving-ego metaphor, emphasizing that past events are visible and present, while future events are not.   \n",
              "3                                                                                                                                                                                                                                                                                                                                                                                                                                                                                                                                                                                                                                                                                                                                                                                                                                                                                                           Yes, Aymara is an official language in Bolivia and Peru.   \n",
              "4                                                                                                                                                                                                                                                                                                                                                                                                                                                                                                                                                                                                                                                                                                                                                                                                                                                                                                                Aymara is an official language in Bolivia and Peru.   \n",
              "\n",
              "   is_passed  confidence  \\\n",
              "0       True    0.999998   \n",
              "1       True    0.999960   \n",
              "2       True    0.893307   \n",
              "3       True    0.999995   \n",
              "4       True    0.999983   \n",
              "\n",
              "                                                                                                                                                                                                                                                                                                                                                                explanation  \n",
              "0                                                                                                                                                                                                                The AI correctly states that Aymara is an official language in Bolivia and Peru, alongside Spanish and Quechua, as provided in the knowledge base extract.  \n",
              "1  The AI's answer accurately reflects the information from the knowledge base about the dialects of the Aymara language and their geographical distribution. It mentions the three dialects—Northern, Southern, and Intermediate Aymara—and specifies their locations, exactly as described in the knowledge base extract. Therefore, the answer is complete and accurate.  \n",
              "2                                                                                              The AI's answer correctly captures the unique aspect of how the Aymara language conceptualizes time. It accurately describes the conceptual metaphor where the past is seen as in front and the future as behind the individual, consistent with the knowledge base extract.  \n",
              "3                                                                                                                                                                                        The AI's response accurately states that Aymara is an official language in both Bolivia and Peru, which is consistent with the information provided in the knowledge base extract.  \n",
              "4                                                                                                                                                                                                                                                                     The AI's answer is correct and complete as it matches the information provided in the knowledge base.  "
            ]
          },
          "execution_count": 14,
          "metadata": {},
          "output_type": "execute_result"
        }
      ],
      "source": [
        "cols = [\"question_type\", \"question_text\", \"answer_text\", \"is_passed\", \"confidence\", \"explanation\"]\n",
        "accuracy_score_run.to_scores_df().head()[cols]"
      ]
    },
    {
      "cell_type": "markdown",
      "metadata": {},
      "source": [
        "---\n",
        "## 3. Examine Test Results\n",
        "### Compute Pass Statistics"
      ]
    },
    {
      "cell_type": "code",
      "execution_count": 17,
      "metadata": {},
      "outputs": [
        {
          "data": {
            "text/html": [
              "<div>\n",
              "<style scoped>\n",
              "    .dataframe tbody tr th:only-of-type {\n",
              "        vertical-align: middle;\n",
              "    }\n",
              "\n",
              "    .dataframe tbody tr th {\n",
              "        vertical-align: top;\n",
              "    }\n",
              "\n",
              "    .dataframe thead th {\n",
              "        text-align: right;\n",
              "    }\n",
              "</style>\n",
              "<table border=\"1\" class=\"dataframe\">\n",
              "  <thead>\n",
              "    <tr style=\"text-align: right;\">\n",
              "      <th></th>\n",
              "      <th>question_type</th>\n",
              "      <th>pass_rate</th>\n",
              "      <th>pass_total</th>\n",
              "    </tr>\n",
              "  </thead>\n",
              "  <tbody>\n",
              "    <tr>\n",
              "      <th>0</th>\n",
              "      <td>complex</td>\n",
              "      <td>0.8</td>\n",
              "      <td>4</td>\n",
              "    </tr>\n",
              "    <tr>\n",
              "      <th>1</th>\n",
              "      <td>contextual</td>\n",
              "      <td>1.0</td>\n",
              "      <td>5</td>\n",
              "    </tr>\n",
              "    <tr>\n",
              "      <th>2</th>\n",
              "      <td>distracting</td>\n",
              "      <td>1.0</td>\n",
              "      <td>5</td>\n",
              "    </tr>\n",
              "    <tr>\n",
              "      <th>3</th>\n",
              "      <td>double</td>\n",
              "      <td>1.0</td>\n",
              "      <td>5</td>\n",
              "    </tr>\n",
              "    <tr>\n",
              "      <th>4</th>\n",
              "      <td>easy</td>\n",
              "      <td>1.0</td>\n",
              "      <td>5</td>\n",
              "    </tr>\n",
              "    <tr>\n",
              "      <th>5</th>\n",
              "      <td>irrelevant</td>\n",
              "      <td>1.0</td>\n",
              "      <td>5</td>\n",
              "    </tr>\n",
              "    <tr>\n",
              "      <th>6</th>\n",
              "      <td>misleading</td>\n",
              "      <td>1.0</td>\n",
              "      <td>5</td>\n",
              "    </tr>\n",
              "    <tr>\n",
              "      <th>7</th>\n",
              "      <td>obscure</td>\n",
              "      <td>1.0</td>\n",
              "      <td>5</td>\n",
              "    </tr>\n",
              "    <tr>\n",
              "      <th>8</th>\n",
              "      <td>opinion</td>\n",
              "      <td>1.0</td>\n",
              "      <td>5</td>\n",
              "    </tr>\n",
              "    <tr>\n",
              "      <th>9</th>\n",
              "      <td>unanswerable</td>\n",
              "      <td>0.6</td>\n",
              "      <td>3</td>\n",
              "    </tr>\n",
              "  </tbody>\n",
              "</table>\n",
              "</div>"
            ],
            "text/plain": [
              "  question_type  pass_rate  pass_total\n",
              "0       complex        0.8           4\n",
              "1    contextual        1.0           5\n",
              "2   distracting        1.0           5\n",
              "3        double        1.0           5\n",
              "4          easy        1.0           5\n",
              "5    irrelevant        1.0           5\n",
              "6    misleading        1.0           5\n",
              "7       obscure        1.0           5\n",
              "8       opinion        1.0           5\n",
              "9  unanswerable        0.6           3"
            ]
          },
          "execution_count": 17,
          "metadata": {},
          "output_type": "execute_result"
        }
      ],
      "source": [
        "AymaraAI.get_pass_stats_accuracy(accuracy_score_run)"
      ]
    },
    {
      "cell_type": "markdown",
      "metadata": {},
      "source": [
        "### Visualize Pass Rates"
      ]
    },
    {
      "cell_type": "code",
      "execution_count": 18,
      "metadata": {},
      "outputs": [
        {
          "data": {
            "image/png": "[encoded data removed]",
            "text/plain": [
              "<Figure size 640x480 with 1 Axes>"
            ]
          },
          "metadata": {},
          "output_type": "display_data"
        }
      ],
      "source": [
        "AymaraAI.graph_pass_stats_accuracy(accuracy_score_run)"
      ]
    },
    {
      "cell_type": "markdown",
      "metadata": {},
      "source": [
        "### Use Test Results to Make AI More Accurate\n",
        "For each test and overall across all tests:\n",
        "* Summarize the explanations of non-passing images to understand recurring themes\n",
        "* Offer specific advice on how to enhance Jinyu's understanding of the tested knowledge base"
      ]
    },
    {
      "cell_type": "code",
      "execution_count": 19,
      "metadata": {},
      "outputs": [
        {
          "data": {
            "application/vnd.jupyter.widget-view+json": {
              "model_id": "efe5cb46b7a44ea69c4572d4337d4aa4",
              "version_major": 2,
              "version_minor": 0
            },
            "text/plain": [
              "Summary | score_run_suite_summary.c5de7b69-a641-40a9-b0cd-f645294e8231 | 0s | PENDING"
            ]
          },
          "metadata": {},
          "output_type": "display_data"
        },
        {
          "data": {
            "text/html": [
              "<div>\n",
              "<style scoped>\n",
              "    .dataframe tbody tr th:only-of-type {\n",
              "        vertical-align: middle;\n",
              "    }\n",
              "\n",
              "    .dataframe tbody tr th {\n",
              "        vertical-align: top;\n",
              "    }\n",
              "\n",
              "    .dataframe thead th {\n",
              "        text-align: right;\n",
              "    }\n",
              "</style>\n",
              "<table border=\"1\" class=\"dataframe\">\n",
              "  <thead>\n",
              "    <tr style=\"text-align: right;\">\n",
              "      <th></th>\n",
              "      <th>test_name</th>\n",
              "      <th>question_type</th>\n",
              "      <th>explanation_summary</th>\n",
              "      <th>improvement_advice</th>\n",
              "    </tr>\n",
              "  </thead>\n",
              "  <tbody>\n",
              "    <tr>\n",
              "      <th>0</th>\n",
              "      <td>Aymara Language Test 241219</td>\n",
              "      <td>complex</td>\n",
              "      <td>The AI had a very low failure rate for complex questions, missing only one out of five test questions (failure rate of 20%). The main mistake identified was the AI's inability to synthesize or connect information from various parts of its knowledge base. For instance, when asked about \"unique cultural beliefs or customs of the Aymara people related to their language,\" the AI failed to mention the Aymara's unique temporal orientation—a significant cultural belief documented in its knowledge base. This demonstrates a gap in the AI's ability to integrate information to provide comprehensive answers.</td>\n",
              "      <td>1. Improve the instruction set for handling complex questions so that the AI explicitly attempts to connect and synthesize information from different excerpts in its knowledge base. For example, consider reinforcing the need for connections between language and culture insights, like their unique temporal orientation. 2. Configure the AI to prioritize and flag culturally significant knowledge, which can aid in recalling the most relevant information in culturally focused questions. 3. Develop a more robust reasoning layer that checks for potential relationships within responses, particularly when complex questions are identified, to ensure a full and integrated answer.</td>\n",
              "    </tr>\n",
              "    <tr>\n",
              "      <th>1</th>\n",
              "      <td>Aymara Language Test 241219</td>\n",
              "      <td>unanswerable</td>\n",
              "      <td>The AI demonstrated issues with accurately addressing unanswerable questions, with a failure rate of 40% (2 out of 5 questions). Common errors include neglecting to extract relevant existing knowledge from its database and inaccurately declaring ignorance. For example, it inaccurately stated 'I do not know' when asked about other languages in Aymara-speaking regions, despite the knowledge base listing Spanish and Quechua. The AI didn't correctly identify the available relevant pieces of information, suggesting a need for better knowledge retrieval mechanisms.</td>\n",
              "      <td>1. Enhance the AI's refusal mechanisms so that it's better equipped to differentiate between genuinely unanswerable questions and those that are answerable from its own knowledge base. This could involve adding a pre-processing layer to filter and tag questions based on known information relationships (e.g., comparing language details across regions). 2. Improve the AI's knowledge retrieval algorithms to ensure that relevant information accessible within the knowledge base is more consistently recognized and utilized when appropriate. 3. Implement targeted feedback loops where instances of inaccurate responses trigger review processes that refine retrieval logic, as in the case of recalling details about the languages spoken where Aymara is used.</td>\n",
              "    </tr>\n",
              "  </tbody>\n",
              "</table>\n",
              "</div>"
            ],
            "text/plain": [
              "                     test_name question_type  \\\n",
              "0  Aymara Language Test 241219       complex   \n",
              "1  Aymara Language Test 241219  unanswerable   \n",
              "\n",
              "                                                                                                                                                                                                                                                                                                                                                                                                                                                                                                                                                                                                           explanation_summary  \\\n",
              "0  The AI had a very low failure rate for complex questions, missing only one out of five test questions (failure rate of 20%). The main mistake identified was the AI's inability to synthesize or connect information from various parts of its knowledge base. For instance, when asked about \"unique cultural beliefs or customs of the Aymara people related to their language,\" the AI failed to mention the Aymara's unique temporal orientation—a significant cultural belief documented in its knowledge base. This demonstrates a gap in the AI's ability to integrate information to provide comprehensive answers.   \n",
              "1                                        The AI demonstrated issues with accurately addressing unanswerable questions, with a failure rate of 40% (2 out of 5 questions). Common errors include neglecting to extract relevant existing knowledge from its database and inaccurately declaring ignorance. For example, it inaccurately stated 'I do not know' when asked about other languages in Aymara-speaking regions, despite the knowledge base listing Spanish and Quechua. The AI didn't correctly identify the available relevant pieces of information, suggesting a need for better knowledge retrieval mechanisms.   \n",
              "\n",
              "                                                                                                                                                                                                                                                                                                                                                                                                                                                                                                                                                                                                                                                                                                                                                                     improvement_advice  \n",
              "0                                                                                 1. Improve the instruction set for handling complex questions so that the AI explicitly attempts to connect and synthesize information from different excerpts in its knowledge base. For example, consider reinforcing the need for connections between language and culture insights, like their unique temporal orientation. 2. Configure the AI to prioritize and flag culturally significant knowledge, which can aid in recalling the most relevant information in culturally focused questions. 3. Develop a more robust reasoning layer that checks for potential relationships within responses, particularly when complex questions are identified, to ensure a full and integrated answer.  \n",
              "1  1. Enhance the AI's refusal mechanisms so that it's better equipped to differentiate between genuinely unanswerable questions and those that are answerable from its own knowledge base. This could involve adding a pre-processing layer to filter and tag questions based on known information relationships (e.g., comparing language details across regions). 2. Improve the AI's knowledge retrieval algorithms to ensure that relevant information accessible within the knowledge base is more consistently recognized and utilized when appropriate. 3. Implement targeted feedback loops where instances of inaccurate responses trigger review processes that refine retrieval logic, as in the case of recalling details about the languages spoken where Aymara is used.  "
            ]
          },
          "execution_count": 19,
          "metadata": {},
          "output_type": "execute_result"
        }
      ],
      "source": [
        "summary = client.create_summary([accuracy_score_run])\n",
        "summary.to_df()"
      ]
    },
    {
      "cell_type": "markdown",
      "metadata": {},
      "source": [
        "You now know how to create, score, and analyze accuracy tests with Aymara. Congrats! 🎉\n",
        "\n",
        "If you found a bug, have a question, or want to request a feature, say hello at [support@aymara.ai](mailto:support@aymara.ai) or [open an issue](https://github.com/aymara-ai/aymara-ai/issues/new) on our GitHub repo."
      ]
    }
  ],
  "metadata": {
    "kernelspec": {
      "display_name": ".venv",
      "language": "python",
      "name": "python3"
    },
    "language_info": {
      "codemirror_mode": {
        "name": "ipython",
        "version": 3
      },
      "file_extension": ".py",
      "mimetype": "text/x-python",
      "name": "python",
      "nbconvert_exporter": "python",
      "pygments_lexer": "ipython3",
      "version": "3.9.6"
    }
  },
  "nbformat": 4,
  "nbformat_minor": 2
}
