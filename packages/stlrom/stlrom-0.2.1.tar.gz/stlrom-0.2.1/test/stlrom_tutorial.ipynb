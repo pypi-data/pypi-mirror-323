{
 "cells": [
  {
   "cell_type": "markdown",
   "metadata": {
    "id": "Jv6kdiC2Z_1v"
   },
   "source": [
    "# STLRom Tutorial\n",
    "First we install and import the library."
   ]
  },
  {
   "cell_type": "code",
   "execution_count": 1,
   "metadata": {},
   "outputs": [],
   "source": [
    "import os\n",
    "import sys\n",
    "import importlib\n",
    "# Get the absolute path to the directory containing the local module\n",
    "stlrom_path = os.path.abspath('../build')\n",
    "\n",
    "# Insert the local module path at the beginning of sys.path\n",
    "sys.path.insert(0, stlrom_path)\n",
    "\n",
    "import stlrom\n",
    "\n",
    "# Reload the module to ensure it is loaded from the new path\n",
    "importlib.reload(stlrom)\n",
    "\n",
    "import stlrom as sr\n",
    "import numpy as np"
   ]
  },
  {
   "cell_type": "code",
   "execution_count": 1,
   "metadata": {
    "colab": {
     "base_uri": "https://localhost:8080/"
    },
    "executionInfo": {
     "elapsed": 4513,
     "status": "ok",
     "timestamp": 1733815965267,
     "user": {
      "displayName": "Alexandre Donze",
      "userId": "14136053151794637669"
     },
     "user_tz": -60
    },
    "id": "se0wGvIUZ_1w",
    "outputId": "9e049ff3-d4cf-46b2-e09b-9243140f4962"
   },
   "outputs": [],
   "source": [
    "#!pip install stlrom # can take a couple of minutes to build initially\n",
    "import stlrom"
   ]
  },
  {
   "cell_type": "markdown",
   "metadata": {
    "id": "xH0hv-MXZ_1w"
   },
   "source": [
    "## Parsing Formulas\n",
    "We instantiate an STLDriver object. Its purpose is to parse STL specification read in strings or files."
   ]
  },
  {
   "cell_type": "code",
   "execution_count": 2,
   "metadata": {
    "executionInfo": {
     "elapsed": 414,
     "status": "ok",
     "timestamp": 1733815972228,
     "user": {
      "displayName": "Alexandre Donze",
      "userId": "14136053151794637669"
     },
     "user_tz": -60
    },
    "id": "dEd4I39DZ_1w"
   },
   "outputs": [],
   "source": [
    "stl_driver = stlrom.STLDriver()"
   ]
  },
  {
   "cell_type": "markdown",
   "metadata": {
    "id": "4d9BUinGZ_1w"
   },
   "source": [
    "We need to declare signals, parameters (optional), and formulas. For this we use the `parse_string()` method."
   ]
  },
  {
   "cell_type": "code",
   "execution_count": 3,
   "metadata": {
    "colab": {
     "base_uri": "https://localhost:8080/"
    },
    "executionInfo": {
     "elapsed": 308,
     "status": "ok",
     "timestamp": 1733815974171,
     "user": {
      "displayName": "Alexandre Donze",
      "userId": "14136053151794637669"
     },
     "user_tz": -60
    },
    "id": "UFuU6fkpZ_1w",
    "outputId": "9d5b3923-53e5-4cee-e75c-4f19ad13e847"
   },
   "outputs": [
    {
     "data": {
      "text/plain": [
       "True"
      ]
     },
     "execution_count": 3,
     "metadata": {},
     "output_type": "execute_result"
    }
   ],
   "source": [
    "stl_driver.parse_string(\"signal x, y\")       # declaring signals named 'x' and 'y'\n",
    "stl_driver.parse_string(\"param p=0.2, tau=5\") # declaring parameters named 'p' and 'q'"
   ]
  },
  {
   "cell_type": "markdown",
   "metadata": {
    "id": "vrEE4WtQZ_1w"
   },
   "source": [
    "Let's declare formulas. Note that formulas previously defined can be re-used as sub-formulas."
   ]
  },
  {
   "cell_type": "code",
   "execution_count": 4,
   "metadata": {
    "colab": {
     "base_uri": "https://localhost:8080/"
    },
    "executionInfo": {
     "elapsed": 519,
     "status": "ok",
     "timestamp": 1733815975950,
     "user": {
      "displayName": "Alexandre Donze",
      "userId": "14136053151794637669"
     },
     "user_tz": -60
    },
    "id": "zHES81NbZ_1w",
    "outputId": "43427ba9-75e0-4a57-f77f-2be5539f86ba"
   },
   "outputs": [
    {
     "data": {
      "text/plain": [
       "True"
      ]
     },
     "execution_count": 4,
     "metadata": {},
     "output_type": "execute_result"
    }
   ],
   "source": [
    "stl_driver.parse_string(\"mu_x := x[t] > 0 \") # a atomic proposition\n",
    "stl_driver.parse_string(\"mu_y := y[t] < p \") # another atomic proposition with a parameter\n",
    "stl_driver.parse_string(\"mu := mu_x and mu_y\") # a compound proposition\n",
    "stl_driver.parse_string(\"phi := ev_[0, tau] mu\") # a temporal proposition with parameter tau"
   ]
  },
  {
   "cell_type": "markdown",
   "metadata": {
    "id": "QCo1nAUrZ_1w"
   },
   "source": [
    "## Adding Timed Samples Data\n",
    "We can now add data. We do it by adding time valued samples of the form [t, x, y]. Be careful to respect the order of signals declaration."
   ]
  },
  {
   "cell_type": "code",
   "execution_count": 5,
   "metadata": {
    "colab": {
     "base_uri": "https://localhost:8080/"
    },
    "executionInfo": {
     "elapsed": 382,
     "status": "ok",
     "timestamp": 1733816096951,
     "user": {
      "displayName": "Alexandre Donze",
      "userId": "14136053151794637669"
     },
     "user_tz": -60
    },
    "id": "Qm7v6XcWZ_1w",
    "outputId": "f96f370e-95e0-4b14-ccd6-4baf68980640"
   },
   "outputs": [
    {
     "name": "stdout",
     "output_type": "stream",
     "text": [
      "[[0.0, 2.0, 3.0], [0.5, -1.0, -4.0], [3.0, 3.0, -5.0]]\n"
     ]
    }
   ],
   "source": [
    "stl_driver.add_sample([0, 2., 3.])     # at time 0, x=2, y=3\n",
    "stl_driver.add_sample([0.5, -1., -4.]) # at time 0.5, x=-1, y=-4\n",
    "stl_driver.add_sample([3., 3., -5.])    # etc.\n",
    "print(stl_driver.data)"
   ]
  },
  {
   "cell_type": "markdown",
   "metadata": {
    "id": "MRn4NuWcZ_1x"
   },
   "source": [
    "## Eval Formula Satisfaction\n",
    "\n",
    "We are now ready to evaluate formulas. For this we use the get_online_rob() method."
   ]
  },
  {
   "cell_type": "code",
   "execution_count": 6,
   "metadata": {
    "colab": {
     "base_uri": "https://localhost:8080/"
    },
    "executionInfo": {
     "elapsed": 424,
     "status": "ok",
     "timestamp": 1733816098695,
     "user": {
      "displayName": "Alexandre Donze",
      "userId": "14136053151794637669"
     },
     "user_tz": -60
    },
    "id": "-1URFS1XZ_1x",
    "outputId": "6ea0349d-7666-4814-8c54-dde57ef84da7"
   },
   "outputs": [
    {
     "name": "stdout",
     "output_type": "stream",
     "text": [
      "rob_mu_x =  [2.0, 2.0, 2.0]\n",
      "rob_mu_y =  [-2.8, -2.8, -2.8]\n",
      "rob_mu =  [-2.8, -2.8, -2.8]\n",
      "rob_phi =  [3.0, 3.0, 10000.0]\n"
     ]
    }
   ],
   "source": [
    "rob_mu_x  = stl_driver.get_online_rob(\"mu_x\")\n",
    "rob_mu_y  = stl_driver.get_online_rob(\"mu_y\")\n",
    "rob_mu    = stl_driver.get_online_rob(\"mu\")\n",
    "rob_phi = stl_driver.get_online_rob(\"phi\")\n",
    "\n",
    "print(\"rob_mu_x = \", rob_mu_x)\n",
    "print(\"rob_mu_y = \", rob_mu_y)\n",
    "print(\"rob_mu = \", rob_mu)\n",
    "print(\"rob_phi = \", rob_phi)"
   ]
  },
  {
   "cell_type": "markdown",
   "metadata": {
    "id": "eiYh7xDcZ_1x"
   },
   "source": [
    "`get_online_rob(\"phi\")` returns three values: `[rob_estimate, rob_low, rob_up]`. They have the following characteristics:\n",
    "- if the `phi` can be fully evaluated by the data, then all three values are equal to the actual robust satisfaction `rob` of the formula. On the example above, this is the case for atomic propositions, which are evaluated at time 0 by default.\n",
    "- Otherwise, `[rob_estimate, rob_low, rob_up]` are respectively an estimate, a lower bound and an upper bound of `rob`. In the example above, `phi` cannot be evaluated because we have data up to time 3 and the formula requires data up to time `tau`, which is 5. However, stlrom computed that rob is between 3 and 10000, which means that we can already assert that the formula is satisfied (rob is positive.)\n",
    "\n",
    "Note that 10000 is an arbitrary large number that can be changed using the set_BigM() method."
   ]
  },
  {
   "cell_type": "code",
   "execution_count": 7,
   "metadata": {
    "executionInfo": {
     "elapsed": 310,
     "status": "ok",
     "timestamp": 1733816100741,
     "user": {
      "displayName": "Alexandre Donze",
      "userId": "14136053151794637669"
     },
     "user_tz": -60
    },
    "id": "4cyJjJzkZ_1x"
   },
   "outputs": [],
   "source": [
    "s = stlrom.Signal().set_BigM(5000) # set the BigM value globally to 5000"
   ]
  },
  {
   "cell_type": "code",
   "execution_count": 8,
   "metadata": {
    "colab": {
     "base_uri": "https://localhost:8080/"
    },
    "executionInfo": {
     "elapsed": 512,
     "status": "ok",
     "timestamp": 1733816103403,
     "user": {
      "displayName": "Alexandre Donze",
      "userId": "14136053151794637669"
     },
     "user_tz": -60
    },
    "id": "8xD4M_C4Z_1x",
    "outputId": "0c08df9c-6c27-4efb-dd7a-c2a5bae08d9d"
   },
   "outputs": [
    {
     "name": "stdout",
     "output_type": "stream",
     "text": [
      "[3.0, 3.0, 5000.0]\n"
     ]
    }
   ],
   "source": [
    "rob_phi = stl_driver.get_online_rob(\"phi\")\n",
    "print(rob_phi)"
   ]
  },
  {
   "cell_type": "markdown",
   "metadata": {
    "id": "ltc4D51fZ_1x"
   },
   "source": [
    "## Changing Parameters\n",
    "Parameters can be changed using set_param().\n"
   ]
  },
  {
   "cell_type": "code",
   "execution_count": 9,
   "metadata": {
    "colab": {
     "base_uri": "https://localhost:8080/"
    },
    "executionInfo": {
     "elapsed": 557,
     "status": "ok",
     "timestamp": 1733816105617,
     "user": {
      "displayName": "Alexandre Donze",
      "userId": "14136053151794637669"
     },
     "user_tz": -60
    },
    "id": "tSvdzyexZ_1x",
    "outputId": "b83cdbc9-6e62-453a-aaef-9f09cc556f6a"
   },
   "outputs": [
    {
     "name": "stdout",
     "output_type": "stream",
     "text": [
      "[3.0, 3.0, 3.0]\n"
     ]
    }
   ],
   "source": [
    "stl_driver.set_param(\"tau\", 3.) # change the value of the parameter tau, from 5 to 3\n",
    "rob_phi = stl_driver.get_online_rob(\"phi\")\n",
    "print(rob_phi)"
   ]
  },
  {
   "cell_type": "markdown",
   "metadata": {
    "id": "V0b9F_10Z_1x"
   },
   "source": [
    "## Evaluating Formulas From Time Greater Than 0\n",
    "Note that the robustness value of phi is now fully computed, since we reduced the time bound of the eventually operator. `get_online_rob()` can be called at a time different than 0."
   ]
  },
  {
   "cell_type": "code",
   "execution_count": 10,
   "metadata": {
    "colab": {
     "base_uri": "https://localhost:8080/"
    },
    "executionInfo": {
     "elapsed": 269,
     "status": "ok",
     "timestamp": 1733816108154,
     "user": {
      "displayName": "Alexandre Donze",
      "userId": "14136053151794637669"
     },
     "user_tz": -60
    },
    "id": "Gbq_x0l3Z_1x",
    "outputId": "e13019b4-2218-4f1f-c347-bf482ba702ab"
   },
   "outputs": [
    {
     "name": "stdout",
     "output_type": "stream",
     "text": [
      "rob_mu_at_1: [-0.19999999999999996, -0.19999999999999996, -0.19999999999999996]\n",
      "rob_phi_at_1: [3.0, 3.0, 5000.0]\n"
     ]
    }
   ],
   "source": [
    "rob_mu_at_1 = stl_driver.get_online_rob(\"mu_x\", 1)\n",
    "print(\"rob_mu_at_1:\", rob_mu_at_1)\n",
    "\n",
    "rob_phi_at_1 = stl_driver.get_online_rob(\"phi\", 1)\n",
    "print(\"rob_phi_at_1:\", rob_phi_at_1)\n"
   ]
  },
  {
   "cell_type": "markdown",
   "metadata": {
    "id": "Vl5wOwbGZ_1x"
   },
   "source": [
    "Note that data is interpolated linearly between samples. Also from time 1, the horizon of the eventually operator again goes beyond what we have in the data. The interpolation method can be changed to be piecewise constant."
   ]
  },
  {
   "cell_type": "code",
   "execution_count": 11,
   "metadata": {
    "colab": {
     "base_uri": "https://localhost:8080/",
     "height": 35
    },
    "executionInfo": {
     "elapsed": 387,
     "status": "ok",
     "timestamp": 1733816866872,
     "user": {
      "displayName": "Alexandre Donze",
      "userId": "14136053151794637669"
     },
     "user_tz": -60
    },
    "id": "JSh5pBEagukw",
    "outputId": "4ff66b7c-6ddb-42c9-b1eb-950dd9e49e48"
   },
   "outputs": [
    {
     "data": {
      "text/plain": [
       "'LINEAR'"
      ]
     },
     "execution_count": 11,
     "metadata": {},
     "output_type": "execute_result"
    }
   ],
   "source": [
    "stl_driver.get_interpol()"
   ]
  },
  {
   "cell_type": "markdown",
   "metadata": {
    "id": "ViKydvdHiPT0"
   },
   "source": [
    "For now only 'LINEAR' and 'PREVIOUS' interpolation are available."
   ]
  },
  {
   "cell_type": "code",
   "execution_count": 20,
   "metadata": {
    "executionInfo": {
     "elapsed": 617,
     "status": "ok",
     "timestamp": 1733816884115,
     "user": {
      "displayName": "Alexandre Donze",
      "userId": "14136053151794637669"
     },
     "user_tz": -60
    },
    "id": "JT21z6vihIbT"
   },
   "outputs": [],
   "source": [
    "stl_driver.set_interpol('PREVIOUS')\n"
   ]
  },
  {
   "cell_type": "code",
   "execution_count": 21,
   "metadata": {},
   "outputs": [
    {
     "data": {
      "text/plain": [
       "'PREVIOUS'"
      ]
     },
     "execution_count": 21,
     "metadata": {},
     "output_type": "execute_result"
    }
   ],
   "source": [
    "stl_driver.get_interpol()"
   ]
  },
  {
   "cell_type": "code",
   "execution_count": 22,
   "metadata": {
    "colab": {
     "base_uri": "https://localhost:8080/"
    },
    "executionInfo": {
     "elapsed": 413,
     "status": "ok",
     "timestamp": 1733816901934,
     "user": {
      "displayName": "Alexandre Donze",
      "userId": "14136053151794637669"
     },
     "user_tz": -60
    },
    "id": "gp2GsdxTihdg",
    "outputId": "314c67d5-41dc-4d03-b9dd-52138101aa02"
   },
   "outputs": [
    {
     "name": "stdout",
     "output_type": "stream",
     "text": [
      "rob_mu_at_1: [-1.0, -1.0, -1.0]\n"
     ]
    }
   ],
   "source": [
    "rob_mu_at_1 = stl_driver.get_online_rob(\"mu_x\", 1)\n",
    "print(\"rob_mu_at_1:\", rob_mu_at_1)\n"
   ]
  },
  {
   "cell_type": "markdown",
   "metadata": {
    "id": "fC3eIoDSi5yP"
   },
   "source": [
    "## STLMonitor\n",
    "\n",
    "A STLDriver object can be used to create standalone monitors as STLMonitor object. They inherit data, parameters, options, etc from the STLDriver object, but can only monitor one formula and cannot parse any more."
   ]
  },
  {
   "cell_type": "code",
   "execution_count": 23,
   "metadata": {
    "executionInfo": {
     "elapsed": 309,
     "status": "ok",
     "timestamp": 1733817121785,
     "user": {
      "displayName": "Alexandre Donze",
      "userId": "14136053151794637669"
     },
     "user_tz": -60
    },
    "id": "Emm-zJIril4Y"
   },
   "outputs": [],
   "source": [
    "phi = stl_driver.get_monitor('phi')"
   ]
  },
  {
   "cell_type": "markdown",
   "metadata": {
    "id": "sON9svw_jc5k"
   },
   "source": [
    "`phi` gets a copy of `stl_driver` data. It can now get more samples and monitor them independantly."
   ]
  },
  {
   "cell_type": "code",
   "execution_count": 24,
   "metadata": {
    "colab": {
     "base_uri": "https://localhost:8080/"
    },
    "executionInfo": {
     "elapsed": 3,
     "status": "ok",
     "timestamp": 1733817717046,
     "user": {
      "displayName": "Alexandre Donze",
      "userId": "14136053151794637669"
     },
     "user_tz": -60
    },
    "id": "qx1Wj4Dtjbko",
    "outputId": "4fe7a3ed-6bfa-4090-cde5-55089aeaf6bf"
   },
   "outputs": [
    {
     "data": {
      "text/plain": [
       "-1.0"
      ]
     },
     "execution_count": 24,
     "metadata": {},
     "output_type": "execute_result"
    }
   ],
   "source": [
    "#phi.add_sample([4,3,5])\n",
    "phi.eval_rob()"
   ]
  },
  {
   "cell_type": "code",
   "execution_count": 25,
   "metadata": {},
   "outputs": [
    {
     "data": {
      "text/plain": [
       "'PREVIOUS'"
      ]
     },
     "execution_count": 25,
     "metadata": {},
     "output_type": "execute_result"
    }
   ],
   "source": [
    "phi.get_interpol()"
   ]
  },
  {
   "cell_type": "code",
   "execution_count": 27,
   "metadata": {},
   "outputs": [
    {
     "name": "stdout",
     "output_type": "stream",
     "text": [
      "interpol:LINEAR\n",
      "lin\n"
     ]
    },
    {
     "data": {
      "text/plain": [
       "3.0"
      ]
     },
     "execution_count": 27,
     "metadata": {},
     "output_type": "execute_result"
    }
   ],
   "source": [
    "phi.set_interpol('LINEAR')\n",
    "phi.eval_rob()"
   ]
  },
  {
   "cell_type": "code",
   "execution_count": 28,
   "metadata": {
    "colab": {
     "base_uri": "https://localhost:8080/"
    },
    "executionInfo": {
     "elapsed": 3,
     "status": "ok",
     "timestamp": 1733817369572,
     "user": {
      "displayName": "Alexandre Donze",
      "userId": "14136053151794637669"
     },
     "user_tz": -60
    },
    "id": "clbw5IzakDM1",
    "outputId": "8e8c04f3-692c-486d-d9d8-da5312a366a4"
   },
   "outputs": [
    {
     "name": "stdout",
     "output_type": "stream",
     "text": [
      "[[0.0, 2.0, 3.0], [0.5, -1.0, -4.0], [3.0, 3.0, -5.0]]\n"
     ]
    }
   ],
   "source": [
    "print(phi.data)"
   ]
  },
  {
   "cell_type": "code",
   "execution_count": 17,
   "metadata": {
    "colab": {
     "base_uri": "https://localhost:8080/"
    },
    "executionInfo": {
     "elapsed": 2,
     "status": "ok",
     "timestamp": 1733817382194,
     "user": {
      "displayName": "Alexandre Donze",
      "userId": "14136053151794637669"
     },
     "user_tz": -60
    },
    "id": "0kn4Be2ikYIX",
    "outputId": "f7080daa-b8e0-4acd-f7fc-19a1cac9724c"
   },
   "outputs": [
    {
     "name": "stdout",
     "output_type": "stream",
     "text": [
      "Signal Names: x, y\n",
      "Parameters: p: 0.2, tau: 3\n",
      "Formula: ev_[0,tau] (x[t] > 0 and y[t] < p) \n",
      "\n"
     ]
    }
   ],
   "source": [
    "print(phi)"
   ]
  },
  {
   "cell_type": "code",
   "execution_count": 29,
   "metadata": {
    "executionInfo": {
     "elapsed": 387,
     "status": "ok",
     "timestamp": 1733817750326,
     "user": {
      "displayName": "Alexandre Donze",
      "userId": "14136053151794637669"
     },
     "user_tz": -60
    },
    "id": "t4P4B6jBkbLQ"
   },
   "outputs": [
    {
     "name": "stdout",
     "output_type": "stream",
     "text": [
      "interpol:LINEAR\n",
      "lin\n"
     ]
    }
   ],
   "source": [
    "phi.set_interpol('LINEAR')"
   ]
  },
  {
   "cell_type": "code",
   "execution_count": 30,
   "metadata": {
    "id": "gVRhNfK8kh6u"
   },
   "outputs": [
    {
     "data": {
      "text/plain": [
       "3.0"
      ]
     },
     "execution_count": 30,
     "metadata": {},
     "output_type": "execute_result"
    }
   ],
   "source": [
    "phi.set_param('tau',3)\n",
    "phi.eval_rob()"
   ]
  },
  {
   "cell_type": "code",
   "execution_count": null,
   "metadata": {
    "id": "PHN-chgVktW9"
   },
   "outputs": [],
   "source": []
  }
 ],
 "metadata": {
  "colab": {
   "provenance": [],
   "toc_visible": true
  },
  "kernelspec": {
   "display_name": ".venv",
   "language": "python",
   "name": "python3"
  },
  "language_info": {
   "codemirror_mode": {
    "name": "ipython",
    "version": 3
   },
   "file_extension": ".py",
   "mimetype": "text/x-python",
   "name": "python",
   "nbconvert_exporter": "python",
   "pygments_lexer": "ipython3",
   "version": "3.12.3"
  }
 },
 "nbformat": 4,
 "nbformat_minor": 0
}
