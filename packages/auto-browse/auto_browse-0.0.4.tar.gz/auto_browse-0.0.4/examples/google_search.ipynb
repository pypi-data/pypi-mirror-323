{
 "cells": [
  {
   "cell_type": "markdown",
   "metadata": {},
   "source": [
    "### Before Running Make sure to add .env file with the API keys\n",
    "- OPENAI_API_KEY=\n",
    "- GEMINI_API_KEY="
   ]
  },
  {
   "cell_type": "code",
   "execution_count": null,
   "metadata": {},
   "outputs": [],
   "source": [
    "import nest_asyncio\n",
    "import asyncio\n",
    "nest_asyncio.apply()\n",
    "\n",
    "from browser_use.browser.browser import Browser, BrowserConfig\n",
    "from browser_use.browser.context import BrowserContextConfig\n",
    "from auto_browse.browse.browse import AutoBrowse\n",
    "\n",
    "browser = Browser(config=BrowserConfig(headless=False))\n",
    "# To use other models, replace the model name with the desired model\n",
    "# e.g., \"openai:gpt-4o-mini\", \"ollama:llama3.1\", \"google-gla:gemini-1.5-flash\", groq:gemma2-9b-it, mistral:mistral-large-latest\n",
    "auto_browse = AutoBrowse(browser=browser, model=\"openai:gpt-4o-mini\")\n",
    "page = await auto_browse.get_current_page()\n",
    "await asyncio.sleep(1)"
   ]
  },
  {
   "cell_type": "code",
   "execution_count": null,
   "metadata": {},
   "outputs": [],
   "source": [
    "await auto_browse.ai(\"Search for 'Python automation' on Google\")"
   ]
  },
  {
   "cell_type": "code",
   "execution_count": null,
   "metadata": {},
   "outputs": [],
   "source": [
    "await auto_browse.ai(\"Click on the first search result\")"
   ]
  },
  {
   "cell_type": "code",
   "execution_count": 5,
   "metadata": {},
   "outputs": [],
   "source": [
    "await browser.close()"
   ]
  }
 ],
 "metadata": {
  "kernelspec": {
   "display_name": ".venv",
   "language": "python",
   "name": "python3"
  },
  "language_info": {
   "codemirror_mode": {
    "name": "ipython",
    "version": 3
   },
   "file_extension": ".py",
   "mimetype": "text/x-python",
   "name": "python",
   "nbconvert_exporter": "python",
   "pygments_lexer": "ipython3",
   "version": "3.11.3"
  }
 },
 "nbformat": 4,
 "nbformat_minor": 2
}
