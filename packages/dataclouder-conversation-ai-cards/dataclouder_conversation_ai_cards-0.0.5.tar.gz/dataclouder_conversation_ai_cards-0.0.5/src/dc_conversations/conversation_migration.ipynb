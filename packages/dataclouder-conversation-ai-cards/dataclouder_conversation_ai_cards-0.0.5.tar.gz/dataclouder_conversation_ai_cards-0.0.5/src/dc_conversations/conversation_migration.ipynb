{
 "cells": [
  {
   "cell_type": "markdown",
   "metadata": {},
   "source": [
    "### This is the migration process for ConversationCard\n",
    "\n",
    "this is my system for conversation. \n",
    "\n",
    "In order to convert is better to use prompt passing current classes. i tryied this in node js with deno, but i dont ilke i cant import \n",
    "\n",
    "\n",
    "\n"
   ]
  },
  {
   "cell_type": "code",
   "execution_count": null,
   "metadata": {
    "vscode": {
     "languageId": "plaintext"
    }
   },
   "outputs": [],
   "source": []
  }
 ],
 "metadata": {
  "language_info": {
   "name": "python"
  }
 },
 "nbformat": 4,
 "nbformat_minor": 2
}
