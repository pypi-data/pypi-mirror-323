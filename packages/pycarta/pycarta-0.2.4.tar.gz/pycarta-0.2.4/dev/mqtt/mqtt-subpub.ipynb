{
 "cells": [
  {
   "cell_type": "markdown",
   "metadata": {},
   "source": [
    "# MQTT Subscribe-Publish Testing Environment\n",
    "\n",
    "## INTRODUCTION\n",
    "\n",
    "This notebook demonstrates the functionality of `publish` and `subscribe` using:\n",
    "- Several different broker types:\n",
    "    - Local Mosquitto MQTT broker (without credentials)\n",
    "    - Remote AIMPF MQTT broker (with credentials)\n",
    "- The `publish` decorator to send messages in both **synchronous** and **asynchronous** modes\n",
    "    - `@publish(\"test\")`\n",
    "    - `@async_publish(\"test\")`\n",
    "- The `subscribe` decorator to process messages in both **synchronous** and **asynchronous** modes\n",
    "    - `@subscribe(\"test\")`\n",
    "    - `@async_subscribe(\"test\")`\n",
    "\n",
    "### Prerequisites\n",
    "- **General**\n",
    "    - Ensure `pycarta` is installed in editable mode (`pip install -e .`) from the root directory of the project.\n",
    "\n",
    "- **Local Mosquitto MQTT broker**\n",
    "    - Ensure Mosquitto is installed and running:\n",
    "        ```bash\n",
    "        brew install mosquitto\n",
    "        mosquitto\n",
    "        ```\n",
    "    - A mosquitto subscriber can be set up as follows to listen to topic `test`:\n",
    "        ```bash\n",
    "        mosquitto_sub -t test\n",
    "        ```\n",
    "    - A mosquitto publisher can publish `$YOUR_MESSAGE` to topic `test` as follows:\n",
    "        ```bash\n",
    "        mosquitto_pub -t test -m $YOUR_MESSAGE\n",
    "        ```\n",
    "\n",
    "- **Remote AIMPF MQTT broker**\n",
    "    - A set of credentials available including:\n",
    "        - broker_address (not in the certificate requirement, but will be needed for connection)\n",
    "        - ca_certificate\n",
    "        - private_key\n",
    "        - certificate\n",
    "    - Basic information about the broker, e.g., broker address, port, etc.\n",
    "    - (Optional, but highly recommended) A Carta account for credential CRUD operations \n",
    "        - You have already uploaded MQTT credentials to your chosen `tag`. Please check the Jupyter Notebook named `credential-crud.ipynb` for more details.\n",
    "        - Environment variables set for authentication for your account (e.g., `CARTA_CHEN_USERNAME`, `CARTA_CHEN_PASSWORD`).\n"
   ]
  },
  {
   "cell_type": "code",
   "execution_count": 1,
   "metadata": {},
   "outputs": [],
   "source": [
    "# NOTE: Here, we are trying to make the brokers definition consistent between Jupyter Notebook and Pytest.\n",
    "BROKERS = [\n",
    "    {\n",
    "        \"label\": \"mosquitto_local\",\n",
    "        \"host\": \"localhost\",\n",
    "        \"port\": 1883,\n",
    "    },\n",
    "    {\n",
    "        \"label\": \"aimpf_remote_cred\",\n",
    "        \"host\": \"aop63bhe1nwsr-ats.iot.us-east-1.amazonaws.com\",\n",
    "        \"port\": 8883,\n",
    "    },\n",
    "]\n",
    "\n",
    "# Create a dictionary for quick access by label\n",
    "brokers_dict = {broker[\"label\"]: broker for broker in BROKERS}\n",
    "\n",
    "# NOTE: Before you proceed, select the testing broker by its label\n",
    "# testing_broker = brokers_dict[\"mosquitto_local\"]\n",
    "testing_broker = brokers_dict[\"aimpf_remote_cred\"]\n",
    "\n"
   ]
  },
  {
   "cell_type": "markdown",
   "metadata": {},
   "source": [
    "---\n",
    "## SECTION 1: Synchronous Mode"
   ]
  },
  {
   "cell_type": "code",
   "execution_count": 2,
   "metadata": {},
   "outputs": [
    {
     "name": "stdout",
     "output_type": "stream",
     "text": [
      "POLLING_TIMEOUT: 10\n",
      "POLLING_INTERVAL: 1\n"
     ]
    }
   ],
   "source": [
    "import logging\n",
    "import os\n",
    "from dotenv import load_dotenv\n",
    "logging.basicConfig(\n",
    "    level=logging.INFO, \n",
    "    format='%(asctime)s - %(levelname)s - %(message)s'\n",
    ")\n",
    "load_dotenv(override=True)\n",
    "logger = logging.getLogger(__name__)\n",
    "print(f\"POLLING_TIMEOUT: {os.getenv('POLLING_TIMEOUT')}\")\n",
    "print(f\"POLLING_INTERVAL: {os.getenv('POLLING_INTERVAL')}\")\n"
   ]
  },
  {
   "cell_type": "code",
   "execution_count": 24,
   "metadata": {},
   "outputs": [
    {
     "name": "stderr",
     "output_type": "stream",
     "text": [
      "2025-01-23 08:50:01,134 - INFO - Approach #3 authenticator created via Carta tag 'mb33-thing301'.\n",
      "2025-01-23 08:50:01,135 - INFO - BilateralCredentialAuthenticator initialized!\n"
     ]
    }
   ],
   "source": [
    "import time\n",
    "import os\n",
    "import logging\n",
    "from pycarta import login\n",
    "from pycarta.mqtt.publisher import publish\n",
    "from pycarta.mqtt.subscriber import subscribe\n",
    "from pycarta.mqtt.credential import BilateralCredentialAuthenticator\n",
    "\n",
    "logger = logging.getLogger(__name__)\n",
    "\n",
    "if testing_broker[\"label\"] == \"aimpf_remote_cred\":\n",
    "    # Environment variables\n",
    "    CARTA_USERNAME = os.getenv(\"CARTA_CHEN_USERNAME\")\n",
    "    CARTA_PASSWORD = os.getenv(\"CARTA_CHEN_PASSWORD\")\n",
    "    CARTA_HOST = os.getenv(\"CARTA_HOST_DEV\", \"https://api.sandbox.carta.contextualize.us.com\")\n",
    "    TAG = \"mb33-thing301\"\n",
    "    certificate_folder = \"../../tests/mqtt/mb33-thing301\"\n",
    "    ca_cert_file = \"../../tests/mqtt/mb33-thing301/AmazonRootCA1.pem\"\n",
    "    client_cert_file = \"../../tests/mqtt/mb33-thing301/34c68a3ca20dfafa5a327c03529649d206b13a789c08df92be63bbea2514cb3d-certificate.pem.crt\"\n",
    "    client_key_file = \"../../tests/mqtt/mb33-thing301/34c68a3ca20dfafa5a327c03529649d206b13a789c08df92be63bbea2514cb3d-private.pem.key\"\n",
    "\n",
    "    # Approach #1: Provide 3 file paths\n",
    "    # auth = BilateralCredentialAuthenticator.from_cert_files(\n",
    "    #     ca_cert=ca_cert_file,\n",
    "    #     cert=client_cert_file,\n",
    "    #     key=client_key_file\n",
    "    # )\n",
    "    # logger.info(\"Approach #1 authenticator created.\")\n",
    "\n",
    "    # Approach #2: Provide 1 folder path containing exactly 3 PEM files\n",
    "    # auth = BilateralCredentialAuthenticator.from_folder(certificate_folder)\n",
    "    # logger.info(\"Approach #2 authenticator created.\")\n",
    "\n",
    "    # Approach #3: Provide username/password/tag to retrieve from Carta\n",
    "    login(username=CARTA_USERNAME, password=CARTA_PASSWORD, host=CARTA_HOST)\n",
    "    auth = BilateralCredentialAuthenticator.from_carta(tag=TAG)\n",
    "    logger.info(\"Approach #3 authenticator created via Carta tag '%s'.\", TAG)\n",
    "\n",
    "    logger.info(\"BilateralCredentialAuthenticator initialized!\")\n",
    "\n"
   ]
  },
  {
   "cell_type": "markdown",
   "metadata": {},
   "source": [
    "### Example 1.1: Publish Results of a Function\n",
    "This example demonstrates publishing results to a topic using the `publish` decorator."
   ]
  },
  {
   "cell_type": "code",
   "execution_count": 21,
   "metadata": {},
   "outputs": [
    {
     "name": "stderr",
     "output_type": "stream",
     "text": [
      "2025-01-23 08:49:08,693 - INFO - Function `add` has been defined for testing against broker `aimpf_remote_cred`\n"
     ]
    }
   ],
   "source": [
    "# Use the publish decorator on a simple function\n",
    "if testing_broker[\"label\"] == \"mosquitto_local\":\n",
    "    @publish(\"test\")\n",
    "    def add(lhs, rhs):\n",
    "        return lhs + rhs\n",
    "elif testing_broker[\"label\"] == \"aimpf_remote_cred\":\n",
    "    @publish(\n",
    "        topic=\"test\",\n",
    "        host=testing_broker[\"host\"],\n",
    "        port=testing_broker[\"port\"],\n",
    "        qos=1,\n",
    "        authenticator=auth)\n",
    "    def add(lhs, rhs):\n",
    "        return lhs + rhs\n",
    "\n",
    "logger.info(f\"Function `add` has been defined for testing against broker `{testing_broker[\"label\"]}`\")"
   ]
  },
  {
   "cell_type": "code",
   "execution_count": 22,
   "metadata": {},
   "outputs": [
    {
     "name": "stderr",
     "output_type": "stream",
     "text": [
      "2025-01-23 08:49:09,864 - DEBUG - [sync publish] Preparing to publish to topic test.\n",
      "2025-01-23 08:49:09,865 - INFO - Connecting to aop63bhe1nwsr-ats.iot.us-east-1.amazonaws.com:8883...\n",
      "2025-01-23 08:49:10,083 - INFO - [MQTTConnection] Connected None to aop63bhe1nwsr-ats.iot.us-east-1.amazonaws.com:8883\n",
      "2025-01-23 08:49:10,084 - DEBUG - [publish] Content is not a Pydantic BaseModel.\n",
      "2025-01-23 08:49:10,085 - INFO - [sync publish] Successfully published to test: 42\n",
      "2025-01-23 08:49:10,085 - INFO - [MQTTConnection] Explicitly disconnecting from broker.\n",
      "2025-01-23 08:49:10,086 - INFO - [MQTTConnection] Stopping the MQTT loop.\n"
     ]
    },
    {
     "data": {
      "text/plain": [
       "42"
      ]
     },
     "execution_count": 22,
     "metadata": {},
     "output_type": "execute_result"
    },
    {
     "name": "stderr",
     "output_type": "stream",
     "text": [
      "2025-01-23 08:49:10,125 - DEBUG - [async subscribe] Processed message result: 84\n"
     ]
    },
    {
     "name": "stdout",
     "output_type": "stream",
     "text": [
      "[Subscriber] Received message: 42\n",
      "[Subscriber] Doubled value: 84\n"
     ]
    }
   ],
   "source": [
    "# Publish results\n",
    "add(12, 30)  # Publishes 42"
   ]
  },
  {
   "cell_type": "code",
   "execution_count": 6,
   "metadata": {},
   "outputs": [],
   "source": [
    "# Clean up\n",
    "del add"
   ]
  },
  {
   "cell_type": "markdown",
   "metadata": {},
   "source": [
    "### Example 1.2: Subscribe to a Topic and Process Messages\n",
    "This example demonstrates subscribing to the topic and processing messages using the `subscribe` decorator."
   ]
  },
  {
   "cell_type": "code",
   "execution_count": 7,
   "metadata": {},
   "outputs": [
    {
     "name": "stderr",
     "output_type": "stream",
     "text": [
      "2025-01-23 08:38:56,406 - INFO - Function `double` has been defined for testing against broker `aimpf_remote_cred`\n",
      "2025-01-23 08:38:56,407 - INFO - Connecting to aop63bhe1nwsr-ats.iot.us-east-1.amazonaws.com:8883...\n",
      "2025-01-23 08:38:56,670 - INFO - [MQTTConnection] Connected None to aop63bhe1nwsr-ats.iot.us-east-1.amazonaws.com:8883\n",
      "2025-01-23 08:38:56,672 - DEBUG - [sync subscribe] Subscribed to topic: test\n",
      "2025-01-23 08:38:57,677 - DEBUG - [sync subscribe] Polling... Timeout in 9 seconds.\n",
      "2025-01-23 08:38:57,678 - INFO - [MQTTConnection] Stopping the MQTT loop.\n",
      "2025-01-23 08:38:58,686 - DEBUG - [sync subscribe] Polling... Timeout in 8 seconds.\n",
      "2025-01-23 08:38:59,692 - DEBUG - [sync subscribe] Polling... Timeout in 7 seconds.\n",
      "2025-01-23 08:39:00,695 - DEBUG - [sync subscribe] Polling... Timeout in 6 seconds.\n",
      "2025-01-23 08:39:00,702 - DEBUG - [sync subscribe] Received raw message: 2\n",
      "2025-01-23 08:39:00,702 - DEBUG - [sync subscribe] Processed message: 4\n",
      "2025-01-23 08:39:00,702 - INFO - [MQTTConnection] Explicitly disconnecting from broker.\n",
      "2025-01-23 08:39:00,703 - INFO - [MQTTConnection] Stopping the MQTT loop.\n"
     ]
    },
    {
     "data": {
      "text/plain": [
       "4"
      ]
     },
     "execution_count": 7,
     "metadata": {},
     "output_type": "execute_result"
    }
   ],
   "source": [
    "\n",
    "if testing_broker[\"label\"] == \"mosquitto_local\":\n",
    "    @subscribe(\"test\")\n",
    "    def double(x):\n",
    "        return x * 2\n",
    "elif testing_broker[\"label\"] == \"aimpf_remote_cred\":\n",
    "    @subscribe(\n",
    "        topic=\"test\",\n",
    "        host=testing_broker[\"host\"],\n",
    "        port=testing_broker[\"port\"],\n",
    "        authenticator=auth)\n",
    "    def double(x):\n",
    "        return x * 2\n",
    "\n",
    "logger.info(f\"Function `double` has been defined for testing against broker `{testing_broker[\"label\"]}`\")\n",
    "\n",
    "# Single message processing (simulate publisher: mosquitto_pub -t test -m 25)\n",
    "# The subscriber will stop if:\n",
    "# 1. Receive a published message\n",
    "# 2. Timeout (TimeoutException after certain amount of time)\n",
    "# 3. Canceled (KeyboardInterrupt)\n",
    "double()"
   ]
  },
  {
   "cell_type": "markdown",
   "metadata": {},
   "source": [
    "### Example 1.3: Subscribe and Process Multiple Messages\n",
    "This example shows how to process multiple messages until a `KeyboardInterrupt` or polling timeout occurs."
   ]
  },
  {
   "cell_type": "code",
   "execution_count": 8,
   "metadata": {},
   "outputs": [
    {
     "name": "stderr",
     "output_type": "stream",
     "text": [
      "2025-01-23 08:39:03,215 - INFO - Connecting to aop63bhe1nwsr-ats.iot.us-east-1.amazonaws.com:8883...\n",
      "2025-01-23 08:39:03,431 - INFO - [MQTTConnection] Connected None to aop63bhe1nwsr-ats.iot.us-east-1.amazonaws.com:8883\n",
      "2025-01-23 08:39:03,433 - DEBUG - [sync subscribe] Subscribed to topic: test\n",
      "2025-01-23 08:39:04,439 - DEBUG - [sync subscribe] Polling... Timeout in 9 seconds.\n",
      "2025-01-23 08:39:05,445 - DEBUG - [sync subscribe] Polling... Timeout in 8 seconds.\n",
      "2025-01-23 08:39:06,452 - DEBUG - [sync subscribe] Polling... Timeout in 7 seconds.\n",
      "2025-01-23 08:39:06,539 - DEBUG - [sync subscribe] Received raw message: 2\n",
      "2025-01-23 08:39:06,539 - DEBUG - [sync subscribe] Processed message: 4\n",
      "2025-01-23 08:39:07,542 - DEBUG - [sync subscribe] Polling... Timeout in 9 seconds.\n",
      "2025-01-23 08:39:08,370 - DEBUG - [sync subscribe] Received raw message: 4\n",
      "2025-01-23 08:39:08,371 - DEBUG - [sync subscribe] Processed message: 8\n",
      "2025-01-23 08:39:09,376 - DEBUG - [sync subscribe] Polling... Timeout in 9 seconds.\n",
      "2025-01-23 08:39:10,078 - DEBUG - [sync subscribe] Received raw message: 6\n",
      "2025-01-23 08:39:10,080 - DEBUG - [sync subscribe] Processed message: 12\n",
      "2025-01-23 08:39:11,083 - DEBUG - [sync subscribe] Polling... Timeout in 9 seconds.\n",
      "2025-01-23 08:39:12,089 - DEBUG - [sync subscribe] Polling... Timeout in 8 seconds.\n",
      "2025-01-23 08:39:13,097 - DEBUG - [sync subscribe] Polling... Timeout in 7 seconds.\n",
      "2025-01-23 08:39:14,103 - DEBUG - [sync subscribe] Polling... Timeout in 6 seconds.\n",
      "2025-01-23 08:39:15,106 - DEBUG - [sync subscribe] Polling... Timeout in 5 seconds.\n",
      "2025-01-23 08:39:16,107 - DEBUG - [sync subscribe] Polling... Timeout in 4 seconds.\n",
      "2025-01-23 08:39:17,113 - DEBUG - [sync subscribe] Polling... Timeout in 3 seconds.\n",
      "2025-01-23 08:39:18,119 - DEBUG - [sync subscribe] Polling... Timeout in 2 seconds.\n",
      "2025-01-23 08:39:19,122 - DEBUG - [sync subscribe] Polling... Timeout in 1 seconds.\n",
      "2025-01-23 08:39:20,126 - DEBUG - [sync subscribe] Polling... Timeout in 0 seconds.\n",
      "2025-01-23 08:39:20,128 - INFO - [sync subscribe] Timeout after 10.0 seconds. No messages received.\n",
      "2025-01-23 08:39:21,129 - INFO - [MQTTConnection] Explicitly disconnecting from broker.\n",
      "2025-01-23 08:39:21,131 - INFO - [MQTTConnection] Stopping the MQTT loop.\n"
     ]
    },
    {
     "data": {
      "text/plain": [
       "[4, 8, 12]"
      ]
     },
     "execution_count": 8,
     "metadata": {},
     "output_type": "execute_result"
    }
   ],
   "source": [
    "# Process messages until KeyboardInterrupt or timeout (default: 30 seconds)\n",
    "[x for x in double]"
   ]
  },
  {
   "cell_type": "markdown",
   "metadata": {},
   "source": [
    "#"
   ]
  },
  {
   "cell_type": "markdown",
   "metadata": {},
   "source": [
    "---\n",
    "## SECTION 2: Asynchronous Mode"
   ]
  },
  {
   "cell_type": "code",
   "execution_count": 16,
   "metadata": {},
   "outputs": [
    {
     "name": "stdout",
     "output_type": "stream",
     "text": [
      "POLLING_TIMEOUT: 10\n",
      "POLLING_INTERVAL: 1\n"
     ]
    }
   ],
   "source": [
    "import logging\n",
    "import os\n",
    "from dotenv import load_dotenv\n",
    "logging.basicConfig(\n",
    "    level=logging.DEBUG, \n",
    "    format='%(asctime)s - %(levelname)s - %(message)s'\n",
    ")\n",
    "load_dotenv(override=True)\n",
    "print(f\"POLLING_TIMEOUT: {os.getenv('POLLING_TIMEOUT')}\")\n",
    "print(f\"POLLING_INTERVAL: {os.getenv('POLLING_INTERVAL')}\")"
   ]
  },
  {
   "cell_type": "code",
   "execution_count": 17,
   "metadata": {},
   "outputs": [
    {
     "name": "stderr",
     "output_type": "stream",
     "text": [
      "2025-01-23 08:41:11,987 - INFO - [MQTTConnection] Stopping the MQTT loop.\n",
      "2025-01-23 08:41:11,988 - INFO - Async function `add` has been defined for testing against broker `aimpf_remote_cred`\n",
      "2025-01-23 08:41:11,989 - INFO - Async function `double` has been defined for testing against broker `aimpf_remote_cred`\n"
     ]
    }
   ],
   "source": [
    "import asyncio\n",
    "from pycarta.mqtt.publisher import async_publish\n",
    "from pycarta.mqtt.subscriber import async_subscribe\n",
    "\n",
    "# Define the asynchronous publisher and subscriber functions\n",
    "if testing_broker[\"label\"] == \"mosquitto_local\":\n",
    "    @async_publish(\"test\")\n",
    "    async def add(lhs, rhs):\n",
    "        return lhs + rhs\n",
    "elif testing_broker[\"label\"] == \"aimpf_remote_cred\":\n",
    "    @async_publish(\n",
    "        topic=\"test\",\n",
    "        host=testing_broker[\"host\"],\n",
    "        port=testing_broker[\"port\"],\n",
    "        authenticator=auth)\n",
    "    def add(lhs, rhs):\n",
    "        return lhs + rhs\n",
    "\n",
    "logger.info(f\"Async function `add` has been defined for testing against broker `{testing_broker[\"label\"]}`\")\n",
    "\n",
    "# Define the asynchronous subscriber function to yield\n",
    "if testing_broker[\"label\"] == \"mosquitto_local\":\n",
    "    @async_subscribe(\"test\")\n",
    "    async def double(x):\n",
    "        return x * 2\n",
    "elif testing_broker[\"label\"] == \"aimpf_remote_cred\":\n",
    "    @async_subscribe(\n",
    "        topic=\"test\",\n",
    "        host=testing_broker[\"host\"],\n",
    "        port=testing_broker[\"port\"],\n",
    "        authenticator=auth)\n",
    "    async def double(x):\n",
    "        return x * 2\n",
    "\n",
    "logger.info(f\"Async function `double` has been defined for testing against broker `{testing_broker[\"label\"]}`\")"
   ]
  },
  {
   "cell_type": "code",
   "execution_count": null,
   "metadata": {},
   "outputs": [
    {
     "name": "stderr",
     "output_type": "stream",
     "text": [
      "2025-01-23 08:39:30,690 - DEBUG - [async subscribe] Starting single message processing.\n",
      "2025-01-23 08:39:30,690 - DEBUG - [async subscribe] Connecting to aop63bhe1nwsr-ats.iot.us-east-1.amazonaws.com:8883.\n",
      "2025-01-23 08:39:30,690 - INFO - Connecting to aop63bhe1nwsr-ats.iot.us-east-1.amazonaws.com:8883...\n"
     ]
    },
    {
     "name": "stderr",
     "output_type": "stream",
     "text": [
      "2025-01-23 08:39:30,905 - INFO - [MQTTConnection] Connected None to aop63bhe1nwsr-ats.iot.us-east-1.amazonaws.com:8883\n",
      "2025-01-23 08:39:30,906 - DEBUG - [async subscribe] Subscribed to topic: test\n",
      "2025-01-23 08:39:31,908 - DEBUG - [async subscribe] Polling... Timeout in 9 seconds.\n",
      "2025-01-23 08:39:32,910 - DEBUG - [async subscribe] Polling... Timeout in 8 seconds.\n",
      "2025-01-23 08:39:33,913 - DEBUG - [async subscribe] Polling... Timeout in 7 seconds.\n",
      "2025-01-23 08:39:34,665 - DEBUG - [async subscribe] Received raw message: 6\n",
      "2025-01-23 08:39:34,666 - DEBUG - [async subscribe] Processed message result: 12\n",
      "2025-01-23 08:39:34,667 - DEBUG - [async subscribe] Disconnecting from aop63bhe1nwsr-ats.iot.us-east-1.amazonaws.com:8883.\n",
      "2025-01-23 08:39:34,667 - INFO - [MQTTConnection] Explicitly disconnecting from broker.\n",
      "2025-01-23 08:39:34,668 - INFO - [MQTTConnection] Stopping the MQTT loop.\n",
      "2025-01-23 08:39:34,671 - DEBUG - [async subscribe] Disconnected from MQTT broker.\n",
      "2025-01-23 08:39:42,029 - INFO - [MQTTConnection] Connected None to aop63bhe1nwsr-ats.iot.us-east-1.amazonaws.com:8883\n",
      "2025-01-23 08:39:46,673 - DEBUG - [async subscribe] Received raw message: 2\n",
      "2025-01-23 08:39:55,749 - INFO - [MQTTConnection] Connected None to aop63bhe1nwsr-ats.iot.us-east-1.amazonaws.com:8883\n",
      "2025-01-23 08:40:01,090 - DEBUG - [async subscribe] Received raw message: 2\n",
      "2025-01-23 08:40:02,434 - DEBUG - [async subscribe] Received raw message: 4\n",
      "2025-01-23 08:40:04,162 - DEBUG - [async subscribe] Received raw message: 5\n",
      "2025-01-23 08:40:06,196 - DEBUG - [async subscribe] Received raw message: 6\n",
      "2025-01-23 08:40:17,414 - INFO - [MQTTConnection] Connected None to aop63bhe1nwsr-ats.iot.us-east-1.amazonaws.com:8883\n",
      "2025-01-23 08:40:25,737 - DEBUG - [async subscribe] Received raw message: 2\n",
      "2025-01-23 08:40:27,685 - DEBUG - [async subscribe] Received raw message: 4\n",
      "2025-01-23 08:40:29,429 - DEBUG - [async subscribe] Received raw message: 6\n",
      "2025-01-23 08:41:17,961 - INFO - [MQTTConnection] Connected None to aop63bhe1nwsr-ats.iot.us-east-1.amazonaws.com:8883\n",
      "2025-01-23 08:41:18,892 - INFO - [MQTTConnection] Connected None to aop63bhe1nwsr-ats.iot.us-east-1.amazonaws.com:8883\n",
      "2025-01-23 08:41:18,934 - DEBUG - [async subscribe] Received raw message: 0\n",
      "2025-01-23 08:41:20,936 - DEBUG - [async subscribe] Received raw message: 10\n",
      "2025-01-23 08:41:22,942 - DEBUG - [async subscribe] Received raw message: 20\n",
      "2025-01-23 08:41:24,947 - DEBUG - [async subscribe] Received raw message: 30\n",
      "2025-01-23 08:41:26,965 - DEBUG - [async subscribe] Received raw message: 40\n",
      "2025-01-23 08:41:36,380 - INFO - [MQTTConnection] Connected None to aop63bhe1nwsr-ats.iot.us-east-1.amazonaws.com:8883\n",
      "2025-01-23 08:41:39,385 - INFO - [MQTTConnection] Connected None to aop63bhe1nwsr-ats.iot.us-east-1.amazonaws.com:8883\n",
      "2025-01-23 08:41:39,431 - DEBUG - [async subscribe] Received raw message: 14\n",
      "2025-01-23 08:41:39,612 - INFO - [MQTTConnection] Connected None to aop63bhe1nwsr-ats.iot.us-east-1.amazonaws.com:8883\n",
      "2025-01-23 08:41:39,658 - DEBUG - [async subscribe] Received raw message: \"CONTINUE\"\n",
      "2025-01-23 08:41:44,435 - DEBUG - [async subscribe] Received raw message: 18\n",
      "2025-01-23 08:41:44,476 - DEBUG - [async subscribe] Received raw message: \"CONTINUE\"\n",
      "2025-01-23 08:41:49,442 - DEBUG - [async subscribe] Received raw message: 22\n",
      "2025-01-23 08:41:49,658 - INFO - [MQTTConnection] Connected None to aop63bhe1nwsr-ats.iot.us-east-1.amazonaws.com:8883\n",
      "2025-01-23 08:41:49,696 - DEBUG - [async subscribe] Received raw message: \"STOP\"\n",
      "2025-01-23 08:41:54,455 - DEBUG - [async subscribe] Received raw message: 26\n",
      "2025-01-23 08:49:10,124 - DEBUG - [async subscribe] Received raw message: 42\n"
     ]
    }
   ],
   "source": [
    "# Start the subscriber asynchronously in the background.\n",
    "# The subscriber will stop if:\n",
    "# 1. Receive a published message\n",
    "# 2. Timeout\n",
    "# 3. Canceled (see below)\n",
    "subscriber_task = asyncio.create_task(double())"
   ]
  },
  {
   "cell_type": "code",
   "execution_count": 12,
   "metadata": {},
   "outputs": [
    {
     "data": {
      "text/plain": [
       "False"
      ]
     },
     "execution_count": 12,
     "metadata": {},
     "output_type": "execute_result"
    }
   ],
   "source": [
    "# Stop the subscriber\n",
    "# Case 1: While the subscriber is running, you can stop it by cancelling the task, you will receive a returned value of `True`\n",
    "# Case 2: While the subscriber is not running, you will receive a returned value of `False`\n",
    "subscriber_task.cancel()"
   ]
  },
  {
   "cell_type": "code",
   "execution_count": 13,
   "metadata": {},
   "outputs": [
    {
     "name": "stderr",
     "output_type": "stream",
     "text": [
      "2025-01-23 08:39:41,853 - DEBUG - [async subscribe] Starting single message processing.\n",
      "2025-01-23 08:39:41,853 - DEBUG - [async subscribe] Connecting to aop63bhe1nwsr-ats.iot.us-east-1.amazonaws.com:8883.\n",
      "2025-01-23 08:39:41,853 - INFO - Connecting to aop63bhe1nwsr-ats.iot.us-east-1.amazonaws.com:8883...\n",
      "2025-01-23 08:39:42,030 - DEBUG - [async subscribe] Subscribed to topic: test\n",
      "2025-01-23 08:39:43,031 - DEBUG - [async subscribe] Polling... Timeout in 9 seconds.\n",
      "2025-01-23 08:39:44,034 - DEBUG - [async subscribe] Polling... Timeout in 8 seconds.\n",
      "2025-01-23 08:39:45,036 - DEBUG - [async subscribe] Polling... Timeout in 7 seconds.\n",
      "2025-01-23 08:39:46,039 - DEBUG - [async subscribe] Polling... Timeout in 6 seconds.\n",
      "2025-01-23 08:39:46,674 - DEBUG - [async subscribe] Processed message result: 4\n",
      "2025-01-23 08:39:46,675 - DEBUG - [async subscribe] Disconnecting from aop63bhe1nwsr-ats.iot.us-east-1.amazonaws.com:8883.\n",
      "2025-01-23 08:39:46,676 - INFO - [MQTTConnection] Explicitly disconnecting from broker.\n",
      "2025-01-23 08:39:46,677 - INFO - [MQTTConnection] Stopping the MQTT loop.\n",
      "2025-01-23 08:39:46,678 - DEBUG - [async subscribe] Disconnected from MQTT broker.\n"
     ]
    },
    {
     "data": {
      "text/plain": [
       "4"
      ]
     },
     "execution_count": 13,
     "metadata": {},
     "output_type": "execute_result"
    }
   ],
   "source": [
    "# This will actually run the asynchronous publisher in synchronous mode in JN\n",
    "await double()"
   ]
  },
  {
   "cell_type": "code",
   "execution_count": 14,
   "metadata": {},
   "outputs": [
    {
     "name": "stderr",
     "output_type": "stream",
     "text": [
      "2025-01-23 08:39:55,518 - DEBUG - [async subscribe] Connecting to aop63bhe1nwsr-ats.iot.us-east-1.amazonaws.com:8883.\n",
      "2025-01-23 08:39:55,519 - INFO - Connecting to aop63bhe1nwsr-ats.iot.us-east-1.amazonaws.com:8883...\n",
      "2025-01-23 08:39:55,749 - DEBUG - [async subscribe] Subscribed to topic: test\n",
      "2025-01-23 08:39:56,519 - DEBUG - [async subscribe] Polling... Timeout in 9 seconds.\n",
      "2025-01-23 08:39:57,521 - DEBUG - [async subscribe] Polling... Timeout in 8 seconds.\n",
      "2025-01-23 08:39:58,523 - DEBUG - [async subscribe] Polling... Timeout in 7 seconds.\n",
      "2025-01-23 08:39:59,525 - DEBUG - [async subscribe] Polling... Timeout in 6 seconds.\n",
      "2025-01-23 08:40:00,528 - DEBUG - [async subscribe] Polling... Timeout in 5 seconds.\n",
      "2025-01-23 08:40:01,091 - DEBUG - [async subscribe] Processed message result: 4\n",
      "2025-01-23 08:40:02,093 - DEBUG - [async subscribe] Polling... Timeout in 9 seconds.\n",
      "2025-01-23 08:40:02,435 - DEBUG - [async subscribe] Processed message result: 8\n",
      "2025-01-23 08:40:03,438 - DEBUG - [async subscribe] Polling... Timeout in 9 seconds.\n",
      "2025-01-23 08:40:04,164 - DEBUG - [async subscribe] Processed message result: 10\n",
      "2025-01-23 08:40:05,166 - DEBUG - [async subscribe] Polling... Timeout in 9 seconds.\n",
      "2025-01-23 08:40:06,169 - DEBUG - [async subscribe] Polling... Timeout in 8 seconds.\n",
      "2025-01-23 08:40:06,197 - DEBUG - [async subscribe] Processed message result: 12\n",
      "2025-01-23 08:40:07,198 - DEBUG - [async subscribe] Polling... Timeout in 9 seconds.\n",
      "2025-01-23 08:40:08,200 - DEBUG - [async subscribe] Polling... Timeout in 8 seconds.\n",
      "2025-01-23 08:40:09,202 - DEBUG - [async subscribe] Polling... Timeout in 7 seconds.\n",
      "2025-01-23 08:40:10,204 - DEBUG - [async subscribe] Polling... Timeout in 6 seconds.\n",
      "2025-01-23 08:40:11,206 - DEBUG - [async subscribe] Polling... Timeout in 5 seconds.\n",
      "2025-01-23 08:40:12,208 - DEBUG - [async subscribe] Polling... Timeout in 4 seconds.\n",
      "2025-01-23 08:40:13,211 - DEBUG - [async subscribe] Polling... Timeout in 3 seconds.\n",
      "2025-01-23 08:40:14,213 - DEBUG - [async subscribe] Polling... Timeout in 2 seconds.\n",
      "2025-01-23 08:40:15,216 - DEBUG - [async subscribe] Polling... Timeout in 1 seconds.\n",
      "2025-01-23 08:40:16,219 - DEBUG - [async subscribe] Polling... Timeout in 0 seconds.\n",
      "2025-01-23 08:40:16,219 - INFO - [async subscribe] Timeout after 10.0 seconds. No messages received.\n",
      "2025-01-23 08:40:16,220 - DEBUG - [async subscribe] No more messages. Stopping iteration.\n",
      "2025-01-23 08:40:16,220 - DEBUG - [async subscribe] Disconnecting from aop63bhe1nwsr-ats.iot.us-east-1.amazonaws.com:8883.\n",
      "2025-01-23 08:40:16,221 - INFO - [MQTTConnection] Explicitly disconnecting from broker.\n",
      "2025-01-23 08:40:16,221 - INFO - [MQTTConnection] Stopping the MQTT loop.\n",
      "2025-01-23 08:40:16,222 - DEBUG - [async subscribe] Clearing the queue. Current size: 0\n",
      "2025-01-23 08:40:16,222 - DEBUG - [async subscribe] Queue cleared.\n",
      "2025-01-23 08:40:16,223 - DEBUG - [async subscribe] Disconnected from MQTT broker.\n"
     ]
    },
    {
     "data": {
      "text/plain": [
       "[4, 8, 10, 12]"
      ]
     },
     "execution_count": 14,
     "metadata": {},
     "output_type": "execute_result"
    }
   ],
   "source": [
    "# This will run the asynchronous publisher in non-blocking mode in JN\n",
    "[message async for message in double]"
   ]
  },
  {
   "cell_type": "code",
   "execution_count": 15,
   "metadata": {},
   "outputs": [
    {
     "name": "stderr",
     "output_type": "stream",
     "text": [
      "2025-01-23 08:40:17,188 - DEBUG - [async subscribe] Connecting to aop63bhe1nwsr-ats.iot.us-east-1.amazonaws.com:8883.\n",
      "2025-01-23 08:40:17,188 - INFO - Connecting to aop63bhe1nwsr-ats.iot.us-east-1.amazonaws.com:8883...\n",
      "2025-01-23 08:40:17,415 - DEBUG - [async subscribe] Subscribed to topic: test\n",
      "2025-01-23 08:40:18,189 - DEBUG - [async subscribe] Polling... Timeout in 9 seconds.\n",
      "2025-01-23 08:40:19,191 - DEBUG - [async subscribe] Polling... Timeout in 8 seconds.\n",
      "2025-01-23 08:40:20,193 - DEBUG - [async subscribe] Polling... Timeout in 7 seconds.\n",
      "2025-01-23 08:40:21,195 - DEBUG - [async subscribe] Polling... Timeout in 6 seconds.\n",
      "2025-01-23 08:40:22,198 - DEBUG - [async subscribe] Polling... Timeout in 5 seconds.\n",
      "2025-01-23 08:40:23,200 - DEBUG - [async subscribe] Polling... Timeout in 4 seconds.\n",
      "2025-01-23 08:40:24,203 - DEBUG - [async subscribe] Polling... Timeout in 3 seconds.\n",
      "2025-01-23 08:40:25,206 - DEBUG - [async subscribe] Polling... Timeout in 2 seconds.\n",
      "2025-01-23 08:40:25,739 - DEBUG - [async subscribe] Processed message result: 4\n"
     ]
    },
    {
     "name": "stdout",
     "output_type": "stream",
     "text": [
      "4\n"
     ]
    },
    {
     "name": "stderr",
     "output_type": "stream",
     "text": [
      "2025-01-23 08:40:26,740 - DEBUG - [async subscribe] Polling... Timeout in 9 seconds.\n",
      "2025-01-23 08:40:27,686 - DEBUG - [async subscribe] Processed message result: 8\n"
     ]
    },
    {
     "name": "stdout",
     "output_type": "stream",
     "text": [
      "8\n"
     ]
    },
    {
     "name": "stderr",
     "output_type": "stream",
     "text": [
      "2025-01-23 08:40:28,689 - DEBUG - [async subscribe] Polling... Timeout in 9 seconds.\n",
      "2025-01-23 08:40:29,430 - DEBUG - [async subscribe] Processed message result: 12\n"
     ]
    },
    {
     "name": "stdout",
     "output_type": "stream",
     "text": [
      "12\n"
     ]
    },
    {
     "name": "stderr",
     "output_type": "stream",
     "text": [
      "2025-01-23 08:40:30,432 - DEBUG - [async subscribe] Polling... Timeout in 9 seconds.\n",
      "2025-01-23 08:40:31,435 - DEBUG - [async subscribe] Polling... Timeout in 8 seconds.\n",
      "2025-01-23 08:40:32,438 - DEBUG - [async subscribe] Polling... Timeout in 7 seconds.\n",
      "2025-01-23 08:40:33,440 - DEBUG - [async subscribe] Polling... Timeout in 6 seconds.\n",
      "2025-01-23 08:40:34,443 - DEBUG - [async subscribe] Polling... Timeout in 5 seconds.\n",
      "2025-01-23 08:40:35,445 - DEBUG - [async subscribe] Polling... Timeout in 4 seconds.\n",
      "2025-01-23 08:40:36,448 - DEBUG - [async subscribe] Polling... Timeout in 3 seconds.\n",
      "2025-01-23 08:40:37,450 - DEBUG - [async subscribe] Polling... Timeout in 2 seconds.\n",
      "2025-01-23 08:40:38,452 - DEBUG - [async subscribe] Polling... Timeout in 1 seconds.\n",
      "2025-01-23 08:40:39,455 - DEBUG - [async subscribe] Polling... Timeout in 0 seconds.\n",
      "2025-01-23 08:40:39,455 - INFO - [async subscribe] Timeout after 10.0 seconds. No messages received.\n",
      "2025-01-23 08:40:39,456 - DEBUG - [async subscribe] No more messages. Stopping iteration.\n",
      "2025-01-23 08:40:39,456 - DEBUG - [async subscribe] Disconnecting from aop63bhe1nwsr-ats.iot.us-east-1.amazonaws.com:8883.\n",
      "2025-01-23 08:40:39,456 - INFO - [MQTTConnection] Explicitly disconnecting from broker.\n",
      "2025-01-23 08:40:39,457 - INFO - [MQTTConnection] Stopping the MQTT loop.\n",
      "2025-01-23 08:40:39,457 - DEBUG - [async subscribe] Clearing the queue. Current size: 0\n",
      "2025-01-23 08:40:39,457 - DEBUG - [async subscribe] Queue cleared.\n",
      "2025-01-23 08:40:39,457 - DEBUG - [async subscribe] Disconnected from MQTT broker.\n"
     ]
    }
   ],
   "source": [
    "async for message in double:\n",
    "    print(message)"
   ]
  },
  {
   "cell_type": "markdown",
   "metadata": {},
   "source": [
    "### Example 2.1: Asynchronous Calculation Publish and Subscribe\n",
    "\n",
    "#### Overview\n",
    "This script demonstrates an asynchronous MQTT-based publish and subscribe system for simple calculations, leveraging Python's `asyncio` for efficient, non-blocking execution.\n",
    "\n",
    "#### Process\n",
    "- **Publish**:\n",
    "  - Asynchronously calculates the sum of two numbers.\n",
    "  - Publishes the result to the MQTT topic `test`.\n",
    "  - Sends multiple messages sequentially with a delay between each.\n",
    "\n",
    "- **Subscribe**:\n",
    "  - Asynchronously listens to the `test` topic for incoming messages.\n",
    "  - Processes each message by doubling its value and printing the result.\n",
    "  - Stops automatically when a processed value exceeds 20, demonstrating event-driven control.\n"
   ]
  },
  {
   "cell_type": "code",
   "execution_count": 18,
   "metadata": {},
   "outputs": [
    {
     "name": "stderr",
     "output_type": "stream",
     "text": [
      "2025-01-23 08:41:17,725 - INFO - [MQTTConnection] Stopping the MQTT loop.\n",
      "2025-01-23 08:41:17,726 - INFO - [MQTTConnection] Stopping the MQTT loop.\n",
      "2025-01-23 08:41:17,727 - DEBUG - [async subscribe] Connecting to aop63bhe1nwsr-ats.iot.us-east-1.amazonaws.com:8883.\n",
      "2025-01-23 08:41:17,727 - INFO - Connecting to aop63bhe1nwsr-ats.iot.us-east-1.amazonaws.com:8883...\n"
     ]
    },
    {
     "name": "stdout",
     "output_type": "stream",
     "text": [
      "[Main] Starting MQTT subscription to 'test' topic...\n",
      "[Main] Publisher task started in the background. Subscriber will process the delayed incoming messages.\n"
     ]
    },
    {
     "name": "stderr",
     "output_type": "stream",
     "text": [
      "2025-01-23 08:41:17,962 - DEBUG - [async subscribe] Subscribed to topic: test\n",
      "2025-01-23 08:41:18,728 - DEBUG - [async subscribe] Polling... Timeout in 9 seconds.\n",
      "2025-01-23 08:41:18,729 - DEBUG - [async publish] Preparing to publish to topic test.\n",
      "2025-01-23 08:41:18,729 - INFO - Connecting to aop63bhe1nwsr-ats.iot.us-east-1.amazonaws.com:8883...\n",
      "2025-01-23 08:41:18,893 - DEBUG - [async publish] Connected to aop63bhe1nwsr-ats.iot.us-east-1.amazonaws.com:8883\n",
      "2025-01-23 08:41:18,893 - DEBUG - [publish] Content is not a Pydantic BaseModel.\n",
      "2025-01-23 08:41:18,894 - INFO - [async publish] Successfully published to test: 0\n",
      "2025-01-23 08:41:18,935 - DEBUG - [async subscribe] Processed message result: 0\n"
     ]
    },
    {
     "name": "stdout",
     "output_type": "stream",
     "text": [
      "[Subscriber] Received message: 0\n",
      "[Subscriber] Doubled value: 0\n",
      "[Main] Processed message result: 0\n"
     ]
    },
    {
     "name": "stderr",
     "output_type": "stream",
     "text": [
      "2025-01-23 08:41:19,936 - DEBUG - [async subscribe] Polling... Timeout in 9 seconds.\n",
      "2025-01-23 08:41:20,897 - DEBUG - [async publish] Preparing to publish to topic test.\n",
      "2025-01-23 08:41:20,898 - DEBUG - [publish] Content is not a Pydantic BaseModel.\n",
      "2025-01-23 08:41:20,899 - INFO - [async publish] Successfully published to test: 10\n",
      "2025-01-23 08:41:20,938 - DEBUG - [async subscribe] Processed message result: 20\n"
     ]
    },
    {
     "name": "stdout",
     "output_type": "stream",
     "text": [
      "[Subscriber] Received message: 10\n",
      "[Subscriber] Doubled value: 20\n",
      "[Main] Processed message result: 20\n"
     ]
    },
    {
     "name": "stderr",
     "output_type": "stream",
     "text": [
      "2025-01-23 08:41:21,939 - DEBUG - [async subscribe] Polling... Timeout in 9 seconds.\n",
      "2025-01-23 08:41:22,902 - DEBUG - [async publish] Preparing to publish to topic test.\n",
      "2025-01-23 08:41:22,904 - DEBUG - [publish] Content is not a Pydantic BaseModel.\n",
      "2025-01-23 08:41:22,906 - INFO - [async publish] Successfully published to test: 20\n",
      "2025-01-23 08:41:22,941 - DEBUG - [async subscribe] Polling... Timeout in 8 seconds.\n",
      "2025-01-23 08:41:22,942 - DEBUG - [async subscribe] Processed message result: 40\n"
     ]
    },
    {
     "name": "stdout",
     "output_type": "stream",
     "text": [
      "[Subscriber] Received message: 20\n",
      "[Subscriber] Doubled value: 40\n",
      "[Main] Processed message result: 40\n",
      "[Main] Received a message greater than 20. Exiting.\n"
     ]
    },
    {
     "name": "stderr",
     "output_type": "stream",
     "text": [
      "2025-01-23 08:41:24,910 - DEBUG - [async publish] Preparing to publish to topic test.\n",
      "2025-01-23 08:41:24,913 - DEBUG - [publish] Content is not a Pydantic BaseModel.\n",
      "2025-01-23 08:41:24,915 - INFO - [async publish] Successfully published to test: 30\n",
      "2025-01-23 08:41:24,948 - DEBUG - [async subscribe] Processed message result: 60\n"
     ]
    },
    {
     "name": "stdout",
     "output_type": "stream",
     "text": [
      "[Subscriber] Received message: 30\n",
      "[Subscriber] Doubled value: 60\n"
     ]
    },
    {
     "name": "stderr",
     "output_type": "stream",
     "text": [
      "2025-01-23 08:41:26,924 - DEBUG - [async publish] Preparing to publish to topic test.\n",
      "2025-01-23 08:41:26,927 - DEBUG - [publish] Content is not a Pydantic BaseModel.\n",
      "2025-01-23 08:41:26,929 - INFO - [async publish] Successfully published to test: 40\n",
      "2025-01-23 08:41:26,967 - DEBUG - [async subscribe] Processed message result: 80\n"
     ]
    },
    {
     "name": "stdout",
     "output_type": "stream",
     "text": [
      "[Subscriber] Received message: 40\n",
      "[Subscriber] Doubled value: 80\n",
      "[Publisher] Published all messages.\n",
      "[Main] Subscription ended.\n",
      "[Main] All received messages: [0, 20, 40]\n"
     ]
    }
   ],
   "source": [
    "import asyncio\n",
    "from pycarta.mqtt.publisher import async_publish\n",
    "from pycarta.mqtt.subscriber import async_subscribe\n",
    "\n",
    "\n",
    "if testing_broker[\"label\"] == \"mosquitto_local\":\n",
    "    # Define the asynchronous publisher and subscriber functions\n",
    "    @async_publish(\"test\")\n",
    "    async def add(lhs, rhs):\n",
    "        return lhs + rhs\n",
    "\n",
    "    # Define the asynchronous subscriber function to yield\n",
    "    @async_subscribe(\"test\")\n",
    "    async def double(x):\n",
    "        return x * 2\n",
    "elif testing_broker[\"label\"] == \"aimpf_remote_cred\":\n",
    "    # Define the asynchronous publisher and subscriber functions\n",
    "    @async_publish(\n",
    "        topic=\"test\",\n",
    "        host=testing_broker[\"host\"],\n",
    "        port=testing_broker[\"port\"],\n",
    "        qos=1,\n",
    "        authenticator=auth)\n",
    "    def add(lhs, rhs):\n",
    "        return lhs + rhs\n",
    "\n",
    "    # Define the asynchronous subscriber function to yield\n",
    "    @async_subscribe(\n",
    "        topic=\"test\",\n",
    "        host=testing_broker[\"host\"],\n",
    "        port=testing_broker[\"port\"],\n",
    "        authenticator=auth)\n",
    "    async def double(x):\n",
    "        print(f\"[Subscriber] Received message: {x}\")\n",
    "        result = int(x) * 2\n",
    "        print(f\"[Subscriber] Doubled value: {result}\")\n",
    "        return result\n",
    "\n",
    "async def main():\n",
    "    print(\"[Main] Starting MQTT subscription to 'test' topic...\")\n",
    "    \n",
    "    # Initialize a list to store received messages\n",
    "    received_messages = []\n",
    "    \n",
    "    # Start the publisher as a background task\n",
    "    publisher_task = asyncio.create_task(publish_messages())\n",
    "    print(\"[Main] Publisher task started in the background. Subscriber will process the delayed incoming messages.\")\n",
    "    \n",
    "    # Process incoming messages from the subscriber using async for\n",
    "    async for message in double:\n",
    "        if message is not None:\n",
    "            print(f\"[Main] Processed message result: {message}\")\n",
    "            # Append each received message to the list\n",
    "            received_messages.append(message)\n",
    "            # Exit condition for demonstration purposes\n",
    "            if message > 20:\n",
    "                print(\"[Main] Received a message greater than 20. Exiting.\")\n",
    "                break\n",
    "    \n",
    "    # Await the publisher task to ensure all messages are published\n",
    "    await publisher_task\n",
    "    \n",
    "    print(\"[Main] Subscription ended.\")\n",
    "    \n",
    "    # Access the list of received messages after exiting the loop\n",
    "    print(f\"[Main] All received messages: {received_messages}\")\n",
    "\n",
    "async def publish_messages():\n",
    "    # List of values to publish\n",
    "    test_values = [0, 5, 10, 15, 20]\n",
    "    \n",
    "    # Publish messages sequentially\n",
    "    for value in test_values:\n",
    "        await asyncio.sleep(1)   # Short delay between publishes\n",
    "        await add(value, value)  # For example, publish lhs + rhs\n",
    "        await asyncio.sleep(1)   # Short delay between publishes\n",
    "    \n",
    "    print(\"[Publisher] Published all messages.\")\n",
    "\n",
    "# Execute the main coroutine and the expected final results are: \n",
    "# >>> [Main] All received messages: [0, 20, 40]\n",
    "await main()"
   ]
  },
  {
   "cell_type": "code",
   "execution_count": 19,
   "metadata": {},
   "outputs": [
    {
     "name": "stderr",
     "output_type": "stream",
     "text": [
      "2025-01-23 08:41:31,808 - INFO - Queue before clearing: [60, 80]\n",
      "2025-01-23 08:41:31,809 - DEBUG - [async subscribe] Clearing the queue. Current size: 2\n",
      "2025-01-23 08:41:31,809 - DEBUG - [async subscribe] Removed item from queue: 60\n",
      "2025-01-23 08:41:31,810 - DEBUG - [async subscribe] Removed item from queue: 80\n",
      "2025-01-23 08:41:31,810 - DEBUG - [async subscribe] Queue cleared.\n",
      "2025-01-23 08:41:31,811 - INFO - Queue after clearing: []\n"
     ]
    }
   ],
   "source": [
    "# NOTE: If you run the previous cell, any message published after the subscriber is stopped will remain unprocessed in the queue. As a result, when the subscriber is resumed, the stale messages will still be processed. For example, if the subscriber processes numbers and the previously processed results are [60, 80, 2, 4, 6], newly published numbers 1, 2, 3 in separate publishing events would unexpectedly append their processed results to the old results, leading to [60, 80, 2, 4, 6] instead of the expected [2, 4, 6].\n",
    "logger.info(f\"Queue before clearing: {list(double.result_queue._queue)}\")\n",
    "\n",
    "# To address this issue, you must clear the queue explicitly using one of the following approaches before resuming or stopping the subscriber:\n",
    "\n",
    "# 1. Clear the queue explicitly:\n",
    "await double.clear_queue()\n",
    "\n",
    "# 2. Disconnect the subscriber and clear the queue simultaneously:\n",
    "# await double.disconnect_async(clear_queue=True)\n",
    "\n",
    "# Simply disconnecting the subscriber without clearing the queue will not remove the residual messages, and they will persist:\n",
    "# await double.disconnect_async()\n",
    "\n",
    "# To confirm the contents of the queue at any point, you can inspect it directly:\n",
    "logger.info(f\"Queue after clearing: {list(double.result_queue._queue)}\")"
   ]
  },
  {
   "cell_type": "code",
   "execution_count": null,
   "metadata": {},
   "outputs": [],
   "source": [
    "# After running the cleanup method, the result queue should be empty before new subscriber is launched, and the result should be [2, 4, 6] as expected now.\n",
    "# await double()\n",
    "# [message async for message in double]"
   ]
  },
  {
   "cell_type": "markdown",
   "metadata": {},
   "source": [
    "### Example 2.2: Asynchronous Sensor Monitoring and Control\n",
    "\n",
    "#### Overview\n",
    "This script demonstrates an asynchronous MQTT-based system for monitoring sensor values and triggering control actions based on predefined thresholds.\n",
    "\n",
    "#### Process\n",
    "- **Publish**:\n",
    "  - Sends simulated sensor values to the MQTT topic **`machine/sensor`**.\n",
    "  - Calculates and publishes the sum of two numbers as the sensor value.\n",
    "  - Provides error (`STOP`) or no-error (`CONTINUE`) status messages based on thresholds.\n",
    "\n",
    "- **Subscribe**:\n",
    "  - Listens to the **`machine/sensor`** topic for sensor values.\n",
    "  - Processes incoming messages and evaluates them against defined thresholds.\n",
    "  - Publishes a **`STOP`** action if the value is out of bounds, halting further processing.\n",
    "  - Publishes a **`CONTINUE`** action if the value is within bounds, allowing normal operation.\n",
    "\n",
    "- **Main**:\n",
    "  - Manages asynchronous publishing and subscribing with `asyncio`.\n",
    "  - Ensures sensor values are monitored in real-time and appropriate control actions are taken.\n",
    "  - Ends the subscription after an out-of-bound value triggers a **`STOP`** action.\n",
    "  "
   ]
  },
  {
   "cell_type": "code",
   "execution_count": 20,
   "metadata": {},
   "outputs": [
    {
     "name": "stderr",
     "output_type": "stream",
     "text": [
      "2025-01-23 08:41:36,155 - DEBUG - [async subscribe] Connecting to aop63bhe1nwsr-ats.iot.us-east-1.amazonaws.com:8883.\n",
      "2025-01-23 08:41:36,156 - INFO - Connecting to aop63bhe1nwsr-ats.iot.us-east-1.amazonaws.com:8883...\n"
     ]
    },
    {
     "name": "stdout",
     "output_type": "stream",
     "text": [
      "[Main] Starting MQTT subscription to 'machine/sensor' topic...\n",
      "[Main] Publisher task started in the background. Subscriber will process the incoming messages.\n"
     ]
    },
    {
     "name": "stderr",
     "output_type": "stream",
     "text": [
      "2025-01-23 08:41:36,381 - DEBUG - [async subscribe] Subscribed to topic: machine/sensor\n",
      "2025-01-23 08:41:37,156 - DEBUG - [async subscribe] Polling... Timeout in 9 seconds.\n",
      "2025-01-23 08:41:38,158 - DEBUG - [async subscribe] Polling... Timeout in 8 seconds.\n",
      "2025-01-23 08:41:39,157 - DEBUG - [async publish] Preparing to publish to topic machine/sensor.\n",
      "2025-01-23 08:41:39,159 - INFO - Connecting to aop63bhe1nwsr-ats.iot.us-east-1.amazonaws.com:8883...\n",
      "2025-01-23 08:41:39,161 - DEBUG - [async subscribe] Polling... Timeout in 7 seconds.\n",
      "2025-01-23 08:41:39,388 - DEBUG - [async publish] Connected to aop63bhe1nwsr-ats.iot.us-east-1.amazonaws.com:8883\n",
      "2025-01-23 08:41:39,388 - DEBUG - [publish] Content is not a Pydantic BaseModel.\n",
      "2025-01-23 08:41:39,391 - INFO - [async publish] Successfully published to machine/sensor: 14\n",
      "2025-01-23 08:41:39,433 - DEBUG - [async subscribe] Processed message result: 14\n",
      "2025-01-23 08:41:39,435 - DEBUG - [async publish] Preparing to publish to topic machine/sensor.\n",
      "2025-01-23 08:41:39,436 - INFO - Connecting to aop63bhe1nwsr-ats.iot.us-east-1.amazonaws.com:8883...\n"
     ]
    },
    {
     "name": "stdout",
     "output_type": "stream",
     "text": [
      "[Publisher] Published sensor value: 14\n",
      "[Main] Received sensor value: 14\n"
     ]
    },
    {
     "name": "stderr",
     "output_type": "stream",
     "text": [
      "2025-01-23 08:41:39,615 - DEBUG - [async publish] Connected to aop63bhe1nwsr-ats.iot.us-east-1.amazonaws.com:8883\n",
      "2025-01-23 08:41:39,617 - DEBUG - [publish] Content is not a Pydantic BaseModel.\n",
      "2025-01-23 08:41:39,622 - INFO - [async publish] Successfully published to machine/sensor: \"CONTINUE\"\n",
      "2025-01-23 08:41:39,659 - DEBUG - [async subscribe] Processed message result: CONTINUE\n"
     ]
    },
    {
     "name": "stdout",
     "output_type": "stream",
     "text": [
      "[Main] Published 'CONTINUE' action.\n",
      "[Main] Received sensor value: CONTINUE\n",
      "[Main] Received non-numeric sensor value: CONTINUE. Ignoring.\n"
     ]
    },
    {
     "name": "stderr",
     "output_type": "stream",
     "text": [
      "2025-01-23 08:41:40,660 - DEBUG - [async subscribe] Polling... Timeout in 9 seconds.\n",
      "2025-01-23 08:41:41,663 - DEBUG - [async subscribe] Polling... Timeout in 8 seconds.\n",
      "2025-01-23 08:41:42,666 - DEBUG - [async subscribe] Polling... Timeout in 7 seconds.\n",
      "2025-01-23 08:41:43,668 - DEBUG - [async subscribe] Polling... Timeout in 6 seconds.\n",
      "2025-01-23 08:41:44,394 - DEBUG - [async publish] Preparing to publish to topic machine/sensor.\n",
      "2025-01-23 08:41:44,396 - DEBUG - [publish] Content is not a Pydantic BaseModel.\n",
      "2025-01-23 08:41:44,399 - INFO - [async publish] Successfully published to machine/sensor: 18\n",
      "2025-01-23 08:41:44,436 - DEBUG - [async subscribe] Processed message result: 18\n",
      "2025-01-23 08:41:44,437 - DEBUG - [async publish] Preparing to publish to topic machine/sensor.\n",
      "2025-01-23 08:41:44,437 - DEBUG - [publish] Content is not a Pydantic BaseModel.\n",
      "2025-01-23 08:41:44,438 - INFO - [async publish] Successfully published to machine/sensor: \"CONTINUE\"\n",
      "2025-01-23 08:41:44,476 - DEBUG - [async subscribe] Processed message result: CONTINUE\n"
     ]
    },
    {
     "name": "stdout",
     "output_type": "stream",
     "text": [
      "[Publisher] Published sensor value: 18\n",
      "[Main] Received sensor value: 18\n",
      "[Main] Published 'CONTINUE' action.\n",
      "[Main] Received sensor value: CONTINUE\n",
      "[Main] Received non-numeric sensor value: CONTINUE. Ignoring.\n"
     ]
    },
    {
     "name": "stderr",
     "output_type": "stream",
     "text": [
      "2025-01-23 08:41:45,478 - DEBUG - [async subscribe] Polling... Timeout in 9 seconds.\n",
      "2025-01-23 08:41:46,482 - DEBUG - [async subscribe] Polling... Timeout in 8 seconds.\n",
      "2025-01-23 08:41:47,486 - DEBUG - [async subscribe] Polling... Timeout in 7 seconds.\n",
      "2025-01-23 08:41:48,489 - DEBUG - [async subscribe] Polling... Timeout in 6 seconds.\n",
      "2025-01-23 08:41:49,402 - DEBUG - [async publish] Preparing to publish to topic machine/sensor.\n",
      "2025-01-23 08:41:49,403 - DEBUG - [publish] Content is not a Pydantic BaseModel.\n",
      "2025-01-23 08:41:49,404 - INFO - [async publish] Successfully published to machine/sensor: 22\n",
      "2025-01-23 08:41:49,443 - DEBUG - [async subscribe] Processed message result: 22\n",
      "2025-01-23 08:41:49,444 - DEBUG - [async publish] Preparing to publish to topic machine/sensor.\n",
      "2025-01-23 08:41:49,444 - INFO - Connecting to aop63bhe1nwsr-ats.iot.us-east-1.amazonaws.com:8883...\n"
     ]
    },
    {
     "name": "stdout",
     "output_type": "stream",
     "text": [
      "[Publisher] Published sensor value: 22\n",
      "[Main] Received sensor value: 22\n"
     ]
    },
    {
     "name": "stderr",
     "output_type": "stream",
     "text": [
      "2025-01-23 08:41:49,659 - DEBUG - [async publish] Connected to aop63bhe1nwsr-ats.iot.us-east-1.amazonaws.com:8883\n",
      "2025-01-23 08:41:49,659 - DEBUG - [publish] Content is not a Pydantic BaseModel.\n",
      "2025-01-23 08:41:49,660 - INFO - [async publish] Successfully published to machine/sensor: \"STOP\"\n",
      "2025-01-23 08:41:49,698 - DEBUG - [async subscribe] Processed message result: STOP\n"
     ]
    },
    {
     "name": "stdout",
     "output_type": "stream",
     "text": [
      "[Main] Published 'STOP' action: value out of bounds [5.44, 19.24]. \n"
     ]
    },
    {
     "name": "stderr",
     "output_type": "stream",
     "text": [
      "2025-01-23 08:41:54,406 - DEBUG - [async publish] Preparing to publish to topic machine/sensor.\n",
      "2025-01-23 08:41:54,408 - DEBUG - [publish] Content is not a Pydantic BaseModel.\n",
      "2025-01-23 08:41:54,409 - INFO - [async publish] Successfully published to machine/sensor: 26\n",
      "2025-01-23 08:41:54,456 - DEBUG - [async subscribe] Processed message result: 26\n"
     ]
    },
    {
     "name": "stdout",
     "output_type": "stream",
     "text": [
      "[Publisher] Published sensor value: 26\n",
      "[Publisher] Published all messages.\n",
      "[Main] Subscription ended.\n",
      "[Main] All received messages: [14, 18, 22]\n"
     ]
    }
   ],
   "source": [
    "import asyncio\n",
    "import json\n",
    "from pycarta.mqtt.publisher import async_publish\n",
    "from pycarta.mqtt.subscriber import async_subscribe\n",
    "\n",
    "# Define expected value and variance\n",
    "mu = 12.34\n",
    "sigma = 3.45\n",
    "lower_bound, upper_bound = (mu - 2.0 * sigma, mu + 2.0 * sigma)\n",
    "\n",
    "if testing_broker[\"label\"] == \"mosquitto_local\":\n",
    "    # Define the asynchronous publisher functions\n",
    "    @async_publish(topic=\"machine/sensor\")\n",
    "    async def add(lhs, rhs):\n",
    "        return lhs + rhs\n",
    "\n",
    "    @async_publish(topic=\"machine/sensor\")\n",
    "    async def on_error():\n",
    "        return \"STOP\"\n",
    "\n",
    "    @async_publish(topic=\"machine/sensor\")\n",
    "    async def no_error():\n",
    "        return \"CONTINUE\"\n",
    "\n",
    "    # Define the asynchronous subscriber function to yield sensor value\n",
    "    @async_subscribe(\"machine/sensor\")\n",
    "    async def get_sensor_value(x):\n",
    "        return x\n",
    "elif testing_broker[\"label\"] == \"aimpf_remote_cred\":\n",
    "    # Define the asynchronous publisher functions\n",
    "    @async_publish(\n",
    "        topic=\"machine/sensor\",\n",
    "        host=testing_broker[\"host\"],\n",
    "        port=testing_broker[\"port\"],\n",
    "        authenticator=auth)\n",
    "    async def add(lhs, rhs):\n",
    "        return lhs + rhs\n",
    "\n",
    "    @async_publish(\n",
    "        topic=\"machine/sensor\",\n",
    "        host=testing_broker[\"host\"],\n",
    "        port=testing_broker[\"port\"],\n",
    "        authenticator=auth)\n",
    "    async def on_error():\n",
    "        return \"STOP\"\n",
    "\n",
    "    @async_publish(\n",
    "        topic=\"machine/sensor\",\n",
    "        host=testing_broker[\"host\"],\n",
    "        port=testing_broker[\"port\"],\n",
    "        authenticator=auth)\n",
    "    async def no_error():\n",
    "        return \"CONTINUE\"\n",
    "\n",
    "    # Define the asynchronous subscriber function to yield sensor value\n",
    "    @async_subscribe(\n",
    "        topic=\"machine/sensor\",\n",
    "        host=testing_broker[\"host\"],\n",
    "        port=testing_broker[\"port\"],\n",
    "        authenticator=auth)\n",
    "    async def get_sensor_value(x):\n",
    "        return x\n",
    "\n",
    "\n",
    "# Define the main coroutine\n",
    "async def main():\n",
    "    print(\"[Main] Starting MQTT subscription to 'machine/sensor' topic...\")\n",
    "    \n",
    "    # Initialize a list to store received messages\n",
    "    received_messages = []\n",
    "    \n",
    "    # Start the publisher as a background task\n",
    "    publisher_task = asyncio.create_task(publish_messages())\n",
    "    print(\"[Main] Publisher task started in the background. Subscriber will process the incoming messages.\")\n",
    "    \n",
    "    # Process incoming messages from the subscriber using async for\n",
    "    async for x in get_sensor_value:\n",
    "        if x is not None:\n",
    "            print(f\"[Main] Received sensor value: {x}\")\n",
    "            \n",
    "            # Check if x can be converted to a number\n",
    "            try:\n",
    "                x_float = float(x)\n",
    "                received_messages.append(x)  # Append each received message to the list\n",
    "            except ValueError:\n",
    "                print(f\"[Main] Received non-numeric sensor value: {x}. Ignoring.\")\n",
    "                continue\n",
    "\n",
    "            # Check error condition\n",
    "            if not lower_bound < x < upper_bound:\n",
    "                await on_error()\n",
    "                print(f\"[Main] Published 'STOP' action: value out of bounds [{lower_bound:.2f}, {upper_bound:.2f}]. \")\n",
    "                break\n",
    "            else:\n",
    "                await no_error()\n",
    "                print(\"[Main] Published 'CONTINUE' action.\")\n",
    "    \n",
    "    # Await the publisher task to ensure all messages are published\n",
    "    await publisher_task\n",
    "    \n",
    "    print(\"[Main] Subscription ended.\")\n",
    "    \n",
    "    # Access the list of received messages after exiting the loop\n",
    "    print(f\"[Main] All received messages: {received_messages}\")\n",
    "\n",
    "# Define the publisher coroutine\n",
    "async def publish_messages():\n",
    "    # List of values to publish\n",
    "    test_values = [7, 9, 11, 13]\n",
    "    \n",
    "    # Publish messages sequentially with a 3-second delay between publishes\n",
    "    for value in test_values:\n",
    "        await asyncio.sleep(3)   # Short delay to allow the subscriber to establish connection\n",
    "        result = value + value  # Example: publish lhs + rhs (e.g., 5 + 5 = 10)\n",
    "        await add(value, value)  # Publish the result to 'machine/sensor'\n",
    "        print(f\"[Publisher] Published sensor value: {result}\")\n",
    "        await asyncio.sleep(2)   # Short delay between publishes\n",
    "    \n",
    "    print(\"[Publisher] Published all messages.\")\n",
    "\n",
    "# Execute the main coroutine and the expected final results are: \n",
    "# >>> [Main] All received messages: [14, 18, 22]\n",
    "# NOTE: After receiving the last number 22 which is actually out of range, the subscriber stops recording messages.\n",
    "await main()\n"
   ]
  },
  {
   "cell_type": "code",
   "execution_count": null,
   "metadata": {},
   "outputs": [],
   "source": []
  }
 ],
 "metadata": {
  "kernelspec": {
   "display_name": "venv",
   "language": "python",
   "name": "python3"
  },
  "language_info": {
   "codemirror_mode": {
    "name": "ipython",
    "version": 3
   },
   "file_extension": ".py",
   "mimetype": "text/x-python",
   "name": "python",
   "nbconvert_exporter": "python",
   "pygments_lexer": "ipython3",
   "version": "3.12.8"
  }
 },
 "nbformat": 4,
 "nbformat_minor": 4
}
