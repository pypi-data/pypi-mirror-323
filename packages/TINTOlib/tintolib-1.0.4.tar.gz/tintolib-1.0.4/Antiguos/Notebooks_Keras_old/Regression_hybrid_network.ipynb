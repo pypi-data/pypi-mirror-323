{
 "cells": [
  {
   "cell_type": "markdown",
   "metadata": {
    "id": "EybOZ6hSjpCF"
   },
   "source": [
    "<h1><font color=\"#113D68\" size=6>TINTOlib: Converting Tidy Data into Image for 2-Dimensional Convolutional Neural Networks</font></h1>\n",
    "\n",
    "<h1><font color=\"#113D68\" size=5>Template Regression Machine Learning problem with a Hibryd Networks (CNN+MLP)</font></h1>\n",
    "\n",
    "<br><br>\n",
    "<div style=\"text-align: right\">\n",
    "<font color=\"#113D68\" size=3>Manuel Castillo-Cara</font><br>\n",
    "<font color=\"#113D68\" size=3>Raúl García-Castro</font><br>\n",
    "\n",
    "</div>\n",
    "\n",
    "---"
   ]
  },
  {
   "cell_type": "markdown",
   "metadata": {
    "id": "2l5nFzsdjpCW"
   },
   "source": [
    "---\n",
    "\n",
    "<a id=\"indice\"></a>\n",
    "<h2><font color=\"#004D7F\" size=5>Index</font></h2>\n",
    "\n",
    "* [0. Context](#section0)\n",
    "* [1. Description](#section1)\n",
    "    * [1.1. Main Features](#section11)\n",
    "    * [1.2. Citation](#section12)\n",
    "    * [1.3. Documentation and License](#section13)\n",
    "* [2. Libraries](#section2)\n",
    "    * [2.1. System setup](#section21)\n",
    "    * [2.2. Invoke the libraries](#section22)\n",
    "* [3. Data processing](#section3)\n",
    "    * [3.1. TINTOlib methods](#section31)\n",
    "    * [3.2. Read the dataset](#section32)\n",
    "    * [3.3. Generate images](#section33)\n",
    "    * [3.4. Read images](#section34)\n",
    "    * [3.5. Mix images and tidy data](#section35)\n",
    "* [4. Pre-modelling phase](#section4)\n",
    "    * [4.1. Data curation](#section41)\n",
    "* [5. Modelling hybrid network](#section5)\n",
    "    * [5.1. FFNN for tabular data](#section51)\n",
    "    * [5.2. CNN for TINTOlib images](#section52)\n",
    "    * [5.3. Concatenate branches](#section53)\n",
    "    * [5.4. Metrics](#section54)\n",
    "    * [5.5. Compile and fit](#section55)\n",
    "* [6. Results](#section6)\n",
    "    * [6.1. Train/Validation representation](#section61)\n",
    "    * [6.2. Validation/Test evaluation](#section62)"
   ]
  },
  {
   "cell_type": "markdown",
   "metadata": {
    "id": "SxTpMExHjpCa"
   },
   "source": [
    "---\n",
    "<a id=\"section0\"></a>\n",
    "# <font color=\"#004D7F\" size=6> 0. Context</font>"
   ]
  },
  {
   "cell_type": "markdown",
   "metadata": {
    "id": "JlVYt3MRrl_V"
   },
   "source": [
    "This is a tutorial on how to read the images created by TINTOlib and pass them to a very simple pretrained Convolutional Neural Network (CNN). The images must already be created by the TINTOlib software. See the documentation in GITHUB for how to create the images from tabular data.\n",
    "\n",
    "Remember that when using CNN you can set the training to be done with GPUs to improve performance."
   ]
  },
  {
   "cell_type": "markdown",
   "metadata": {
    "id": "i3tgsO0BjpCj"
   },
   "source": [
    "<div class=\"alert alert-block alert-info\">\n",
    "    \n",
    "<i class=\"fa fa-info-circle\" aria-hidden=\"true\"></i>\n",
    "You can see all information about TINTOlib in [GitHub](https://github.com/oeg-upm/TINTOlib)"
   ]
  },
  {
   "cell_type": "markdown",
   "metadata": {},
   "source": [
    "<div class=\"alert alert-block alert-info\">\n",
    "\n",
    "<i class=\"fa fa-info-circle\" aria-hidden=\"true\"></i>\n",
    "You can see all information about TINTOlib documentation in [PyPI](https://tintolib.readthedocs.io/en/latest/installation.html)"
   ]
  },
  {
   "cell_type": "markdown",
   "metadata": {
    "id": "4RKBgDwzjpCl"
   },
   "source": [
    "---\n",
    "<div style=\"text-align: right\"> <font size=5> <a href=\"#indice\"><i class=\"fa fa-arrow-circle-up\" aria-hidden=\"true\" style=\"color:#004D7F\"></i></a></font></div>\n",
    "\n",
    "---"
   ]
  },
  {
   "cell_type": "markdown",
   "metadata": {
    "id": "kpU7pi6yjpCn"
   },
   "source": [
    "<a id=\"section1\"></a>\n",
    "# <font color=\"#004D7F\" size=6> 1. Description</font>"
   ]
  },
  {
   "cell_type": "markdown",
   "metadata": {
    "id": "NL9RoFkEjpCq"
   },
   "source": [
    "The growing interest in the use of algorithms-based machine learning for predictive tasks has generated a large and diverse development of algorithms. However, it is widely known that not all of these algorithms are adapted to efficient solutions in certain tidy data format datasets. For this reason, novel techniques are currently being developed to convert tidy data into images with the aim of using Convolutional Neural Networks (CNNs). TINTOlib offers the opportunity to convert tidy data into images through several techniques: TINTO, IGTD, REFINED, SuperTML, BarGraph, DistanceMatrix and Combination."
   ]
  },
  {
   "cell_type": "markdown",
   "metadata": {
    "id": "HFrF4C89jpCt"
   },
   "source": [
    "---\n",
    "<a id=\"section11\"></a>\n",
    "# <font color=\"#004D7F\" size=5> 1.1. Main Features</font>"
   ]
  },
  {
   "cell_type": "markdown",
   "metadata": {
    "id": "1gruE0_sjpCu"
   },
   "source": [
    "- Supports all CSV data in **[Tidy Data](https://www.jstatsoft.org/article/view/v059i10)** format.\n",
    "- For now, the algorithm converts tabular data for binary and multi-class classification problems into machine learning.\n",
    "- Input data formats:\n",
    "    - **Tabular files**: The input data could be in **[CSV](https://en.wikipedia.org/wiki/Comma-separated_values)**, taking into account the **[Tidy Data](https://www.jstatsoft.org/article/view/v059i10)** format.\n",
    "    - **Dataframe***: The input data could be in **[Pandas Dataframe](https://pandas.pydata.org/docs/reference/api/pandas.DataFrame.html)**, taking into account the **[Tidy Data](https://www.jstatsoft.org/article/view/v059i10)** format.\n",
    "    - **Tidy Data**: The **target** (variable to be predicted) should be set as the last column of the dataset. Therefore, the first columns will be the features.\n",
    "    - All data must be in numerical form. TINTOlib does not accept data in string or any other non-numeric format.\n",
    "- Runs on **Linux**, **Windows** and **macOS** systems.\n",
    "- Compatible with **[Python](https://www.python.org/)** 3.7 or higher."
   ]
  },
  {
   "cell_type": "markdown",
   "metadata": {},
   "source": [
    "---\n",
    "<a id=\"section12\"></a>\n",
    "# <font color=\"#004D7F\" size=5> 1.2. Citation</font>"
   ]
  },
  {
   "cell_type": "markdown",
   "metadata": {},
   "source": [
    "**TINTOlib** is an python library that makes **Synthetic Images** from [Tidy Data](https://www.jstatsoft.org/article/view/v059i10) (also knows as **Tabular Data**).\n",
    "\n",
    "**Citing TINTO**: If you used TINTO in your work, please cite the **[SoftwareX](https://doi.org/10.1016/j.softx.2023.101391)**:\n",
    "\n",
    "```bib\n",
    "@article{softwarex_TINTO,\n",
    "    title = {TINTO: Converting Tidy Data into Image for Classification\n",
    "            with 2-Dimensional Convolutional Neural Networks},\n",
    "    journal = {SoftwareX},\n",
    "    author = {Manuel Castillo-Cara and Reewos Talla-Chumpitaz and\n",
    "              Raúl García-Castro and Luis Orozco-Barbosa},\n",
    "    year = {2023},\n",
    "    pages = {101391},\n",
    "    issn = {2352-7110},\n",
    "    doi = {https://doi.org/10.1016/j.softx.2023.101391}\n",
    "}\n",
    "```\n",
    "\n",
    "And use-case developed in **[INFFUS Paper](https://doi.org/10.1016/j.inffus.2022.10.011)**\n",
    "\n",
    "```bib\n",
    "@article{inffus_TINTO,\n",
    "    title = {A novel deep learning approach using blurring image\n",
    "            techniques for Bluetooth-based indoor localisation},\n",
    "    journal = {Information Fusion},\n",
    "    author = {Reewos Talla-Chumpitaz and Manuel Castillo-Cara and\n",
    "              Luis Orozco-Barbosa and Raúl García-Castro},\n",
    "    volume = {91},\n",
    "    pages = {173-186},\n",
    "    year = {2023},\n",
    "    issn = {1566-2535},\n",
    "    doi = {https://doi.org/10.1016/j.inffus.2022.10.011}\n",
    "}\n",
    "```"
   ]
  },
  {
   "cell_type": "markdown",
   "metadata": {},
   "source": [
    "---\n",
    "<a id=\"section13\"></a>\n",
    "# <font color=\"#004D7F\" size=5> 1.3. Documentation and License</font>"
   ]
  },
  {
   "cell_type": "markdown",
   "metadata": {},
   "source": [
    "TINTOlib has a wide range of documentation on both GitHub and PiPY. \n",
    "\n",
    "Moreover, TINTOlib is free and open software with Apache 2.0 license."
   ]
  },
  {
   "cell_type": "markdown",
   "metadata": {
    "id": "i3tgsO0BjpCj"
   },
   "source": [
    "<div class=\"alert alert-block alert-info\">\n",
    "    \n",
    "<i class=\"fa fa-info-circle\" aria-hidden=\"true\"></i>\n",
    "You can see all information about TINTOlib in [GitHub](https://github.com/oeg-upm/TINTOlib)"
   ]
  },
  {
   "cell_type": "markdown",
   "metadata": {},
   "source": [
    "<div class=\"alert alert-block alert-info\">\n",
    "\n",
    "<i class=\"fa fa-info-circle\" aria-hidden=\"true\"></i>\n",
    "You can see all information about TINTOlib documentation in [PyPI](https://tintolib.readthedocs.io/en/latest/installation.html)"
   ]
  },
  {
   "cell_type": "markdown",
   "metadata": {
    "id": "Z3EzYcjJjpC6"
   },
   "source": [
    "---\n",
    "<div style=\"text-align: right\"> <font size=5> <a href=\"#indice\"><i class=\"fa fa-arrow-circle-up\" aria-hidden=\"true\" style=\"color:#004D7F\"></i></a></font></div>\n",
    "\n",
    "---"
   ]
  },
  {
   "cell_type": "markdown",
   "metadata": {
    "id": "qwYF5A2njpC8"
   },
   "source": [
    "<a id=\"section2\"></a>\n",
    "# <font color=\"#004D7F\" size=6> 2. Libraries</font>"
   ]
  },
  {
   "cell_type": "markdown",
   "metadata": {},
   "source": [
    "---\n",
    "<a id=\"section21\"></a>\n",
    "# <font color=\"#004D7F\" size=5> 2.1. System setup</font>"
   ]
  },
  {
   "cell_type": "markdown",
   "metadata": {},
   "source": [
    "Before installing the libraries you must have the `mpi4py` package installed on the native (Linux) system. This link shows how to install it: \n",
    "- Link: [`mpi4py` in Linux](https://www.geeksforgeeks.org/how-to-install-python3-mpi4py-package-on-linux/)\n",
    "\n",
    "For example, in Linux:\n",
    "\n",
    "```\n",
    "    sudo apt-get install python3\n",
    "    sudo apt install python3-pip\n",
    "    sudo apt install python3-mpi4py\n",
    "```\n",
    "\n",
    "If you are in Windows, Mac or, also, Linux, you can install from PyPI if you want:\n",
    "```\n",
    "    sudo pip3 install mpi4py\n",
    "```"
   ]
  },
  {
   "cell_type": "markdown",
   "metadata": {},
   "source": [
    "<div class=\"alert alert-block alert-info\">\n",
    "    \n",
    "<i class=\"fa fa-info-circle\" aria-hidden=\"true\"></i>\n",
    "Note that you must **restart the kernel or the system** so that it can load the libraries. "
   ]
  },
  {
   "cell_type": "markdown",
   "metadata": {},
   "source": [
    "Now, once you have installed `mpi4py` you can install the PyPI libraries and dependences."
   ]
  },
  {
   "cell_type": "code",
   "execution_count": 1,
   "metadata": {},
   "outputs": [
    {
     "name": "stdout",
     "output_type": "stream",
     "text": [
      "Requirement already satisfied: torchmetrics in c:\\users\\jiayu\\anaconda3\\envs\\tinto-hnn\\lib\\site-packages (1.3.0.post0)\n",
      "Requirement already satisfied: pytorch_lightning in c:\\users\\jiayu\\anaconda3\\envs\\tinto-hnn\\lib\\site-packages (2.1.3)\n",
      "Requirement already satisfied: TINTOlib in c:\\users\\jiayu\\anaconda3\\envs\\tinto-hnn\\lib\\site-packages (0.0.14)\n",
      "Requirement already satisfied: imblearn in c:\\users\\jiayu\\anaconda3\\envs\\tinto-hnn\\lib\\site-packages (0.0)\n",
      "Requirement already satisfied: keras_preprocessing in c:\\users\\jiayu\\anaconda3\\envs\\tinto-hnn\\lib\\site-packages (1.1.2)\n",
      "Requirement already satisfied: mpi4py in c:\\users\\jiayu\\anaconda3\\envs\\tinto-hnn\\lib\\site-packages (3.1.5)\n",
      "Requirement already satisfied: numpy>1.20.0 in c:\\users\\jiayu\\anaconda3\\envs\\tinto-hnn\\lib\\site-packages (from torchmetrics) (1.24.3)\n",
      "Requirement already satisfied: packaging>17.1 in c:\\users\\jiayu\\anaconda3\\envs\\tinto-hnn\\lib\\site-packages (from torchmetrics) (23.2)\n",
      "Requirement already satisfied: torch>=1.10.0 in c:\\users\\jiayu\\anaconda3\\envs\\tinto-hnn\\lib\\site-packages (from torchmetrics) (2.2.0+cu118)\n",
      "Requirement already satisfied: lightning-utilities>=0.8.0 in c:\\users\\jiayu\\anaconda3\\envs\\tinto-hnn\\lib\\site-packages (from torchmetrics) (0.10.1)\n",
      "Requirement already satisfied: tqdm>=4.57.0 in c:\\users\\jiayu\\appdata\\roaming\\python\\python311\\site-packages (from pytorch_lightning) (4.66.1)\n",
      "Requirement already satisfied: PyYAML>=5.4 in c:\\users\\jiayu\\anaconda3\\envs\\tinto-hnn\\lib\\site-packages (from pytorch_lightning) (6.0.1)\n",
      "Requirement already satisfied: fsspec>=2022.5.0 in c:\\users\\jiayu\\anaconda3\\envs\\tinto-hnn\\lib\\site-packages (from fsspec[http]>=2022.5.0->pytorch_lightning) (2023.12.2)\n",
      "Requirement already satisfied: typing-extensions>=4.0.0 in c:\\users\\jiayu\\anaconda3\\envs\\tinto-hnn\\lib\\site-packages (from pytorch_lightning) (4.8.0)\n",
      "Requirement already satisfied: imbalanced-learn in c:\\users\\jiayu\\anaconda3\\envs\\tinto-hnn\\lib\\site-packages (from imblearn) (0.12.0)\n",
      "Requirement already satisfied: six>=1.9.0 in c:\\users\\jiayu\\anaconda3\\envs\\tinto-hnn\\lib\\site-packages (from keras_preprocessing) (1.16.0)\n",
      "Requirement already satisfied: requests in c:\\users\\jiayu\\appdata\\roaming\\python\\python311\\site-packages (from fsspec[http]>=2022.5.0->pytorch_lightning) (2.31.0)\n",
      "Requirement already satisfied: aiohttp!=4.0.0a0,!=4.0.0a1 in c:\\users\\jiayu\\anaconda3\\envs\\tinto-hnn\\lib\\site-packages (from fsspec[http]>=2022.5.0->pytorch_lightning) (3.9.3)\n",
      "Requirement already satisfied: setuptools in c:\\users\\jiayu\\anaconda3\\envs\\tinto-hnn\\lib\\site-packages (from lightning-utilities>=0.8.0->torchmetrics) (68.2.2)\n",
      "Requirement already satisfied: filelock in c:\\users\\jiayu\\anaconda3\\envs\\tinto-hnn\\lib\\site-packages (from torch>=1.10.0->torchmetrics) (3.13.1)\n",
      "Requirement already satisfied: sympy in c:\\users\\jiayu\\anaconda3\\envs\\tinto-hnn\\lib\\site-packages (from torch>=1.10.0->torchmetrics) (1.12)\n",
      "Requirement already satisfied: networkx in c:\\users\\jiayu\\anaconda3\\envs\\tinto-hnn\\lib\\site-packages (from torch>=1.10.0->torchmetrics) (3.3)\n",
      "Requirement already satisfied: jinja2 in c:\\users\\jiayu\\anaconda3\\envs\\tinto-hnn\\lib\\site-packages (from torch>=1.10.0->torchmetrics) (3.1.3)\n",
      "Requirement already satisfied: colorama in c:\\users\\jiayu\\appdata\\roaming\\python\\python311\\site-packages (from tqdm>=4.57.0->pytorch_lightning) (0.4.6)\n",
      "Requirement already satisfied: scipy>=1.5.0 in c:\\users\\jiayu\\appdata\\roaming\\python\\python311\\site-packages (from imbalanced-learn->imblearn) (1.11.2)\n",
      "Requirement already satisfied: scikit-learn>=1.0.2 in c:\\users\\jiayu\\anaconda3\\envs\\tinto-hnn\\lib\\site-packages (from imbalanced-learn->imblearn) (1.4.0)\n",
      "Requirement already satisfied: joblib>=1.1.1 in c:\\users\\jiayu\\anaconda3\\envs\\tinto-hnn\\lib\\site-packages (from imbalanced-learn->imblearn) (1.3.2)\n",
      "Requirement already satisfied: threadpoolctl>=2.0.0 in c:\\users\\jiayu\\anaconda3\\envs\\tinto-hnn\\lib\\site-packages (from imbalanced-learn->imblearn) (3.2.0)\n",
      "Requirement already satisfied: aiosignal>=1.1.2 in c:\\users\\jiayu\\anaconda3\\envs\\tinto-hnn\\lib\\site-packages (from aiohttp!=4.0.0a0,!=4.0.0a1->fsspec[http]>=2022.5.0->pytorch_lightning) (1.3.1)\n",
      "Requirement already satisfied: attrs>=17.3.0 in c:\\users\\jiayu\\anaconda3\\envs\\tinto-hnn\\lib\\site-packages (from aiohttp!=4.0.0a0,!=4.0.0a1->fsspec[http]>=2022.5.0->pytorch_lightning) (23.2.0)\n",
      "Requirement already satisfied: frozenlist>=1.1.1 in c:\\users\\jiayu\\anaconda3\\envs\\tinto-hnn\\lib\\site-packages (from aiohttp!=4.0.0a0,!=4.0.0a1->fsspec[http]>=2022.5.0->pytorch_lightning) (1.4.1)\n",
      "Requirement already satisfied: multidict<7.0,>=4.5 in c:\\users\\jiayu\\anaconda3\\envs\\tinto-hnn\\lib\\site-packages (from aiohttp!=4.0.0a0,!=4.0.0a1->fsspec[http]>=2022.5.0->pytorch_lightning) (6.0.4)\n",
      "Requirement already satisfied: yarl<2.0,>=1.0 in c:\\users\\jiayu\\anaconda3\\envs\\tinto-hnn\\lib\\site-packages (from aiohttp!=4.0.0a0,!=4.0.0a1->fsspec[http]>=2022.5.0->pytorch_lightning) (1.9.4)\n",
      "Requirement already satisfied: MarkupSafe>=2.0 in c:\\users\\jiayu\\appdata\\roaming\\python\\python311\\site-packages (from jinja2->torch>=1.10.0->torchmetrics) (2.1.3)\n",
      "Requirement already satisfied: charset-normalizer<4,>=2 in c:\\users\\jiayu\\anaconda3\\envs\\tinto-hnn\\lib\\site-packages (from requests->fsspec[http]>=2022.5.0->pytorch_lightning) (3.3.2)\n",
      "Requirement already satisfied: idna<4,>=2.5 in c:\\users\\jiayu\\appdata\\roaming\\python\\python311\\site-packages (from requests->fsspec[http]>=2022.5.0->pytorch_lightning) (3.4)\n",
      "Requirement already satisfied: urllib3<3,>=1.21.1 in c:\\users\\jiayu\\anaconda3\\envs\\tinto-hnn\\lib\\site-packages (from requests->fsspec[http]>=2022.5.0->pytorch_lightning) (2.2.1)\n",
      "Requirement already satisfied: certifi>=2017.4.17 in c:\\users\\jiayu\\appdata\\roaming\\python\\python311\\site-packages (from requests->fsspec[http]>=2022.5.0->pytorch_lightning) (2023.7.22)\n",
      "Requirement already satisfied: mpmath>=0.19 in c:\\users\\jiayu\\anaconda3\\envs\\tinto-hnn\\lib\\site-packages (from sympy->torch>=1.10.0->torchmetrics) (1.3.0)\n"
     ]
    }
   ],
   "source": [
    "!pip install torchmetrics pytorch_lightning TINTOlib imblearn keras_preprocessing mpi4py"
   ]
  },
  {
   "cell_type": "markdown",
   "metadata": {},
   "source": [
    "<div class=\"alert alert-block alert-info\">\n",
    "    \n",
    "<i class=\"fa fa-info-circle\" aria-hidden=\"true\"></i>\n",
    "Note that you must **restart the kernel** so that it can load the libraries. "
   ]
  },
  {
   "cell_type": "markdown",
   "metadata": {},
   "source": [
    "---\n",
    "<a id=\"section22\"></a>\n",
    "# <font color=\"#004D7F\" size=5> 2.2. Invoke the libraries</font>"
   ]
  },
  {
   "cell_type": "markdown",
   "metadata": {
    "id": "5AdHKnWYsEq_"
   },
   "source": [
    "The first thing we need to do is to declare the libraries"
   ]
  },
  {
   "cell_type": "code",
   "execution_count": 26,
   "metadata": {
    "id": "PeeBbGxlpjFp",
    "scrolled": true,
    "tags": []
   },
   "outputs": [],
   "source": [
    "import os\n",
    "import pandas as pd\n",
    "import numpy as np\n",
    "from tqdm import tqdm\n",
    "#import cv2\n",
    "import gc\n",
    "import matplotlib.pyplot as plt\n",
    "#import openslide\n",
    "#from openslide.deepzoom import DeepZoomGenerator\n",
    "import tifffile as tifi\n",
    "import sklearn\n",
    "import tensorflow as tf\n",
    "import seaborn as sns\n",
    "from PIL import Image\n",
    "\n",
    "\n",
    "from sklearn.metrics import mean_absolute_error, mean_squared_error, r2_score,mean_absolute_percentage_error\n",
    "\n",
    "from keras_preprocessing.image import ImageDataGenerator\n",
    "from tensorflow.keras.models import load_model\n",
    "\n",
    "from sklearn.model_selection import train_test_split\n",
    "from tensorflow.keras.applications import vgg16, vgg19, resnet50, mobilenet, inception_resnet_v2, densenet, inception_v3, xception, nasnet, ResNet152V2\n",
    "from tensorflow.keras.models import Sequential, Model, load_model\n",
    "from tensorflow.keras.layers import Dense, Conv2D, MaxPool2D, Flatten, Dropout, BatchNormalization, InputLayer, LayerNormalization\n",
    "from tensorflow.keras.callbacks import ModelCheckpoint, ReduceLROnPlateau, EarlyStopping\n",
    "from tensorflow.keras.optimizers import SGD, Adam, Adadelta, Adamax\n",
    "from tensorflow.keras import layers, models, Model\n",
    "from tensorflow.keras.losses import MeanAbsoluteError, MeanAbsolutePercentageError\n",
    "from tensorflow.keras.layers import Input, Activation,MaxPooling2D, concatenate\n",
    "\n",
    "from imblearn.over_sampling import RandomOverSampler\n",
    "\n",
    "#Models of TINTOlib\n",
    "from TINTOlib.tinto import TINTO\n",
    "from TINTOlib.supertml import SuperTML\n",
    "from TINTOlib.igtd import IGTD\n",
    "from TINTOlib.refined import REFINED\n",
    "from TINTOlib.barGraph import BarGraph\n",
    "from TINTOlib.distanceMatrix import DistanceMatrix\n",
    "from TINTOlib.combination import Combination"
   ]
  },
  {
   "cell_type": "markdown",
   "metadata": {
    "id": "NwS-cKUxjpDQ"
   },
   "source": [
    "---\n",
    "<div style=\"text-align: right\"> <font size=5> <a href=\"#indice\"><i class=\"fa fa-arrow-circle-up\" aria-hidden=\"true\" style=\"color:#004D7F\"></i></a></font></div>\n",
    "\n",
    "---"
   ]
  },
  {
   "cell_type": "markdown",
   "metadata": {
    "id": "aDL4LARWjpDT"
   },
   "source": [
    "<a id=\"section3\"></a>\n",
    "# <font color=\"#004D7F\" size=6> 3. Data processing</font>"
   ]
  },
  {
   "cell_type": "markdown",
   "metadata": {
    "id": "jXcRw78ljpDU"
   },
   "source": [
    "The first thing to do is to read all the images created by TINTO. TINTO creates a folder which contains subfolders corresponding to each target that has the problem. Each image corresponds to a sample of the original dataset."
   ]
  },
  {
   "cell_type": "markdown",
   "metadata": {},
   "source": [
    "---\n",
    "<a id=\"section31\"></a>\n",
    "# <font color=\"#004D7F\" size=5> 3.1. TINTOlib methods</font>\n",
    "\n",
    "We prepare the declaration of the classes with the TINTOlib method we want to transform. Note that TINTOlib has several methods and we will have to choose one of them since each method generates different images.\n",
    "\n",
    "In addition, we establish the paths where the dataset is located and also the folder where the images will be created."
   ]
  },
  {
   "cell_type": "markdown",
   "metadata": {
    "id": "Q_fROCY5C__S"
   },
   "source": [
    "<a id=\"section31\"></a>\n",
    "# <font color=\"#004D7F\" size=5> 3.1. Create images with TINTOlib</font>"
   ]
  },
  {
   "cell_type": "code",
   "execution_count": 27,
   "metadata": {
    "id": "oXYAlWzQC__T"
   },
   "outputs": [],
   "source": [
    "#Select the model and the parameters\n",
    "problem_type = \"regression\"\n",
    "#image_model = REFINED(problem= problem_type,hcIterations=5)\n",
    "image_model = TINTO(problem= problem_type,blur=True)\n",
    "#image_model = IGTD(problem= problem_type)\n",
    "#image_model = BarGraph(problem= problem_type)\n",
    "#image_model = DistanceMatrix(problem= problem_type)\n",
    "#image_model = Combination(problem= problem_type)\n",
    "\n",
    "#Define the dataset path and the folder where the images will be saved\n",
    "dataset_path = \"../sample_data/boston.csv\"\n",
    "images_folder = \"../HyNNImages/Regression/images_boston_TINTO\""
   ]
  },
  {
   "cell_type": "markdown",
   "metadata": {},
   "source": [
    "<div class=\"alert alert-block alert-info\">\n",
    "\n",
    "<i class=\"fa fa-info-circle\" aria-hidden=\"true\"></i>\n",
    "You can see all information about TINTOlib documentation in [PyPI](https://tintolib.readthedocs.io/en/latest/installation.html)"
   ]
  },
  {
   "cell_type": "markdown",
   "metadata": {},
   "source": [
    "---\n",
    "<a id=\"section32\"></a>\n",
    "# <font color=\"#004D7F\" size=5> 3.2. Read the dataset</font>\n",
    "\n",
    "In this part, we proceed to read the dataset according to the path specified above and also standardize the name that the target will have."
   ]
  },
  {
   "cell_type": "code",
   "execution_count": 28,
   "metadata": {},
   "outputs": [
    {
     "data": {
      "text/html": [
       "<div>\n",
       "<style scoped>\n",
       "    .dataframe tbody tr th:only-of-type {\n",
       "        vertical-align: middle;\n",
       "    }\n",
       "\n",
       "    .dataframe tbody tr th {\n",
       "        vertical-align: top;\n",
       "    }\n",
       "\n",
       "    .dataframe thead th {\n",
       "        text-align: right;\n",
       "    }\n",
       "</style>\n",
       "<table border=\"1\" class=\"dataframe\">\n",
       "  <thead>\n",
       "    <tr style=\"text-align: right;\">\n",
       "      <th></th>\n",
       "      <th>CRIM</th>\n",
       "      <th>ZN</th>\n",
       "      <th>INDUS</th>\n",
       "      <th>CHAS</th>\n",
       "      <th>NOX</th>\n",
       "      <th>RM</th>\n",
       "      <th>AGE</th>\n",
       "      <th>DIS</th>\n",
       "      <th>RAD</th>\n",
       "      <th>TAX</th>\n",
       "      <th>PTRATIO</th>\n",
       "      <th>B</th>\n",
       "      <th>LSTAT</th>\n",
       "      <th>MEDV</th>\n",
       "    </tr>\n",
       "  </thead>\n",
       "  <tbody>\n",
       "    <tr>\n",
       "      <th>0</th>\n",
       "      <td>0.00632</td>\n",
       "      <td>18.0</td>\n",
       "      <td>2.31</td>\n",
       "      <td>0</td>\n",
       "      <td>0.538</td>\n",
       "      <td>6.575</td>\n",
       "      <td>65.2</td>\n",
       "      <td>4.0900</td>\n",
       "      <td>1</td>\n",
       "      <td>296.0</td>\n",
       "      <td>15.3</td>\n",
       "      <td>396.9</td>\n",
       "      <td>4.98</td>\n",
       "      <td>24.0</td>\n",
       "    </tr>\n",
       "    <tr>\n",
       "      <th>1</th>\n",
       "      <td>0.02731</td>\n",
       "      <td>0.0</td>\n",
       "      <td>7.07</td>\n",
       "      <td>0</td>\n",
       "      <td>0.469</td>\n",
       "      <td>6.421</td>\n",
       "      <td>78.9</td>\n",
       "      <td>4.9671</td>\n",
       "      <td>2</td>\n",
       "      <td>242.0</td>\n",
       "      <td>17.8</td>\n",
       "      <td>396.9</td>\n",
       "      <td>9.14</td>\n",
       "      <td>21.6</td>\n",
       "    </tr>\n",
       "  </tbody>\n",
       "</table>\n",
       "</div>"
      ],
      "text/plain": [
       "      CRIM    ZN  INDUS  CHAS    NOX     RM   AGE     DIS  RAD    TAX  \\\n",
       "0  0.00632  18.0   2.31     0  0.538  6.575  65.2  4.0900    1  296.0   \n",
       "1  0.02731   0.0   7.07     0  0.469  6.421  78.9  4.9671    2  242.0   \n",
       "\n",
       "   PTRATIO      B  LSTAT  MEDV  \n",
       "0     15.3  396.9   4.98  24.0  \n",
       "1     17.8  396.9   9.14  21.6  "
      ]
     },
     "execution_count": 28,
     "metadata": {},
     "output_type": "execute_result"
    }
   ],
   "source": [
    "#Read CSV\n",
    "df = pd.read_csv(dataset_path)\n",
    "df.head(2)"
   ]
  },
  {
   "cell_type": "markdown",
   "metadata": {},
   "source": [
    "---\n",
    "<a id=\"section33\"></a>\n",
    "# <font color=\"#004D7F\" size=5> 3.3. Generate images</font>\n",
    "\n",
    "Now we can generate the images with the `generateImages()` generic function. Likewise, we create a dataset that will have the path of each of the samples with the corresponding image created for it. \n",
    "\n",
    "Note that each image is created based on a row, therefore, each numerical sample of the dataset will correspond to a particular image. In other words, we will have the same number of images as samples/rows."
   ]
  },
  {
   "cell_type": "code",
   "execution_count": 29,
   "metadata": {},
   "outputs": [
    {
     "name": "stdout",
     "output_type": "stream",
     "text": [
      "The images are already generated\n",
      "../HyNNImages/Regression/images_boston_TINTO\\regression.csv\n"
     ]
    }
   ],
   "source": [
    "import os\n",
    "\n",
    "# Generate the images if the folder does not exist\n",
    "if not os.path.exists(images_folder):\n",
    "    #Generate thet images\n",
    "    image_model.generateImages(df, images_folder)\n",
    "else:\n",
    "    print(\"The images are already generated\")\n",
    "\n",
    "img_paths = os.path.join(images_folder,problem_type+\".csv\")\n",
    "\n",
    "print(img_paths)"
   ]
  },
  {
   "cell_type": "markdown",
   "metadata": {
    "id": "klS9PZsUjpDV"
   },
   "source": [
    "---\n",
    "<a id=\"section34\"></a>\n",
    "# <font color=\"#004D7F\" size=5> 3.4. Read Images</font>\n",
    "\n",
    "Now, we read the created images "
   ]
  },
  {
   "cell_type": "code",
   "execution_count": 30,
   "metadata": {},
   "outputs": [],
   "source": [
    "imgs = pd.read_csv(img_paths)\n",
    "\n",
    "#imgs[\"images\"]= images_folder + \"\\\\\" + imgs[\"images\"]\n",
    "imgs[\"images\"]= images_folder + \"/\" + imgs[\"images\"]"
   ]
  },
  {
   "cell_type": "markdown",
   "metadata": {},
   "source": [
    "---\n",
    "<a id=\"section35\"></a>\n",
    "# <font color=\"#004D7F\" size=5> 3.5. Mix images and tidy data</font>\n",
    "\n",
    "Since we are going to use hybrid networks, i.e. create a model in which we join a CNN for the images and a MLP for the tabular data, we are going to join it in order to integrate all the data in our hybrid model.\n"
   ]
  },
  {
   "cell_type": "code",
   "execution_count": 31,
   "metadata": {},
   "outputs": [
    {
     "data": {
      "text/html": [
       "<div>\n",
       "<style scoped>\n",
       "    .dataframe tbody tr th:only-of-type {\n",
       "        vertical-align: middle;\n",
       "    }\n",
       "\n",
       "    .dataframe tbody tr th {\n",
       "        vertical-align: top;\n",
       "    }\n",
       "\n",
       "    .dataframe thead th {\n",
       "        text-align: right;\n",
       "    }\n",
       "</style>\n",
       "<table border=\"1\" class=\"dataframe\">\n",
       "  <thead>\n",
       "    <tr style=\"text-align: right;\">\n",
       "      <th></th>\n",
       "      <th>CRIM</th>\n",
       "      <th>ZN</th>\n",
       "      <th>INDUS</th>\n",
       "      <th>CHAS</th>\n",
       "      <th>NOX</th>\n",
       "      <th>RM</th>\n",
       "      <th>AGE</th>\n",
       "      <th>DIS</th>\n",
       "      <th>RAD</th>\n",
       "      <th>TAX</th>\n",
       "      <th>PTRATIO</th>\n",
       "      <th>B</th>\n",
       "      <th>LSTAT</th>\n",
       "      <th>MEDV</th>\n",
       "    </tr>\n",
       "  </thead>\n",
       "  <tbody>\n",
       "    <tr>\n",
       "      <th>0</th>\n",
       "      <td>0.000000</td>\n",
       "      <td>0.18</td>\n",
       "      <td>0.067815</td>\n",
       "      <td>0.0</td>\n",
       "      <td>0.314815</td>\n",
       "      <td>0.577505</td>\n",
       "      <td>0.641607</td>\n",
       "      <td>0.269203</td>\n",
       "      <td>0.000000</td>\n",
       "      <td>0.208015</td>\n",
       "      <td>0.287234</td>\n",
       "      <td>1.0</td>\n",
       "      <td>0.08968</td>\n",
       "      <td>24.0</td>\n",
       "    </tr>\n",
       "    <tr>\n",
       "      <th>1</th>\n",
       "      <td>0.000236</td>\n",
       "      <td>0.00</td>\n",
       "      <td>0.242302</td>\n",
       "      <td>0.0</td>\n",
       "      <td>0.172840</td>\n",
       "      <td>0.547998</td>\n",
       "      <td>0.782698</td>\n",
       "      <td>0.348962</td>\n",
       "      <td>0.043478</td>\n",
       "      <td>0.104962</td>\n",
       "      <td>0.553191</td>\n",
       "      <td>1.0</td>\n",
       "      <td>0.20447</td>\n",
       "      <td>21.6</td>\n",
       "    </tr>\n",
       "  </tbody>\n",
       "</table>\n",
       "</div>"
      ],
      "text/plain": [
       "       CRIM    ZN     INDUS  CHAS       NOX        RM       AGE       DIS  \\\n",
       "0  0.000000  0.18  0.067815   0.0  0.314815  0.577505  0.641607  0.269203   \n",
       "1  0.000236  0.00  0.242302   0.0  0.172840  0.547998  0.782698  0.348962   \n",
       "\n",
       "        RAD       TAX   PTRATIO    B    LSTAT  MEDV  \n",
       "0  0.000000  0.208015  0.287234  1.0  0.08968  24.0  \n",
       "1  0.043478  0.104962  0.553191  1.0  0.20447  21.6  "
      ]
     },
     "execution_count": 31,
     "metadata": {},
     "output_type": "execute_result"
    }
   ],
   "source": [
    "# Select all the attributes to normalize\n",
    "columns_to_normalize = df.columns[:-1]\n",
    "\n",
    "# Normalize between 0 and 1\n",
    "df_normalized = (df[columns_to_normalize] - df[columns_to_normalize].min()) / (df[columns_to_normalize].max() - df[columns_to_normalize].min())\n",
    "\n",
    "# Combine the attributes and the label\n",
    "df_normalized = pd.concat([df_normalized, df[df.columns[-1]]], axis=1)\n",
    "\n",
    "df_normalized.head(2)"
   ]
  },
  {
   "cell_type": "markdown",
   "metadata": {},
   "source": [
    "Combine the images and tidy data in the same dataframe, split attributes and objective value"
   ]
  },
  {
   "cell_type": "code",
   "execution_count": 8,
   "metadata": {},
   "outputs": [
    {
     "name": "stdout",
     "output_type": "stream",
     "text": [
      "0      24.0\n",
      "1      21.6\n",
      "2      34.7\n",
      "3      33.4\n",
      "4      36.2\n",
      "       ... \n",
      "501    22.4\n",
      "502    20.6\n",
      "503    23.9\n",
      "504    22.0\n",
      "505    11.9\n",
      "Name: values, Length: 506, dtype: float64\n"
     ]
    }
   ],
   "source": [
    "combined_dataset = pd.concat([imgs,df_normalized],axis=1)\n",
    "#MEDV is the objective value in Boston dataset\n",
    "df_x = combined_dataset.drop(\"MEDV\",axis=1).drop(\"values\",axis=1)\n",
    "df_y = combined_dataset[\"values\"]\n",
    "\n",
    "print(df_y)"
   ]
  },
  {
   "cell_type": "markdown",
   "metadata": {
    "id": "_haEKIo7jpD1"
   },
   "source": [
    "---\n",
    "<div style=\"text-align: right\"> <font size=5> <a href=\"#indice\"><i class=\"fa fa-arrow-circle-up\" aria-hidden=\"true\" style=\"color:#004D7F\"></i></a></font></div>\n",
    "\n",
    "---"
   ]
  },
  {
   "cell_type": "markdown",
   "metadata": {
    "id": "uF1lJWbojpD3"
   },
   "source": [
    "<a id=\"section4\"></a>\n",
    "# <font color=\"#004D7F\" size=6> 4. Pre-modelling phase</font>"
   ]
  },
  {
   "cell_type": "markdown",
   "metadata": {},
   "source": [
    "Once the data is ready, we load it into memory with an iterator in order to pass it to the CNN."
   ]
  },
  {
   "cell_type": "markdown",
   "metadata": {},
   "source": [
    "---\n",
    "<a id=\"section41\"></a>\n",
    "# <font color=\"#004D7F\" size=5> 4.1. Data curation</font>\n",
    "\n",
    "Note that each method generates images of **different pixel size**. For example:\n",
    "- `TINTO` method has a parameter that you can specify the size in pixels which by default is 20. \n",
    "- Other parameters such as `Combined` generates the size automatically and you must obtain them from the _shape_ of the images."
   ]
  },
  {
   "cell_type": "markdown",
   "metadata": {},
   "source": [
    "<div class=\"alert alert-block alert-info\">\n",
    "\n",
    "<i class=\"fa fa-info-circle\" aria-hidden=\"true\"></i>\n",
    "You can see all information about TINTOlib documentation in [PyPI](https://tintolib.readthedocs.io/en/latest/installation.html)"
   ]
  },
  {
   "cell_type": "code",
   "execution_count": 9,
   "metadata": {},
   "outputs": [],
   "source": [
    "pixels = 20"
   ]
  },
  {
   "cell_type": "markdown",
   "metadata": {},
   "source": [
    "Split in train/test/validation. \n",
    "\n",
    "Note that the partitioning of the images is also performed, in addition to the tabular data."
   ]
  },
  {
   "cell_type": "code",
   "execution_count": 10,
   "metadata": {},
   "outputs": [
    {
     "name": "stdout",
     "output_type": "stream",
     "text": [
      "Images shape:  (20, 20, 3)\n",
      "Attributres:  13\n",
      "Image size (pixels): 20\n"
     ]
    }
   ],
   "source": [
    "import cv2\n",
    "X_train, X_val, y_train, y_val = train_test_split(df_x, df_y, test_size = 0.40, random_state = 123)\n",
    "X_val, X_test, y_val, y_test = train_test_split(X_val, y_val, test_size = 0.50, random_state = 123)\n",
    "\n",
    "#TIDY DATA SPLITTED\n",
    "X_train_num = X_train.drop(\"images\",axis=1)\n",
    "X_val_num = X_val.drop(\"images\",axis=1)\n",
    "X_test_num = X_test.drop(\"images\",axis=1)\n",
    "\n",
    "#IMAGES \n",
    "# For 3 canal (RGB)\n",
    "X_train_img = np.array([cv2.resize(cv2.imread(img),(pixels,pixels)) for img in X_train[\"images\"]])\n",
    "X_val_img = np.array([cv2.resize(cv2.imread(img),(pixels,pixels)) for img in X_val[\"images\"]])\n",
    "X_test_img = np.array([cv2.resize(cv2.imread(img),(pixels,pixels)) for img in X_test[\"images\"]])\n",
    "\n",
    "# For 1 canal (GRAY SCALE)\n",
    "\"\"\"X_train_img = np.array([cv2.imread(img,cv2.IMREAD_GRAYSCALE) for img in X_train[\"images\"]])\n",
    "X_val_img = np.array([cv2.imread(img,cv2.IMREAD_GRAYSCALE) for img in X_val[\"images\"]])\n",
    "X_test_img = np.array([cv2.imread(img,cv2.IMREAD_GRAYSCALE) for img in X_test[\"images\"]])\"\"\"\n",
    "\n",
    "attributes = len(X_train_num.columns)\n",
    "imgs_shape = X_train_img[0].shape\n",
    "\n",
    "print(\"Images shape: \",imgs_shape)\n",
    "print(\"Attributres: \",attributes)\n",
    "pixels=X_train_img[0].shape[0]\n",
    "print(\"Image size (pixels):\", pixels)"
   ]
  },
  {
   "cell_type": "markdown",
   "metadata": {
    "id": "SaP_OB1yC__b"
   },
   "source": [
    "<a id=\"section5\"></a>\n",
    "# <font color=\"#004D7F\" size=6> 5. Modeling hybrid network</font>"
   ]
  },
  {
   "cell_type": "markdown",
   "metadata": {},
   "source": [
    "Now we can start the CNN+MLP training. Before that we prepare the algorithm for reading data.\n",
    "\n",
    "In this example, 2 branch networks is created\n",
    "- 1º branch: FFNN for tabular data\n",
    "- 2º branch: CNN for TINTOlib images"
   ]
  },
  {
   "cell_type": "markdown",
   "metadata": {},
   "source": [
    "---\n",
    "<a id=\"section51\"></a>\n",
    "# <font color=\"#004D7F\" size=5> 5.1. FFNN for tabular data</font>\n",
    "\n",
    "This is an example of a simple FFNN for tabular data. Note that we are not looking for the optimization of the CNN but to show an example of TINTOlib execution."
   ]
  },
  {
   "cell_type": "code",
   "execution_count": 11,
   "metadata": {
    "id": "8YlEhQqrC__c"
   },
   "outputs": [],
   "source": [
    "dropout = 0.5"
   ]
  },
  {
   "cell_type": "code",
   "execution_count": 12,
   "metadata": {},
   "outputs": [],
   "source": [
    "filters_ffnn = [64,32,16]\n",
    "\n",
    "ff_model = Sequential()\n",
    "ff_model.add(Input(shape=(attributes,)))\n",
    "\n",
    "for layer in filters_ffnn:\n",
    "    ff_model.add(Dense(layer, activation=\"relu\"))\n",
    "    ff_model.add(BatchNormalization())\n",
    "    ff_model.add(Dropout(dropout))"
   ]
  },
  {
   "cell_type": "markdown",
   "metadata": {},
   "source": [
    "---\n",
    "<a id=\"section52\"></a>\n",
    "# <font color=\"#004D7F\" size=5> 5.2. CNN for TINTOlib images</font>\n",
    "\n",
    "This is an example of a simple CNN for TINTOlib images. Note that we are not looking for the optimization of the CNN but to show an example of TINTOlib execution."
   ]
  },
  {
   "cell_type": "code",
   "execution_count": 13,
   "metadata": {},
   "outputs": [],
   "source": [
    "from keras.layers import AveragePooling2D, Concatenate\n",
    "#Input\n",
    "input_shape = Input(shape=imgs_shape)\n",
    "\n",
    "# CNN branch 1\n",
    "tower_1 = Conv2D(16, (3,3), activation='relu',padding=\"same\")(input_shape)\n",
    "tower_1 = BatchNormalization()(tower_1)\n",
    "tower_1 = Activation('relu')(tower_1)\n",
    "tower_1 = MaxPooling2D(2,2)(tower_1)\n",
    "tower_1 = Dropout(dropout)(tower_1)\n",
    "\n",
    "tower_1 = Conv2D(32, (3,3), activation='relu',padding=\"same\")(tower_1)\n",
    "tower_1 = BatchNormalization()(tower_1)\n",
    "tower_1 = Activation('relu')(tower_1)\n",
    "tower_1 = MaxPooling2D(2,2)(tower_1)\n",
    "tower_1 = Dropout(dropout)(tower_1)\n",
    "\n",
    "tower_1 = Conv2D(64, (3,3), activation='relu',padding=\"same\")(tower_1)\n",
    "tower_1 = BatchNormalization()(tower_1)\n",
    "tower_1 = Activation('relu')(tower_1)\n",
    "tower_1 = MaxPooling2D(2,2)(tower_1)\n",
    "tower_1 = Dropout(dropout)(tower_1)\n",
    "\n",
    "tower_1 = Conv2D(64, (3,3), activation='relu',padding=\"same\")(tower_1)\n",
    "tower_1 = BatchNormalization()(tower_1)\n",
    "tower_1 = Activation('relu')(tower_1)\n",
    "tower_1 = MaxPooling2D(2,2)(tower_1)\n",
    "tower_1 = Dropout(dropout)(tower_1)\n",
    "\n",
    "#CNN branch 2\n",
    "tower_2 = Conv2D(16, (5,5), activation='relu',padding=\"same\")(input_shape)\n",
    "tower_2 = BatchNormalization()(tower_2)\n",
    "tower_2 = Activation('relu')(tower_2)\n",
    "tower_2 = AveragePooling2D(2,2)(tower_2)\n",
    "tower_2 = Dropout(dropout)(tower_2)\n",
    "\n",
    "tower_2 = Conv2D(32, (5,5), activation='relu',padding=\"same\")(tower_2)\n",
    "tower_2 = BatchNormalization()(tower_2)\n",
    "tower_2 = Activation('relu')(tower_2)\n",
    "tower_2 = AveragePooling2D(2,2)(tower_2)\n",
    "tower_2 = Dropout(dropout)(tower_2)\n",
    "\n",
    "tower_2 = Conv2D(64, (5,5), activation='relu',padding=\"same\")(tower_2)\n",
    "tower_2 = BatchNormalization()(tower_2)\n",
    "tower_2 = Activation('relu')(tower_2)\n",
    "tower_2 = AveragePooling2D(2,2)(tower_2)\n",
    "tower_2 = Dropout(dropout)(tower_2)\n",
    "\n",
    "tower_2 = Conv2D(64, (5,5), activation='relu',padding=\"same\")(tower_2)\n",
    "tower_2 = BatchNormalization()(tower_2)\n",
    "tower_2 = Activation('relu')(tower_2)\n",
    "tower_2 = AveragePooling2D(2,2)(tower_2)\n",
    "tower_2 = Dropout(dropout)(tower_2)\n",
    "\n",
    "#Concatenate CNN branches\n",
    "merged = Concatenate(axis=1)([tower_1, tower_2])\n",
    "\n",
    "#Flatten\n",
    "merged = Flatten()(merged)\n",
    "\n",
    "#Dense layers\n",
    "out = Dense(256, activation='relu')(merged)\n",
    "out = Dropout(dropout)(merged)\n",
    "out = Dense(128, activation='sigmoid')(out)\n",
    "out = Dropout(dropout)(out)\n",
    "out = Dense(64, activation='sigmoid')(out)\n",
    "out = Dropout(dropout)(out)\n",
    "out = Dense(32, activation='sigmoid')(out)\n",
    "out = Dropout(dropout)(out)\n",
    "\n",
    "cnn_model = Model(input_shape, out)"
   ]
  },
  {
   "cell_type": "markdown",
   "metadata": {},
   "source": [
    "---\n",
    "<a id=\"section53\"></a>\n",
    "# <font color=\"#004D7F\" size=5> 5.3. Concatenate branches</font>\n",
    "\n",
    "Finally, we must concatenate the output of the CNN branch with the output of the FFNN branch in a final FFNN that will give the predictions."
   ]
  },
  {
   "cell_type": "code",
   "execution_count": 14,
   "metadata": {
    "id": "vSNmyFfuDAAR"
   },
   "outputs": [],
   "source": [
    "combinedInput = concatenate([ff_model.output, cnn_model.output])\n",
    "x = Dense(16, activation=\"relu\")(combinedInput)\n",
    "\n",
    "x = Dense(1, activation=\"linear\")(x)\n",
    "model = Model(inputs=[ff_model.input, cnn_model.input], outputs=x)"
   ]
  },
  {
   "cell_type": "markdown",
   "metadata": {},
   "source": [
    "---\n",
    "<a id=\"section54\"></a>\n",
    "# <font color=\"#004D7F\" size=5> 5.4. Metrics</font>\n",
    "\n",
    "Define metrics and some hyperparameters"
   ]
  },
  {
   "cell_type": "code",
   "execution_count": 15,
   "metadata": {
    "id": "qmVREpu0DAAS"
   },
   "outputs": [],
   "source": [
    "import tensorflow.keras.backend as K\n",
    "\n",
    "def r_square(y_true, y_pred):\n",
    "    SS_res = K.sum(K.square(y_true - y_pred))\n",
    "    SS_tot = K.sum(K.square(y_true - K.mean(y_true)))\n",
    "    r2 = 1 - SS_res / (SS_tot + K.epsilon())\n",
    "    return r2\n",
    "\n",
    "METRICS = [\n",
    "    tf.keras.metrics.MeanSquaredError(name = 'mse'),\n",
    "    tf.keras.metrics.MeanAbsoluteError(name = 'mae'),\n",
    "    r_square,\n",
    "]"
   ]
  },
  {
   "cell_type": "markdown",
   "metadata": {},
   "source": [
    "Print the hybrid model"
   ]
  },
  {
   "cell_type": "code",
   "execution_count": 16,
   "metadata": {},
   "outputs": [
    {
     "name": "stdout",
     "output_type": "stream",
     "text": [
      "Model: \"model_1\"\n",
      "__________________________________________________________________________________________________\n",
      " Layer (type)                Output Shape                 Param #   Connected to                  \n",
      "==================================================================================================\n",
      " input_2 (InputLayer)        [(None, 20, 20, 3)]          0         []                            \n",
      "                                                                                                  \n",
      " conv2d (Conv2D)             (None, 20, 20, 16)           448       ['input_2[0][0]']             \n",
      "                                                                                                  \n",
      " conv2d_4 (Conv2D)           (None, 20, 20, 16)           1216      ['input_2[0][0]']             \n",
      "                                                                                                  \n",
      " batch_normalization_3 (Bat  (None, 20, 20, 16)           64        ['conv2d[0][0]']              \n",
      " chNormalization)                                                                                 \n",
      "                                                                                                  \n",
      " batch_normalization_7 (Bat  (None, 20, 20, 16)           64        ['conv2d_4[0][0]']            \n",
      " chNormalization)                                                                                 \n",
      "                                                                                                  \n",
      " activation (Activation)     (None, 20, 20, 16)           0         ['batch_normalization_3[0][0]'\n",
      "                                                                    ]                             \n",
      "                                                                                                  \n",
      " activation_4 (Activation)   (None, 20, 20, 16)           0         ['batch_normalization_7[0][0]'\n",
      "                                                                    ]                             \n",
      "                                                                                                  \n",
      " max_pooling2d (MaxPooling2  (None, 10, 10, 16)           0         ['activation[0][0]']          \n",
      " D)                                                                                               \n",
      "                                                                                                  \n",
      " average_pooling2d (Average  (None, 10, 10, 16)           0         ['activation_4[0][0]']        \n",
      " Pooling2D)                                                                                       \n",
      "                                                                                                  \n",
      " dropout_3 (Dropout)         (None, 10, 10, 16)           0         ['max_pooling2d[0][0]']       \n",
      "                                                                                                  \n",
      " dropout_7 (Dropout)         (None, 10, 10, 16)           0         ['average_pooling2d[0][0]']   \n",
      "                                                                                                  \n",
      " conv2d_1 (Conv2D)           (None, 10, 10, 32)           4640      ['dropout_3[0][0]']           \n",
      "                                                                                                  \n",
      " conv2d_5 (Conv2D)           (None, 10, 10, 32)           12832     ['dropout_7[0][0]']           \n",
      "                                                                                                  \n",
      " batch_normalization_4 (Bat  (None, 10, 10, 32)           128       ['conv2d_1[0][0]']            \n",
      " chNormalization)                                                                                 \n",
      "                                                                                                  \n",
      " batch_normalization_8 (Bat  (None, 10, 10, 32)           128       ['conv2d_5[0][0]']            \n",
      " chNormalization)                                                                                 \n",
      "                                                                                                  \n",
      " activation_1 (Activation)   (None, 10, 10, 32)           0         ['batch_normalization_4[0][0]'\n",
      "                                                                    ]                             \n",
      "                                                                                                  \n",
      " activation_5 (Activation)   (None, 10, 10, 32)           0         ['batch_normalization_8[0][0]'\n",
      "                                                                    ]                             \n",
      "                                                                                                  \n",
      " max_pooling2d_1 (MaxPoolin  (None, 5, 5, 32)             0         ['activation_1[0][0]']        \n",
      " g2D)                                                                                             \n",
      "                                                                                                  \n",
      " average_pooling2d_1 (Avera  (None, 5, 5, 32)             0         ['activation_5[0][0]']        \n",
      " gePooling2D)                                                                                     \n",
      "                                                                                                  \n",
      " dropout_4 (Dropout)         (None, 5, 5, 32)             0         ['max_pooling2d_1[0][0]']     \n",
      "                                                                                                  \n",
      " dropout_8 (Dropout)         (None, 5, 5, 32)             0         ['average_pooling2d_1[0][0]'] \n",
      "                                                                                                  \n",
      " conv2d_2 (Conv2D)           (None, 5, 5, 64)             18496     ['dropout_4[0][0]']           \n",
      "                                                                                                  \n",
      " conv2d_6 (Conv2D)           (None, 5, 5, 64)             51264     ['dropout_8[0][0]']           \n",
      "                                                                                                  \n",
      " batch_normalization_5 (Bat  (None, 5, 5, 64)             256       ['conv2d_2[0][0]']            \n",
      " chNormalization)                                                                                 \n",
      "                                                                                                  \n",
      " batch_normalization_9 (Bat  (None, 5, 5, 64)             256       ['conv2d_6[0][0]']            \n",
      " chNormalization)                                                                                 \n",
      "                                                                                                  \n",
      " activation_2 (Activation)   (None, 5, 5, 64)             0         ['batch_normalization_5[0][0]'\n",
      "                                                                    ]                             \n",
      "                                                                                                  \n",
      " activation_6 (Activation)   (None, 5, 5, 64)             0         ['batch_normalization_9[0][0]'\n",
      "                                                                    ]                             \n",
      "                                                                                                  \n",
      " max_pooling2d_2 (MaxPoolin  (None, 2, 2, 64)             0         ['activation_2[0][0]']        \n",
      " g2D)                                                                                             \n",
      "                                                                                                  \n",
      " average_pooling2d_2 (Avera  (None, 2, 2, 64)             0         ['activation_6[0][0]']        \n",
      " gePooling2D)                                                                                     \n",
      "                                                                                                  \n",
      " dropout_5 (Dropout)         (None, 2, 2, 64)             0         ['max_pooling2d_2[0][0]']     \n",
      "                                                                                                  \n",
      " dropout_9 (Dropout)         (None, 2, 2, 64)             0         ['average_pooling2d_2[0][0]'] \n",
      "                                                                                                  \n",
      " conv2d_3 (Conv2D)           (None, 2, 2, 64)             36928     ['dropout_5[0][0]']           \n",
      "                                                                                                  \n",
      " conv2d_7 (Conv2D)           (None, 2, 2, 64)             102464    ['dropout_9[0][0]']           \n",
      "                                                                                                  \n",
      " batch_normalization_6 (Bat  (None, 2, 2, 64)             256       ['conv2d_3[0][0]']            \n",
      " chNormalization)                                                                                 \n",
      "                                                                                                  \n",
      " batch_normalization_10 (Ba  (None, 2, 2, 64)             256       ['conv2d_7[0][0]']            \n",
      " tchNormalization)                                                                                \n",
      "                                                                                                  \n",
      " activation_3 (Activation)   (None, 2, 2, 64)             0         ['batch_normalization_6[0][0]'\n",
      "                                                                    ]                             \n",
      "                                                                                                  \n",
      " activation_7 (Activation)   (None, 2, 2, 64)             0         ['batch_normalization_10[0][0]\n",
      "                                                                    ']                            \n",
      "                                                                                                  \n",
      " max_pooling2d_3 (MaxPoolin  (None, 1, 1, 64)             0         ['activation_3[0][0]']        \n",
      " g2D)                                                                                             \n",
      "                                                                                                  \n",
      " average_pooling2d_3 (Avera  (None, 1, 1, 64)             0         ['activation_7[0][0]']        \n",
      " gePooling2D)                                                                                     \n",
      "                                                                                                  \n",
      " input_1 (InputLayer)        [(None, 13)]                 0         []                            \n",
      "                                                                                                  \n",
      " dropout_6 (Dropout)         (None, 1, 1, 64)             0         ['max_pooling2d_3[0][0]']     \n",
      "                                                                                                  \n",
      " dropout_10 (Dropout)        (None, 1, 1, 64)             0         ['average_pooling2d_3[0][0]'] \n",
      "                                                                                                  \n",
      " dense (Dense)               (None, 64)                   896       ['input_1[0][0]']             \n",
      "                                                                                                  \n",
      " concatenate (Concatenate)   (None, 2, 1, 64)             0         ['dropout_6[0][0]',           \n",
      "                                                                     'dropout_10[0][0]']          \n",
      "                                                                                                  \n",
      " batch_normalization (Batch  (None, 64)                   256       ['dense[0][0]']               \n",
      " Normalization)                                                                                   \n",
      "                                                                                                  \n",
      " flatten (Flatten)           (None, 128)                  0         ['concatenate[0][0]']         \n",
      "                                                                                                  \n",
      " dropout (Dropout)           (None, 64)                   0         ['batch_normalization[0][0]'] \n",
      "                                                                                                  \n",
      " dropout_11 (Dropout)        (None, 128)                  0         ['flatten[0][0]']             \n",
      "                                                                                                  \n",
      " dense_1 (Dense)             (None, 32)                   2080      ['dropout[0][0]']             \n",
      "                                                                                                  \n",
      " dense_4 (Dense)             (None, 128)                  16512     ['dropout_11[0][0]']          \n",
      "                                                                                                  \n",
      " batch_normalization_1 (Bat  (None, 32)                   128       ['dense_1[0][0]']             \n",
      " chNormalization)                                                                                 \n",
      "                                                                                                  \n",
      " dropout_12 (Dropout)        (None, 128)                  0         ['dense_4[0][0]']             \n",
      "                                                                                                  \n",
      " dropout_1 (Dropout)         (None, 32)                   0         ['batch_normalization_1[0][0]'\n",
      "                                                                    ]                             \n",
      "                                                                                                  \n",
      " dense_5 (Dense)             (None, 64)                   8256      ['dropout_12[0][0]']          \n",
      "                                                                                                  \n",
      " dense_2 (Dense)             (None, 16)                   528       ['dropout_1[0][0]']           \n",
      "                                                                                                  \n",
      " dropout_13 (Dropout)        (None, 64)                   0         ['dense_5[0][0]']             \n",
      "                                                                                                  \n",
      " batch_normalization_2 (Bat  (None, 16)                   64        ['dense_2[0][0]']             \n",
      " chNormalization)                                                                                 \n",
      "                                                                                                  \n",
      " dense_6 (Dense)             (None, 32)                   2080      ['dropout_13[0][0]']          \n",
      "                                                                                                  \n",
      " dropout_2 (Dropout)         (None, 16)                   0         ['batch_normalization_2[0][0]'\n",
      "                                                                    ]                             \n",
      "                                                                                                  \n",
      " dropout_14 (Dropout)        (None, 32)                   0         ['dense_6[0][0]']             \n",
      "                                                                                                  \n",
      " concatenate_1 (Concatenate  (None, 48)                   0         ['dropout_2[0][0]',           \n",
      " )                                                                   'dropout_14[0][0]']          \n",
      "                                                                                                  \n",
      " dense_7 (Dense)             (None, 16)                   784       ['concatenate_1[0][0]']       \n",
      "                                                                                                  \n",
      " dense_8 (Dense)             (None, 1)                    17        ['dense_7[0][0]']             \n",
      "                                                                                                  \n",
      "==================================================================================================\n",
      "Total params: 261297 (1020.69 KB)\n",
      "Trainable params: 260369 (1017.07 KB)\n",
      "Non-trainable params: 928 (3.62 KB)\n",
      "__________________________________________________________________________________________________\n",
      "You must install pydot (`pip install pydot`) and install graphviz (see instructions at https://graphviz.gitlab.io/download/) for plot_model to work.\n"
     ]
    }
   ],
   "source": [
    "from keras.utils import plot_model\n",
    "model.summary()\n",
    "plot_model(model)"
   ]
  },
  {
   "cell_type": "markdown",
   "metadata": {},
   "source": [
    "---\n",
    "<a id=\"section55\"></a>\n",
    "# <font color=\"#004D7F\" size=5> 5.5. Compile and fit</font>\n"
   ]
  },
  {
   "cell_type": "code",
   "execution_count": 17,
   "metadata": {
    "id": "-mUXAIeZDAAT"
   },
   "outputs": [],
   "source": [
    "opt = Adam(learning_rate=1e-3)"
   ]
  },
  {
   "cell_type": "code",
   "execution_count": 18,
   "metadata": {},
   "outputs": [],
   "source": [
    "model.compile(\n",
    "    loss=\"mse\", \n",
    "    optimizer=opt,\n",
    "    metrics = METRICS\n",
    ")"
   ]
  },
  {
   "cell_type": "code",
   "execution_count": 19,
   "metadata": {},
   "outputs": [
    {
     "name": "stdout",
     "output_type": "stream",
     "text": [
      "Epoch 1/50\n"
     ]
    },
    {
     "name": "stdout",
     "output_type": "stream",
     "text": [
      "38/38 [==============================] - 4s 16ms/step - loss: 540.3820 - mse: 540.3820 - mae: 21.3733 - r_square: -10.4027 - val_loss: 527.8029 - val_mse: 527.8029 - val_mae: 20.8948 - val_r_square: -6.7989\n",
      "Epoch 2/50\n",
      "38/38 [==============================] - 0s 8ms/step - loss: 422.6693 - mse: 422.6693 - mae: 18.4881 - r_square: -9.7579 - val_loss: 380.4209 - val_mse: 380.4209 - val_mae: 17.0276 - val_r_square: -4.5012\n",
      "Epoch 3/50\n",
      "38/38 [==============================] - 0s 8ms/step - loss: 280.9452 - mse: 280.9452 - mae: 14.2872 - r_square: -3.9222 - val_loss: 233.6879 - val_mse: 233.6879 - val_mae: 12.2492 - val_r_square: -2.2370\n",
      "Epoch 4/50\n",
      "38/38 [==============================] - 0s 8ms/step - loss: 168.0037 - mse: 168.0037 - mae: 10.1120 - r_square: -2.0318 - val_loss: 137.5604 - val_mse: 137.5604 - val_mae: 8.3729 - val_r_square: -0.7865\n",
      "Epoch 5/50\n",
      "38/38 [==============================] - 0s 8ms/step - loss: 105.7053 - mse: 105.7053 - mae: 7.3477 - r_square: -0.7708 - val_loss: 95.2363 - val_mse: 95.2363 - val_mae: 6.4509 - val_r_square: -0.1758\n",
      "Epoch 6/50\n",
      "38/38 [==============================] - 0s 8ms/step - loss: 81.9796 - mse: 81.9796 - mae: 6.4569 - r_square: -0.1871 - val_loss: 82.5921 - val_mse: 82.5921 - val_mae: 5.9326 - val_r_square: -0.0016\n",
      "Epoch 7/50\n",
      "38/38 [==============================] - 0s 8ms/step - loss: 81.2612 - mse: 81.2612 - mae: 6.4542 - r_square: -0.3362 - val_loss: 76.1126 - val_mse: 76.1126 - val_mae: 5.5987 - val_r_square: 0.0885\n",
      "Epoch 8/50\n",
      "38/38 [==============================] - 0s 8ms/step - loss: 77.5766 - mse: 77.5766 - mae: 6.6343 - r_square: -0.5171 - val_loss: 68.9642 - val_mse: 68.9642 - val_mae: 5.2671 - val_r_square: 0.1852\n",
      "Epoch 9/50\n",
      "38/38 [==============================] - 0s 8ms/step - loss: 81.0666 - mse: 81.0666 - mae: 6.5543 - r_square: -0.3444 - val_loss: 65.0064 - val_mse: 65.0064 - val_mae: 5.0935 - val_r_square: 0.2377\n",
      "Epoch 10/50\n",
      "38/38 [==============================] - 0s 8ms/step - loss: 66.0598 - mse: 66.0598 - mae: 6.1413 - r_square: -0.1242 - val_loss: 59.4798 - val_mse: 59.4798 - val_mae: 4.8369 - val_r_square: 0.3130\n",
      "Epoch 11/50\n",
      "38/38 [==============================] - 0s 8ms/step - loss: 67.7218 - mse: 67.7218 - mae: 5.9300 - r_square: -0.4000 - val_loss: 54.8993 - val_mse: 54.8993 - val_mae: 4.6276 - val_r_square: 0.3721\n",
      "Epoch 12/50\n",
      "38/38 [==============================] - 0s 8ms/step - loss: 69.8430 - mse: 69.8430 - mae: 6.2261 - r_square: -0.8967 - val_loss: 54.1945 - val_mse: 54.1945 - val_mae: 4.5854 - val_r_square: 0.3759\n",
      "Epoch 13/50\n",
      "38/38 [==============================] - 0s 8ms/step - loss: 69.3453 - mse: 69.3453 - mae: 6.1104 - r_square: -0.4215 - val_loss: 48.7928 - val_mse: 48.7928 - val_mae: 4.3890 - val_r_square: 0.4431\n",
      "Epoch 14/50\n",
      "38/38 [==============================] - 0s 9ms/step - loss: 67.7364 - mse: 67.7364 - mae: 6.1636 - r_square: -0.2956 - val_loss: 45.1041 - val_mse: 45.1041 - val_mae: 4.1416 - val_r_square: 0.4889\n",
      "Epoch 15/50\n",
      "38/38 [==============================] - 0s 8ms/step - loss: 62.3871 - mse: 62.3871 - mae: 5.8727 - r_square: -0.2283 - val_loss: 40.8400 - val_mse: 40.8400 - val_mae: 3.9215 - val_r_square: 0.5461\n",
      "Epoch 16/50\n",
      "38/38 [==============================] - 0s 8ms/step - loss: 63.2627 - mse: 63.2627 - mae: 5.9248 - r_square: -0.0328 - val_loss: 36.6949 - val_mse: 36.6949 - val_mae: 3.6745 - val_r_square: 0.5981\n",
      "Epoch 17/50\n",
      "38/38 [==============================] - 0s 8ms/step - loss: 70.6278 - mse: 70.6278 - mae: 6.1969 - r_square: -0.3533 - val_loss: 37.7519 - val_mse: 37.7519 - val_mae: 3.6841 - val_r_square: 0.5764\n",
      "Epoch 18/50\n",
      "38/38 [==============================] - 0s 8ms/step - loss: 62.8942 - mse: 62.8942 - mae: 5.8950 - r_square: -0.3364 - val_loss: 36.2488 - val_mse: 36.2488 - val_mae: 3.5316 - val_r_square: 0.5899\n",
      "Epoch 19/50\n",
      "38/38 [==============================] - 0s 8ms/step - loss: 57.6932 - mse: 57.6932 - mae: 5.7130 - r_square: -0.1847 - val_loss: 33.1541 - val_mse: 33.1541 - val_mae: 3.3743 - val_r_square: 0.6301\n",
      "Epoch 20/50\n",
      "38/38 [==============================] - 0s 8ms/step - loss: 63.7333 - mse: 63.7333 - mae: 5.8978 - r_square: -0.2918 - val_loss: 31.7877 - val_mse: 31.7877 - val_mae: 3.2032 - val_r_square: 0.6431\n",
      "Epoch 21/50\n",
      "38/38 [==============================] - 0s 8ms/step - loss: 61.0063 - mse: 61.0063 - mae: 5.6796 - r_square: -0.4522 - val_loss: 30.9106 - val_mse: 30.9106 - val_mae: 3.1199 - val_r_square: 0.6516\n",
      "Epoch 22/50\n",
      "38/38 [==============================] - 0s 8ms/step - loss: 61.7615 - mse: 61.7615 - mae: 5.8069 - r_square: -0.2112 - val_loss: 29.3887 - val_mse: 29.3887 - val_mae: 3.1701 - val_r_square: 0.6700\n",
      "Epoch 23/50\n",
      "38/38 [==============================] - 0s 8ms/step - loss: 53.6341 - mse: 53.6341 - mae: 5.5819 - r_square: 0.1343 - val_loss: 30.5258 - val_mse: 30.5258 - val_mae: 3.4626 - val_r_square: 0.6540\n",
      "Epoch 24/50\n",
      "38/38 [==============================] - 0s 8ms/step - loss: 58.9591 - mse: 58.9591 - mae: 5.8165 - r_square: -0.4228 - val_loss: 27.9469 - val_mse: 27.9469 - val_mae: 3.1579 - val_r_square: 0.6842\n",
      "Epoch 25/50\n",
      "38/38 [==============================] - 0s 8ms/step - loss: 61.5197 - mse: 61.5197 - mae: 5.9855 - r_square: -0.3097 - val_loss: 32.7680 - val_mse: 32.7680 - val_mae: 3.3549 - val_r_square: 0.6049\n",
      "Epoch 26/50\n",
      "38/38 [==============================] - 0s 8ms/step - loss: 63.2504 - mse: 63.2504 - mae: 5.9361 - r_square: -0.3065 - val_loss: 33.9004 - val_mse: 33.9004 - val_mae: 3.4239 - val_r_square: 0.5834\n",
      "Epoch 27/50\n",
      "38/38 [==============================] - 0s 8ms/step - loss: 60.0000 - mse: 60.0000 - mae: 5.7105 - r_square: -0.0776 - val_loss: 29.5909 - val_mse: 29.5909 - val_mae: 3.2306 - val_r_square: 0.6444\n",
      "Epoch 28/50\n",
      "38/38 [==============================] - 0s 8ms/step - loss: 54.3842 - mse: 54.3842 - mae: 5.6785 - r_square: -0.1077 - val_loss: 27.5665 - val_mse: 27.5665 - val_mae: 3.1066 - val_r_square: 0.6645\n",
      "Epoch 29/50\n",
      "38/38 [==============================] - 0s 11ms/step - loss: 55.5344 - mse: 55.5344 - mae: 5.5024 - r_square: -0.0613 - val_loss: 26.3114 - val_mse: 26.3114 - val_mae: 3.0487 - val_r_square: 0.6757\n",
      "Epoch 30/50\n",
      "38/38 [==============================] - 0s 8ms/step - loss: 52.1951 - mse: 52.1951 - mae: 5.3988 - r_square: -0.0768 - val_loss: 29.9554 - val_mse: 29.9554 - val_mae: 3.2764 - val_r_square: 0.6278\n",
      "Epoch 31/50\n",
      "38/38 [==============================] - 0s 8ms/step - loss: 56.7519 - mse: 56.7519 - mae: 5.7606 - r_square: -0.1567 - val_loss: 27.2243 - val_mse: 27.2243 - val_mae: 3.1662 - val_r_square: 0.6638\n",
      "Epoch 32/50\n",
      "38/38 [==============================] - 0s 8ms/step - loss: 52.4769 - mse: 52.4769 - mae: 5.7696 - r_square: -0.3528 - val_loss: 26.0009 - val_mse: 26.0009 - val_mae: 3.1476 - val_r_square: 0.6771\n",
      "Epoch 33/50\n",
      "38/38 [==============================] - 0s 8ms/step - loss: 62.4353 - mse: 62.4353 - mae: 5.8840 - r_square: -0.8062 - val_loss: 24.1914 - val_mse: 24.1914 - val_mae: 3.0213 - val_r_square: 0.7038\n",
      "Epoch 34/50\n",
      "38/38 [==============================] - 0s 8ms/step - loss: 45.0743 - mse: 45.0743 - mae: 5.1793 - r_square: 0.2222 - val_loss: 23.2191 - val_mse: 23.2191 - val_mae: 2.8514 - val_r_square: 0.7168\n",
      "Epoch 35/50\n",
      "38/38 [==============================] - 0s 8ms/step - loss: 54.6849 - mse: 54.6849 - mae: 5.4464 - r_square: -0.0257 - val_loss: 23.8016 - val_mse: 23.8016 - val_mae: 2.9577 - val_r_square: 0.6994\n",
      "Epoch 36/50\n",
      "38/38 [==============================] - 0s 8ms/step - loss: 62.6472 - mse: 62.6472 - mae: 5.7711 - r_square: -0.4600 - val_loss: 26.7216 - val_mse: 26.7216 - val_mae: 3.1792 - val_r_square: 0.6670\n",
      "Epoch 37/50\n",
      "38/38 [==============================] - 0s 8ms/step - loss: 51.6791 - mse: 51.6791 - mae: 5.3838 - r_square: -0.1998 - val_loss: 25.0007 - val_mse: 25.0007 - val_mae: 3.0013 - val_r_square: 0.6928\n",
      "Epoch 38/50\n",
      "38/38 [==============================] - 0s 8ms/step - loss: 51.6223 - mse: 51.6223 - mae: 5.4210 - r_square: -0.0317 - val_loss: 26.4590 - val_mse: 26.4590 - val_mae: 3.2108 - val_r_square: 0.6689\n",
      "Epoch 39/50\n",
      "38/38 [==============================] - 0s 8ms/step - loss: 54.4973 - mse: 54.4973 - mae: 5.4465 - r_square: -0.2019 - val_loss: 24.6924 - val_mse: 24.6924 - val_mae: 3.0537 - val_r_square: 0.6929\n",
      "Epoch 40/50\n",
      "38/38 [==============================] - 0s 8ms/step - loss: 54.6251 - mse: 54.6251 - mae: 5.5944 - r_square: -1.6728 - val_loss: 28.0861 - val_mse: 28.0861 - val_mae: 3.2335 - val_r_square: 0.6516\n",
      "Epoch 41/50\n",
      "38/38 [==============================] - 0s 8ms/step - loss: 55.6956 - mse: 55.6956 - mae: 5.1470 - r_square: -0.1046 - val_loss: 23.8524 - val_mse: 23.8524 - val_mae: 2.8584 - val_r_square: 0.7213\n",
      "Epoch 42/50\n",
      "38/38 [==============================] - 0s 10ms/step - loss: 50.8755 - mse: 50.8755 - mae: 5.1248 - r_square: -0.6567 - val_loss: 23.2870 - val_mse: 23.2870 - val_mae: 2.8616 - val_r_square: 0.7206\n",
      "Epoch 43/50\n",
      "38/38 [==============================] - 0s 8ms/step - loss: 51.5879 - mse: 51.5879 - mae: 5.3367 - r_square: -0.2936 - val_loss: 24.4447 - val_mse: 24.4447 - val_mae: 2.9242 - val_r_square: 0.7036\n",
      "Epoch 44/50\n",
      "38/38 [==============================] - 0s 9ms/step - loss: 49.6240 - mse: 49.6240 - mae: 5.4591 - r_square: 0.1859 - val_loss: 22.8109 - val_mse: 22.8109 - val_mae: 3.0025 - val_r_square: 0.7185\n",
      "Epoch 45/50\n",
      "38/38 [==============================] - 0s 8ms/step - loss: 50.0884 - mse: 50.0884 - mae: 5.0739 - r_square: -0.1739 - val_loss: 22.9416 - val_mse: 22.9416 - val_mae: 3.0543 - val_r_square: 0.7162\n",
      "Epoch 46/50\n",
      "38/38 [==============================] - 0s 8ms/step - loss: 49.0299 - mse: 49.0299 - mae: 5.2395 - r_square: -0.3884 - val_loss: 23.9673 - val_mse: 23.9673 - val_mae: 3.0566 - val_r_square: 0.6960\n",
      "Epoch 47/50\n",
      "38/38 [==============================] - 0s 9ms/step - loss: 49.5195 - mse: 49.5195 - mae: 5.4933 - r_square: -0.1290 - val_loss: 23.8022 - val_mse: 23.8022 - val_mae: 3.0540 - val_r_square: 0.6999\n",
      "Epoch 48/50\n",
      "38/38 [==============================] - 0s 9ms/step - loss: 56.7359 - mse: 56.7359 - mae: 5.4287 - r_square: -0.2169 - val_loss: 23.4704 - val_mse: 23.4704 - val_mae: 3.0724 - val_r_square: 0.7092\n",
      "Epoch 49/50\n",
      "38/38 [==============================] - 0s 10ms/step - loss: 58.3107 - mse: 58.3107 - mae: 5.6354 - r_square: -0.1997 - val_loss: 24.4776 - val_mse: 24.4776 - val_mae: 3.0552 - val_r_square: 0.6977\n",
      "Epoch 50/50\n",
      "38/38 [==============================] - 0s 8ms/step - loss: 40.9391 - mse: 40.9391 - mae: 4.9003 - r_square: 0.3117 - val_loss: 23.5337 - val_mse: 23.5337 - val_mae: 3.0481 - val_r_square: 0.7111\n"
     ]
    }
   ],
   "source": [
    "model_history=model.fit(\n",
    "    x=[X_train_num, X_train_img], y=y_train,\n",
    "    validation_data=([X_val_num, X_val_img], y_val),\n",
    "    epochs=50, \n",
    "    batch_size=8\n",
    ")"
   ]
  },
  {
   "cell_type": "code",
   "execution_count": 20,
   "metadata": {
    "colab": {
     "base_uri": "https://localhost:8080/"
    },
    "id": "BcGghwkIDAAW",
    "outputId": "64ac9e54-4d79-42c6-8765-8b70dc8d25fd"
   },
   "outputs": [
    {
     "name": "stdout",
     "output_type": "stream",
     "text": [
      "dict_keys(['loss', 'mse', 'mae', 'r_square', 'val_loss', 'val_mse', 'val_mae', 'val_r_square'])\n"
     ]
    }
   ],
   "source": [
    "print(model_history.history.keys())"
   ]
  },
  {
   "cell_type": "markdown",
   "metadata": {
    "id": "jMRV4Ee1DAAX"
   },
   "source": [
    "<a id=\"section6\"></a>\n",
    "# <font color=\"#004D7F\" size=6> 6. Results</font>\n",
    "\n",
    "Finally, we can evaluate our hybrid model with the images created by TINTOlib in any of the ways represented below."
   ]
  },
  {
   "cell_type": "markdown",
   "metadata": {},
   "source": [
    "---\n",
    "<a id=\"section61\"></a>\n",
    "# <font color=\"#004D7F\" size=5> 6.1. Train/Validation representation</font>"
   ]
  },
  {
   "cell_type": "code",
   "execution_count": 21,
   "metadata": {
    "colab": {
     "base_uri": "https://localhost:8080/",
     "height": 430
    },
    "id": "H5UXDjQwDAAY",
    "outputId": "554439d9-c8cc-4355-e036-74c42dacf25e"
   },
   "outputs": [
    {
     "data": {
      "image/png": "[encoded data removed]",
      "text/plain": [
       "<Figure size 640x480 with 1 Axes>"
      ]
     },
     "metadata": {},
     "output_type": "display_data"
    }
   ],
   "source": [
    "plt.plot(model_history.history['loss'], color = 'red', label = 'loss')\n",
    "plt.plot(model_history.history['val_loss'], color = 'green', label = 'val loss')\n",
    "plt.legend(loc = 'upper right')\n",
    "plt.show()"
   ]
  },
  {
   "cell_type": "code",
   "execution_count": 22,
   "metadata": {
    "colab": {
     "base_uri": "https://localhost:8080/",
     "height": 430
    },
    "id": "X1ophmZYDAAZ",
    "outputId": "f3e32e39-9da7-43c6-bdbc-800e2fe90946"
   },
   "outputs": [
    {
     "data": {
      "image/png": "[encoded data removed]",
      "text/plain": [
       "<Figure size 640x480 with 1 Axes>"
      ]
     },
     "metadata": {},
     "output_type": "display_data"
    }
   ],
   "source": [
    "plt.plot(model_history.history['mse'], color = 'red', label = 'mse')\n",
    "plt.plot(model_history.history['val_mse'], color = 'green', label = 'val mse')\n",
    "plt.legend(loc = 'upper right')\n",
    "plt.show()"
   ]
  },
  {
   "cell_type": "markdown",
   "metadata": {},
   "source": [
    "---\n",
    "<a id=\"section62\"></a>\n",
    "# <font color=\"#004D7F\" size=5> 6.2. Validation/Test evaluation</font>"
   ]
  },
  {
   "cell_type": "code",
   "execution_count": 23,
   "metadata": {
    "scrolled": true
   },
   "outputs": [
    {
     "name": "stdout",
     "output_type": "stream",
     "text": [
      "4/4 [==============================] - 0s 5ms/step - loss: 17.9715 - mse: 17.9715 - mae: 2.8865 - r_square: 0.0954\n"
     ]
    }
   ],
   "source": [
    "score_test= model.evaluate([X_test_num, X_test_img], y_test)"
   ]
  },
  {
   "cell_type": "code",
   "execution_count": 24,
   "metadata": {
    "colab": {
     "base_uri": "https://localhost:8080/"
    },
    "id": "ItKAjj6wDAAb",
    "outputId": "bf2aa614-c3b1-4c38-fea8-7c782de99fbd"
   },
   "outputs": [
    {
     "name": "stdout",
     "output_type": "stream",
     "text": [
      "4/4 [==============================] - 0s 4ms/step\n",
      "Mean Absolute Percentage Error: 0.14983720756256902\n",
      "Mean Absolute Error: 2.886532977983063\n",
      "Mean Squared Error: 17.971524659055643\n",
      "Root Mean Squared Error: 4.239283507746992\n",
      "R2 Score: 0.7708128556925737\n"
     ]
    },
    {
     "name": "stderr",
     "output_type": "stream",
     "text": [
      "c:\\Users\\jiayu\\anaconda3\\envs\\Tinto-HNN\\Lib\\site-packages\\sklearn\\metrics\\_regression.py:483: FutureWarning: 'squared' is deprecated in version 1.4 and will be removed in 1.6. To calculate the root mean squared error, use the function'root_mean_squared_error'.\n",
      "  warnings.warn(\n"
     ]
    }
   ],
   "source": [
    "prediction = model.predict([X_test_num,X_test_img])\n",
    "\n",
    "test_mape = mean_absolute_percentage_error(y_test, prediction)\n",
    "test_mae = mean_absolute_error(y_test, prediction)\n",
    "test_mse = mean_squared_error(y_test, prediction)\n",
    "test_rmse = mean_squared_error(y_test, prediction, squared=False)\n",
    "test_r2 = r2_score(y_test, prediction)\n",
    "\n",
    "# Print the evaluation metrics\n",
    "print(\"Mean Absolute Percentage Error:\", test_mape)\n",
    "print(\"Mean Absolute Error:\", test_mae)\n",
    "print(\"Mean Squared Error:\", test_mse)\n",
    "print(\"Root Mean Squared Error:\", test_rmse)\n",
    "print(\"R2 Score:\", test_r2)\n"
   ]
  },
  {
   "cell_type": "code",
   "execution_count": 25,
   "metadata": {},
   "outputs": [
    {
     "name": "stdout",
     "output_type": "stream",
     "text": [
      "Train Mean Squared Error: 40.939064025878906\n",
      "Train R2 Score: 0.31173041462898254\n",
      "Val Mean Squared Error: 23.533653259277344\n",
      "Val R2 Score: 0.7110572457313538\n"
     ]
    }
   ],
   "source": [
    "train_mse = model_history.history[\"mse\"][-1]\n",
    "train_r2 = model_history.history[\"r_square\"][-1]\n",
    "\n",
    "val_mse = model_history.history[\"val_mse\"][-1]\n",
    "val_r2 = model_history.history[\"val_r_square\"][-1]\n",
    "\n",
    "print(\"Train Mean Squared Error:\", train_mse)\n",
    "print(\"Train R2 Score:\", train_r2)\n",
    "\n",
    "print(\"Val Mean Squared Error:\", val_mse)\n",
    "print(\"Val R2 Score:\", val_r2)"
   ]
  },
  {
   "cell_type": "markdown",
   "metadata": {
    "id": "0ciBS76mpjGU"
   },
   "source": [
    "<div style=\"text-align: right\"> <font size=5> <a href=\"#indice\"><i class=\"fa fa-arrow-circle-up\" aria-hidden=\"true\" style=\"color:#004D7F\"></i></a></font></div>\n",
    "\n",
    "---\n",
    "\n",
    "<div style=\"text-align: right\"> <font size=6><i class=\"fa fa-coffee\" aria-hidden=\"true\" style=\"color:#004D7F\"></i> </font></div>"
   ]
  },
  {
   "cell_type": "markdown",
   "metadata": {},
   "source": []
  }
 ],
 "metadata": {
  "accelerator": "GPU",
  "colab": {
   "gpuType": "T4",
   "provenance": []
  },
  "kernelspec": {
   "display_name": "Python 3 (ipykernel)",
   "language": "python",
   "name": "python3"
  },
  "language_info": {
   "codemirror_mode": {
    "name": "ipython",
    "version": 3
   },
   "file_extension": ".py",
   "mimetype": "text/x-python",
   "name": "python",
   "nbconvert_exporter": "python",
   "pygments_lexer": "ipython3",
   "version": "3.11.7"
  }
 },
 "nbformat": 4,
 "nbformat_minor": 1
}
