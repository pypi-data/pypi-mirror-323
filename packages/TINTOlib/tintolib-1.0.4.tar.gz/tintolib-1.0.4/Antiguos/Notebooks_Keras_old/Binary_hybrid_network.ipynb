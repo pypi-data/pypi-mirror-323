{
 "cells": [
  {
   "cell_type": "markdown",
   "metadata": {
    "id": "EybOZ6hSjpCF"
   },
   "source": [
    "<h1><font color=\"#113D68\" size=6>TINTOlib: Converting Tidy Data into Image for 2-Dimensional Convolutional Neural Networks</font></h1>\n",
    "\n",
    "<h1><font color=\"#113D68\" size=5>Template Classification Machine Learning problem with a Hibryd Networks (CNN+MLP)</font></h1>\n",
    "\n",
    "<br><br>\n",
    "<div style=\"text-align: right\">\n",
    "<font color=\"#113D68\" size=3>Manuel Castillo-Cara</font><br>\n",
    "<font color=\"#113D68\" size=3>Raúl García-Castro</font><br>\n",
    "\n",
    "</div>\n",
    "\n",
    "---"
   ]
  },
  {
   "cell_type": "markdown",
   "metadata": {
    "id": "2l5nFzsdjpCW"
   },
   "source": [
    "---\n",
    "\n",
    "<a id=\"indice\"></a>\n",
    "<h2><font color=\"#004D7F\" size=5>Index</font></h2>\n",
    "\n",
    "* [0. Context](#section0)\n",
    "* [1. Description](#section1)\n",
    "    * [1.1. Main Features](#section11)\n",
    "    * [1.2. Citation](#section12)\n",
    "    * [1.3. Documentation and License](#section13)\n",
    "* [2. Libraries](#section2)\n",
    "    * [2.1. System setup](#section21)\n",
    "    * [2.2. Invoke the libraries](#section22)\n",
    "* [3. Data processing](#section3)\n",
    "    * [3.1. TINTOlib methods](#section31)\n",
    "    * [3.2. Read the dataset](#section32)\n",
    "    * [3.3. Generate images](#section33)\n",
    "    * [3.4. Read images](#section34)\n",
    "    * [3.5. Mix images and tidy data](#section35)\n",
    "* [4. Pre-modelling phase](#section4)\n",
    "    * [4.1. Data curation](#section41)\n",
    "    * [4.2. One-hot encoding](#section42)\n",
    "* [5. Modelling hybrid network](#section5)\n",
    "    * [5.1. FFNN for tabular data](#section51)\n",
    "    * [5.2. CNN for TINTOlib images](#section52)\n",
    "    * [5.3. Concatenate branches](#section53)\n",
    "    * [5.4. Metrics](#section54)\n",
    "    * [5.5. Compile and fit](#section55)\n",
    "* [6. Results](#section6)\n",
    "    * [6.1. Train/Validation representation](#section61)\n",
    "    * [6.2. Validation/Test evaluation](#section62)"
   ]
  },
  {
   "cell_type": "markdown",
   "metadata": {
    "id": "SxTpMExHjpCa"
   },
   "source": [
    "---\n",
    "<a id=\"section0\"></a>\n",
    "# <font color=\"#004D7F\" size=6> 0. Context</font>"
   ]
  },
  {
   "cell_type": "markdown",
   "metadata": {
    "id": "JlVYt3MRrl_V"
   },
   "source": [
    "This is a tutorial on how to read the images created by TINTOlib and pass them to a very simple pretrained Convolutional Neural Network (CNN). The images must already be created by the TINTOlib software. See the documentation in GITHUB for how to create the images from tabular data.\n",
    "\n",
    "Remember that when using CNN you can set the training to be done with GPUs to improve performance."
   ]
  },
  {
   "cell_type": "markdown",
   "metadata": {
    "id": "i3tgsO0BjpCj"
   },
   "source": [
    "<div class=\"alert alert-block alert-info\">\n",
    "\n",
    "<i class=\"fa fa-info-circle\" aria-hidden=\"true\"></i>\n",
    "You can see all information about TINTOlib code in [GitHub](https://github.com/oeg-upm/TINTOlib)"
   ]
  },
  {
   "cell_type": "markdown",
   "metadata": {
    "id": "i3tgsO0BjpCj"
   },
   "source": [
    "<div class=\"alert alert-block alert-info\">\n",
    "\n",
    "<i class=\"fa fa-info-circle\" aria-hidden=\"true\"></i>\n",
    "You can see all information about TINTOlib documentation in [PyPI](https://tintolib.readthedocs.io/en/latest/installation.html)"
   ]
  },
  {
   "cell_type": "markdown",
   "metadata": {
    "id": "4RKBgDwzjpCl"
   },
   "source": [
    "---\n",
    "<div style=\"text-align: right\"> <font size=5> <a href=\"#indice\"><i class=\"fa fa-arrow-circle-up\" aria-hidden=\"true\" style=\"color:#004D7F\"></i></a></font></div>\n",
    "\n",
    "---"
   ]
  },
  {
   "cell_type": "markdown",
   "metadata": {
    "id": "kpU7pi6yjpCn"
   },
   "source": [
    "<a id=\"section1\"></a>\n",
    "# <font color=\"#004D7F\" size=6> 1. Description</font>"
   ]
  },
  {
   "cell_type": "markdown",
   "metadata": {
    "id": "NL9RoFkEjpCq"
   },
   "source": [
    "The growing interest in the use of algorithms-based machine learning for predictive tasks has generated a large and diverse development of algorithms. However, it is widely known that not all of these algorithms are adapted to efficient solutions in certain tidy data format datasets. For this reason, novel techniques are currently being developed to convert tidy data into images with the aim of using Convolutional Neural Networks (CNNs). TINTOlib offers the opportunity to convert tidy data into images through several techniques: TINTO, IGTD, REFINED, SuperTML, BarGraph, DistanceMatrix and Combination."
   ]
  },
  {
   "cell_type": "markdown",
   "metadata": {
    "id": "HFrF4C89jpCt"
   },
   "source": [
    "---\n",
    "<a id=\"section11\"></a>\n",
    "# <font color=\"#004D7F\" size=5> 1.1. Main Features</font>"
   ]
  },
  {
   "cell_type": "markdown",
   "metadata": {
    "id": "1gruE0_sjpCu"
   },
   "source": [
    "- Supports all CSV data in **[Tidy Data](https://www.jstatsoft.org/article/view/v059i10)** format.\n",
    "- For now, the algorithm converts tabular data for binary and multi-class classification problems into machine learning.\n",
    "- Input data formats:\n",
    "    - **Tabular files**: The input data could be in **[CSV](https://en.wikipedia.org/wiki/Comma-separated_values)**, taking into account the **[Tidy Data](https://www.jstatsoft.org/article/view/v059i10)** format.\n",
    "    - **Dataframe***: The input data could be in **[Pandas Dataframe](https://pandas.pydata.org/docs/reference/api/pandas.DataFrame.html)**, taking into account the **[Tidy Data](https://www.jstatsoft.org/article/view/v059i10)** format.\n",
    "    - **Tidy Data**: The **target** (variable to be predicted) should be set as the last column of the dataset. Therefore, the first columns will be the features.\n",
    "    - All data must be in numerical form. TINTOlib does not accept data in string or any other non-numeric format.\n",
    "- Runs on **Linux**, **Windows** and **macOS** systems.\n",
    "- Compatible with **[Python](https://www.python.org/)** 3.7 or higher."
   ]
  },
  {
   "cell_type": "markdown",
   "metadata": {},
   "source": [
    "---\n",
    "<a id=\"section12\"></a>\n",
    "# <font color=\"#004D7F\" size=5> 1.2. Citation</font>"
   ]
  },
  {
   "cell_type": "markdown",
   "metadata": {},
   "source": [
    "**TINTOlib** is an python library that makes **Synthetic Images** from [Tidy Data](https://www.jstatsoft.org/article/view/v059i10) (also knows as **Tabular Data**).\n",
    "\n",
    "**Citing TINTO**: If you used TINTO in your work, please cite the **[SoftwareX](https://doi.org/10.1016/j.softx.2023.101391)**:\n",
    "\n",
    "```bib\n",
    "@article{softwarex_TINTO,\n",
    "    title = {TINTO: Converting Tidy Data into Image for Classification\n",
    "            with 2-Dimensional Convolutional Neural Networks},\n",
    "    journal = {SoftwareX},\n",
    "    author = {Manuel Castillo-Cara and Reewos Talla-Chumpitaz and\n",
    "              Raúl García-Castro and Luis Orozco-Barbosa},\n",
    "    year = {2023},\n",
    "    pages = {101391},\n",
    "    issn = {2352-7110},\n",
    "    doi = {https://doi.org/10.1016/j.softx.2023.101391}\n",
    "}\n",
    "```\n",
    "\n",
    "And use-case developed in **[INFFUS Paper](https://doi.org/10.1016/j.inffus.2022.10.011)**\n",
    "\n",
    "```bib\n",
    "@article{inffus_TINTO,\n",
    "    title = {A novel deep learning approach using blurring image\n",
    "            techniques for Bluetooth-based indoor localisation},\n",
    "    journal = {Information Fusion},\n",
    "    author = {Reewos Talla-Chumpitaz and Manuel Castillo-Cara and\n",
    "              Luis Orozco-Barbosa and Raúl García-Castro},\n",
    "    volume = {91},\n",
    "    pages = {173-186},\n",
    "    year = {2023},\n",
    "    issn = {1566-2535},\n",
    "    doi = {https://doi.org/10.1016/j.inffus.2022.10.011}\n",
    "}\n",
    "```"
   ]
  },
  {
   "cell_type": "markdown",
   "metadata": {},
   "source": [
    "---\n",
    "<a id=\"section13\"></a>\n",
    "# <font color=\"#004D7F\" size=5> 1.3. Documentation and License</font>"
   ]
  },
  {
   "cell_type": "markdown",
   "metadata": {},
   "source": [
    "TINTOlib has a wide range of documentation on both GitHub and PiPY. \n",
    "\n",
    "Moreover, TINTOlib is free and open software with Apache 2.0 license."
   ]
  },
  {
   "cell_type": "markdown",
   "metadata": {
    "id": "i3tgsO0BjpCj"
   },
   "source": [
    "<div class=\"alert alert-block alert-info\">\n",
    "\n",
    "<i class=\"fa fa-info-circle\" aria-hidden=\"true\"></i>\n",
    "You can see all information about TINTOlib code in [GitHub](https://github.com/oeg-upm/TINTOlib)"
   ]
  },
  {
   "cell_type": "markdown",
   "metadata": {
    "id": "i3tgsO0BjpCj"
   },
   "source": [
    "<div class=\"alert alert-block alert-info\">\n",
    "\n",
    "<i class=\"fa fa-info-circle\" aria-hidden=\"true\"></i>\n",
    "You can see all information about TINTOlib documentation in [PyPI](https://tintolib.readthedocs.io/en/latest/installation.html)"
   ]
  },
  {
   "cell_type": "markdown",
   "metadata": {
    "id": "Z3EzYcjJjpC6"
   },
   "source": [
    "---\n",
    "<div style=\"text-align: right\"> <font size=5> <a href=\"#indice\"><i class=\"fa fa-arrow-circle-up\" aria-hidden=\"true\" style=\"color:#004D7F\"></i></a></font></div>\n",
    "\n",
    "---"
   ]
  },
  {
   "cell_type": "markdown",
   "metadata": {
    "id": "qwYF5A2njpC8"
   },
   "source": [
    "<a id=\"section2\"></a>\n",
    "# <font color=\"#004D7F\" size=6> 2. Libraries</font>"
   ]
  },
  {
   "cell_type": "markdown",
   "metadata": {},
   "source": [
    "---\n",
    "<a id=\"section21\"></a>\n",
    "# <font color=\"#004D7F\" size=5> 2.1. System setup</font>"
   ]
  },
  {
   "cell_type": "markdown",
   "metadata": {},
   "source": [
    "Before installing the libraries you must have the `mpi4py` package installed on the native (Linux) system. This link shows how to install it: \n",
    "- Link: [`mpi4py` in Linux](https://www.geeksforgeeks.org/how-to-install-python3-mpi4py-package-on-linux/)\n",
    "\n",
    "For example, in Linux:\n",
    "\n",
    "```\n",
    "    sudo apt-get install python3\n",
    "    sudo apt install python3-pip\n",
    "    sudo apt install python3-mpi4py\n",
    "```\n",
    "\n",
    "If you are in Windows, Mac or, also, Linux, you can install from PyPI if you want:\n",
    "```\n",
    "    sudo pip3 install mpi4py\n",
    "```"
   ]
  },
  {
   "cell_type": "markdown",
   "metadata": {},
   "source": [
    "<div class=\"alert alert-block alert-info\">\n",
    "    \n",
    "<i class=\"fa fa-info-circle\" aria-hidden=\"true\"></i>\n",
    "Note that you must **restart the kernel or the system** so that it can load the libraries. "
   ]
  },
  {
   "cell_type": "markdown",
   "metadata": {},
   "source": [
    "Now, once you have installed `mpi4py` you can install the PyPI libraries and dependences."
   ]
  },
  {
   "cell_type": "code",
   "execution_count": 1,
   "metadata": {},
   "outputs": [
    {
     "name": "stdout",
     "output_type": "stream",
     "text": [
      "Requirement already satisfied: torchmetrics in c:\\users\\jiayu\\anaconda3\\envs\\tinto-hnn\\lib\\site-packages (1.3.0.post0)\n",
      "Requirement already satisfied: pytorch_lightning in c:\\users\\jiayu\\anaconda3\\envs\\tinto-hnn\\lib\\site-packages (2.1.3)\n",
      "Requirement already satisfied: TINTOlib in c:\\users\\jiayu\\anaconda3\\envs\\tinto-hnn\\lib\\site-packages (0.0.14)\n",
      "Requirement already satisfied: imblearn in c:\\users\\jiayu\\anaconda3\\envs\\tinto-hnn\\lib\\site-packages (0.0)\n",
      "Requirement already satisfied: keras_preprocessing in c:\\users\\jiayu\\anaconda3\\envs\\tinto-hnn\\lib\\site-packages (1.1.2)\n",
      "Requirement already satisfied: mpi4py in c:\\users\\jiayu\\anaconda3\\envs\\tinto-hnn\\lib\\site-packages (3.1.5)\n",
      "Requirement already satisfied: numpy>1.20.0 in c:\\users\\jiayu\\anaconda3\\envs\\tinto-hnn\\lib\\site-packages (from torchmetrics) (1.24.3)\n",
      "Requirement already satisfied: packaging>17.1 in c:\\users\\jiayu\\anaconda3\\envs\\tinto-hnn\\lib\\site-packages (from torchmetrics) (23.2)\n",
      "Requirement already satisfied: torch>=1.10.0 in c:\\users\\jiayu\\anaconda3\\envs\\tinto-hnn\\lib\\site-packages (from torchmetrics) (2.2.0+cu118)\n",
      "Requirement already satisfied: lightning-utilities>=0.8.0 in c:\\users\\jiayu\\anaconda3\\envs\\tinto-hnn\\lib\\site-packages (from torchmetrics) (0.10.1)\n",
      "Requirement already satisfied: tqdm>=4.57.0 in c:\\users\\jiayu\\appdata\\roaming\\python\\python311\\site-packages (from pytorch_lightning) (4.66.1)\n",
      "Requirement already satisfied: PyYAML>=5.4 in c:\\users\\jiayu\\anaconda3\\envs\\tinto-hnn\\lib\\site-packages (from pytorch_lightning) (6.0.1)\n",
      "Requirement already satisfied: fsspec>=2022.5.0 in c:\\users\\jiayu\\anaconda3\\envs\\tinto-hnn\\lib\\site-packages (from fsspec[http]>=2022.5.0->pytorch_lightning) (2023.12.2)\n",
      "Requirement already satisfied: typing-extensions>=4.0.0 in c:\\users\\jiayu\\anaconda3\\envs\\tinto-hnn\\lib\\site-packages (from pytorch_lightning) (4.8.0)\n",
      "Requirement already satisfied: imbalanced-learn in c:\\users\\jiayu\\anaconda3\\envs\\tinto-hnn\\lib\\site-packages (from imblearn) (0.12.0)\n",
      "Requirement already satisfied: six>=1.9.0 in c:\\users\\jiayu\\anaconda3\\envs\\tinto-hnn\\lib\\site-packages (from keras_preprocessing) (1.16.0)\n",
      "Requirement already satisfied: requests in c:\\users\\jiayu\\appdata\\roaming\\python\\python311\\site-packages (from fsspec[http]>=2022.5.0->pytorch_lightning) (2.31.0)\n",
      "Requirement already satisfied: aiohttp!=4.0.0a0,!=4.0.0a1 in c:\\users\\jiayu\\anaconda3\\envs\\tinto-hnn\\lib\\site-packages (from fsspec[http]>=2022.5.0->pytorch_lightning) (3.9.3)\n",
      "Requirement already satisfied: setuptools in c:\\users\\jiayu\\anaconda3\\envs\\tinto-hnn\\lib\\site-packages (from lightning-utilities>=0.8.0->torchmetrics) (68.2.2)\n",
      "Requirement already satisfied: filelock in c:\\users\\jiayu\\anaconda3\\envs\\tinto-hnn\\lib\\site-packages (from torch>=1.10.0->torchmetrics) (3.13.1)\n",
      "Requirement already satisfied: sympy in c:\\users\\jiayu\\anaconda3\\envs\\tinto-hnn\\lib\\site-packages (from torch>=1.10.0->torchmetrics) (1.12)\n",
      "Requirement already satisfied: networkx in c:\\users\\jiayu\\anaconda3\\envs\\tinto-hnn\\lib\\site-packages (from torch>=1.10.0->torchmetrics) (3.3)\n",
      "Requirement already satisfied: jinja2 in c:\\users\\jiayu\\anaconda3\\envs\\tinto-hnn\\lib\\site-packages (from torch>=1.10.0->torchmetrics) (3.1.3)\n",
      "Requirement already satisfied: colorama in c:\\users\\jiayu\\appdata\\roaming\\python\\python311\\site-packages (from tqdm>=4.57.0->pytorch_lightning) (0.4.6)\n",
      "Requirement already satisfied: scipy>=1.5.0 in c:\\users\\jiayu\\appdata\\roaming\\python\\python311\\site-packages (from imbalanced-learn->imblearn) (1.11.2)\n",
      "Requirement already satisfied: scikit-learn>=1.0.2 in c:\\users\\jiayu\\anaconda3\\envs\\tinto-hnn\\lib\\site-packages (from imbalanced-learn->imblearn) (1.4.0)\n",
      "Requirement already satisfied: joblib>=1.1.1 in c:\\users\\jiayu\\anaconda3\\envs\\tinto-hnn\\lib\\site-packages (from imbalanced-learn->imblearn) (1.3.2)\n",
      "Requirement already satisfied: threadpoolctl>=2.0.0 in c:\\users\\jiayu\\anaconda3\\envs\\tinto-hnn\\lib\\site-packages (from imbalanced-learn->imblearn) (3.2.0)\n",
      "Requirement already satisfied: aiosignal>=1.1.2 in c:\\users\\jiayu\\anaconda3\\envs\\tinto-hnn\\lib\\site-packages (from aiohttp!=4.0.0a0,!=4.0.0a1->fsspec[http]>=2022.5.0->pytorch_lightning) (1.3.1)\n",
      "Requirement already satisfied: attrs>=17.3.0 in c:\\users\\jiayu\\anaconda3\\envs\\tinto-hnn\\lib\\site-packages (from aiohttp!=4.0.0a0,!=4.0.0a1->fsspec[http]>=2022.5.0->pytorch_lightning) (23.2.0)\n",
      "Requirement already satisfied: frozenlist>=1.1.1 in c:\\users\\jiayu\\anaconda3\\envs\\tinto-hnn\\lib\\site-packages (from aiohttp!=4.0.0a0,!=4.0.0a1->fsspec[http]>=2022.5.0->pytorch_lightning) (1.4.1)\n",
      "Requirement already satisfied: multidict<7.0,>=4.5 in c:\\users\\jiayu\\anaconda3\\envs\\tinto-hnn\\lib\\site-packages (from aiohttp!=4.0.0a0,!=4.0.0a1->fsspec[http]>=2022.5.0->pytorch_lightning) (6.0.4)\n",
      "Requirement already satisfied: yarl<2.0,>=1.0 in c:\\users\\jiayu\\anaconda3\\envs\\tinto-hnn\\lib\\site-packages (from aiohttp!=4.0.0a0,!=4.0.0a1->fsspec[http]>=2022.5.0->pytorch_lightning) (1.9.4)\n",
      "Requirement already satisfied: MarkupSafe>=2.0 in c:\\users\\jiayu\\appdata\\roaming\\python\\python311\\site-packages (from jinja2->torch>=1.10.0->torchmetrics) (2.1.3)\n",
      "Requirement already satisfied: charset-normalizer<4,>=2 in c:\\users\\jiayu\\anaconda3\\envs\\tinto-hnn\\lib\\site-packages (from requests->fsspec[http]>=2022.5.0->pytorch_lightning) (3.3.2)\n",
      "Requirement already satisfied: idna<4,>=2.5 in c:\\users\\jiayu\\appdata\\roaming\\python\\python311\\site-packages (from requests->fsspec[http]>=2022.5.0->pytorch_lightning) (3.4)\n",
      "Requirement already satisfied: urllib3<3,>=1.21.1 in c:\\users\\jiayu\\anaconda3\\envs\\tinto-hnn\\lib\\site-packages (from requests->fsspec[http]>=2022.5.0->pytorch_lightning) (2.2.1)\n",
      "Requirement already satisfied: certifi>=2017.4.17 in c:\\users\\jiayu\\appdata\\roaming\\python\\python311\\site-packages (from requests->fsspec[http]>=2022.5.0->pytorch_lightning) (2023.7.22)\n",
      "Requirement already satisfied: mpmath>=0.19 in c:\\users\\jiayu\\anaconda3\\envs\\tinto-hnn\\lib\\site-packages (from sympy->torch>=1.10.0->torchmetrics) (1.3.0)\n"
     ]
    }
   ],
   "source": [
    "!pip install torchmetrics pytorch_lightning TINTOlib imblearn keras_preprocessing mpi4py"
   ]
  },
  {
   "cell_type": "markdown",
   "metadata": {},
   "source": [
    "<div class=\"alert alert-block alert-info\">\n",
    "    \n",
    "<i class=\"fa fa-info-circle\" aria-hidden=\"true\"></i>\n",
    "Note that you must **restart the kernel** so that it can load the libraries. "
   ]
  },
  {
   "cell_type": "markdown",
   "metadata": {},
   "source": [
    "---\n",
    "<a id=\"section22\"></a>\n",
    "# <font color=\"#004D7F\" size=5> 2.2. Invoke the libraries</font>"
   ]
  },
  {
   "cell_type": "markdown",
   "metadata": {
    "id": "5AdHKnWYsEq_"
   },
   "source": [
    "The first thing we need to do is to declare the libraries"
   ]
  },
  {
   "cell_type": "code",
   "execution_count": 2,
   "metadata": {
    "id": "PeeBbGxlpjFp",
    "tags": []
   },
   "outputs": [
    {
     "name": "stderr",
     "output_type": "stream",
     "text": [
      "C:\\Users\\jiayu\\AppData\\Local\\Temp\\ipykernel_33692\\1804575197.py:2: DeprecationWarning: \n",
      "Pyarrow will become a required dependency of pandas in the next major release of pandas (pandas 3.0),\n",
      "(to allow more performant data types, such as the Arrow string type, and better interoperability with other libraries)\n",
      "but was not found to be installed on your system.\n",
      "If this would cause problems for you,\n",
      "please provide us feedback at https://github.com/pandas-dev/pandas/issues/54466\n",
      "        \n",
      "  import pandas as pd\n"
     ]
    }
   ],
   "source": [
    "import os\n",
    "import pandas as pd\n",
    "import numpy as np\n",
    "from tqdm import tqdm\n",
    "#import cv2\n",
    "import gc\n",
    "import matplotlib.pyplot as plt\n",
    "#import openslide\n",
    "#from openslide.deepzoom import DeepZoomGenerator\n",
    "import tifffile as tifi\n",
    "import sklearn\n",
    "import tensorflow as tf\n",
    "import seaborn as sns\n",
    "from PIL import Image\n",
    "\n",
    "\n",
    "from sklearn.metrics import mean_absolute_error, mean_squared_error, r2_score,mean_absolute_percentage_error\n",
    "\n",
    "from keras_preprocessing.image import ImageDataGenerator\n",
    "from tensorflow.keras.models import load_model\n",
    "\n",
    "from sklearn.model_selection import train_test_split\n",
    "from tensorflow.keras.applications import vgg16, vgg19, resnet50, mobilenet, inception_resnet_v2, densenet, inception_v3, xception, nasnet, ResNet152V2\n",
    "from tensorflow.keras.models import Sequential, Model, load_model\n",
    "from tensorflow.keras.layers import Dense, Conv2D, MaxPool2D, Flatten, Dropout, BatchNormalization, InputLayer, LayerNormalization\n",
    "from tensorflow.keras.callbacks import ModelCheckpoint, ReduceLROnPlateau, EarlyStopping\n",
    "from tensorflow.keras.optimizers import SGD, Adam, Adadelta, Adamax\n",
    "from tensorflow.keras import layers, models, Model\n",
    "from tensorflow.keras.losses import MeanAbsoluteError, MeanAbsolutePercentageError\n",
    "from tensorflow.keras.layers import Input, Activation,MaxPooling2D, concatenate\n",
    "from tensorflow.keras.utils import to_categorical\n",
    "\n",
    "from imblearn.over_sampling import RandomOverSampler\n",
    "\n",
    "#Models of TINTOlib\n",
    "from TINTOlib.tinto import TINTO\n",
    "from TINTOlib.supertml import SuperTML\n",
    "from TINTOlib.igtd import IGTD\n",
    "from TINTOlib.refined import REFINED\n",
    "from TINTOlib.barGraph import BarGraph\n",
    "from TINTOlib.distanceMatrix import DistanceMatrix\n",
    "from TINTOlib.combination import Combination\n",
    "import TINTOlib.utils"
   ]
  },
  {
   "cell_type": "markdown",
   "metadata": {
    "id": "NwS-cKUxjpDQ"
   },
   "source": [
    "---\n",
    "<div style=\"text-align: right\"> <font size=5> <a href=\"#indice\"><i class=\"fa fa-arrow-circle-up\" aria-hidden=\"true\" style=\"color:#004D7F\"></i></a></font></div>\n",
    "\n",
    "---"
   ]
  },
  {
   "cell_type": "markdown",
   "metadata": {
    "id": "aDL4LARWjpDT"
   },
   "source": [
    "<a id=\"section3\"></a>\n",
    "# <font color=\"#004D7F\" size=6> 3. Data processing</font>"
   ]
  },
  {
   "cell_type": "markdown",
   "metadata": {
    "id": "jXcRw78ljpDU"
   },
   "source": [
    "The first thing to do is to read all the images created by TINTO. TINTO creates a folder which contains subfolders corresponding to each target that has the problem. Each image corresponds to a sample of the original dataset."
   ]
  },
  {
   "cell_type": "markdown",
   "metadata": {},
   "source": [
    "---\n",
    "<a id=\"section31\"></a>\n",
    "# <font color=\"#004D7F\" size=5> 3.1. TINTOlib methods</font>"
   ]
  },
  {
   "cell_type": "markdown",
   "metadata": {},
   "source": [
    "We prepare the declaration of the classes with the TINTOlib method we want to transform. Note that TINTOlib has several methods and we will have to choose one of them since each method generates different images.\n",
    "\n",
    "In addition, we establish the paths where the dataset is located and also the folder where the images will be created."
   ]
  },
  {
   "cell_type": "code",
   "execution_count": 3,
   "metadata": {},
   "outputs": [],
   "source": [
    "#Select the model and the parameters\n",
    "problem_type = \"supervised\"\n",
    "pixel=20\n",
    "#image_model = REFINED(problem= problem_type,hcIterations=5)\n",
    "image_model = TINTO(problem= problem_type,blur=True)\n",
    "#image_model = IGTD(problem= problem_type)\n",
    "#image_model = BarGraph(problem= problem_type)\n",
    "#image_model = DistanceMatrix(problem= problem_type)\n",
    "#image_model = Combination(problem= problem_type)\n",
    "\n",
    "#Define the dataset path and the folder where the images will be saved\n",
    "dataset_path = \"../sample_data/cancer.csv\"\n",
    "images_folder = \"../HyNNImages/Classification/images_cancer_TINTO\""
   ]
  },
  {
   "cell_type": "markdown",
   "metadata": {},
   "source": [
    "<div class=\"alert alert-block alert-info\">\n",
    "\n",
    "<i class=\"fa fa-info-circle\" aria-hidden=\"true\"></i>\n",
    "You can see all TINTOlib method in the [PyPI documentation](https://tintolib.readthedocs.io/en/latest/installation.html)"
   ]
  },
  {
   "cell_type": "markdown",
   "metadata": {},
   "source": [
    "---\n",
    "<a id=\"section32\"></a>\n",
    "# <font color=\"#004D7F\" size=5> 3.2. Read the dataset</font>"
   ]
  },
  {
   "cell_type": "markdown",
   "metadata": {},
   "source": [
    "In this part, we proceed to read the dataset according to the path specified above and also standardize the name that the target will have, in this case, it will be called `class`."
   ]
  },
  {
   "cell_type": "code",
   "execution_count": 4,
   "metadata": {
    "scrolled": true
   },
   "outputs": [
    {
     "data": {
      "text/html": [
       "<div>\n",
       "<style scoped>\n",
       "    .dataframe tbody tr th:only-of-type {\n",
       "        vertical-align: middle;\n",
       "    }\n",
       "\n",
       "    .dataframe tbody tr th {\n",
       "        vertical-align: top;\n",
       "    }\n",
       "\n",
       "    .dataframe thead th {\n",
       "        text-align: right;\n",
       "    }\n",
       "</style>\n",
       "<table border=\"1\" class=\"dataframe\">\n",
       "  <thead>\n",
       "    <tr style=\"text-align: right;\">\n",
       "      <th></th>\n",
       "      <th>0</th>\n",
       "      <th>1</th>\n",
       "      <th>2</th>\n",
       "      <th>3</th>\n",
       "      <th>4</th>\n",
       "      <th>5</th>\n",
       "      <th>6</th>\n",
       "      <th>7</th>\n",
       "      <th>8</th>\n",
       "      <th>9</th>\n",
       "      <th>...</th>\n",
       "      <th>21</th>\n",
       "      <th>22</th>\n",
       "      <th>23</th>\n",
       "      <th>24</th>\n",
       "      <th>25</th>\n",
       "      <th>26</th>\n",
       "      <th>27</th>\n",
       "      <th>28</th>\n",
       "      <th>29</th>\n",
       "      <th>45</th>\n",
       "    </tr>\n",
       "  </thead>\n",
       "  <tbody>\n",
       "    <tr>\n",
       "      <th>0</th>\n",
       "      <td>0.643144</td>\n",
       "      <td>0.272574</td>\n",
       "      <td>0.615783</td>\n",
       "      <td>0.501591</td>\n",
       "      <td>0.289880</td>\n",
       "      <td>0.181768</td>\n",
       "      <td>0.203608</td>\n",
       "      <td>0.348757</td>\n",
       "      <td>0.379798</td>\n",
       "      <td>0.141323</td>\n",
       "      <td>...</td>\n",
       "      <td>0.303571</td>\n",
       "      <td>0.539818</td>\n",
       "      <td>0.435214</td>\n",
       "      <td>0.347553</td>\n",
       "      <td>0.154563</td>\n",
       "      <td>0.192971</td>\n",
       "      <td>0.639175</td>\n",
       "      <td>0.233590</td>\n",
       "      <td>0.222878</td>\n",
       "      <td>1.0</td>\n",
       "    </tr>\n",
       "    <tr>\n",
       "      <th>1</th>\n",
       "      <td>0.601496</td>\n",
       "      <td>0.390260</td>\n",
       "      <td>0.595743</td>\n",
       "      <td>0.449417</td>\n",
       "      <td>0.514309</td>\n",
       "      <td>0.431017</td>\n",
       "      <td>0.462512</td>\n",
       "      <td>0.635686</td>\n",
       "      <td>0.509596</td>\n",
       "      <td>0.211247</td>\n",
       "      <td>...</td>\n",
       "      <td>0.360075</td>\n",
       "      <td>0.508442</td>\n",
       "      <td>0.374508</td>\n",
       "      <td>0.483590</td>\n",
       "      <td>0.385375</td>\n",
       "      <td>0.359744</td>\n",
       "      <td>0.835052</td>\n",
       "      <td>0.403706</td>\n",
       "      <td>0.213433</td>\n",
       "      <td>1.0</td>\n",
       "    </tr>\n",
       "  </tbody>\n",
       "</table>\n",
       "<p>2 rows × 31 columns</p>\n",
       "</div>"
      ],
      "text/plain": [
       "          0         1         2         3         4         5         6  \\\n",
       "0  0.643144  0.272574  0.615783  0.501591  0.289880  0.181768  0.203608   \n",
       "1  0.601496  0.390260  0.595743  0.449417  0.514309  0.431017  0.462512   \n",
       "\n",
       "          7         8         9  ...        21        22        23        24  \\\n",
       "0  0.348757  0.379798  0.141323  ...  0.303571  0.539818  0.435214  0.347553   \n",
       "1  0.635686  0.509596  0.211247  ...  0.360075  0.508442  0.374508  0.483590   \n",
       "\n",
       "         25        26        27        28        29   45  \n",
       "0  0.154563  0.192971  0.639175  0.233590  0.222878  1.0  \n",
       "1  0.385375  0.359744  0.835052  0.403706  0.213433  1.0  \n",
       "\n",
       "[2 rows x 31 columns]"
      ]
     },
     "execution_count": 4,
     "metadata": {},
     "output_type": "execute_result"
    }
   ],
   "source": [
    "#Read CSV\n",
    "df = pd.read_csv(dataset_path)\n",
    "df.head(2)"
   ]
  },
  {
   "cell_type": "code",
   "execution_count": 5,
   "metadata": {},
   "outputs": [
    {
     "data": {
      "text/plain": [
       "(568, 31)"
      ]
     },
     "execution_count": 5,
     "metadata": {},
     "output_type": "execute_result"
    }
   ],
   "source": [
    "df.shape"
   ]
  },
  {
   "cell_type": "code",
   "execution_count": 6,
   "metadata": {},
   "outputs": [
    {
     "name": "stdout",
     "output_type": "stream",
     "text": [
      "Categorical columns: Index([], dtype='object')\n"
     ]
    }
   ],
   "source": [
    "categorical_columns = df.select_dtypes(include=['object', 'category']).columns\n",
    "print(\"Categorical columns:\", categorical_columns)"
   ]
  },
  {
   "cell_type": "markdown",
   "metadata": {},
   "source": [
    "---\n",
    "<a id=\"section33\"></a>\n",
    "# <font color=\"#004D7F\" size=5> 3.3. Generate images</font>"
   ]
  },
  {
   "cell_type": "markdown",
   "metadata": {},
   "source": [
    "Now we can generate the images with the `generateImages()` generic function. Likewise, we create a dataset that will have the path of each of the samples with the corresponding image created for it. \n",
    "\n",
    "Note that each image is created based on a row, therefore, each numerical sample of the dataset will correspond to a particular image. In other words, we will have the same number of images as samples/rows."
   ]
  },
  {
   "cell_type": "code",
   "execution_count": 7,
   "metadata": {},
   "outputs": [
    {
     "name": "stdout",
     "output_type": "stream",
     "text": [
      "The images are already generated\n",
      "../HyNNImages/Classification/images_cancer_TINTO\\supervised.csv\n"
     ]
    }
   ],
   "source": [
    "import os\n",
    "\n",
    "# Generate the images if the folder does not exist\n",
    "if not os.path.exists(images_folder):\n",
    "    #Generate thet images\n",
    "    image_model.generateImages(df, images_folder)\n",
    "else:\n",
    "    print(\"The images are already generated\")\n",
    "\n",
    "img_paths = os.path.join(images_folder,problem_type+\".csv\")\n",
    "\n",
    "print(img_paths)"
   ]
  },
  {
   "cell_type": "markdown",
   "metadata": {},
   "source": [
    "---\n",
    "<a id=\"section34\"></a>\n",
    "# <font color=\"#004D7F\" size=5> 3.4. Read Images</font>"
   ]
  },
  {
   "cell_type": "markdown",
   "metadata": {},
   "source": [
    "Now, we read the created images "
   ]
  },
  {
   "cell_type": "code",
   "execution_count": 8,
   "metadata": {},
   "outputs": [],
   "source": [
    "imgs = pd.read_csv(img_paths)\n",
    "\n",
    "#imgs[\"images\"]= images_folder + \"\\\\\" + imgs[\"images\"]\n",
    "imgs[\"images\"]= images_folder + \"/\" + imgs[\"images\"]"
   ]
  },
  {
   "cell_type": "markdown",
   "metadata": {},
   "source": [
    "---\n",
    "<a id=\"section35\"></a>\n",
    "# <font color=\"#004D7F\" size=5> 3.5. Mix images and tidy data</font>"
   ]
  },
  {
   "cell_type": "markdown",
   "metadata": {},
   "source": [
    "Since we are going to use hybrid networks, i.e. create a model in which we join a CNN for the images and a MLP for the tabular data, we are going to join it in order to integrate all the data in our hybrid model.\n"
   ]
  },
  {
   "cell_type": "code",
   "execution_count": 9,
   "metadata": {},
   "outputs": [
    {
     "data": {
      "text/html": [
       "<div>\n",
       "<style scoped>\n",
       "    .dataframe tbody tr th:only-of-type {\n",
       "        vertical-align: middle;\n",
       "    }\n",
       "\n",
       "    .dataframe tbody tr th {\n",
       "        vertical-align: top;\n",
       "    }\n",
       "\n",
       "    .dataframe thead th {\n",
       "        text-align: right;\n",
       "    }\n",
       "</style>\n",
       "<table border=\"1\" class=\"dataframe\">\n",
       "  <thead>\n",
       "    <tr style=\"text-align: right;\">\n",
       "      <th></th>\n",
       "      <th>0</th>\n",
       "      <th>1</th>\n",
       "      <th>2</th>\n",
       "      <th>3</th>\n",
       "      <th>4</th>\n",
       "      <th>5</th>\n",
       "      <th>6</th>\n",
       "      <th>7</th>\n",
       "      <th>8</th>\n",
       "      <th>9</th>\n",
       "      <th>...</th>\n",
       "      <th>21</th>\n",
       "      <th>22</th>\n",
       "      <th>23</th>\n",
       "      <th>24</th>\n",
       "      <th>25</th>\n",
       "      <th>26</th>\n",
       "      <th>27</th>\n",
       "      <th>28</th>\n",
       "      <th>29</th>\n",
       "      <th>45</th>\n",
       "    </tr>\n",
       "  </thead>\n",
       "  <tbody>\n",
       "    <tr>\n",
       "      <th>0</th>\n",
       "      <td>0.643144</td>\n",
       "      <td>0.272574</td>\n",
       "      <td>0.615783</td>\n",
       "      <td>0.501591</td>\n",
       "      <td>0.289880</td>\n",
       "      <td>0.181768</td>\n",
       "      <td>0.203608</td>\n",
       "      <td>0.348757</td>\n",
       "      <td>0.379798</td>\n",
       "      <td>0.141323</td>\n",
       "      <td>...</td>\n",
       "      <td>0.303571</td>\n",
       "      <td>0.539818</td>\n",
       "      <td>0.435214</td>\n",
       "      <td>0.347553</td>\n",
       "      <td>0.154563</td>\n",
       "      <td>0.192971</td>\n",
       "      <td>0.639175</td>\n",
       "      <td>0.233590</td>\n",
       "      <td>0.222878</td>\n",
       "      <td>1.0</td>\n",
       "    </tr>\n",
       "    <tr>\n",
       "      <th>1</th>\n",
       "      <td>0.601496</td>\n",
       "      <td>0.390260</td>\n",
       "      <td>0.595743</td>\n",
       "      <td>0.449417</td>\n",
       "      <td>0.514309</td>\n",
       "      <td>0.431017</td>\n",
       "      <td>0.462512</td>\n",
       "      <td>0.635686</td>\n",
       "      <td>0.509596</td>\n",
       "      <td>0.211247</td>\n",
       "      <td>...</td>\n",
       "      <td>0.360075</td>\n",
       "      <td>0.508442</td>\n",
       "      <td>0.374508</td>\n",
       "      <td>0.483590</td>\n",
       "      <td>0.385375</td>\n",
       "      <td>0.359744</td>\n",
       "      <td>0.835052</td>\n",
       "      <td>0.403706</td>\n",
       "      <td>0.213433</td>\n",
       "      <td>1.0</td>\n",
       "    </tr>\n",
       "  </tbody>\n",
       "</table>\n",
       "<p>2 rows × 31 columns</p>\n",
       "</div>"
      ],
      "text/plain": [
       "          0         1         2         3         4         5         6  \\\n",
       "0  0.643144  0.272574  0.615783  0.501591  0.289880  0.181768  0.203608   \n",
       "1  0.601496  0.390260  0.595743  0.449417  0.514309  0.431017  0.462512   \n",
       "\n",
       "          7         8         9  ...        21        22        23        24  \\\n",
       "0  0.348757  0.379798  0.141323  ...  0.303571  0.539818  0.435214  0.347553   \n",
       "1  0.635686  0.509596  0.211247  ...  0.360075  0.508442  0.374508  0.483590   \n",
       "\n",
       "         25        26        27        28        29   45  \n",
       "0  0.154563  0.192971  0.639175  0.233590  0.222878  1.0  \n",
       "1  0.385375  0.359744  0.835052  0.403706  0.213433  1.0  \n",
       "\n",
       "[2 rows x 31 columns]"
      ]
     },
     "execution_count": 9,
     "metadata": {},
     "output_type": "execute_result"
    }
   ],
   "source": [
    "# Select all the attributes to normalize\n",
    "columns_to_normalize = df.columns[:-1]\n",
    "\n",
    "# Normalize between 0 and 1\n",
    "df_normalized = (df[columns_to_normalize] - df[columns_to_normalize].min()) / (df[columns_to_normalize].max() - df[columns_to_normalize].min())\n",
    "\n",
    "# Combine the attributes and the label\n",
    "df_normalized = pd.concat([df_normalized, df[df.columns[-1]]], axis=1)\n",
    "\n",
    "df_normalized.head(2)"
   ]
  },
  {
   "cell_type": "markdown",
   "metadata": {},
   "source": [
    "Combine the images and tidy data in the same dataframe, split attributes and objective value"
   ]
  },
  {
   "cell_type": "code",
   "execution_count": 10,
   "metadata": {},
   "outputs": [
    {
     "name": "stdout",
     "output_type": "stream",
     "text": [
      "0      1.0\n",
      "1      1.0\n",
      "2      1.0\n",
      "3      1.0\n",
      "4      1.0\n",
      "      ... \n",
      "563    1.0\n",
      "564    1.0\n",
      "565    1.0\n",
      "566    1.0\n",
      "567   -1.0\n",
      "Name: class, Length: 568, dtype: float64\n"
     ]
    }
   ],
   "source": [
    "combined_dataset = pd.concat([imgs,df_normalized[columns_to_normalize]],axis=1)\n",
    "\n",
    "df_x = combined_dataset.drop(\"class\",axis=1)\n",
    "df_y = combined_dataset[\"class\"]\n",
    "\n",
    "print(df_y)"
   ]
  },
  {
   "cell_type": "markdown",
   "metadata": {},
   "source": [
    "---\n",
    "<a id=\"section36\"></a>\n",
    "# <font color=\"#004D7F\" size=5> 3.6. Label encoding</font>"
   ]
  },
  {
   "cell_type": "markdown",
   "metadata": {},
   "source": [
    "\n",
    "In this section, we delve into label encoding, a crucial preprocessing step for preparing categorical labels for use in machine learning models. Specifically for binary classification tasks, label encoding involves transforming categorical labels into a binary format, represented by the integers 0 and 1."
   ]
  },
  {
   "cell_type": "code",
   "execution_count": 11,
   "metadata": {},
   "outputs": [],
   "source": [
    "from sklearn.preprocessing import LabelEncoder\n",
    "encoder = LabelEncoder()\n",
    "df_y = encoder.fit_transform(df_y)"
   ]
  },
  {
   "cell_type": "code",
   "execution_count": 12,
   "metadata": {},
   "outputs": [
    {
     "data": {
      "text/plain": [
       "array([1, 1, 1, 1, 1, 1, 1, 1, 1, 1, 1, 1, 1, 1, 1, 1, 1, 1, 0, 0, 0, 1,\n",
       "       1, 1, 1, 1, 1, 1, 1, 1, 1, 1, 1, 1, 1, 1, 0, 1, 1, 1, 1, 1, 1, 1,\n",
       "       1, 0, 1, 0, 0, 0, 0, 0, 1, 1, 0, 1, 1, 0, 0, 0, 0, 1, 0, 1, 1, 0,\n",
       "       0, 0, 0, 1, 0, 1, 1, 0, 1, 0, 1, 1, 0, 0, 0, 1, 1, 0, 1, 1, 1, 0,\n",
       "       0, 0, 1, 0, 0, 1, 1, 0, 0, 0, 1, 1, 0, 0, 0, 0, 1, 0, 0, 1, 0, 0,\n",
       "       0, 0, 0, 0, 0, 0, 1, 1, 1, 0, 1, 1, 0, 0, 0, 1, 1, 0, 1, 0, 1, 1,\n",
       "       0, 1, 1, 0, 0, 1, 0, 0, 1, 0, 0, 0, 0, 1, 0, 0, 0, 0, 0, 0, 0, 0,\n",
       "       0, 1, 0, 0, 0, 0, 1, 1, 0, 1, 0, 0, 1, 1, 0, 0, 1, 1, 0, 0, 0, 0,\n",
       "       1, 0, 0, 1, 1, 1, 0, 1, 0, 1, 0, 0, 0, 1, 0, 0, 1, 1, 0, 1, 1, 1,\n",
       "       1, 0, 1, 1, 1, 0, 1, 0, 1, 0, 0, 1, 0, 1, 1, 1, 1, 0, 0, 1, 1, 0,\n",
       "       0, 0, 1, 0, 0, 0, 0, 0, 1, 1, 0, 0, 1, 0, 0, 1, 1, 0, 1, 0, 0, 0,\n",
       "       0, 1, 0, 0, 0, 0, 0, 1, 0, 1, 1, 1, 1, 1, 1, 1, 1, 1, 1, 1, 1, 1,\n",
       "       1, 0, 0, 0, 0, 0, 0, 1, 0, 1, 0, 0, 1, 0, 0, 1, 0, 1, 1, 0, 0, 0,\n",
       "       0, 0, 0, 0, 0, 0, 0, 0, 0, 0, 1, 0, 0, 1, 0, 1, 0, 0, 0, 0, 0, 0,\n",
       "       0, 0, 0, 0, 0, 0, 0, 0, 1, 0, 0, 0, 1, 0, 1, 0, 0, 0, 0, 1, 1, 1,\n",
       "       0, 0, 0, 0, 1, 0, 1, 0, 1, 0, 0, 0, 1, 0, 0, 0, 0, 0, 0, 0, 1, 1,\n",
       "       1, 0, 0, 0, 0, 0, 0, 0, 0, 0, 0, 0, 1, 1, 0, 1, 1, 1, 0, 1, 1, 0,\n",
       "       0, 0, 0, 0, 1, 0, 0, 0, 0, 0, 1, 0, 0, 0, 1, 0, 0, 1, 1, 0, 0, 0,\n",
       "       0, 0, 0, 1, 0, 0, 0, 0, 0, 0, 0, 1, 0, 0, 0, 0, 0, 1, 0, 0, 1, 0,\n",
       "       0, 0, 0, 0, 0, 0, 0, 0, 0, 0, 0, 1, 0, 1, 1, 0, 1, 0, 0, 0, 0, 0,\n",
       "       1, 0, 0, 1, 0, 1, 0, 0, 1, 0, 1, 0, 0, 0, 0, 0, 0, 0, 0, 1, 1, 0,\n",
       "       0, 0, 0, 0, 0, 1, 0, 0, 0, 0, 0, 0, 0, 0, 0, 0, 1, 0, 0, 0, 0, 0,\n",
       "       0, 0, 1, 0, 1, 0, 0, 1, 0, 0, 0, 0, 0, 1, 1, 0, 1, 0, 1, 0, 0, 0,\n",
       "       0, 0, 1, 0, 0, 1, 0, 1, 0, 1, 1, 0, 0, 0, 1, 0, 0, 0, 0, 0, 0, 0,\n",
       "       0, 0, 0, 0, 1, 0, 1, 1, 0, 0, 0, 0, 0, 0, 0, 0, 0, 0, 0, 0, 0, 0,\n",
       "       0, 0, 0, 0, 0, 0, 0, 0, 0, 0, 0, 1, 1, 1, 1, 1, 1, 0], dtype=int64)"
      ]
     },
     "execution_count": 12,
     "metadata": {},
     "output_type": "execute_result"
    }
   ],
   "source": [
    "df_y"
   ]
  },
  {
   "cell_type": "markdown",
   "metadata": {
    "id": "_haEKIo7jpD1"
   },
   "source": [
    "---\n",
    "<div style=\"text-align: right\"> <font size=5> <a href=\"#indice\"><i class=\"fa fa-arrow-circle-up\" aria-hidden=\"true\" style=\"color:#004D7F\"></i></a></font></div>\n",
    "\n",
    "---"
   ]
  },
  {
   "cell_type": "markdown",
   "metadata": {
    "id": "uF1lJWbojpD3"
   },
   "source": [
    "<a id=\"section4\"></a>\n",
    "# <font color=\"#004D7F\" size=6> 4. Pre-modelling phase</font>"
   ]
  },
  {
   "cell_type": "markdown",
   "metadata": {},
   "source": [
    "Once the data is ready, we load it into memory with an iterator in order to pass it to the CNN."
   ]
  },
  {
   "cell_type": "markdown",
   "metadata": {},
   "source": [
    "---\n",
    "<a id=\"section41\"></a>\n",
    "# <font color=\"#004D7F\" size=5> 4.1. Data curation</font>"
   ]
  },
  {
   "cell_type": "markdown",
   "metadata": {},
   "source": [
    "Note that each method generates images of **different pixel size**. For example:\n",
    "- `TINTO` method has a parameter that you can specify the size in pixels which by default is 20. \n",
    "- Other parameters such as `Combined` generates the size automatically and you must obtain them from the _shape_ of the images."
   ]
  },
  {
   "cell_type": "markdown",
   "metadata": {},
   "source": [
    "<div class=\"alert alert-block alert-info\">\n",
    "\n",
    "<i class=\"fa fa-info-circle\" aria-hidden=\"true\"></i>\n",
    "You can see all information about TINTOlib documentation in [PyPI](https://tintolib.readthedocs.io/en/latest/installation.html)"
   ]
  },
  {
   "cell_type": "code",
   "execution_count": 13,
   "metadata": {},
   "outputs": [],
   "source": [
    "pixels = 20"
   ]
  },
  {
   "cell_type": "markdown",
   "metadata": {},
   "source": [
    "Split in train/test/validation. \n",
    "\n",
    "Note that the partitioning of the images is also performed, in addition to the tabular data."
   ]
  },
  {
   "cell_type": "code",
   "execution_count": 14,
   "metadata": {},
   "outputs": [
    {
     "name": "stdout",
     "output_type": "stream",
     "text": [
      "Images shape:  (20, 20, 3)\n",
      "Attributres:  30\n",
      "Image size (pixels): 20\n"
     ]
    }
   ],
   "source": [
    "import cv2\n",
    "X_train, X_val, y_train, y_val = train_test_split(df_x, df_y, test_size = 0.40, random_state = 123)\n",
    "X_val, X_test, y_val, y_test = train_test_split(X_val, y_val, test_size = 0.50, random_state = 123)\n",
    "\n",
    "#TIDY DATA SPLITTED\n",
    "X_train_num = X_train.drop(\"images\",axis=1)\n",
    "X_val_num = X_val.drop(\"images\",axis=1)\n",
    "X_test_num = X_test.drop(\"images\",axis=1)\n",
    "\n",
    "#IMAGES\n",
    "# For 3 canal (RGB)\n",
    "X_train_img = np.array([cv2.resize(cv2.imread(img),(pixels,pixels)) for img in X_train[\"images\"]])\n",
    "X_val_img = np.array([cv2.resize(cv2.imread(img),(pixels,pixels)) for img in X_val[\"images\"]])\n",
    "X_test_img = np.array([cv2.resize(cv2.imread(img),(pixels,pixels)) for img in X_test[\"images\"]])\n",
    "\n",
    "# For 1 canal (GRAY SCALE)\n",
    "\"\"\"X_train_img = np.array([cv2.imread(img,cv2.IMREAD_GRAYSCALE) for img in X_train[\"images\"]])\n",
    "X_val_img = np.array([cv2.imread(img,cv2.IMREAD_GRAYSCALE) for img in X_val[\"images\"]])\n",
    "X_test_img = np.array([cv2.imread(img,cv2.IMREAD_GRAYSCALE) for img in X_test[\"images\"]])\"\"\"\n",
    "\n",
    "attributes = len(X_train_num.columns)\n",
    "imgs_shape = X_train_img[0].shape\n",
    "\n",
    "print(\"Images shape: \",imgs_shape)\n",
    "print(\"Attributres: \",attributes)\n",
    "pixels=X_train_img[0].shape[0]\n",
    "print(\"Image size (pixels):\", pixels)"
   ]
  },
  {
   "cell_type": "markdown",
   "metadata": {},
   "source": [
    "<a id=\"section5\"></a>\n",
    "# <font color=\"#004D7F\" size=6> 5. Modeling hybrid network</font>"
   ]
  },
  {
   "cell_type": "markdown",
   "metadata": {},
   "source": [
    "Now we can start the CNN+MLP training. Before that we prepare the algorithm for reading data.\n",
    "\n",
    "In this example, 2 branch networks is created\n",
    "- 1º branch: FFNN for tabular data\n",
    "- 2º branch: CNN for TINTOlib images"
   ]
  },
  {
   "cell_type": "markdown",
   "metadata": {},
   "source": [
    "---\n",
    "<a id=\"section51\"></a>\n",
    "# <font color=\"#004D7F\" size=5> 5.1. FFNN for tabular data</font>\n",
    "\n",
    "This is an example of a simple FFNN for tabular data. Note that we are not looking for the optimization of the CNN but to show an example of TINTOlib execution."
   ]
  },
  {
   "cell_type": "code",
   "execution_count": 15,
   "metadata": {},
   "outputs": [],
   "source": [
    "dropout = 0.3"
   ]
  },
  {
   "cell_type": "code",
   "execution_count": 16,
   "metadata": {},
   "outputs": [],
   "source": [
    "filters_ffnn = [128,64,32]\n",
    "\n",
    "ff_model = Sequential()\n",
    "ff_model.add(Input(shape=(attributes,)))\n",
    "\n",
    "for layer in filters_ffnn:\n",
    "    ff_model.add(Dense(layer, activation=\"relu\"))\n",
    "    ff_model.add(BatchNormalization())\n",
    "    ff_model.add(Dropout(dropout))"
   ]
  },
  {
   "cell_type": "markdown",
   "metadata": {},
   "source": [
    "---\n",
    "<a id=\"section52\"></a>\n",
    "# <font color=\"#004D7F\" size=5> 5.2. CNN for TINTOlib images</font>\n",
    "\n",
    "This is an example of a simple CNN for TINTOlib images. Note that we are not looking for the optimization of the CNN but to show an example of TINTOlib execution."
   ]
  },
  {
   "cell_type": "code",
   "execution_count": 17,
   "metadata": {},
   "outputs": [],
   "source": [
    "filters_cnn =  [16,32,64,128]\n",
    "\n",
    "cnn_model = Sequential()\n",
    "cnn_model.add(Input(shape=(pixels,pixels, 3)))\n",
    "\n",
    "for layer in filters_cnn:\n",
    "    cnn_model.add(Conv2D(layer, (3, 3), padding=\"same\"))\n",
    "    cnn_model.add(Activation(\"relu\"))\n",
    "    cnn_model.add(BatchNormalization())\n",
    "    cnn_model.add(MaxPooling2D(pool_size=(2, 2)))\n",
    "\n",
    "# flatten the volume, then FC => RELU => BN => DROPOUT\n",
    "cnn_model.add(Flatten())\n",
    "cnn_model.add(Dense(128))\n",
    "cnn_model.add(Activation(\"relu\"))\n",
    "cnn_model.add(BatchNormalization())\n",
    "cnn_model.add(Dropout(dropout))\n",
    "cnn_model.add(Dense(64))\n",
    "cnn_model.add(Activation(\"relu\"))\n",
    "cnn_model.add(BatchNormalization())\n",
    "cnn_model.add(Dropout(dropout))\n",
    "# apply another FC layer, this one to match the number of nodes\n",
    "# coming out of the MLP\n",
    "cnn_model.add(Dense(32))\n",
    "cnn_model.add(Activation(\"relu\"))\n",
    "cnn_model.add(BatchNormalization())\n",
    "cnn_model.add(Dropout(dropout))\n"
   ]
  },
  {
   "cell_type": "markdown",
   "metadata": {},
   "source": [
    "---\n",
    "<a id=\"section53\"></a>\n",
    "# <font color=\"#004D7F\" size=5> 5.3. Concatenate branches</font>\n",
    "\n",
    "Finally, we must concatenate the output of the CNN branch with the output of the FFNN branch in a final FFNN that will give the predictions."
   ]
  },
  {
   "cell_type": "code",
   "execution_count": 18,
   "metadata": {},
   "outputs": [],
   "source": [
    "combinedInput = concatenate([ff_model.output, cnn_model.output])\n",
    "x = Dense(64, activation=\"relu\")(combinedInput)\n",
    "x = BatchNormalization()(x)\n",
    "x = Dropout(dropout)(x)\n",
    "x = Dense(64, activation=\"relu\")(x)\n",
    "x = BatchNormalization()(x)\n",
    "x = Dropout(dropout)(x)\n",
    "x = Dense(64, activation=\"relu\")(x)\n",
    "x = BatchNormalization()(x)\n",
    "x = Dropout(dropout)(x)\n",
    "x = Dense(1, activation=\"sigmoid\")(x)\n",
    "\n",
    "model = Model(inputs=[ff_model.input, cnn_model.input], outputs=x)"
   ]
  },
  {
   "cell_type": "markdown",
   "metadata": {},
   "source": [
    "---\n",
    "<a id=\"section54\"></a>\n",
    "# <font color=\"#004D7F\" size=5> 5.4. Metrics</font>\n",
    "\n",
    "Define metrics and some hyperparameters"
   ]
  },
  {
   "cell_type": "code",
   "execution_count": 19,
   "metadata": {},
   "outputs": [],
   "source": [
    "METRICS = [\n",
    "    #tf.keras.metrics.TruePositives(name = 'tp'),\n",
    "    #tf.keras.metrics.FalsePositives(name = 'fp'),\n",
    "    #tf.keras.metrics.TrueNegatives(name = 'tn'),\n",
    "    #tf.keras.metrics.FalseNegatives(name = 'fn'), \n",
    "    tf.keras.metrics.BinaryAccuracy(name ='accuracy'),\n",
    "    tf.keras.metrics.Precision(name = 'precision'),\n",
    "    tf.keras.metrics.Recall(name = 'recall'),\n",
    "    tf.keras.metrics.AUC(name = 'auc'),\n",
    "]"
   ]
  },
  {
   "cell_type": "markdown",
   "metadata": {},
   "source": [
    "Print the model"
   ]
  },
  {
   "cell_type": "code",
   "execution_count": 20,
   "metadata": {},
   "outputs": [
    {
     "name": "stdout",
     "output_type": "stream",
     "text": [
      "Model: \"model\"\n",
      "__________________________________________________________________________________________________\n",
      " Layer (type)                Output Shape                 Param #   Connected to                  \n",
      "==================================================================================================\n",
      " input_2 (InputLayer)        [(None, 20, 20, 3)]          0         []                            \n",
      "                                                                                                  \n",
      " conv2d (Conv2D)             (None, 20, 20, 16)           448       ['input_2[0][0]']             \n",
      "                                                                                                  \n",
      " activation (Activation)     (None, 20, 20, 16)           0         ['conv2d[0][0]']              \n",
      "                                                                                                  \n",
      " batch_normalization_3 (Bat  (None, 20, 20, 16)           64        ['activation[0][0]']          \n",
      " chNormalization)                                                                                 \n",
      "                                                                                                  \n",
      " max_pooling2d (MaxPooling2  (None, 10, 10, 16)           0         ['batch_normalization_3[0][0]'\n",
      " D)                                                                 ]                             \n",
      "                                                                                                  \n",
      " conv2d_1 (Conv2D)           (None, 10, 10, 32)           4640      ['max_pooling2d[0][0]']       \n",
      "                                                                                                  \n",
      " activation_1 (Activation)   (None, 10, 10, 32)           0         ['conv2d_1[0][0]']            \n",
      "                                                                                                  \n",
      " batch_normalization_4 (Bat  (None, 10, 10, 32)           128       ['activation_1[0][0]']        \n",
      " chNormalization)                                                                                 \n",
      "                                                                                                  \n",
      " max_pooling2d_1 (MaxPoolin  (None, 5, 5, 32)             0         ['batch_normalization_4[0][0]'\n",
      " g2D)                                                               ]                             \n",
      "                                                                                                  \n",
      " conv2d_2 (Conv2D)           (None, 5, 5, 64)             18496     ['max_pooling2d_1[0][0]']     \n",
      "                                                                                                  \n",
      " activation_2 (Activation)   (None, 5, 5, 64)             0         ['conv2d_2[0][0]']            \n",
      "                                                                                                  \n",
      " batch_normalization_5 (Bat  (None, 5, 5, 64)             256       ['activation_2[0][0]']        \n",
      " chNormalization)                                                                                 \n",
      "                                                                                                  \n",
      " max_pooling2d_2 (MaxPoolin  (None, 2, 2, 64)             0         ['batch_normalization_5[0][0]'\n",
      " g2D)                                                               ]                             \n",
      "                                                                                                  \n",
      " conv2d_3 (Conv2D)           (None, 2, 2, 128)            73856     ['max_pooling2d_2[0][0]']     \n",
      "                                                                                                  \n",
      " activation_3 (Activation)   (None, 2, 2, 128)            0         ['conv2d_3[0][0]']            \n",
      "                                                                                                  \n",
      " batch_normalization_6 (Bat  (None, 2, 2, 128)            512       ['activation_3[0][0]']        \n",
      " chNormalization)                                                                                 \n",
      "                                                                                                  \n",
      " max_pooling2d_3 (MaxPoolin  (None, 1, 1, 128)            0         ['batch_normalization_6[0][0]'\n",
      " g2D)                                                               ]                             \n",
      "                                                                                                  \n",
      " flatten (Flatten)           (None, 128)                  0         ['max_pooling2d_3[0][0]']     \n",
      "                                                                                                  \n",
      " dense_3 (Dense)             (None, 128)                  16512     ['flatten[0][0]']             \n",
      "                                                                                                  \n",
      " activation_4 (Activation)   (None, 128)                  0         ['dense_3[0][0]']             \n",
      "                                                                                                  \n",
      " input_1 (InputLayer)        [(None, 30)]                 0         []                            \n",
      "                                                                                                  \n",
      " batch_normalization_7 (Bat  (None, 128)                  512       ['activation_4[0][0]']        \n",
      " chNormalization)                                                                                 \n",
      "                                                                                                  \n",
      " dense (Dense)               (None, 128)                  3968      ['input_1[0][0]']             \n",
      "                                                                                                  \n",
      " dropout_3 (Dropout)         (None, 128)                  0         ['batch_normalization_7[0][0]'\n",
      "                                                                    ]                             \n",
      "                                                                                                  \n",
      " batch_normalization (Batch  (None, 128)                  512       ['dense[0][0]']               \n",
      " Normalization)                                                                                   \n",
      "                                                                                                  \n",
      " dense_4 (Dense)             (None, 64)                   8256      ['dropout_3[0][0]']           \n",
      "                                                                                                  \n",
      " dropout (Dropout)           (None, 128)                  0         ['batch_normalization[0][0]'] \n",
      "                                                                                                  \n",
      " activation_5 (Activation)   (None, 64)                   0         ['dense_4[0][0]']             \n",
      "                                                                                                  \n",
      " dense_1 (Dense)             (None, 64)                   8256      ['dropout[0][0]']             \n",
      "                                                                                                  \n",
      " batch_normalization_8 (Bat  (None, 64)                   256       ['activation_5[0][0]']        \n",
      " chNormalization)                                                                                 \n",
      "                                                                                                  \n",
      " batch_normalization_1 (Bat  (None, 64)                   256       ['dense_1[0][0]']             \n",
      " chNormalization)                                                                                 \n",
      "                                                                                                  \n",
      " dropout_4 (Dropout)         (None, 64)                   0         ['batch_normalization_8[0][0]'\n",
      "                                                                    ]                             \n",
      "                                                                                                  \n",
      " dropout_1 (Dropout)         (None, 64)                   0         ['batch_normalization_1[0][0]'\n",
      "                                                                    ]                             \n",
      "                                                                                                  \n",
      " dense_5 (Dense)             (None, 32)                   2080      ['dropout_4[0][0]']           \n",
      "                                                                                                  \n",
      " dense_2 (Dense)             (None, 32)                   2080      ['dropout_1[0][0]']           \n",
      "                                                                                                  \n",
      " activation_6 (Activation)   (None, 32)                   0         ['dense_5[0][0]']             \n",
      "                                                                                                  \n",
      " batch_normalization_2 (Bat  (None, 32)                   128       ['dense_2[0][0]']             \n",
      " chNormalization)                                                                                 \n",
      "                                                                                                  \n",
      " batch_normalization_9 (Bat  (None, 32)                   128       ['activation_6[0][0]']        \n",
      " chNormalization)                                                                                 \n",
      "                                                                                                  \n",
      " dropout_2 (Dropout)         (None, 32)                   0         ['batch_normalization_2[0][0]'\n",
      "                                                                    ]                             \n",
      "                                                                                                  \n",
      " dropout_5 (Dropout)         (None, 32)                   0         ['batch_normalization_9[0][0]'\n",
      "                                                                    ]                             \n",
      "                                                                                                  \n",
      " concatenate (Concatenate)   (None, 64)                   0         ['dropout_2[0][0]',           \n",
      "                                                                     'dropout_5[0][0]']           \n",
      "                                                                                                  \n",
      " dense_6 (Dense)             (None, 64)                   4160      ['concatenate[0][0]']         \n",
      "                                                                                                  \n",
      " batch_normalization_10 (Ba  (None, 64)                   256       ['dense_6[0][0]']             \n",
      " tchNormalization)                                                                                \n",
      "                                                                                                  \n",
      " dropout_6 (Dropout)         (None, 64)                   0         ['batch_normalization_10[0][0]\n",
      "                                                                    ']                            \n",
      "                                                                                                  \n",
      " dense_7 (Dense)             (None, 64)                   4160      ['dropout_6[0][0]']           \n",
      "                                                                                                  \n",
      " batch_normalization_11 (Ba  (None, 64)                   256       ['dense_7[0][0]']             \n",
      " tchNormalization)                                                                                \n",
      "                                                                                                  \n",
      " dropout_7 (Dropout)         (None, 64)                   0         ['batch_normalization_11[0][0]\n",
      "                                                                    ']                            \n",
      "                                                                                                  \n",
      " dense_8 (Dense)             (None, 64)                   4160      ['dropout_7[0][0]']           \n",
      "                                                                                                  \n",
      " batch_normalization_12 (Ba  (None, 64)                   256       ['dense_8[0][0]']             \n",
      " tchNormalization)                                                                                \n",
      "                                                                                                  \n",
      " dropout_8 (Dropout)         (None, 64)                   0         ['batch_normalization_12[0][0]\n",
      "                                                                    ']                            \n",
      "                                                                                                  \n",
      " dense_9 (Dense)             (None, 1)                    65        ['dropout_8[0][0]']           \n",
      "                                                                                                  \n",
      "==================================================================================================\n",
      "Total params: 154657 (604.13 KB)\n",
      "Trainable params: 152897 (597.25 KB)\n",
      "Non-trainable params: 1760 (6.88 KB)\n",
      "__________________________________________________________________________________________________\n",
      "You must install pydot (`pip install pydot`) and install graphviz (see instructions at https://graphviz.gitlab.io/download/) for plot_model to work.\n"
     ]
    }
   ],
   "source": [
    "from keras.utils import plot_model\n",
    "model.summary()\n",
    "plot_model(model)"
   ]
  },
  {
   "cell_type": "markdown",
   "metadata": {},
   "source": [
    "---\n",
    "<a id=\"section55\"></a>\n",
    "# <font color=\"#004D7F\" size=5> 5.5. Compile and fit</font>\n",
    "\n",
    "Note to specify the **loss depending** on whether you have a binary or multiclass classification problem."
   ]
  },
  {
   "cell_type": "code",
   "execution_count": 21,
   "metadata": {},
   "outputs": [],
   "source": [
    "#HYPERPARAMETERS\n",
    "opt = Adam(learning_rate=1e-3)"
   ]
  },
  {
   "cell_type": "code",
   "execution_count": 22,
   "metadata": {},
   "outputs": [],
   "source": [
    "model.compile(\n",
    "    loss=\"binary_crossentropy\", \n",
    "    optimizer=opt,\n",
    "    metrics = METRICS\n",
    ")\n",
    "epochs = 50"
   ]
  },
  {
   "cell_type": "code",
   "execution_count": 23,
   "metadata": {
    "scrolled": true
   },
   "outputs": [
    {
     "name": "stdout",
     "output_type": "stream",
     "text": [
      "Epoch 1/50\n"
     ]
    },
    {
     "name": "stdout",
     "output_type": "stream",
     "text": [
      "43/43 [==============================] - 6s 20ms/step - loss: 0.8618 - accuracy: 0.5265 - precision: 0.3780 - recall: 0.5124 - auc: 0.5403 - val_loss: 0.6913 - val_accuracy: 0.5526 - val_precision: 0.4583 - val_recall: 0.4681 - val_auc: 0.4906\n",
      "Epoch 2/50\n",
      "43/43 [==============================] - 0s 7ms/step - loss: 0.7512 - accuracy: 0.6118 - precision: 0.4610 - recall: 0.5372 - auc: 0.6240 - val_loss: 0.6639 - val_accuracy: 0.5965 - val_precision: 1.0000 - val_recall: 0.0213 - val_auc: 0.8727\n",
      "Epoch 3/50\n",
      "43/43 [==============================] - 0s 7ms/step - loss: 0.6134 - accuracy: 0.6588 - precision: 0.5194 - recall: 0.5537 - auc: 0.7275 - val_loss: 0.6577 - val_accuracy: 0.6316 - val_precision: 1.0000 - val_recall: 0.1064 - val_auc: 0.7294\n",
      "Epoch 4/50\n",
      "43/43 [==============================] - 0s 7ms/step - loss: 0.5192 - accuracy: 0.7441 - precision: 0.6417 - recall: 0.6364 - auc: 0.8023 - val_loss: 0.5853 - val_accuracy: 0.6491 - val_precision: 1.0000 - val_recall: 0.1489 - val_auc: 0.9501\n",
      "Epoch 5/50\n",
      "43/43 [==============================] - 0s 7ms/step - loss: 0.5513 - accuracy: 0.7471 - precision: 0.6423 - recall: 0.6529 - auc: 0.8052 - val_loss: 0.4568 - val_accuracy: 0.8421 - val_precision: 1.0000 - val_recall: 0.6170 - val_auc: 0.9765\n",
      "Epoch 6/50\n",
      "43/43 [==============================] - 0s 6ms/step - loss: 0.4345 - accuracy: 0.8088 - precision: 0.7188 - recall: 0.7603 - auc: 0.8720 - val_loss: 0.4246 - val_accuracy: 0.8860 - val_precision: 0.9722 - val_recall: 0.7447 - val_auc: 0.9673\n",
      "Epoch 7/50\n",
      "43/43 [==============================] - 0s 7ms/step - loss: 0.4480 - accuracy: 0.8000 - precision: 0.7120 - recall: 0.7355 - auc: 0.8658 - val_loss: 0.3445 - val_accuracy: 0.9123 - val_precision: 1.0000 - val_recall: 0.7872 - val_auc: 0.9695\n",
      "Epoch 8/50\n",
      "43/43 [==============================] - 0s 7ms/step - loss: 0.3628 - accuracy: 0.8471 - precision: 0.7851 - recall: 0.7851 - auc: 0.9116 - val_loss: 0.2932 - val_accuracy: 0.8947 - val_precision: 0.9730 - val_recall: 0.7660 - val_auc: 0.9841\n",
      "Epoch 9/50\n",
      "43/43 [==============================] - 0s 7ms/step - loss: 0.3574 - accuracy: 0.8500 - precision: 0.7734 - recall: 0.8182 - auc: 0.9237 - val_loss: 0.2757 - val_accuracy: 0.9211 - val_precision: 1.0000 - val_recall: 0.8085 - val_auc: 0.9798\n",
      "Epoch 10/50\n",
      "43/43 [==============================] - 0s 7ms/step - loss: 0.3505 - accuracy: 0.8529 - precision: 0.8087 - recall: 0.7686 - auc: 0.9136 - val_loss: 0.2615 - val_accuracy: 0.8772 - val_precision: 1.0000 - val_recall: 0.7021 - val_auc: 0.9873\n",
      "Epoch 11/50\n",
      "43/43 [==============================] - 0s 6ms/step - loss: 0.3542 - accuracy: 0.8618 - precision: 0.8246 - recall: 0.7769 - auc: 0.9164 - val_loss: 0.2428 - val_accuracy: 0.9211 - val_precision: 1.0000 - val_recall: 0.8085 - val_auc: 0.9800\n",
      "Epoch 12/50\n",
      "43/43 [==============================] - 0s 6ms/step - loss: 0.2914 - accuracy: 0.8824 - precision: 0.8293 - recall: 0.8430 - auc: 0.9421 - val_loss: 0.2148 - val_accuracy: 0.9298 - val_precision: 1.0000 - val_recall: 0.8298 - val_auc: 0.9868\n",
      "Epoch 13/50\n",
      "43/43 [==============================] - 0s 6ms/step - loss: 0.2786 - accuracy: 0.8853 - precision: 0.8534 - recall: 0.8182 - auc: 0.9485 - val_loss: 0.1358 - val_accuracy: 0.9649 - val_precision: 1.0000 - val_recall: 0.9149 - val_auc: 0.9957\n",
      "Epoch 14/50\n",
      "43/43 [==============================] - 0s 6ms/step - loss: 0.3549 - accuracy: 0.8500 - precision: 0.7869 - recall: 0.7934 - auc: 0.9234 - val_loss: 0.1795 - val_accuracy: 0.9298 - val_precision: 1.0000 - val_recall: 0.8298 - val_auc: 0.9946\n",
      "Epoch 15/50\n",
      "43/43 [==============================] - 0s 6ms/step - loss: 0.3093 - accuracy: 0.8941 - precision: 0.8512 - recall: 0.8512 - auc: 0.9334 - val_loss: 0.1643 - val_accuracy: 0.9211 - val_precision: 1.0000 - val_recall: 0.8085 - val_auc: 0.9984\n",
      "Epoch 16/50\n",
      "43/43 [==============================] - 0s 6ms/step - loss: 0.2875 - accuracy: 0.8676 - precision: 0.8393 - recall: 0.7769 - auc: 0.9462 - val_loss: 0.1848 - val_accuracy: 0.9386 - val_precision: 0.9762 - val_recall: 0.8723 - val_auc: 0.9917\n",
      "Epoch 17/50\n",
      "43/43 [==============================] - 0s 6ms/step - loss: 0.3278 - accuracy: 0.8765 - precision: 0.8319 - recall: 0.8182 - auc: 0.9321 - val_loss: 0.1703 - val_accuracy: 0.9474 - val_precision: 1.0000 - val_recall: 0.8723 - val_auc: 0.9949\n",
      "Epoch 18/50\n",
      "43/43 [==============================] - 0s 6ms/step - loss: 0.3484 - accuracy: 0.8618 - precision: 0.8190 - recall: 0.7851 - auc: 0.9181 - val_loss: 0.1561 - val_accuracy: 0.9649 - val_precision: 1.0000 - val_recall: 0.9149 - val_auc: 0.9913\n",
      "Epoch 19/50\n",
      "43/43 [==============================] - 0s 6ms/step - loss: 0.2397 - accuracy: 0.9118 - precision: 0.8824 - recall: 0.8678 - auc: 0.9579 - val_loss: 0.1517 - val_accuracy: 0.9561 - val_precision: 0.9773 - val_recall: 0.9149 - val_auc: 0.9881\n",
      "Epoch 20/50\n",
      "43/43 [==============================] - 0s 6ms/step - loss: 0.3226 - accuracy: 0.8706 - precision: 0.8080 - recall: 0.8347 - auc: 0.9350 - val_loss: 0.1707 - val_accuracy: 0.9649 - val_precision: 1.0000 - val_recall: 0.9149 - val_auc: 0.9929\n",
      "Epoch 21/50\n",
      "43/43 [==============================] - 0s 6ms/step - loss: 0.3737 - accuracy: 0.8412 - precision: 0.7680 - recall: 0.7934 - auc: 0.9145 - val_loss: 0.1654 - val_accuracy: 0.9561 - val_precision: 1.0000 - val_recall: 0.8936 - val_auc: 0.9929\n",
      "Epoch 22/50\n",
      "43/43 [==============================] - 0s 6ms/step - loss: 0.2668 - accuracy: 0.9059 - precision: 0.8938 - recall: 0.8347 - auc: 0.9491 - val_loss: 0.1618 - val_accuracy: 0.9561 - val_precision: 1.0000 - val_recall: 0.8936 - val_auc: 0.9941\n",
      "Epoch 23/50\n",
      "43/43 [==============================] - 0s 6ms/step - loss: 0.3348 - accuracy: 0.8647 - precision: 0.8049 - recall: 0.8182 - auc: 0.9272 - val_loss: 0.3895 - val_accuracy: 0.9386 - val_precision: 1.0000 - val_recall: 0.8511 - val_auc: 0.9627\n",
      "Epoch 24/50\n",
      "43/43 [==============================] - 0s 6ms/step - loss: 0.2886 - accuracy: 0.8971 - precision: 0.8772 - recall: 0.8264 - auc: 0.9416 - val_loss: 0.1502 - val_accuracy: 0.9561 - val_precision: 0.9375 - val_recall: 0.9574 - val_auc: 0.9933\n",
      "Epoch 25/50\n",
      "43/43 [==============================] - 0s 6ms/step - loss: 0.3081 - accuracy: 0.8618 - precision: 0.7984 - recall: 0.8182 - auc: 0.9359 - val_loss: 0.1432 - val_accuracy: 0.9649 - val_precision: 1.0000 - val_recall: 0.9149 - val_auc: 0.9973\n",
      "Epoch 26/50\n",
      "43/43 [==============================] - 0s 6ms/step - loss: 0.2021 - accuracy: 0.9294 - precision: 0.9369 - recall: 0.8595 - auc: 0.9711 - val_loss: 0.1487 - val_accuracy: 0.9737 - val_precision: 1.0000 - val_recall: 0.9362 - val_auc: 0.9967\n",
      "Epoch 27/50\n",
      "43/43 [==============================] - 0s 6ms/step - loss: 0.2366 - accuracy: 0.9029 - precision: 0.8667 - recall: 0.8595 - auc: 0.9621 - val_loss: 0.4716 - val_accuracy: 0.8421 - val_precision: 1.0000 - val_recall: 0.6170 - val_auc: 0.9614\n",
      "Epoch 28/50\n",
      "43/43 [==============================] - 0s 6ms/step - loss: 0.3368 - accuracy: 0.8588 - precision: 0.7874 - recall: 0.8264 - auc: 0.9294 - val_loss: 0.1568 - val_accuracy: 0.9386 - val_precision: 1.0000 - val_recall: 0.8511 - val_auc: 0.9986\n",
      "Epoch 29/50\n",
      "43/43 [==============================] - 0s 6ms/step - loss: 0.3552 - accuracy: 0.8618 - precision: 0.8033 - recall: 0.8099 - auc: 0.9184 - val_loss: 0.1741 - val_accuracy: 0.9211 - val_precision: 1.0000 - val_recall: 0.8085 - val_auc: 0.9975\n",
      "Epoch 30/50\n",
      "43/43 [==============================] - 0s 8ms/step - loss: 0.2954 - accuracy: 0.9000 - precision: 0.8850 - recall: 0.8264 - auc: 0.9347 - val_loss: 0.1858 - val_accuracy: 0.9298 - val_precision: 1.0000 - val_recall: 0.8298 - val_auc: 0.9949\n",
      "Epoch 31/50\n",
      "43/43 [==============================] - 0s 6ms/step - loss: 0.2218 - accuracy: 0.9147 - precision: 0.8966 - recall: 0.8595 - auc: 0.9668 - val_loss: 0.1778 - val_accuracy: 0.9386 - val_precision: 1.0000 - val_recall: 0.8511 - val_auc: 0.9930\n",
      "Epoch 32/50\n",
      "43/43 [==============================] - 0s 6ms/step - loss: 0.2873 - accuracy: 0.8824 - precision: 0.8293 - recall: 0.8430 - auc: 0.9462 - val_loss: 0.1495 - val_accuracy: 0.9649 - val_precision: 0.9778 - val_recall: 0.9362 - val_auc: 0.9956\n",
      "Epoch 33/50\n",
      "43/43 [==============================] - 0s 6ms/step - loss: 0.2671 - accuracy: 0.9029 - precision: 0.8607 - recall: 0.8678 - auc: 0.9491 - val_loss: 0.2106 - val_accuracy: 0.9123 - val_precision: 1.0000 - val_recall: 0.7872 - val_auc: 0.9894\n",
      "Epoch 34/50\n",
      "43/43 [==============================] - 0s 6ms/step - loss: 0.2767 - accuracy: 0.8882 - precision: 0.8609 - recall: 0.8182 - auc: 0.9483 - val_loss: 0.1834 - val_accuracy: 0.9561 - val_precision: 1.0000 - val_recall: 0.8936 - val_auc: 0.9948\n",
      "Epoch 35/50\n",
      "43/43 [==============================] - 0s 5ms/step - loss: 0.2272 - accuracy: 0.8824 - precision: 0.8403 - recall: 0.8264 - auc: 0.9648 - val_loss: 0.1531 - val_accuracy: 0.9561 - val_precision: 0.9773 - val_recall: 0.9149 - val_auc: 0.9940\n",
      "Epoch 36/50\n",
      "43/43 [==============================] - 0s 6ms/step - loss: 0.2302 - accuracy: 0.9118 - precision: 0.8527 - recall: 0.9091 - auc: 0.9651 - val_loss: 0.1577 - val_accuracy: 0.9474 - val_precision: 0.9767 - val_recall: 0.8936 - val_auc: 0.9884\n",
      "Epoch 37/50\n",
      "43/43 [==============================] - 0s 7ms/step - loss: 0.2398 - accuracy: 0.9206 - precision: 0.8730 - recall: 0.9091 - auc: 0.9578 - val_loss: 0.1731 - val_accuracy: 0.9561 - val_precision: 1.0000 - val_recall: 0.8936 - val_auc: 0.9940\n",
      "Epoch 38/50\n",
      "43/43 [==============================] - 0s 6ms/step - loss: 0.3246 - accuracy: 0.8588 - precision: 0.7967 - recall: 0.8099 - auc: 0.9319 - val_loss: 0.1669 - val_accuracy: 0.9561 - val_precision: 1.0000 - val_recall: 0.8936 - val_auc: 0.9916\n",
      "Epoch 39/50\n",
      "43/43 [==============================] - 0s 6ms/step - loss: 0.2988 - accuracy: 0.8941 - precision: 0.8244 - recall: 0.8926 - auc: 0.9403 - val_loss: 0.1614 - val_accuracy: 0.9561 - val_precision: 1.0000 - val_recall: 0.8936 - val_auc: 0.9948\n",
      "Epoch 40/50\n",
      "43/43 [==============================] - 0s 6ms/step - loss: 0.2371 - accuracy: 0.9029 - precision: 0.8729 - recall: 0.8512 - auc: 0.9608 - val_loss: 0.1495 - val_accuracy: 0.9649 - val_precision: 1.0000 - val_recall: 0.9149 - val_auc: 0.9959\n",
      "Epoch 41/50\n",
      "43/43 [==============================] - 0s 6ms/step - loss: 0.2620 - accuracy: 0.8971 - precision: 0.8583 - recall: 0.8512 - auc: 0.9538 - val_loss: 0.1382 - val_accuracy: 0.9737 - val_precision: 1.0000 - val_recall: 0.9362 - val_auc: 0.9975\n",
      "Epoch 42/50\n",
      "43/43 [==============================] - 0s 6ms/step - loss: 0.2342 - accuracy: 0.8971 - precision: 0.8359 - recall: 0.8843 - auc: 0.9649 - val_loss: 0.1547 - val_accuracy: 0.9561 - val_precision: 1.0000 - val_recall: 0.8936 - val_auc: 0.9976\n",
      "Epoch 43/50\n",
      "43/43 [==============================] - 0s 6ms/step - loss: 0.2076 - accuracy: 0.9324 - precision: 0.9153 - recall: 0.8926 - auc: 0.9713 - val_loss: 0.1662 - val_accuracy: 0.9386 - val_precision: 1.0000 - val_recall: 0.8511 - val_auc: 0.9976\n",
      "Epoch 44/50\n",
      "43/43 [==============================] - 0s 6ms/step - loss: 0.2473 - accuracy: 0.9235 - precision: 0.9130 - recall: 0.8678 - auc: 0.9556 - val_loss: 0.1733 - val_accuracy: 0.9386 - val_precision: 1.0000 - val_recall: 0.8511 - val_auc: 0.9962\n",
      "Epoch 45/50\n",
      "43/43 [==============================] - 0s 6ms/step - loss: 0.2615 - accuracy: 0.8912 - precision: 0.8559 - recall: 0.8347 - auc: 0.9541 - val_loss: 0.1592 - val_accuracy: 0.9561 - val_precision: 1.0000 - val_recall: 0.8936 - val_auc: 0.9987\n",
      "Epoch 46/50\n",
      "43/43 [==============================] - 0s 6ms/step - loss: 0.3039 - accuracy: 0.8882 - precision: 0.8739 - recall: 0.8017 - auc: 0.9372 - val_loss: 0.2644 - val_accuracy: 0.9035 - val_precision: 1.0000 - val_recall: 0.7660 - val_auc: 0.9709\n",
      "Epoch 47/50\n",
      "43/43 [==============================] - 0s 6ms/step - loss: 0.2183 - accuracy: 0.9118 - precision: 0.8824 - recall: 0.8678 - auc: 0.9694 - val_loss: 0.1925 - val_accuracy: 0.9386 - val_precision: 1.0000 - val_recall: 0.8511 - val_auc: 0.9922\n",
      "Epoch 48/50\n",
      "43/43 [==============================] - 0s 6ms/step - loss: 0.2839 - accuracy: 0.9029 - precision: 0.8492 - recall: 0.8843 - auc: 0.9431 - val_loss: 0.1786 - val_accuracy: 0.9474 - val_precision: 1.0000 - val_recall: 0.8723 - val_auc: 0.9948\n",
      "Epoch 49/50\n",
      "43/43 [==============================] - 0s 6ms/step - loss: 0.2193 - accuracy: 0.9294 - precision: 0.9076 - recall: 0.8926 - auc: 0.9647 - val_loss: 0.3235 - val_accuracy: 0.9298 - val_precision: 1.0000 - val_recall: 0.8298 - val_auc: 0.9678\n",
      "Epoch 50/50\n",
      "43/43 [==============================] - 0s 7ms/step - loss: 0.2567 - accuracy: 0.8882 - precision: 0.8609 - recall: 0.8182 - auc: 0.9518 - val_loss: 0.6949 - val_accuracy: 0.8947 - val_precision: 1.0000 - val_recall: 0.7447 - val_auc: 0.9149\n"
     ]
    }
   ],
   "source": [
    "model_history=model.fit(\n",
    "    x=[X_train_num, X_train_img], y=y_train,\n",
    "    validation_data=([X_val_num, X_val_img], y_val),\n",
    "    epochs=epochs , \n",
    "    batch_size=8,\n",
    ")"
   ]
  },
  {
   "cell_type": "code",
   "execution_count": 24,
   "metadata": {},
   "outputs": [
    {
     "name": "stdout",
     "output_type": "stream",
     "text": [
      "dict_keys(['loss', 'accuracy', 'precision', 'recall', 'auc', 'val_loss', 'val_accuracy', 'val_precision', 'val_recall', 'val_auc'])\n"
     ]
    }
   ],
   "source": [
    "print(model_history.history.keys())"
   ]
  },
  {
   "cell_type": "markdown",
   "metadata": {},
   "source": [
    "<a id=\"section6\"></a>\n",
    "# <font color=\"#004D7F\" size=6> 6. Results</font>\n",
    "\n",
    "Finally, we can evaluate our hybrid model with the images created by TINTOlib in any of the ways represented below."
   ]
  },
  {
   "cell_type": "markdown",
   "metadata": {},
   "source": [
    "---\n",
    "<a id=\"section61\"></a>\n",
    "# <font color=\"#004D7F\" size=5> 6.1. Train/Validation representation</font>"
   ]
  },
  {
   "cell_type": "code",
   "execution_count": 25,
   "metadata": {},
   "outputs": [
    {
     "data": {
      "image/png": "[encoded data removed]",
      "text/plain": [
       "<Figure size 640x480 with 1 Axes>"
      ]
     },
     "metadata": {},
     "output_type": "display_data"
    }
   ],
   "source": [
    "#print(model_history.history['loss'])\n",
    "plt.plot(model_history.history['loss'], color = 'red', label = 'loss')\n",
    "plt.plot(model_history.history['val_loss'], color = 'green', label = 'val loss')\n",
    "plt.legend(loc = 'upper right')\n",
    "\n",
    "plt.show()"
   ]
  },
  {
   "cell_type": "code",
   "execution_count": 26,
   "metadata": {},
   "outputs": [
    {
     "data": {
      "image/png": "[encoded data removed]",
      "text/plain": [
       "<Figure size 640x480 with 1 Axes>"
      ]
     },
     "metadata": {},
     "output_type": "display_data"
    }
   ],
   "source": [
    "plt.plot(model_history.history['accuracy'], color = 'red', label = 'accuracy')\n",
    "plt.plot(model_history.history['val_accuracy'], color = 'green', label = 'val accuracy')\n",
    "plt.legend(loc = 'upper right')\n",
    "plt.show()"
   ]
  },
  {
   "cell_type": "markdown",
   "metadata": {},
   "source": [
    "---\n",
    "<a id=\"section62\"></a>\n",
    "# <font color=\"#004D7F\" size=5> 6.2. Validation/Test evaluation</font>"
   ]
  },
  {
   "cell_type": "code",
   "execution_count": 27,
   "metadata": {},
   "outputs": [
    {
     "name": "stdout",
     "output_type": "stream",
     "text": [
      "4/4 [==============================] - 0s 5ms/step - loss: 0.4247 - accuracy: 0.9386 - precision: 1.0000 - recall: 0.8372 - auc: 0.9627\n"
     ]
    }
   ],
   "source": [
    "score_test= model.evaluate([X_test_num, X_test_img], y_test)"
   ]
  },
  {
   "cell_type": "code",
   "execution_count": 28,
   "metadata": {},
   "outputs": [
    {
     "name": "stdout",
     "output_type": "stream",
     "text": [
      "4/4 [==============================] - 0s 3ms/step\n"
     ]
    }
   ],
   "source": [
    "prediction = model.predict([X_test_num,X_test_img],)\n",
    "real_values= y_test\n",
    "predicted_classes = np.argmax(prediction, axis = 1)\n",
    "\n",
    "result = [list(t) for t in zip(predicted_classes, real_values)]\n",
    "#print(np.round(prediction))\n"
   ]
  },
  {
   "cell_type": "code",
   "execution_count": 29,
   "metadata": {},
   "outputs": [
    {
     "name": "stdout",
     "output_type": "stream",
     "text": [
      "Test accuracy: 0.9385964870452881\n",
      "Test AUC: 0.9626595973968506\n",
      "Test precision: 1.0\n",
      "Test recall: 0.8372092843055725\n"
     ]
    }
   ],
   "source": [
    "test_accuracy = score_test[1]\n",
    "test_auc = score_test[4]\n",
    "test_precision = score_test[2]\n",
    "test_recall = score_test[3]\n",
    "\n",
    "print(\"Test accuracy:\",test_accuracy)\n",
    "print(\"Test AUC:\",test_auc)\n",
    "print(\"Test precision:\",test_precision)\n",
    "print(\"Test recall:\",test_recall)"
   ]
  },
  {
   "cell_type": "code",
   "execution_count": 30,
   "metadata": {},
   "outputs": [
    {
     "name": "stdout",
     "output_type": "stream",
     "text": [
      "Train accuracy: 0.8882352709770203\n",
      "Train AUC: 0.9518094658851624\n",
      "Train precision: 0.8608695864677429\n",
      "Train recall: 0.8181818127632141\n",
      "Train loss: 0.2567325532436371\n"
     ]
    }
   ],
   "source": [
    "train_accuracy = model_history.history[\"accuracy\"][-1]\n",
    "train_auc = model_history.history[\"auc\"][-1]\n",
    "train_precision = model_history.history[\"precision\"][-1]\n",
    "train_recall = model_history.history[\"recall\"][-1]\n",
    "train_loss = model_history.history[\"loss\"][-1]\n",
    "\n",
    "print(\"Train accuracy:\",train_accuracy)\n",
    "print(\"Train AUC:\",train_auc)\n",
    "print(\"Train precision:\",train_precision)\n",
    "print(\"Train recall:\",train_recall)\n",
    "print(\"Train loss:\",train_loss)"
   ]
  },
  {
   "cell_type": "code",
   "execution_count": 31,
   "metadata": {},
   "outputs": [
    {
     "name": "stdout",
     "output_type": "stream",
     "text": [
      "Validation accuracy: 0.8947368264198303\n",
      "Validation AUC: 0.9148935079574585\n",
      "Validation precision: 1.0\n",
      "Validation recall: 0.7446808218955994\n",
      "Validation loss: 0.6949352025985718\n"
     ]
    }
   ],
   "source": [
    "validation_accuracy = model_history.history[\"val_accuracy\"][-1]\n",
    "validation_auc = model_history.history[\"val_auc\"][-1]\n",
    "validation_precision = model_history.history[\"val_precision\"][-1]\n",
    "validation_recall = model_history.history[\"val_recall\"][-1]\n",
    "validation_loss = model_history.history[\"val_loss\"][-1]\n",
    "\n",
    "print(\"Validation accuracy:\",validation_accuracy)\n",
    "print(\"Validation AUC:\",validation_auc)\n",
    "print(\"Validation precision:\",validation_precision)\n",
    "print(\"Validation recall:\",validation_recall)\n",
    "print(\"Validation loss:\",validation_loss)"
   ]
  },
  {
   "cell_type": "markdown",
   "metadata": {},
   "source": [
    "<div style=\"text-align: right\"> <font size=5> <a href=\"#indice\"><i class=\"fa fa-arrow-circle-up\" aria-hidden=\"true\" style=\"color:#004D7F\"></i></a></font></div>\n",
    "\n",
    "---\n",
    "\n",
    "<div style=\"text-align: right\"> <font size=6><i class=\"fa fa-coffee\" aria-hidden=\"true\" style=\"color:#004D7F\"></i> </font></div>"
   ]
  }
 ],
 "metadata": {
  "colab": {
   "provenance": [
    {
     "file_id": "1plFq1CpEXIdc9LankaLPiOObRg0_y5l2",
     "timestamp": 1684250343977
    }
   ]
  },
  "kernelspec": {
   "display_name": "Python 3 (ipykernel)",
   "language": "python",
   "name": "python3"
  },
  "language_info": {
   "codemirror_mode": {
    "name": "ipython",
    "version": 3
   },
   "file_extension": ".py",
   "mimetype": "text/x-python",
   "name": "python",
   "nbconvert_exporter": "python",
   "pygments_lexer": "ipython3",
   "version": "3.11.7"
  }
 },
 "nbformat": 4,
 "nbformat_minor": 1
}
