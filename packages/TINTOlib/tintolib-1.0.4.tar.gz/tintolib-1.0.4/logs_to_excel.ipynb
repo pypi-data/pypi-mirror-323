{
 "cells": [
  {
   "cell_type": "code",
   "execution_count": 10,
   "id": "8e3af8b1-6865-4d4d-a062-c660867876cd",
   "metadata": {},
   "outputs": [
    {
     "name": "stdout",
     "output_type": "stream",
     "text": [
      "\u001b[33mWARNING: The directory '/home/jovyan/.cache/pip' or its parent directory is not owned or is not writable by the current user. The cache has been disabled. Check the permissions and owner of that directory. If executing pip with sudo, you should use sudo's -H flag.\u001b[0m\u001b[33m\n",
      "\u001b[0mCollecting openpyxl\n",
      "  Downloading openpyxl-3.1.5-py2.py3-none-any.whl (250 kB)\n",
      "\u001b[2K     \u001b[90m━━━━━━━━━━━━━━━━━━━━━━━━━━━━━━━━━━━━━━\u001b[0m \u001b[32m250.9/250.9 kB\u001b[0m \u001b[31m23.9 MB/s\u001b[0m eta \u001b[36m0:00:00\u001b[0m\n",
      "\u001b[?25hCollecting et-xmlfile\n",
      "  Downloading et_xmlfile-2.0.0-py3-none-any.whl (18 kB)\n",
      "Installing collected packages: et-xmlfile, openpyxl\n",
      "Successfully installed et-xmlfile-2.0.0 openpyxl-3.1.5\n",
      "\u001b[33mWARNING: Running pip as the 'root' user can result in broken permissions and conflicting behaviour with the system package manager. It is recommended to use a virtual environment instead: https://pip.pypa.io/warnings/venv\u001b[0m\u001b[33m\n",
      "\u001b[0m"
     ]
    }
   ],
   "source": [
    "!pip install openpyxl"
   ]
  },
  {
   "cell_type": "code",
   "execution_count": 17,
   "id": "70fd7929-262d-4d13-a998-86e9722e6c20",
   "metadata": {},
   "outputs": [],
   "source": [
    "import os\n",
    "import pandas as pd\n",
    "\n",
    "def extract_metrics(directory):\n",
    "    data = []\n",
    "\n",
    "    # Walk through the directory\n",
    "    for root, _, files in os.walk(directory):\n",
    "        if \"metrics.txt\" in files:\n",
    "            file_path = os.path.join(root, \"metrics.txt\")\n",
    "\n",
    "            # Extract folder name\n",
    "            folder_name = os.path.relpath(root, directory)\n",
    "\n",
    "            # Read metrics.txt\n",
    "            with open(file_path, \"r\") as file:\n",
    "                metrics = {}\n",
    "                for line in file:\n",
    "                    key, value = line.strip().split(\":\")\n",
    "                    metrics[key.strip()] = float(value.strip()) if value.strip().replace('.', '', 1).isdigit() else value.strip()\n",
    "\n",
    "            # Add folder name to metrics\n",
    "            metrics[\"folder_name\"] = folder_name\n",
    "            data.append(metrics)\n",
    "\n",
    "    return data"
   ]
  },
  {
   "cell_type": "code",
   "execution_count": 18,
   "id": "ac929b71-c18f-4633-8c9a-c42e71bcd2be",
   "metadata": {},
   "outputs": [],
   "source": [
    "def save_to_excel(data, output_file):\n",
    "    # Convert to DataFrame\n",
    "    df = pd.DataFrame(data)\n",
    "\n",
    "    # Reorder columns to start with folder_name\n",
    "    columns = [\"folder_name\"] + [col for col in df.columns if col != \"folder_name\"]\n",
    "    df = df[columns]\n",
    "\n",
    "    # Sort rows by folder_name\n",
    "    df = df.sort_values(by=\"folder_name\")\n",
    "\n",
    "    # Save to Excel\n",
    "    df.to_excel(output_file, index=False)"
   ]
  },
  {
   "cell_type": "code",
   "execution_count": 19,
   "id": "88888836-912f-4fc9-8d0e-cc94a82fe301",
   "metadata": {},
   "outputs": [
    {
     "name": "stdout",
     "output_type": "stream",
     "text": [
      "Metrics summary saved to metrics_summary_boston_CNN.xlsx\n"
     ]
    }
   ],
   "source": [
    "input_directory = \"logs/Regression/boston/CNN\"  # Change this to your directory\n",
    "output_file = \"metrics_summary_boston_CNN.xlsx\"\n",
    "\n",
    "# Extract metrics\n",
    "metrics_data = extract_metrics(input_directory)\n",
    "\n",
    "# Save metrics to Excel\n",
    "save_to_excel(metrics_data, output_file)\n",
    "print(f\"Metrics summary saved to {output_file}\")"
   ]
  },
  {
   "cell_type": "code",
   "execution_count": null,
   "id": "ccf73662-f4be-4c1e-94d4-362f9e69717a",
   "metadata": {},
   "outputs": [],
   "source": []
  }
 ],
 "metadata": {
  "kernelspec": {
   "display_name": "Python 3 (ipykernel)",
   "language": "python",
   "name": "python3"
  },
  "language_info": {
   "codemirror_mode": {
    "name": "ipython",
    "version": 3
   },
   "file_extension": ".py",
   "mimetype": "text/x-python",
   "name": "python",
   "nbconvert_exporter": "python",
   "pygments_lexer": "ipython3",
   "version": "3.10.6"
  }
 },
 "nbformat": 4,
 "nbformat_minor": 5
}
